{
 "cells": [
  {
   "cell_type": "code",
   "execution_count": 1,
   "id": "2cfbadb8",
   "metadata": {},
   "outputs": [],
   "source": [
    "import numpy as np \n",
    "import pandas as pd \n",
    "import re\n",
    "import nltk\n",
    "import matplotlib.pyplot as plt\n",
    "import string\n",
    "plt.rc(\"font\", size=14)\n",
    "import seaborn as sns\n",
    "sns.set(style=\"white\")\n",
    "sns.set(style=\"darkgrid\", color_codes=True)\n",
    "from sklearn.model_selection import train_test_split,GridSearchCV,RepeatedStratifiedKFold\n",
    "from sklearn.linear_model import LinearRegression\n",
    "from sklearn.linear_model import LogisticRegression\n",
    "from sklearn.discriminant_analysis import LinearDiscriminantAnalysis\n",
    "from sklearn import metrics,model_selection\n",
    "from sklearn.metrics import roc_auc_score,roc_curve,classification_report,confusion_matrix,plot_confusion_matrix,mean_squared_error\n",
    "from sklearn.preprocessing import scale\n",
    "from statsmodels.stats.outliers_influence import variance_inflation_factor\n",
    "import math\n",
    "from sklearn.linear_model import LinearRegression\n",
    "from sklearn import metrics\n",
    "import matplotlib.pyplot as plt   \n",
    "import matplotlib.style\n",
    "from warnings import filterwarnings\n",
    "filterwarnings(\"ignore\")"
   ]
  },
  {
   "cell_type": "code",
   "execution_count": 2,
   "id": "a6fc65ac",
   "metadata": {},
   "outputs": [
    {
     "name": "stdout",
     "output_type": "stream",
     "text": [
      "Numpy version: 1.20.3\n",
      "Pandas version: 1.3.4\n",
      "Regular Expression version: 2.2.1\n",
      "Natural Language Tool Kit version: 3.6.5\n",
      "Matplotlib version: 3.4.3\n"
     ]
    }
   ],
   "source": [
    "print('Numpy version:',np.__version__)\n",
    "print('Pandas version:',pd.__version__)\n",
    "print('Regular Expression version:',re.__version__)\n",
    "print('Natural Language Tool Kit version:',nltk.__version__)\n",
    "print('Matplotlib version:',matplotlib.__version__)"
   ]
  },
  {
   "cell_type": "markdown",
   "id": "a560c32f",
   "metadata": {},
   "source": [
    "## 1.1 Read the dataset. Do the descriptive statistics and do the null value condition check. Write an inference on it. \n",
    "## Exploratory Data Analysis\n",
    "#### Now, reading the head and tail of the dataset to check whether data has been properly fed."
   ]
  },
  {
   "cell_type": "code",
   "execution_count": 4,
   "id": "f95da5c0",
   "metadata": {},
   "outputs": [
    {
     "data": {
      "text/html": [
       "<div>\n",
       "<style scoped>\n",
       "    .dataframe tbody tr th:only-of-type {\n",
       "        vertical-align: middle;\n",
       "    }\n",
       "\n",
       "    .dataframe tbody tr th {\n",
       "        vertical-align: top;\n",
       "    }\n",
       "\n",
       "    .dataframe thead th {\n",
       "        text-align: right;\n",
       "    }\n",
       "</style>\n",
       "<table border=\"1\" class=\"dataframe\">\n",
       "  <thead>\n",
       "    <tr style=\"text-align: right;\">\n",
       "      <th></th>\n",
       "      <th>id</th>\n",
       "      <th>price</th>\n",
       "      <th>mark</th>\n",
       "      <th>model</th>\n",
       "      <th>year</th>\n",
       "      <th>mileage</th>\n",
       "      <th>engine_capacity</th>\n",
       "      <th>transmission</th>\n",
       "      <th>drive</th>\n",
       "      <th>hand_drive</th>\n",
       "      <th>fuel</th>\n",
       "    </tr>\n",
       "  </thead>\n",
       "  <tbody>\n",
       "    <tr>\n",
       "      <th>0</th>\n",
       "      <td>0</td>\n",
       "      <td>80</td>\n",
       "      <td>nissan</td>\n",
       "      <td>march</td>\n",
       "      <td>2003</td>\n",
       "      <td>80000</td>\n",
       "      <td>1240</td>\n",
       "      <td>at</td>\n",
       "      <td>2wd</td>\n",
       "      <td>rhd</td>\n",
       "      <td>gasoline</td>\n",
       "    </tr>\n",
       "    <tr>\n",
       "      <th>1</th>\n",
       "      <td>1</td>\n",
       "      <td>110</td>\n",
       "      <td>nissan</td>\n",
       "      <td>march</td>\n",
       "      <td>2010</td>\n",
       "      <td>53000</td>\n",
       "      <td>1200</td>\n",
       "      <td>at</td>\n",
       "      <td>2wd</td>\n",
       "      <td>rhd</td>\n",
       "      <td>gasoline</td>\n",
       "    </tr>\n",
       "    <tr>\n",
       "      <th>2</th>\n",
       "      <td>2</td>\n",
       "      <td>165</td>\n",
       "      <td>nissan</td>\n",
       "      <td>lafesta</td>\n",
       "      <td>2005</td>\n",
       "      <td>47690</td>\n",
       "      <td>2000</td>\n",
       "      <td>at</td>\n",
       "      <td>2wd</td>\n",
       "      <td>rhd</td>\n",
       "      <td>gasoline</td>\n",
       "    </tr>\n",
       "    <tr>\n",
       "      <th>3</th>\n",
       "      <td>3</td>\n",
       "      <td>190</td>\n",
       "      <td>toyota</td>\n",
       "      <td>avensis</td>\n",
       "      <td>2008</td>\n",
       "      <td>130661</td>\n",
       "      <td>1990</td>\n",
       "      <td>at</td>\n",
       "      <td>2wd</td>\n",
       "      <td>rhd</td>\n",
       "      <td>gasoline</td>\n",
       "    </tr>\n",
       "    <tr>\n",
       "      <th>4</th>\n",
       "      <td>4</td>\n",
       "      <td>190</td>\n",
       "      <td>daihatsu</td>\n",
       "      <td>mira</td>\n",
       "      <td>2006</td>\n",
       "      <td>66300</td>\n",
       "      <td>660</td>\n",
       "      <td>at</td>\n",
       "      <td>2wd</td>\n",
       "      <td>rhd</td>\n",
       "      <td>gasoline</td>\n",
       "    </tr>\n",
       "  </tbody>\n",
       "</table>\n",
       "</div>"
      ],
      "text/plain": [
       "   id  price      mark    model  year  mileage  engine_capacity transmission  \\\n",
       "0   0     80    nissan    march  2003    80000             1240           at   \n",
       "1   1    110    nissan    march  2010    53000             1200           at   \n",
       "2   2    165    nissan  lafesta  2005    47690             2000           at   \n",
       "3   3    190    toyota  avensis  2008   130661             1990           at   \n",
       "4   4    190  daihatsu     mira  2006    66300              660           at   \n",
       "\n",
       "  drive hand_drive      fuel  \n",
       "0   2wd        rhd  gasoline  \n",
       "1   2wd        rhd  gasoline  \n",
       "2   2wd        rhd  gasoline  \n",
       "3   2wd        rhd  gasoline  \n",
       "4   2wd        rhd  gasoline  "
      ]
     },
     "execution_count": 4,
     "metadata": {},
     "output_type": "execute_result"
    }
   ],
   "source": [
    "df = pd.read_csv(\"https://raw.githubusercontent.com/dsrscientist/dataset4/main/Japan_used_cars_datasets.csv\")\n",
    "df.head(5)"
   ]
  },
  {
   "cell_type": "code",
   "execution_count": 5,
   "id": "4ca26f18",
   "metadata": {},
   "outputs": [
    {
     "data": {
      "text/html": [
       "<div>\n",
       "<style scoped>\n",
       "    .dataframe tbody tr th:only-of-type {\n",
       "        vertical-align: middle;\n",
       "    }\n",
       "\n",
       "    .dataframe tbody tr th {\n",
       "        vertical-align: top;\n",
       "    }\n",
       "\n",
       "    .dataframe thead th {\n",
       "        text-align: right;\n",
       "    }\n",
       "</style>\n",
       "<table border=\"1\" class=\"dataframe\">\n",
       "  <thead>\n",
       "    <tr style=\"text-align: right;\">\n",
       "      <th></th>\n",
       "      <th>id</th>\n",
       "      <th>price</th>\n",
       "      <th>mark</th>\n",
       "      <th>model</th>\n",
       "      <th>year</th>\n",
       "      <th>mileage</th>\n",
       "      <th>engine_capacity</th>\n",
       "      <th>transmission</th>\n",
       "      <th>drive</th>\n",
       "      <th>hand_drive</th>\n",
       "      <th>fuel</th>\n",
       "    </tr>\n",
       "  </thead>\n",
       "  <tbody>\n",
       "    <tr>\n",
       "      <th>2313</th>\n",
       "      <td>2331</td>\n",
       "      <td>1400</td>\n",
       "      <td>toyota</td>\n",
       "      <td>vitz</td>\n",
       "      <td>2009</td>\n",
       "      <td>121000</td>\n",
       "      <td>996</td>\n",
       "      <td>at</td>\n",
       "      <td>2wd</td>\n",
       "      <td>rhd</td>\n",
       "      <td>gasoline</td>\n",
       "    </tr>\n",
       "    <tr>\n",
       "      <th>2314</th>\n",
       "      <td>2332</td>\n",
       "      <td>1400</td>\n",
       "      <td>toyota</td>\n",
       "      <td>estima</td>\n",
       "      <td>2003</td>\n",
       "      <td>101000</td>\n",
       "      <td>3000</td>\n",
       "      <td>at</td>\n",
       "      <td>2wd</td>\n",
       "      <td>rhd</td>\n",
       "      <td>gasoline</td>\n",
       "    </tr>\n",
       "    <tr>\n",
       "      <th>2315</th>\n",
       "      <td>2333</td>\n",
       "      <td>1400</td>\n",
       "      <td>subaru</td>\n",
       "      <td>r2</td>\n",
       "      <td>2005</td>\n",
       "      <td>101000</td>\n",
       "      <td>660</td>\n",
       "      <td>cvt</td>\n",
       "      <td>2wd</td>\n",
       "      <td>rhd</td>\n",
       "      <td>gasoline</td>\n",
       "    </tr>\n",
       "    <tr>\n",
       "      <th>2316</th>\n",
       "      <td>2334</td>\n",
       "      <td>1400</td>\n",
       "      <td>honda</td>\n",
       "      <td>z</td>\n",
       "      <td>2000</td>\n",
       "      <td>170000</td>\n",
       "      <td>660</td>\n",
       "      <td>at</td>\n",
       "      <td>4wd</td>\n",
       "      <td>rhd</td>\n",
       "      <td>gasoline</td>\n",
       "    </tr>\n",
       "    <tr>\n",
       "      <th>2317</th>\n",
       "      <td>2335</td>\n",
       "      <td>1400</td>\n",
       "      <td>toyota</td>\n",
       "      <td>estima t</td>\n",
       "      <td>2005</td>\n",
       "      <td>72320</td>\n",
       "      <td>3000</td>\n",
       "      <td>at</td>\n",
       "      <td>2wd</td>\n",
       "      <td>rhd</td>\n",
       "      <td>gasoline</td>\n",
       "    </tr>\n",
       "  </tbody>\n",
       "</table>\n",
       "</div>"
      ],
      "text/plain": [
       "        id  price    mark     model  year  mileage  engine_capacity  \\\n",
       "2313  2331   1400  toyota      vitz  2009   121000              996   \n",
       "2314  2332   1400  toyota    estima  2003   101000             3000   \n",
       "2315  2333   1400  subaru        r2  2005   101000              660   \n",
       "2316  2334   1400   honda         z  2000   170000              660   \n",
       "2317  2335   1400  toyota  estima t  2005    72320             3000   \n",
       "\n",
       "     transmission drive hand_drive      fuel  \n",
       "2313           at   2wd        rhd  gasoline  \n",
       "2314           at   2wd        rhd  gasoline  \n",
       "2315          cvt   2wd        rhd  gasoline  \n",
       "2316           at   4wd        rhd  gasoline  \n",
       "2317           at   2wd        rhd  gasoline  "
      ]
     },
     "execution_count": 5,
     "metadata": {},
     "output_type": "execute_result"
    }
   ],
   "source": [
    "df.tail(5)"
   ]
  },
  {
   "cell_type": "code",
   "execution_count": 6,
   "id": "5012c451",
   "metadata": {},
   "outputs": [
    {
     "data": {
      "text/plain": [
       "(2318, 11)"
      ]
     },
     "execution_count": 6,
     "metadata": {},
     "output_type": "execute_result"
    }
   ],
   "source": [
    "df.shape"
   ]
  },
  {
   "cell_type": "markdown",
   "id": "9c7375b8",
   "metadata": {},
   "source": [
    "#### We can observe that shape of Dataset comprises of 2318 observations and 11 variables"
   ]
  },
  {
   "cell_type": "code",
   "execution_count": 7,
   "id": "01711143",
   "metadata": {},
   "outputs": [
    {
     "name": "stdout",
     "output_type": "stream",
     "text": [
      "<class 'pandas.core.frame.DataFrame'>\n",
      "RangeIndex: 2318 entries, 0 to 2317\n",
      "Data columns (total 11 columns):\n",
      " #   Column           Non-Null Count  Dtype \n",
      "---  ------           --------------  ----- \n",
      " 0   id               2318 non-null   int64 \n",
      " 1   price            2318 non-null   int64 \n",
      " 2   mark             2318 non-null   object\n",
      " 3   model            2318 non-null   object\n",
      " 4   year             2318 non-null   int64 \n",
      " 5   mileage          2318 non-null   int64 \n",
      " 6   engine_capacity  2318 non-null   int64 \n",
      " 7   transmission     2318 non-null   object\n",
      " 8   drive            2318 non-null   object\n",
      " 9   hand_drive       2318 non-null   object\n",
      " 10  fuel             2318 non-null   object\n",
      "dtypes: int64(5), object(6)\n",
      "memory usage: 199.3+ KB\n"
     ]
    }
   ],
   "source": [
    "df.info()"
   ]
  },
  {
   "cell_type": "markdown",
   "id": "960cea42",
   "metadata": {},
   "source": [
    "#### The data has 2318 instances with 11 attributes - 5 integer type and 6 object type as evident from the above result. Above o/p shows that the dataset consists of 6 categorical and 5 continuous variables.\n",
    "#### Check for the Missing Values\n",
    "#### There is always a necessity to check the presence of Null Values in dataset as that may lead us to inefficiency or errors in evaluation.\n",
    "#### Column 'id' needs to be deleted as it cannot be used in analysis."
   ]
  },
  {
   "cell_type": "code",
   "execution_count": 8,
   "id": "6c44f604",
   "metadata": {},
   "outputs": [
    {
     "name": "stdout",
     "output_type": "stream",
     "text": [
      "There are 0 Missing Values in dataset\n"
     ]
    }
   ],
   "source": [
    "df.isnull().sum()\n",
    "print(\"There are\", df.isnull().values.sum(),\"Missing Values in dataset\")"
   ]
  },
  {
   "cell_type": "code",
   "execution_count": 9,
   "id": "f4a4ce62",
   "metadata": {},
   "outputs": [
    {
     "data": {
      "text/html": [
       "<div>\n",
       "<style scoped>\n",
       "    .dataframe tbody tr th:only-of-type {\n",
       "        vertical-align: middle;\n",
       "    }\n",
       "\n",
       "    .dataframe tbody tr th {\n",
       "        vertical-align: top;\n",
       "    }\n",
       "\n",
       "    .dataframe thead th {\n",
       "        text-align: right;\n",
       "    }\n",
       "</style>\n",
       "<table border=\"1\" class=\"dataframe\">\n",
       "  <thead>\n",
       "    <tr style=\"text-align: right;\">\n",
       "      <th></th>\n",
       "      <th>price</th>\n",
       "      <th>mark</th>\n",
       "      <th>model</th>\n",
       "      <th>year</th>\n",
       "      <th>mileage</th>\n",
       "      <th>engine_capacity</th>\n",
       "      <th>transmission</th>\n",
       "      <th>drive</th>\n",
       "      <th>hand_drive</th>\n",
       "      <th>fuel</th>\n",
       "    </tr>\n",
       "  </thead>\n",
       "  <tbody>\n",
       "    <tr>\n",
       "      <th>0</th>\n",
       "      <td>80</td>\n",
       "      <td>nissan</td>\n",
       "      <td>march</td>\n",
       "      <td>2003</td>\n",
       "      <td>80000</td>\n",
       "      <td>1240</td>\n",
       "      <td>at</td>\n",
       "      <td>2wd</td>\n",
       "      <td>rhd</td>\n",
       "      <td>gasoline</td>\n",
       "    </tr>\n",
       "    <tr>\n",
       "      <th>1</th>\n",
       "      <td>110</td>\n",
       "      <td>nissan</td>\n",
       "      <td>march</td>\n",
       "      <td>2010</td>\n",
       "      <td>53000</td>\n",
       "      <td>1200</td>\n",
       "      <td>at</td>\n",
       "      <td>2wd</td>\n",
       "      <td>rhd</td>\n",
       "      <td>gasoline</td>\n",
       "    </tr>\n",
       "    <tr>\n",
       "      <th>2</th>\n",
       "      <td>165</td>\n",
       "      <td>nissan</td>\n",
       "      <td>lafesta</td>\n",
       "      <td>2005</td>\n",
       "      <td>47690</td>\n",
       "      <td>2000</td>\n",
       "      <td>at</td>\n",
       "      <td>2wd</td>\n",
       "      <td>rhd</td>\n",
       "      <td>gasoline</td>\n",
       "    </tr>\n",
       "    <tr>\n",
       "      <th>3</th>\n",
       "      <td>190</td>\n",
       "      <td>toyota</td>\n",
       "      <td>avensis</td>\n",
       "      <td>2008</td>\n",
       "      <td>130661</td>\n",
       "      <td>1990</td>\n",
       "      <td>at</td>\n",
       "      <td>2wd</td>\n",
       "      <td>rhd</td>\n",
       "      <td>gasoline</td>\n",
       "    </tr>\n",
       "    <tr>\n",
       "      <th>4</th>\n",
       "      <td>190</td>\n",
       "      <td>daihatsu</td>\n",
       "      <td>mira</td>\n",
       "      <td>2006</td>\n",
       "      <td>66300</td>\n",
       "      <td>660</td>\n",
       "      <td>at</td>\n",
       "      <td>2wd</td>\n",
       "      <td>rhd</td>\n",
       "      <td>gasoline</td>\n",
       "    </tr>\n",
       "    <tr>\n",
       "      <th>...</th>\n",
       "      <td>...</td>\n",
       "      <td>...</td>\n",
       "      <td>...</td>\n",
       "      <td>...</td>\n",
       "      <td>...</td>\n",
       "      <td>...</td>\n",
       "      <td>...</td>\n",
       "      <td>...</td>\n",
       "      <td>...</td>\n",
       "      <td>...</td>\n",
       "    </tr>\n",
       "    <tr>\n",
       "      <th>2313</th>\n",
       "      <td>1400</td>\n",
       "      <td>toyota</td>\n",
       "      <td>vitz</td>\n",
       "      <td>2009</td>\n",
       "      <td>121000</td>\n",
       "      <td>996</td>\n",
       "      <td>at</td>\n",
       "      <td>2wd</td>\n",
       "      <td>rhd</td>\n",
       "      <td>gasoline</td>\n",
       "    </tr>\n",
       "    <tr>\n",
       "      <th>2314</th>\n",
       "      <td>1400</td>\n",
       "      <td>toyota</td>\n",
       "      <td>estima</td>\n",
       "      <td>2003</td>\n",
       "      <td>101000</td>\n",
       "      <td>3000</td>\n",
       "      <td>at</td>\n",
       "      <td>2wd</td>\n",
       "      <td>rhd</td>\n",
       "      <td>gasoline</td>\n",
       "    </tr>\n",
       "    <tr>\n",
       "      <th>2315</th>\n",
       "      <td>1400</td>\n",
       "      <td>subaru</td>\n",
       "      <td>r2</td>\n",
       "      <td>2005</td>\n",
       "      <td>101000</td>\n",
       "      <td>660</td>\n",
       "      <td>cvt</td>\n",
       "      <td>2wd</td>\n",
       "      <td>rhd</td>\n",
       "      <td>gasoline</td>\n",
       "    </tr>\n",
       "    <tr>\n",
       "      <th>2316</th>\n",
       "      <td>1400</td>\n",
       "      <td>honda</td>\n",
       "      <td>z</td>\n",
       "      <td>2000</td>\n",
       "      <td>170000</td>\n",
       "      <td>660</td>\n",
       "      <td>at</td>\n",
       "      <td>4wd</td>\n",
       "      <td>rhd</td>\n",
       "      <td>gasoline</td>\n",
       "    </tr>\n",
       "    <tr>\n",
       "      <th>2317</th>\n",
       "      <td>1400</td>\n",
       "      <td>toyota</td>\n",
       "      <td>estima t</td>\n",
       "      <td>2005</td>\n",
       "      <td>72320</td>\n",
       "      <td>3000</td>\n",
       "      <td>at</td>\n",
       "      <td>2wd</td>\n",
       "      <td>rhd</td>\n",
       "      <td>gasoline</td>\n",
       "    </tr>\n",
       "  </tbody>\n",
       "</table>\n",
       "<p>2318 rows × 10 columns</p>\n",
       "</div>"
      ],
      "text/plain": [
       "      price      mark     model  year  mileage  engine_capacity transmission  \\\n",
       "0        80    nissan     march  2003    80000             1240           at   \n",
       "1       110    nissan     march  2010    53000             1200           at   \n",
       "2       165    nissan   lafesta  2005    47690             2000           at   \n",
       "3       190    toyota   avensis  2008   130661             1990           at   \n",
       "4       190  daihatsu      mira  2006    66300              660           at   \n",
       "...     ...       ...       ...   ...      ...              ...          ...   \n",
       "2313   1400    toyota      vitz  2009   121000              996           at   \n",
       "2314   1400    toyota    estima  2003   101000             3000           at   \n",
       "2315   1400    subaru        r2  2005   101000              660          cvt   \n",
       "2316   1400     honda         z  2000   170000              660           at   \n",
       "2317   1400    toyota  estima t  2005    72320             3000           at   \n",
       "\n",
       "     drive hand_drive      fuel  \n",
       "0      2wd        rhd  gasoline  \n",
       "1      2wd        rhd  gasoline  \n",
       "2      2wd        rhd  gasoline  \n",
       "3      2wd        rhd  gasoline  \n",
       "4      2wd        rhd  gasoline  \n",
       "...    ...        ...       ...  \n",
       "2313   2wd        rhd  gasoline  \n",
       "2314   2wd        rhd  gasoline  \n",
       "2315   2wd        rhd  gasoline  \n",
       "2316   4wd        rhd  gasoline  \n",
       "2317   2wd        rhd  gasoline  \n",
       "\n",
       "[2318 rows x 10 columns]"
      ]
     },
     "execution_count": 9,
     "metadata": {},
     "output_type": "execute_result"
    }
   ],
   "source": [
    "df.drop('id',axis=1,inplace=True)\n",
    "df"
   ]
  },
  {
   "cell_type": "markdown",
   "id": "798db276",
   "metadata": {},
   "source": [
    "#### We will find unique values in categorical data"
   ]
  },
  {
   "cell_type": "code",
   "execution_count": 10,
   "id": "5c1ab8c4",
   "metadata": {
    "scrolled": true
   },
   "outputs": [
    {
     "name": "stdout",
     "output_type": "stream",
     "text": [
      "MARK :  28\n",
      "toyota           1047\n",
      "honda             382\n",
      "nissan            320\n",
      "mazda             148\n",
      "suzuki            126\n",
      "mitsubishi         65\n",
      "daihatsu           56\n",
      "subaru             54\n",
      "volkswagen         52\n",
      "bmw                27\n",
      "hyundai             9\n",
      "mercedes-benz       5\n",
      "kia motors          4\n",
      "isuzu               3\n",
      "audi                3\n",
      "smart               2\n",
      "volvo               2\n",
      "land rover          2\n",
      "peugeot             2\n",
      "hino                1\n",
      "mitsuoka            1\n",
      "ford                1\n",
      "gm                  1\n",
      "citroen             1\n",
      "opel                1\n",
      "chrysler            1\n",
      "kubota              1\n",
      "jaguar              1\n",
      "Name: mark, dtype: int64\n",
      "\n",
      "\n",
      "MODEL :  258\n",
      "fit                    270\n",
      "vitz                   179\n",
      "passo                  127\n",
      "ist                     93\n",
      "ractis                  85\n",
      "                      ... \n",
      "sx4 sedan                1\n",
      "207                      1\n",
      "corolla ii               1\n",
      "impreza sportswagon      1\n",
      "estima t                 1\n",
      "Name: model, Length: 258, dtype: int64\n",
      "\n",
      "\n",
      "TRANSMISSION :  3\n",
      "at     2171\n",
      "mt      117\n",
      "cvt      30\n",
      "Name: transmission, dtype: int64\n",
      "\n",
      "\n",
      "DRIVE :  3\n",
      "2wd    2121\n",
      "4wd     192\n",
      "awd       5\n",
      "Name: drive, dtype: int64\n",
      "\n",
      "\n",
      "HAND_DRIVE :  3\n",
      "rhd       2301\n",
      "lhd         16\n",
      "center       1\n",
      "Name: hand_drive, dtype: int64\n",
      "\n",
      "\n",
      "FUEL :  5\n",
      "gasoline    2290\n",
      "diesel        18\n",
      "lpg            7\n",
      "hybrid         2\n",
      "cng            1\n",
      "Name: fuel, dtype: int64\n",
      "\n",
      "\n"
     ]
    }
   ],
   "source": [
    "for column in df.columns: \n",
    "    if df[column].dtype == 'object': \n",
    "        print(column.upper(),': ',df[column].nunique())\n",
    "        print(df[column].value_counts())\n",
    "        print('\\n')"
   ]
  },
  {
   "cell_type": "markdown",
   "id": "315779b3",
   "metadata": {},
   "source": [
    "\n",
    "### Checking for Duplicates"
   ]
  },
  {
   "cell_type": "code",
   "execution_count": 11,
   "id": "1c856a41",
   "metadata": {},
   "outputs": [
    {
     "name": "stdout",
     "output_type": "stream",
     "text": [
      "Number of duplicate rows = 0\n"
     ]
    }
   ],
   "source": [
    "dups = df.duplicated()\n",
    "print('Number of duplicate rows = %d' % (dups.sum()))"
   ]
  },
  {
   "cell_type": "code",
   "execution_count": 12,
   "id": "bb56f7a9",
   "metadata": {},
   "outputs": [
    {
     "data": {
      "text/html": [
       "<div>\n",
       "<style scoped>\n",
       "    .dataframe tbody tr th:only-of-type {\n",
       "        vertical-align: middle;\n",
       "    }\n",
       "\n",
       "    .dataframe tbody tr th {\n",
       "        vertical-align: top;\n",
       "    }\n",
       "\n",
       "    .dataframe thead th {\n",
       "        text-align: right;\n",
       "    }\n",
       "</style>\n",
       "<table border=\"1\" class=\"dataframe\">\n",
       "  <thead>\n",
       "    <tr style=\"text-align: right;\">\n",
       "      <th></th>\n",
       "      <th>count</th>\n",
       "      <th>unique</th>\n",
       "      <th>top</th>\n",
       "      <th>freq</th>\n",
       "      <th>mean</th>\n",
       "      <th>std</th>\n",
       "      <th>min</th>\n",
       "      <th>25%</th>\n",
       "      <th>50%</th>\n",
       "      <th>75%</th>\n",
       "      <th>max</th>\n",
       "    </tr>\n",
       "  </thead>\n",
       "  <tbody>\n",
       "    <tr>\n",
       "      <th>price</th>\n",
       "      <td>2318.0</td>\n",
       "      <td>NaN</td>\n",
       "      <td>NaN</td>\n",
       "      <td>NaN</td>\n",
       "      <td>971.522433</td>\n",
       "      <td>288.673112</td>\n",
       "      <td>80.0</td>\n",
       "      <td>776.0</td>\n",
       "      <td>1000.0</td>\n",
       "      <td>1213.0</td>\n",
       "      <td>1400.0</td>\n",
       "    </tr>\n",
       "    <tr>\n",
       "      <th>mark</th>\n",
       "      <td>2318</td>\n",
       "      <td>28</td>\n",
       "      <td>toyota</td>\n",
       "      <td>1047</td>\n",
       "      <td>NaN</td>\n",
       "      <td>NaN</td>\n",
       "      <td>NaN</td>\n",
       "      <td>NaN</td>\n",
       "      <td>NaN</td>\n",
       "      <td>NaN</td>\n",
       "      <td>NaN</td>\n",
       "    </tr>\n",
       "    <tr>\n",
       "      <th>model</th>\n",
       "      <td>2318</td>\n",
       "      <td>258</td>\n",
       "      <td>fit</td>\n",
       "      <td>270</td>\n",
       "      <td>NaN</td>\n",
       "      <td>NaN</td>\n",
       "      <td>NaN</td>\n",
       "      <td>NaN</td>\n",
       "      <td>NaN</td>\n",
       "      <td>NaN</td>\n",
       "      <td>NaN</td>\n",
       "    </tr>\n",
       "    <tr>\n",
       "      <th>year</th>\n",
       "      <td>2318.0</td>\n",
       "      <td>NaN</td>\n",
       "      <td>NaN</td>\n",
       "      <td>NaN</td>\n",
       "      <td>2005.97239</td>\n",
       "      <td>3.698863</td>\n",
       "      <td>1979.0</td>\n",
       "      <td>2004.0</td>\n",
       "      <td>2006.0</td>\n",
       "      <td>2009.0</td>\n",
       "      <td>2015.0</td>\n",
       "    </tr>\n",
       "    <tr>\n",
       "      <th>mileage</th>\n",
       "      <td>2318.0</td>\n",
       "      <td>NaN</td>\n",
       "      <td>NaN</td>\n",
       "      <td>NaN</td>\n",
       "      <td>100013.194996</td>\n",
       "      <td>52512.478883</td>\n",
       "      <td>2000.0</td>\n",
       "      <td>67000.0</td>\n",
       "      <td>94000.0</td>\n",
       "      <td>124000.0</td>\n",
       "      <td>790000.0</td>\n",
       "    </tr>\n",
       "    <tr>\n",
       "      <th>engine_capacity</th>\n",
       "      <td>2318.0</td>\n",
       "      <td>NaN</td>\n",
       "      <td>NaN</td>\n",
       "      <td>NaN</td>\n",
       "      <td>1507.010785</td>\n",
       "      <td>549.58517</td>\n",
       "      <td>9.0</td>\n",
       "      <td>1300.0</td>\n",
       "      <td>1490.0</td>\n",
       "      <td>1800.0</td>\n",
       "      <td>12340.0</td>\n",
       "    </tr>\n",
       "    <tr>\n",
       "      <th>transmission</th>\n",
       "      <td>2318</td>\n",
       "      <td>3</td>\n",
       "      <td>at</td>\n",
       "      <td>2171</td>\n",
       "      <td>NaN</td>\n",
       "      <td>NaN</td>\n",
       "      <td>NaN</td>\n",
       "      <td>NaN</td>\n",
       "      <td>NaN</td>\n",
       "      <td>NaN</td>\n",
       "      <td>NaN</td>\n",
       "    </tr>\n",
       "    <tr>\n",
       "      <th>drive</th>\n",
       "      <td>2318</td>\n",
       "      <td>3</td>\n",
       "      <td>2wd</td>\n",
       "      <td>2121</td>\n",
       "      <td>NaN</td>\n",
       "      <td>NaN</td>\n",
       "      <td>NaN</td>\n",
       "      <td>NaN</td>\n",
       "      <td>NaN</td>\n",
       "      <td>NaN</td>\n",
       "      <td>NaN</td>\n",
       "    </tr>\n",
       "    <tr>\n",
       "      <th>hand_drive</th>\n",
       "      <td>2318</td>\n",
       "      <td>3</td>\n",
       "      <td>rhd</td>\n",
       "      <td>2301</td>\n",
       "      <td>NaN</td>\n",
       "      <td>NaN</td>\n",
       "      <td>NaN</td>\n",
       "      <td>NaN</td>\n",
       "      <td>NaN</td>\n",
       "      <td>NaN</td>\n",
       "      <td>NaN</td>\n",
       "    </tr>\n",
       "    <tr>\n",
       "      <th>fuel</th>\n",
       "      <td>2318</td>\n",
       "      <td>5</td>\n",
       "      <td>gasoline</td>\n",
       "      <td>2290</td>\n",
       "      <td>NaN</td>\n",
       "      <td>NaN</td>\n",
       "      <td>NaN</td>\n",
       "      <td>NaN</td>\n",
       "      <td>NaN</td>\n",
       "      <td>NaN</td>\n",
       "      <td>NaN</td>\n",
       "    </tr>\n",
       "  </tbody>\n",
       "</table>\n",
       "</div>"
      ],
      "text/plain": [
       "                  count unique       top  freq           mean           std  \\\n",
       "price            2318.0    NaN       NaN   NaN     971.522433    288.673112   \n",
       "mark               2318     28    toyota  1047            NaN           NaN   \n",
       "model              2318    258       fit   270            NaN           NaN   \n",
       "year             2318.0    NaN       NaN   NaN     2005.97239      3.698863   \n",
       "mileage          2318.0    NaN       NaN   NaN  100013.194996  52512.478883   \n",
       "engine_capacity  2318.0    NaN       NaN   NaN    1507.010785     549.58517   \n",
       "transmission       2318      3        at  2171            NaN           NaN   \n",
       "drive              2318      3       2wd  2121            NaN           NaN   \n",
       "hand_drive         2318      3       rhd  2301            NaN           NaN   \n",
       "fuel               2318      5  gasoline  2290            NaN           NaN   \n",
       "\n",
       "                    min      25%      50%       75%       max  \n",
       "price              80.0    776.0   1000.0    1213.0    1400.0  \n",
       "mark                NaN      NaN      NaN       NaN       NaN  \n",
       "model               NaN      NaN      NaN       NaN       NaN  \n",
       "year             1979.0   2004.0   2006.0    2009.0    2015.0  \n",
       "mileage          2000.0  67000.0  94000.0  124000.0  790000.0  \n",
       "engine_capacity     9.0   1300.0   1490.0    1800.0   12340.0  \n",
       "transmission        NaN      NaN      NaN       NaN       NaN  \n",
       "drive               NaN      NaN      NaN       NaN       NaN  \n",
       "hand_drive          NaN      NaN      NaN       NaN       NaN  \n",
       "fuel                NaN      NaN      NaN       NaN       NaN  "
      ]
     },
     "execution_count": 12,
     "metadata": {},
     "output_type": "execute_result"
    }
   ],
   "source": [
    "df.describe(include='all').T"
   ]
  },
  {
   "cell_type": "markdown",
   "id": "2682e2d2",
   "metadata": {},
   "source": []
  },
  {
   "cell_type": "markdown",
   "id": "1933e454",
   "metadata": {},
   "source": [
    "## 1.2 Perform Univariate and Bivariate Analysis. Do exploratory data analysis. Check for Outliers.\n",
    "### Find the Outliers for continuous variables."
   ]
  },
  {
   "cell_type": "code",
   "execution_count": 13,
   "id": "8441466f",
   "metadata": {
    "scrolled": true
   },
   "outputs": [
    {
     "data": {
      "image/png": "[encoded data removed]",
      "text/plain": [
       "<Figure size 432x288 with 1 Axes>"
      ]
     },
     "metadata": {},
     "output_type": "display_data"
    },
    {
     "data": {
      "image/png": "[encoded data removed]",
      "text/plain": [
       "<Figure size 432x288 with 1 Axes>"
      ]
     },
     "metadata": {},
     "output_type": "display_data"
    },
    {
     "data": {
      "image/png": "[encoded data removed]",
      "text/plain": [
       "<Figure size 432x288 with 1 Axes>"
      ]
     },
     "metadata": {},
     "output_type": "display_data"
    },
    {
     "data": {
      "image/png": "[encoded data removed]",
      "text/plain": [
       "<Figure size 432x288 with 1 Axes>"
      ]
     },
     "metadata": {},
     "output_type": "display_data"
    }
   ],
   "source": [
    "cols=['price','year','mileage','engine_capacity'];\n",
    "\n",
    "for i in cols:\n",
    "    sns.boxplot(df[i])\n",
    "    plt.title('With Outliers',fontsize=16)\n",
    "    plt.show()"
   ]
  },
  {
   "cell_type": "code",
   "execution_count": 14,
   "id": "ea390328",
   "metadata": {},
   "outputs": [
    {
     "data": {
      "text/plain": [
       "drive               0\n",
       "engine_capacity    44\n",
       "fuel                0\n",
       "hand_drive          0\n",
       "mark                0\n",
       "mileage            46\n",
       "model               0\n",
       "price               2\n",
       "transmission        0\n",
       "year               35\n",
       "dtype: int64"
      ]
     },
     "execution_count": 14,
     "metadata": {},
     "output_type": "execute_result"
    }
   ],
   "source": [
    "q1=df.quantile(0.25)\n",
    "q3=df.quantile(0.75)\n",
    "iqr = q3 - q1\n",
    "((df<(q1 -(1.5 * iqr)))|(df>(q3 +(1.5 * iqr)))).sum()"
   ]
  },
  {
   "cell_type": "markdown",
   "id": "99f6e3df",
   "metadata": {},
   "source": [
    "#### There are outliers in the dataset in 'price', 'year', 'mileage', 'engine_capacity'.\n",
    "#### There are three common approaches for converting ordinal and categorical variables to numerical values.\n",
    "### They are: \n",
    "#### • Ordinal Encoding\n",
    "#### • One-Hot Encoding\n",
    "#### • Dummy Variable Encoding\n",
    "#### We know that six categorical variables are present in dataset. Convert categorical to dummy variables as Categorical values cannot be given in the regression models. Hence, we will encode categorical values to an integer by converting categorical to dummy variables."
   ]
  },
  {
   "cell_type": "code",
   "execution_count": 15,
   "id": "d4ce05be",
   "metadata": {},
   "outputs": [
    {
     "data": {
      "text/html": [
       "<div>\n",
       "<style scoped>\n",
       "    .dataframe tbody tr th:only-of-type {\n",
       "        vertical-align: middle;\n",
       "    }\n",
       "\n",
       "    .dataframe tbody tr th {\n",
       "        vertical-align: top;\n",
       "    }\n",
       "\n",
       "    .dataframe thead th {\n",
       "        text-align: right;\n",
       "    }\n",
       "</style>\n",
       "<table border=\"1\" class=\"dataframe\">\n",
       "  <thead>\n",
       "    <tr style=\"text-align: right;\">\n",
       "      <th></th>\n",
       "      <th>mark</th>\n",
       "      <th>model</th>\n",
       "      <th>transmission</th>\n",
       "      <th>drive</th>\n",
       "      <th>hand_drive</th>\n",
       "      <th>fuel</th>\n",
       "    </tr>\n",
       "  </thead>\n",
       "  <tbody>\n",
       "    <tr>\n",
       "      <th>0</th>\n",
       "      <td>nissan</td>\n",
       "      <td>march</td>\n",
       "      <td>at</td>\n",
       "      <td>2wd</td>\n",
       "      <td>rhd</td>\n",
       "      <td>gasoline</td>\n",
       "    </tr>\n",
       "    <tr>\n",
       "      <th>1</th>\n",
       "      <td>nissan</td>\n",
       "      <td>march</td>\n",
       "      <td>at</td>\n",
       "      <td>2wd</td>\n",
       "      <td>rhd</td>\n",
       "      <td>gasoline</td>\n",
       "    </tr>\n",
       "    <tr>\n",
       "      <th>2</th>\n",
       "      <td>nissan</td>\n",
       "      <td>lafesta</td>\n",
       "      <td>at</td>\n",
       "      <td>2wd</td>\n",
       "      <td>rhd</td>\n",
       "      <td>gasoline</td>\n",
       "    </tr>\n",
       "    <tr>\n",
       "      <th>3</th>\n",
       "      <td>toyota</td>\n",
       "      <td>avensis</td>\n",
       "      <td>at</td>\n",
       "      <td>2wd</td>\n",
       "      <td>rhd</td>\n",
       "      <td>gasoline</td>\n",
       "    </tr>\n",
       "    <tr>\n",
       "      <th>4</th>\n",
       "      <td>daihatsu</td>\n",
       "      <td>mira</td>\n",
       "      <td>at</td>\n",
       "      <td>2wd</td>\n",
       "      <td>rhd</td>\n",
       "      <td>gasoline</td>\n",
       "    </tr>\n",
       "    <tr>\n",
       "      <th>5</th>\n",
       "      <td>daihatsu</td>\n",
       "      <td>mira</td>\n",
       "      <td>at</td>\n",
       "      <td>2wd</td>\n",
       "      <td>rhd</td>\n",
       "      <td>gasoline</td>\n",
       "    </tr>\n",
       "    <tr>\n",
       "      <th>6</th>\n",
       "      <td>nissan</td>\n",
       "      <td>march</td>\n",
       "      <td>at</td>\n",
       "      <td>2wd</td>\n",
       "      <td>rhd</td>\n",
       "      <td>gasoline</td>\n",
       "    </tr>\n",
       "    <tr>\n",
       "      <th>7</th>\n",
       "      <td>volkswagen</td>\n",
       "      <td>passat</td>\n",
       "      <td>at</td>\n",
       "      <td>4wd</td>\n",
       "      <td>rhd</td>\n",
       "      <td>gasoline</td>\n",
       "    </tr>\n",
       "    <tr>\n",
       "      <th>8</th>\n",
       "      <td>mazda</td>\n",
       "      <td>bongo van</td>\n",
       "      <td>mt</td>\n",
       "      <td>2wd</td>\n",
       "      <td>rhd</td>\n",
       "      <td>gasoline</td>\n",
       "    </tr>\n",
       "    <tr>\n",
       "      <th>9</th>\n",
       "      <td>honda</td>\n",
       "      <td>step wgn</td>\n",
       "      <td>at</td>\n",
       "      <td>2wd</td>\n",
       "      <td>rhd</td>\n",
       "      <td>gasoline</td>\n",
       "    </tr>\n",
       "  </tbody>\n",
       "</table>\n",
       "</div>"
      ],
      "text/plain": [
       "         mark      model transmission drive hand_drive      fuel\n",
       "0      nissan      march           at   2wd        rhd  gasoline\n",
       "1      nissan      march           at   2wd        rhd  gasoline\n",
       "2      nissan    lafesta           at   2wd        rhd  gasoline\n",
       "3      toyota    avensis           at   2wd        rhd  gasoline\n",
       "4    daihatsu       mira           at   2wd        rhd  gasoline\n",
       "5    daihatsu       mira           at   2wd        rhd  gasoline\n",
       "6      nissan      march           at   2wd        rhd  gasoline\n",
       "7  volkswagen     passat           at   4wd        rhd  gasoline\n",
       "8       mazda  bongo van           mt   2wd        rhd  gasoline\n",
       "9       honda   step wgn           at   2wd        rhd  gasoline"
      ]
     },
     "execution_count": 15,
     "metadata": {},
     "output_type": "execute_result"
    }
   ],
   "source": [
    "df.select_dtypes(include='object').head(10)"
   ]
  },
  {
   "cell_type": "code",
   "execution_count": 16,
   "id": "6caca246",
   "metadata": {},
   "outputs": [
    {
     "data": {
      "text/html": [
       "<div>\n",
       "<style scoped>\n",
       "    .dataframe tbody tr th:only-of-type {\n",
       "        vertical-align: middle;\n",
       "    }\n",
       "\n",
       "    .dataframe tbody tr th {\n",
       "        vertical-align: top;\n",
       "    }\n",
       "\n",
       "    .dataframe thead th {\n",
       "        text-align: right;\n",
       "    }\n",
       "</style>\n",
       "<table border=\"1\" class=\"dataframe\">\n",
       "  <thead>\n",
       "    <tr style=\"text-align: right;\">\n",
       "      <th></th>\n",
       "      <th>price</th>\n",
       "      <th>year</th>\n",
       "      <th>mileage</th>\n",
       "      <th>engine_capacity</th>\n",
       "      <th>mark_bmw</th>\n",
       "      <th>mark_chrysler</th>\n",
       "      <th>mark_citroen</th>\n",
       "      <th>mark_daihatsu</th>\n",
       "      <th>mark_ford</th>\n",
       "      <th>mark_gm</th>\n",
       "      <th>...</th>\n",
       "      <th>transmission_cvt</th>\n",
       "      <th>transmission_mt</th>\n",
       "      <th>drive_4wd</th>\n",
       "      <th>drive_awd</th>\n",
       "      <th>hand_drive_lhd</th>\n",
       "      <th>hand_drive_rhd</th>\n",
       "      <th>fuel_diesel</th>\n",
       "      <th>fuel_gasoline</th>\n",
       "      <th>fuel_hybrid</th>\n",
       "      <th>fuel_lpg</th>\n",
       "    </tr>\n",
       "  </thead>\n",
       "  <tbody>\n",
       "    <tr>\n",
       "      <th>0</th>\n",
       "      <td>80</td>\n",
       "      <td>2003</td>\n",
       "      <td>80000</td>\n",
       "      <td>1240</td>\n",
       "      <td>0</td>\n",
       "      <td>0</td>\n",
       "      <td>0</td>\n",
       "      <td>0</td>\n",
       "      <td>0</td>\n",
       "      <td>0</td>\n",
       "      <td>...</td>\n",
       "      <td>0</td>\n",
       "      <td>0</td>\n",
       "      <td>0</td>\n",
       "      <td>0</td>\n",
       "      <td>0</td>\n",
       "      <td>1</td>\n",
       "      <td>0</td>\n",
       "      <td>1</td>\n",
       "      <td>0</td>\n",
       "      <td>0</td>\n",
       "    </tr>\n",
       "    <tr>\n",
       "      <th>1</th>\n",
       "      <td>110</td>\n",
       "      <td>2010</td>\n",
       "      <td>53000</td>\n",
       "      <td>1200</td>\n",
       "      <td>0</td>\n",
       "      <td>0</td>\n",
       "      <td>0</td>\n",
       "      <td>0</td>\n",
       "      <td>0</td>\n",
       "      <td>0</td>\n",
       "      <td>...</td>\n",
       "      <td>0</td>\n",
       "      <td>0</td>\n",
       "      <td>0</td>\n",
       "      <td>0</td>\n",
       "      <td>0</td>\n",
       "      <td>1</td>\n",
       "      <td>0</td>\n",
       "      <td>1</td>\n",
       "      <td>0</td>\n",
       "      <td>0</td>\n",
       "    </tr>\n",
       "    <tr>\n",
       "      <th>2</th>\n",
       "      <td>165</td>\n",
       "      <td>2005</td>\n",
       "      <td>47690</td>\n",
       "      <td>2000</td>\n",
       "      <td>0</td>\n",
       "      <td>0</td>\n",
       "      <td>0</td>\n",
       "      <td>0</td>\n",
       "      <td>0</td>\n",
       "      <td>0</td>\n",
       "      <td>...</td>\n",
       "      <td>0</td>\n",
       "      <td>0</td>\n",
       "      <td>0</td>\n",
       "      <td>0</td>\n",
       "      <td>0</td>\n",
       "      <td>1</td>\n",
       "      <td>0</td>\n",
       "      <td>1</td>\n",
       "      <td>0</td>\n",
       "      <td>0</td>\n",
       "    </tr>\n",
       "    <tr>\n",
       "      <th>3</th>\n",
       "      <td>190</td>\n",
       "      <td>2008</td>\n",
       "      <td>130661</td>\n",
       "      <td>1990</td>\n",
       "      <td>0</td>\n",
       "      <td>0</td>\n",
       "      <td>0</td>\n",
       "      <td>0</td>\n",
       "      <td>0</td>\n",
       "      <td>0</td>\n",
       "      <td>...</td>\n",
       "      <td>0</td>\n",
       "      <td>0</td>\n",
       "      <td>0</td>\n",
       "      <td>0</td>\n",
       "      <td>0</td>\n",
       "      <td>1</td>\n",
       "      <td>0</td>\n",
       "      <td>1</td>\n",
       "      <td>0</td>\n",
       "      <td>0</td>\n",
       "    </tr>\n",
       "    <tr>\n",
       "      <th>4</th>\n",
       "      <td>190</td>\n",
       "      <td>2006</td>\n",
       "      <td>66300</td>\n",
       "      <td>660</td>\n",
       "      <td>0</td>\n",
       "      <td>0</td>\n",
       "      <td>0</td>\n",
       "      <td>1</td>\n",
       "      <td>0</td>\n",
       "      <td>0</td>\n",
       "      <td>...</td>\n",
       "      <td>0</td>\n",
       "      <td>0</td>\n",
       "      <td>0</td>\n",
       "      <td>0</td>\n",
       "      <td>0</td>\n",
       "      <td>1</td>\n",
       "      <td>0</td>\n",
       "      <td>1</td>\n",
       "      <td>0</td>\n",
       "      <td>0</td>\n",
       "    </tr>\n",
       "  </tbody>\n",
       "</table>\n",
       "<p>5 rows × 298 columns</p>\n",
       "</div>"
      ],
      "text/plain": [
       "   price  year  mileage  engine_capacity  mark_bmw  mark_chrysler  \\\n",
       "0     80  2003    80000             1240         0              0   \n",
       "1    110  2010    53000             1200         0              0   \n",
       "2    165  2005    47690             2000         0              0   \n",
       "3    190  2008   130661             1990         0              0   \n",
       "4    190  2006    66300              660         0              0   \n",
       "\n",
       "   mark_citroen  mark_daihatsu  mark_ford  mark_gm  ...  transmission_cvt  \\\n",
       "0             0              0          0        0  ...                 0   \n",
       "1             0              0          0        0  ...                 0   \n",
       "2             0              0          0        0  ...                 0   \n",
       "3             0              0          0        0  ...                 0   \n",
       "4             0              1          0        0  ...                 0   \n",
       "\n",
       "   transmission_mt  drive_4wd  drive_awd  hand_drive_lhd  hand_drive_rhd  \\\n",
       "0                0          0          0               0               1   \n",
       "1                0          0          0               0               1   \n",
       "2                0          0          0               0               1   \n",
       "3                0          0          0               0               1   \n",
       "4                0          0          0               0               1   \n",
       "\n",
       "   fuel_diesel  fuel_gasoline  fuel_hybrid  fuel_lpg  \n",
       "0            0              1            0         0  \n",
       "1            0              1            0         0  \n",
       "2            0              1            0         0  \n",
       "3            0              1            0         0  \n",
       "4            0              1            0         0  \n",
       "\n",
       "[5 rows x 298 columns]"
      ]
     },
     "execution_count": 16,
     "metadata": {},
     "output_type": "execute_result"
    }
   ],
   "source": [
    "df2_dummy = pd.get_dummies(df, columns=['mark','model','transmission','drive','hand_drive','fuel'],drop_first=True)\n",
    "df2_dummy.head()"
   ]
  },
  {
   "cell_type": "markdown",
   "id": "e8f036b5",
   "metadata": {},
   "source": [
    "### Removal of the Outliers for continuous variables."
   ]
  },
  {
   "cell_type": "code",
   "execution_count": 17,
   "id": "859aa52d",
   "metadata": {},
   "outputs": [],
   "source": [
    "def remove_outlier(col):\n",
    "    sorted(col)\n",
    "    Q1,Q3=np.percentile(col,[25,75])\n",
    "    IQR=Q3-Q1\n",
    "    lower_range= Q1-(1.5 * IQR)\n",
    "    upper_range= Q3+(1.5 * IQR)\n",
    "    return lower_range, upper_range"
   ]
  },
  {
   "cell_type": "code",
   "execution_count": 18,
   "id": "b952f91d",
   "metadata": {},
   "outputs": [],
   "source": [
    "for column in df2_dummy.columns:\n",
    "    lr,ur=remove_outlier(df2_dummy[column])\n",
    "    df2_dummy[column]=np.where(df2_dummy[column]>ur,ur,df2_dummy[column])\n",
    "    df2_dummy[column]=np.where(df2_dummy[column]<lr,lr,df2_dummy[column])"
   ]
  },
  {
   "cell_type": "code",
   "execution_count": 19,
   "id": "7bc8525e",
   "metadata": {
    "scrolled": true
   },
   "outputs": [
    {
     "data": {
      "image/png": "[encoded data removed]",
      "text/plain": [
       "<Figure size 432x288 with 1 Axes>"
      ]
     },
     "metadata": {},
     "output_type": "display_data"
    },
    {
     "data": {
      "image/png": "[encoded data removed]",
      "text/plain": [
       "<Figure size 432x288 with 1 Axes>"
      ]
     },
     "metadata": {},
     "output_type": "display_data"
    },
    {
     "data": {
      "image/png": "[encoded data removed]",
      "text/plain": [
       "<Figure size 432x288 with 1 Axes>"
      ]
     },
     "metadata": {},
     "output_type": "display_data"
    },
    {
     "data": {
      "image/png": "[encoded data removed]",
      "text/plain": [
       "<Figure size 432x288 with 1 Axes>"
      ]
     },
     "metadata": {},
     "output_type": "display_data"
    }
   ],
   "source": [
    "cols=['price','year','mileage','engine_capacity'];\n",
    "\n",
    "for i in cols:\n",
    "    sns.boxplot(df2_dummy[i])\n",
    "    plt.title('Without Outliers',fontsize=16)\n",
    "    plt.show()"
   ]
  },
  {
   "cell_type": "markdown",
   "id": "50eacdb5",
   "metadata": {},
   "source": [
    "### Univariate Analysis\n",
    "#### Let us define a function 'UnivariateAnalysis_numeric' to display information as part of univariate analysis of numeric variables. The function will accept coulmn name and number of bins as arguments.\n",
    "#### The function will display the statistical description of the the numeric variable, histogram or distplot to view the distribution and the box plot to view 5 point summary."
   ]
  },
  {
   "cell_type": "code",
   "execution_count": 20,
   "id": "c7a061c1",
   "metadata": {},
   "outputs": [],
   "source": [
    "def univariateAnalysis_numeric(column,nbins):\n",
    "    print(\"Description of \" + column)\n",
    "    print(\"----------------------------------------------------------------------------\")\n",
    "    print(df[column].describe(),end=' ')\n",
    "    \n",
    "    \n",
    "    plt.figure()\n",
    "    print(\"Distribution of \" + column)\n",
    "    print(\"----------------------------------------------------------------------------\")\n",
    "    sns.distplot(df[column], kde=True, color='y');\n",
    "    plt.show()\n",
    "    \n",
    "    plt.figure()\n",
    "    print(\"BoxPlot of \" + column)\n",
    "    print(\"----------------------------------------------------------------------------\")\n",
    "    ax = sns.boxplot(x=df[column])\n",
    "    plt.show()"
   ]
  },
  {
   "cell_type": "code",
   "execution_count": 21,
   "id": "bd5a907b",
   "metadata": {},
   "outputs": [
    {
     "data": {
      "text/plain": [
       "4"
      ]
     },
     "execution_count": 21,
     "metadata": {},
     "output_type": "execute_result"
    }
   ],
   "source": [
    "df_num = df.select_dtypes(include = ['float64', 'int64'])\n",
    "lstnumericcolumns = list(df_num.columns.values)\n",
    "len(lstnumericcolumns)"
   ]
  },
  {
   "cell_type": "code",
   "execution_count": 22,
   "id": "abf88ff9",
   "metadata": {},
   "outputs": [
    {
     "name": "stdout",
     "output_type": "stream",
     "text": [
      "Description of price\n",
      "----------------------------------------------------------------------------\n",
      "count    2318.000000\n",
      "mean      971.522433\n",
      "std       288.673112\n",
      "min        80.000000\n",
      "25%       776.000000\n",
      "50%      1000.000000\n",
      "75%      1213.000000\n",
      "max      1400.000000\n",
      "Name: price, dtype: float64 Distribution of price\n",
      "----------------------------------------------------------------------------\n"
     ]
    },
    {
     "data": {
      "image/png": "[encoded data removed]",
      "text/plain": [
       "<Figure size 432x288 with 1 Axes>"
      ]
     },
     "metadata": {},
     "output_type": "display_data"
    },
    {
     "name": "stdout",
     "output_type": "stream",
     "text": [
      "BoxPlot of price\n",
      "----------------------------------------------------------------------------\n"
     ]
    },
    {
     "data": {
      "image/png": "[encoded data removed]",
      "text/plain": [
       "<Figure size 432x288 with 1 Axes>"
      ]
     },
     "metadata": {},
     "output_type": "display_data"
    },
    {
     "name": "stdout",
     "output_type": "stream",
     "text": [
      "Description of year\n",
      "----------------------------------------------------------------------------\n",
      "count    2318.000000\n",
      "mean     2005.972390\n",
      "std         3.698863\n",
      "min      1979.000000\n",
      "25%      2004.000000\n",
      "50%      2006.000000\n",
      "75%      2009.000000\n",
      "max      2015.000000\n",
      "Name: year, dtype: float64 Distribution of year\n",
      "----------------------------------------------------------------------------\n"
     ]
    },
    {
     "data": {
      "image/png": "[encoded data removed]",
      "text/plain": [
       "<Figure size 432x288 with 1 Axes>"
      ]
     },
     "metadata": {},
     "output_type": "display_data"
    },
    {
     "name": "stdout",
     "output_type": "stream",
     "text": [
      "BoxPlot of year\n",
      "----------------------------------------------------------------------------\n"
     ]
    },
    {
     "data": {
      "image/png": "[encoded data removed]",
      "text/plain": [
       "<Figure size 432x288 with 1 Axes>"
      ]
     },
     "metadata": {},
     "output_type": "display_data"
    },
    {
     "name": "stdout",
     "output_type": "stream",
     "text": [
      "Description of mileage\n",
      "----------------------------------------------------------------------------\n",
      "count      2318.000000\n",
      "mean     100013.194996\n",
      "std       52512.478883\n",
      "min        2000.000000\n",
      "25%       67000.000000\n",
      "50%       94000.000000\n",
      "75%      124000.000000\n",
      "max      790000.000000\n",
      "Name: mileage, dtype: float64 Distribution of mileage\n",
      "----------------------------------------------------------------------------\n"
     ]
    },
    {
     "data": {
      "image/png": "[encoded data removed]",
      "text/plain": [
       "<Figure size 432x288 with 1 Axes>"
      ]
     },
     "metadata": {},
     "output_type": "display_data"
    },
    {
     "name": "stdout",
     "output_type": "stream",
     "text": [
      "BoxPlot of mileage\n",
      "----------------------------------------------------------------------------\n"
     ]
    },
    {
     "data": {
      "image/png": "[encoded data removed]",
      "text/plain": [
       "<Figure size 432x288 with 1 Axes>"
      ]
     },
     "metadata": {},
     "output_type": "display_data"
    },
    {
     "name": "stdout",
     "output_type": "stream",
     "text": [
      "Description of engine_capacity\n",
      "----------------------------------------------------------------------------\n",
      "count     2318.000000\n",
      "mean      1507.010785\n",
      "std        549.585170\n",
      "min          9.000000\n",
      "25%       1300.000000\n",
      "50%       1490.000000\n",
      "75%       1800.000000\n",
      "max      12340.000000\n",
      "Name: engine_capacity, dtype: float64 Distribution of engine_capacity\n",
      "----------------------------------------------------------------------------\n"
     ]
    },
    {
     "data": {
      "image/png": "[encoded data removed]",
      "text/plain": [
       "<Figure size 432x288 with 1 Axes>"
      ]
     },
     "metadata": {},
     "output_type": "display_data"
    },
    {
     "name": "stdout",
     "output_type": "stream",
     "text": [
      "BoxPlot of engine_capacity\n",
      "----------------------------------------------------------------------------\n"
     ]
    },
    {
     "data": {
      "image/png": "[encoded data removed]",
      "text/plain": [
       "<Figure size 432x288 with 1 Axes>"
      ]
     },
     "metadata": {},
     "output_type": "display_data"
    }
   ],
   "source": [
    "for x in lstnumericcolumns:\n",
    "    univariateAnalysis_numeric(x,20)"
   ]
  },
  {
   "cell_type": "code",
   "execution_count": 23,
   "id": "95fc0d10",
   "metadata": {},
   "outputs": [
    {
     "data": {
      "text/plain": [
       "price             -0.466780\n",
       "year              -0.845917\n",
       "mileage            3.089142\n",
       "engine_capacity    4.038892\n",
       "dtype: float64"
      ]
     },
     "execution_count": 23,
     "metadata": {},
     "output_type": "execute_result"
    }
   ],
   "source": [
    "df_num.skew()"
   ]
  },
  {
   "cell_type": "markdown",
   "id": "437de273",
   "metadata": {},
   "source": [
    "#### Distribution is skewed to left tail for the variables Price and Year and for variables Mileage and Engine_Capacity it is right tail"
   ]
  },
  {
   "cell_type": "markdown",
   "id": "457192d3",
   "metadata": {},
   "source": [
    "### Bivariate Analysis"
   ]
  },
  {
   "cell_type": "code",
   "execution_count": 24,
   "id": "35c8cbec",
   "metadata": {},
   "outputs": [
    {
     "data": {
      "image/png": "[encoded data removed]",
      "text/plain": [
       "<Figure size 720x720 with 20 Axes>"
      ]
     },
     "metadata": {},
     "output_type": "display_data"
    }
   ],
   "source": [
    "sns.pairplot(df)\n",
    "plt.show()"
   ]
  },
  {
   "cell_type": "markdown",
   "id": "972f314a",
   "metadata": {},
   "source": [
    "### Find the Correlation between variables"
   ]
  },
  {
   "cell_type": "code",
   "execution_count": 25,
   "id": "920c285b",
   "metadata": {},
   "outputs": [
    {
     "data": {
      "text/html": [
       "<div>\n",
       "<style scoped>\n",
       "    .dataframe tbody tr th:only-of-type {\n",
       "        vertical-align: middle;\n",
       "    }\n",
       "\n",
       "    .dataframe tbody tr th {\n",
       "        vertical-align: top;\n",
       "    }\n",
       "\n",
       "    .dataframe thead th {\n",
       "        text-align: right;\n",
       "    }\n",
       "</style>\n",
       "<table border=\"1\" class=\"dataframe\">\n",
       "  <thead>\n",
       "    <tr style=\"text-align: right;\">\n",
       "      <th></th>\n",
       "      <th>price</th>\n",
       "      <th>year</th>\n",
       "      <th>mileage</th>\n",
       "      <th>engine_capacity</th>\n",
       "    </tr>\n",
       "  </thead>\n",
       "  <tbody>\n",
       "    <tr>\n",
       "      <th>price</th>\n",
       "      <td>1.000000</td>\n",
       "      <td>-0.211092</td>\n",
       "      <td>0.021581</td>\n",
       "      <td>0.173748</td>\n",
       "    </tr>\n",
       "    <tr>\n",
       "      <th>year</th>\n",
       "      <td>-0.211092</td>\n",
       "      <td>1.000000</td>\n",
       "      <td>0.086065</td>\n",
       "      <td>-0.142460</td>\n",
       "    </tr>\n",
       "    <tr>\n",
       "      <th>mileage</th>\n",
       "      <td>0.021581</td>\n",
       "      <td>0.086065</td>\n",
       "      <td>1.000000</td>\n",
       "      <td>0.130362</td>\n",
       "    </tr>\n",
       "    <tr>\n",
       "      <th>engine_capacity</th>\n",
       "      <td>0.173748</td>\n",
       "      <td>-0.142460</td>\n",
       "      <td>0.130362</td>\n",
       "      <td>1.000000</td>\n",
       "    </tr>\n",
       "  </tbody>\n",
       "</table>\n",
       "</div>"
      ],
      "text/plain": [
       "                    price      year   mileage  engine_capacity\n",
       "price            1.000000 -0.211092  0.021581         0.173748\n",
       "year            -0.211092  1.000000  0.086065        -0.142460\n",
       "mileage          0.021581  0.086065  1.000000         0.130362\n",
       "engine_capacity  0.173748 -0.142460  0.130362         1.000000"
      ]
     },
     "execution_count": 25,
     "metadata": {},
     "output_type": "execute_result"
    }
   ],
   "source": [
    "df.corr()"
   ]
  },
  {
   "cell_type": "markdown",
   "id": "58478c70",
   "metadata": {},
   "source": [
    "### Correlation Heatmap"
   ]
  },
  {
   "cell_type": "code",
   "execution_count": 26,
   "id": "745e4ebd",
   "metadata": {},
   "outputs": [
    {
     "data": {
      "image/png": "[encoded data removed]",
      "text/plain": [
       "<Figure size 1800x1080 with 2 Axes>"
      ]
     },
     "metadata": {},
     "output_type": "display_data"
    }
   ],
   "source": [
    "corrl = df.corr(method='pearson')\n",
    "mask1 = np.triu(np.ones_like(corrl, dtype=np.bool)) \n",
    "fig = plt.subplots(figsize=(25, 15))\n",
    "sns.heatmap(df.corr(), annot=True,fmt='.2f',mask=mask1)\n",
    "plt.show()"
   ]
  },
  {
   "cell_type": "markdown",
   "id": "43e44c28",
   "metadata": {},
   "source": []
  },
  {
   "cell_type": "markdown",
   "id": "263621cd",
   "metadata": {},
   "source": [
    "### 1.3 Encode the data (having string values) for Modelling. Is Scaling necessary here or not? Data Split: Split the data into train and test (70:30)."
   ]
  },
  {
   "cell_type": "code",
   "execution_count": 27,
   "id": "523162ad",
   "metadata": {},
   "outputs": [],
   "source": [
    "df3 = df2_dummy.copy()"
   ]
  },
  {
   "cell_type": "code",
   "execution_count": 28,
   "id": "5c8a1a27",
   "metadata": {},
   "outputs": [
    {
     "data": {
      "text/html": [
       "<div>\n",
       "<style scoped>\n",
       "    .dataframe tbody tr th:only-of-type {\n",
       "        vertical-align: middle;\n",
       "    }\n",
       "\n",
       "    .dataframe tbody tr th {\n",
       "        vertical-align: top;\n",
       "    }\n",
       "\n",
       "    .dataframe thead th {\n",
       "        text-align: right;\n",
       "    }\n",
       "</style>\n",
       "<table border=\"1\" class=\"dataframe\">\n",
       "  <thead>\n",
       "    <tr style=\"text-align: right;\">\n",
       "      <th></th>\n",
       "      <th>price</th>\n",
       "      <th>year</th>\n",
       "      <th>mileage</th>\n",
       "      <th>engine_capacity</th>\n",
       "      <th>mark_bmw</th>\n",
       "      <th>mark_chrysler</th>\n",
       "      <th>mark_citroen</th>\n",
       "      <th>mark_daihatsu</th>\n",
       "      <th>mark_ford</th>\n",
       "      <th>mark_gm</th>\n",
       "      <th>...</th>\n",
       "      <th>transmission_cvt</th>\n",
       "      <th>transmission_mt</th>\n",
       "      <th>drive_4wd</th>\n",
       "      <th>drive_awd</th>\n",
       "      <th>hand_drive_lhd</th>\n",
       "      <th>hand_drive_rhd</th>\n",
       "      <th>fuel_diesel</th>\n",
       "      <th>fuel_gasoline</th>\n",
       "      <th>fuel_hybrid</th>\n",
       "      <th>fuel_lpg</th>\n",
       "    </tr>\n",
       "  </thead>\n",
       "  <tbody>\n",
       "    <tr>\n",
       "      <th>0</th>\n",
       "      <td>120.5</td>\n",
       "      <td>2003.0</td>\n",
       "      <td>80000.0</td>\n",
       "      <td>1240.0</td>\n",
       "      <td>0.0</td>\n",
       "      <td>0.0</td>\n",
       "      <td>0.0</td>\n",
       "      <td>0.0</td>\n",
       "      <td>0.0</td>\n",
       "      <td>0.0</td>\n",
       "      <td>...</td>\n",
       "      <td>0.0</td>\n",
       "      <td>0.0</td>\n",
       "      <td>0.0</td>\n",
       "      <td>0.0</td>\n",
       "      <td>0.0</td>\n",
       "      <td>1.0</td>\n",
       "      <td>0.0</td>\n",
       "      <td>1.0</td>\n",
       "      <td>0.0</td>\n",
       "      <td>0.0</td>\n",
       "    </tr>\n",
       "    <tr>\n",
       "      <th>1</th>\n",
       "      <td>120.5</td>\n",
       "      <td>2010.0</td>\n",
       "      <td>53000.0</td>\n",
       "      <td>1200.0</td>\n",
       "      <td>0.0</td>\n",
       "      <td>0.0</td>\n",
       "      <td>0.0</td>\n",
       "      <td>0.0</td>\n",
       "      <td>0.0</td>\n",
       "      <td>0.0</td>\n",
       "      <td>...</td>\n",
       "      <td>0.0</td>\n",
       "      <td>0.0</td>\n",
       "      <td>0.0</td>\n",
       "      <td>0.0</td>\n",
       "      <td>0.0</td>\n",
       "      <td>1.0</td>\n",
       "      <td>0.0</td>\n",
       "      <td>1.0</td>\n",
       "      <td>0.0</td>\n",
       "      <td>0.0</td>\n",
       "    </tr>\n",
       "    <tr>\n",
       "      <th>2</th>\n",
       "      <td>165.0</td>\n",
       "      <td>2005.0</td>\n",
       "      <td>47690.0</td>\n",
       "      <td>2000.0</td>\n",
       "      <td>0.0</td>\n",
       "      <td>0.0</td>\n",
       "      <td>0.0</td>\n",
       "      <td>0.0</td>\n",
       "      <td>0.0</td>\n",
       "      <td>0.0</td>\n",
       "      <td>...</td>\n",
       "      <td>0.0</td>\n",
       "      <td>0.0</td>\n",
       "      <td>0.0</td>\n",
       "      <td>0.0</td>\n",
       "      <td>0.0</td>\n",
       "      <td>1.0</td>\n",
       "      <td>0.0</td>\n",
       "      <td>1.0</td>\n",
       "      <td>0.0</td>\n",
       "      <td>0.0</td>\n",
       "    </tr>\n",
       "    <tr>\n",
       "      <th>3</th>\n",
       "      <td>190.0</td>\n",
       "      <td>2008.0</td>\n",
       "      <td>130661.0</td>\n",
       "      <td>1990.0</td>\n",
       "      <td>0.0</td>\n",
       "      <td>0.0</td>\n",
       "      <td>0.0</td>\n",
       "      <td>0.0</td>\n",
       "      <td>0.0</td>\n",
       "      <td>0.0</td>\n",
       "      <td>...</td>\n",
       "      <td>0.0</td>\n",
       "      <td>0.0</td>\n",
       "      <td>0.0</td>\n",
       "      <td>0.0</td>\n",
       "      <td>0.0</td>\n",
       "      <td>1.0</td>\n",
       "      <td>0.0</td>\n",
       "      <td>1.0</td>\n",
       "      <td>0.0</td>\n",
       "      <td>0.0</td>\n",
       "    </tr>\n",
       "    <tr>\n",
       "      <th>4</th>\n",
       "      <td>190.0</td>\n",
       "      <td>2006.0</td>\n",
       "      <td>66300.0</td>\n",
       "      <td>660.0</td>\n",
       "      <td>0.0</td>\n",
       "      <td>0.0</td>\n",
       "      <td>0.0</td>\n",
       "      <td>0.0</td>\n",
       "      <td>0.0</td>\n",
       "      <td>0.0</td>\n",
       "      <td>...</td>\n",
       "      <td>0.0</td>\n",
       "      <td>0.0</td>\n",
       "      <td>0.0</td>\n",
       "      <td>0.0</td>\n",
       "      <td>0.0</td>\n",
       "      <td>1.0</td>\n",
       "      <td>0.0</td>\n",
       "      <td>1.0</td>\n",
       "      <td>0.0</td>\n",
       "      <td>0.0</td>\n",
       "    </tr>\n",
       "  </tbody>\n",
       "</table>\n",
       "<p>5 rows × 298 columns</p>\n",
       "</div>"
      ],
      "text/plain": [
       "   price    year   mileage  engine_capacity  mark_bmw  mark_chrysler  \\\n",
       "0  120.5  2003.0   80000.0           1240.0       0.0            0.0   \n",
       "1  120.5  2010.0   53000.0           1200.0       0.0            0.0   \n",
       "2  165.0  2005.0   47690.0           2000.0       0.0            0.0   \n",
       "3  190.0  2008.0  130661.0           1990.0       0.0            0.0   \n",
       "4  190.0  2006.0   66300.0            660.0       0.0            0.0   \n",
       "\n",
       "   mark_citroen  mark_daihatsu  mark_ford  mark_gm  ...  transmission_cvt  \\\n",
       "0           0.0            0.0        0.0      0.0  ...               0.0   \n",
       "1           0.0            0.0        0.0      0.0  ...               0.0   \n",
       "2           0.0            0.0        0.0      0.0  ...               0.0   \n",
       "3           0.0            0.0        0.0      0.0  ...               0.0   \n",
       "4           0.0            0.0        0.0      0.0  ...               0.0   \n",
       "\n",
       "   transmission_mt  drive_4wd  drive_awd  hand_drive_lhd  hand_drive_rhd  \\\n",
       "0              0.0        0.0        0.0             0.0             1.0   \n",
       "1              0.0        0.0        0.0             0.0             1.0   \n",
       "2              0.0        0.0        0.0             0.0             1.0   \n",
       "3              0.0        0.0        0.0             0.0             1.0   \n",
       "4              0.0        0.0        0.0             0.0             1.0   \n",
       "\n",
       "   fuel_diesel  fuel_gasoline  fuel_hybrid  fuel_lpg  \n",
       "0          0.0            1.0          0.0       0.0  \n",
       "1          0.0            1.0          0.0       0.0  \n",
       "2          0.0            1.0          0.0       0.0  \n",
       "3          0.0            1.0          0.0       0.0  \n",
       "4          0.0            1.0          0.0       0.0  \n",
       "\n",
       "[5 rows x 298 columns]"
      ]
     },
     "execution_count": 28,
     "metadata": {},
     "output_type": "execute_result"
    }
   ],
   "source": [
    "df3.head()"
   ]
  },
  {
   "cell_type": "markdown",
   "id": "0e99b0ee",
   "metadata": {},
   "source": [
    "- The Machine Learning algorithms that require the feature scaling are mostly KNN (K-Nearest  Neighbours), Neural Networks, Linear Regression, and Logistic Regression.\n",
    "- The Machine learning algorithms that do not require feature scaling is mostly LDA (linear discriminant analysis) and non-linear ML algorithms such as Decision trees, Random Forest, AdaBoost, Naïve Bayes, etc\n",
    "- Here, we are building a model, to predict which party a voter will vote for on the basis of the given information and to create an exit poll that will help in predicting overall win and seats covered by a particular party. In order to do our analysis we are expected to build model using Logistic Regression, LDA, KNN Model and Naïve Bayes Model. For now we are not scaling the data and will do the scaling based on the models we will runahead. Hence, as mentioned scaling might be necessary for two models and might not be necessary for theother two.\n",
    "\n",
    "#### Data Split: Split the data into train and test (70:30)\n",
    "##### Before Splitting we need to find the Target Variable and here we have target variable is \"Price\""
   ]
  },
  {
   "cell_type": "code",
   "execution_count": 29,
   "id": "a2d0d801",
   "metadata": {},
   "outputs": [],
   "source": [
    "X = df3.drop('price', axis=1)\n",
    "Y = df3[['price']]"
   ]
  },
  {
   "cell_type": "code",
   "execution_count": 30,
   "id": "9deec0cb",
   "metadata": {},
   "outputs": [],
   "source": [
    "X_train,X_test,Y_train,Y_test = train_test_split(X,Y,test_size=0.30,random_state=1)"
   ]
  },
  {
   "cell_type": "code",
   "execution_count": 31,
   "id": "a08fa78a",
   "metadata": {},
   "outputs": [
    {
     "name": "stdout",
     "output_type": "stream",
     "text": [
      "Number of rows and columns of the training set for the independent variables: (1622, 297)\n",
      "Number of rows and columns of the training set for the dependent variable: (1622, 1)\n",
      "Number of rows and columns of the test set for the independent variables: (696, 297)\n",
      "Number of rows and columns of the test set for the dependent variable: (696, 1)\n"
     ]
    }
   ],
   "source": [
    "print('Number of rows and columns of the training set for the independent variables:',X_train.shape)\n",
    "print('Number of rows and columns of the training set for the dependent variable:',Y_train.shape)\n",
    "print('Number of rows and columns of the test set for the independent variables:',X_test.shape)\n",
    "print('Number of rows and columns of the test set for the dependent variable:',Y_test.shape)"
   ]
  },
  {
   "cell_type": "markdown",
   "id": "20bb399a",
   "metadata": {},
   "source": [
    "### 1.4 Apply Logistic Regression and LDA (linear discriminant analysis).\n",
    "#### As discussed earlier Scaling of the data is not required for LDA whereas for Logistic Regression we need to scale the data. So we will first build LDA model and then Logistic Regression model.\n",
    "### > *Build the LDA algorithm without scaling the predictor variables.*"
   ]
  },
  {
   "cell_type": "code",
   "execution_count": null,
   "id": "04ff91d1",
   "metadata": {},
   "outputs": [],
   "source": [
    "modelLDA = LinearDiscriminantAnalysis()\n",
    "modelLDA.fit(X_train, Y_train)"
   ]
  },
  {
   "cell_type": "code",
   "execution_count": null,
   "id": "bd26945d",
   "metadata": {},
   "outputs": [],
   "source": []
  },
  {
   "cell_type": "code",
   "execution_count": null,
   "id": "54179abe",
   "metadata": {},
   "outputs": [],
   "source": []
  },
  {
   "cell_type": "code",
   "execution_count": null,
   "id": "618c3a49",
   "metadata": {},
   "outputs": [],
   "source": []
  },
  {
   "cell_type": "code",
   "execution_count": null,
   "id": "d65dbbab",
   "metadata": {},
   "outputs": [],
   "source": []
  },
  {
   "cell_type": "code",
   "execution_count": null,
   "id": "906354e4",
   "metadata": {},
   "outputs": [],
   "source": []
  }
 ],
 "metadata": {
  "kernelspec": {
   "display_name": "Python 3 (ipykernel)",
   "language": "python",
   "name": "python3"
  },
  "language_info": {
   "codemirror_mode": {
    "name": "ipython",
    "version": 3
   },
   "file_extension": ".py",
   "mimetype": "text/x-python",
   "name": "python",
   "nbconvert_exporter": "python",
   "pygments_lexer": "ipython3",
   "version": "3.9.7"
  }
 },
 "nbformat": 4,
 "nbformat_minor": 5
}
