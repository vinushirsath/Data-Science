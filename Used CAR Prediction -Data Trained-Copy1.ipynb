{
 "cells": [
  {
   "cell_type": "markdown",
   "id": "a09f1ce8",
   "metadata": {},
   "source": [
    "# Japnees used car pridiction"
   ]
  },
  {
   "cell_type": "code",
   "execution_count": 32,
   "id": "0cb77b55",
   "metadata": {},
   "outputs": [],
   "source": [
    "import pandas as pd\n",
    "import numpy as np\n",
    "import seaborn as sns\n",
    "import matplotlib.pyplot as plt\n",
    "from sklearn.preprocessing import StandardScaler \n",
    "from sklearn.linear_model import LinearRegression\n",
    "from sklearn.discriminant_analysis import LinearDiscriminantAnalysis\n",
    "from sklearn import metrics,model_selection\n",
    "from sklearn.tree import DecisionTreeRegressor\n",
    "from sklearn.model_selection import train_test_split\n",
    "from statsmodels.stats.outliers_influence import variance_inflation_factor\n",
    "from sklearn.model_selection import train_test_split, GridSearchCV\n",
    "\n",
    "\n",
    "from sklearn.ensemble import RandomForestRegressor\n",
    "\n",
    "from sklearn.metrics import accuracy_score, confusion_matrix, roc_curve, roc_auc_score\n",
    "\n",
    "import warnings\n",
    "warnings.filterwarnings(\"ignore\")"
   ]
  },
  {
   "cell_type": "code",
   "execution_count": 2,
   "id": "cc2ea25f",
   "metadata": {},
   "outputs": [],
   "source": [
    "#Linear regression, Random Forest, SVR, KNN"
   ]
  },
  {
   "cell_type": "code",
   "execution_count": 3,
   "id": "e304941b",
   "metadata": {},
   "outputs": [
    {
     "data": {
      "text/html": [
       "<div>\n",
       "<style scoped>\n",
       "    .dataframe tbody tr th:only-of-type {\n",
       "        vertical-align: middle;\n",
       "    }\n",
       "\n",
       "    .dataframe tbody tr th {\n",
       "        vertical-align: top;\n",
       "    }\n",
       "\n",
       "    .dataframe thead th {\n",
       "        text-align: right;\n",
       "    }\n",
       "</style>\n",
       "<table border=\"1\" class=\"dataframe\">\n",
       "  <thead>\n",
       "    <tr style=\"text-align: right;\">\n",
       "      <th></th>\n",
       "      <th>id</th>\n",
       "      <th>price</th>\n",
       "      <th>mark</th>\n",
       "      <th>model</th>\n",
       "      <th>year</th>\n",
       "      <th>mileage</th>\n",
       "      <th>engine_capacity</th>\n",
       "      <th>transmission</th>\n",
       "      <th>drive</th>\n",
       "      <th>hand_drive</th>\n",
       "      <th>fuel</th>\n",
       "    </tr>\n",
       "  </thead>\n",
       "  <tbody>\n",
       "    <tr>\n",
       "      <th>0</th>\n",
       "      <td>0</td>\n",
       "      <td>80</td>\n",
       "      <td>nissan</td>\n",
       "      <td>march</td>\n",
       "      <td>2003</td>\n",
       "      <td>80000</td>\n",
       "      <td>1240</td>\n",
       "      <td>at</td>\n",
       "      <td>2wd</td>\n",
       "      <td>rhd</td>\n",
       "      <td>gasoline</td>\n",
       "    </tr>\n",
       "    <tr>\n",
       "      <th>1</th>\n",
       "      <td>1</td>\n",
       "      <td>110</td>\n",
       "      <td>nissan</td>\n",
       "      <td>march</td>\n",
       "      <td>2010</td>\n",
       "      <td>53000</td>\n",
       "      <td>1200</td>\n",
       "      <td>at</td>\n",
       "      <td>2wd</td>\n",
       "      <td>rhd</td>\n",
       "      <td>gasoline</td>\n",
       "    </tr>\n",
       "    <tr>\n",
       "      <th>2</th>\n",
       "      <td>2</td>\n",
       "      <td>165</td>\n",
       "      <td>nissan</td>\n",
       "      <td>lafesta</td>\n",
       "      <td>2005</td>\n",
       "      <td>47690</td>\n",
       "      <td>2000</td>\n",
       "      <td>at</td>\n",
       "      <td>2wd</td>\n",
       "      <td>rhd</td>\n",
       "      <td>gasoline</td>\n",
       "    </tr>\n",
       "    <tr>\n",
       "      <th>3</th>\n",
       "      <td>3</td>\n",
       "      <td>190</td>\n",
       "      <td>toyota</td>\n",
       "      <td>avensis</td>\n",
       "      <td>2008</td>\n",
       "      <td>130661</td>\n",
       "      <td>1990</td>\n",
       "      <td>at</td>\n",
       "      <td>2wd</td>\n",
       "      <td>rhd</td>\n",
       "      <td>gasoline</td>\n",
       "    </tr>\n",
       "    <tr>\n",
       "      <th>4</th>\n",
       "      <td>4</td>\n",
       "      <td>190</td>\n",
       "      <td>daihatsu</td>\n",
       "      <td>mira</td>\n",
       "      <td>2006</td>\n",
       "      <td>66300</td>\n",
       "      <td>660</td>\n",
       "      <td>at</td>\n",
       "      <td>2wd</td>\n",
       "      <td>rhd</td>\n",
       "      <td>gasoline</td>\n",
       "    </tr>\n",
       "  </tbody>\n",
       "</table>\n",
       "</div>"
      ],
      "text/plain": [
       "   id  price      mark    model  year  mileage  engine_capacity transmission  \\\n",
       "0   0     80    nissan    march  2003    80000             1240           at   \n",
       "1   1    110    nissan    march  2010    53000             1200           at   \n",
       "2   2    165    nissan  lafesta  2005    47690             2000           at   \n",
       "3   3    190    toyota  avensis  2008   130661             1990           at   \n",
       "4   4    190  daihatsu     mira  2006    66300              660           at   \n",
       "\n",
       "  drive hand_drive      fuel  \n",
       "0   2wd        rhd  gasoline  \n",
       "1   2wd        rhd  gasoline  \n",
       "2   2wd        rhd  gasoline  \n",
       "3   2wd        rhd  gasoline  \n",
       "4   2wd        rhd  gasoline  "
      ]
     },
     "execution_count": 3,
     "metadata": {},
     "output_type": "execute_result"
    }
   ],
   "source": [
    "df=pd.read_csv(\"https://raw.githubusercontent.com/dsrscientist/dataset4/main/Japan_used_cars_datasets.csv\")\n",
    "df.head()"
   ]
  },
  {
   "cell_type": "code",
   "execution_count": 4,
   "id": "2aa137f9",
   "metadata": {},
   "outputs": [
    {
     "data": {
      "text/html": [
       "<div>\n",
       "<style scoped>\n",
       "    .dataframe tbody tr th:only-of-type {\n",
       "        vertical-align: middle;\n",
       "    }\n",
       "\n",
       "    .dataframe tbody tr th {\n",
       "        vertical-align: top;\n",
       "    }\n",
       "\n",
       "    .dataframe thead th {\n",
       "        text-align: right;\n",
       "    }\n",
       "</style>\n",
       "<table border=\"1\" class=\"dataframe\">\n",
       "  <thead>\n",
       "    <tr style=\"text-align: right;\">\n",
       "      <th></th>\n",
       "      <th>id</th>\n",
       "      <th>price</th>\n",
       "      <th>mark</th>\n",
       "      <th>model</th>\n",
       "      <th>year</th>\n",
       "      <th>mileage</th>\n",
       "      <th>engine_capacity</th>\n",
       "      <th>transmission</th>\n",
       "      <th>drive</th>\n",
       "      <th>hand_drive</th>\n",
       "      <th>fuel</th>\n",
       "    </tr>\n",
       "  </thead>\n",
       "  <tbody>\n",
       "    <tr>\n",
       "      <th>2313</th>\n",
       "      <td>2331</td>\n",
       "      <td>1400</td>\n",
       "      <td>toyota</td>\n",
       "      <td>vitz</td>\n",
       "      <td>2009</td>\n",
       "      <td>121000</td>\n",
       "      <td>996</td>\n",
       "      <td>at</td>\n",
       "      <td>2wd</td>\n",
       "      <td>rhd</td>\n",
       "      <td>gasoline</td>\n",
       "    </tr>\n",
       "    <tr>\n",
       "      <th>2314</th>\n",
       "      <td>2332</td>\n",
       "      <td>1400</td>\n",
       "      <td>toyota</td>\n",
       "      <td>estima</td>\n",
       "      <td>2003</td>\n",
       "      <td>101000</td>\n",
       "      <td>3000</td>\n",
       "      <td>at</td>\n",
       "      <td>2wd</td>\n",
       "      <td>rhd</td>\n",
       "      <td>gasoline</td>\n",
       "    </tr>\n",
       "    <tr>\n",
       "      <th>2315</th>\n",
       "      <td>2333</td>\n",
       "      <td>1400</td>\n",
       "      <td>subaru</td>\n",
       "      <td>r2</td>\n",
       "      <td>2005</td>\n",
       "      <td>101000</td>\n",
       "      <td>660</td>\n",
       "      <td>cvt</td>\n",
       "      <td>2wd</td>\n",
       "      <td>rhd</td>\n",
       "      <td>gasoline</td>\n",
       "    </tr>\n",
       "    <tr>\n",
       "      <th>2316</th>\n",
       "      <td>2334</td>\n",
       "      <td>1400</td>\n",
       "      <td>honda</td>\n",
       "      <td>z</td>\n",
       "      <td>2000</td>\n",
       "      <td>170000</td>\n",
       "      <td>660</td>\n",
       "      <td>at</td>\n",
       "      <td>4wd</td>\n",
       "      <td>rhd</td>\n",
       "      <td>gasoline</td>\n",
       "    </tr>\n",
       "    <tr>\n",
       "      <th>2317</th>\n",
       "      <td>2335</td>\n",
       "      <td>1400</td>\n",
       "      <td>toyota</td>\n",
       "      <td>estima t</td>\n",
       "      <td>2005</td>\n",
       "      <td>72320</td>\n",
       "      <td>3000</td>\n",
       "      <td>at</td>\n",
       "      <td>2wd</td>\n",
       "      <td>rhd</td>\n",
       "      <td>gasoline</td>\n",
       "    </tr>\n",
       "  </tbody>\n",
       "</table>\n",
       "</div>"
      ],
      "text/plain": [
       "        id  price    mark     model  year  mileage  engine_capacity  \\\n",
       "2313  2331   1400  toyota      vitz  2009   121000              996   \n",
       "2314  2332   1400  toyota    estima  2003   101000             3000   \n",
       "2315  2333   1400  subaru        r2  2005   101000              660   \n",
       "2316  2334   1400   honda         z  2000   170000              660   \n",
       "2317  2335   1400  toyota  estima t  2005    72320             3000   \n",
       "\n",
       "     transmission drive hand_drive      fuel  \n",
       "2313           at   2wd        rhd  gasoline  \n",
       "2314           at   2wd        rhd  gasoline  \n",
       "2315          cvt   2wd        rhd  gasoline  \n",
       "2316           at   4wd        rhd  gasoline  \n",
       "2317           at   2wd        rhd  gasoline  "
      ]
     },
     "execution_count": 4,
     "metadata": {},
     "output_type": "execute_result"
    }
   ],
   "source": [
    "df.tail()"
   ]
  },
  {
   "cell_type": "code",
   "execution_count": 5,
   "id": "4e49a85e",
   "metadata": {},
   "outputs": [
    {
     "data": {
      "text/plain": [
       "(2318, 11)"
      ]
     },
     "execution_count": 5,
     "metadata": {},
     "output_type": "execute_result"
    }
   ],
   "source": [
    "df.shape"
   ]
  },
  {
   "cell_type": "markdown",
   "id": "7a9579ad",
   "metadata": {},
   "source": [
    "The data has 2318 instances with 11 attributes - 5 integer type and 6 object type as evident from the above result. Above o/p shows that the dataset consists of 6 categorical and 5 continuous variables.\n",
    "Check for the Missing Values\n",
    "There is always a necessity to check the presence of Null Values in dataset as that may lead us to inefficiency or errors in evaluation.\n",
    "Column 'id' needs to be deleted as it cannot be used in analysis."
   ]
  },
  {
   "cell_type": "code",
   "execution_count": 6,
   "id": "870fff3f",
   "metadata": {},
   "outputs": [
    {
     "name": "stdout",
     "output_type": "stream",
     "text": [
      "There are 0 Missing Values in dataset\n"
     ]
    }
   ],
   "source": [
    "df.isnull().sum()\n",
    "print(\"There are\", df.isnull().values.sum(),\"Missing Values in dataset\")"
   ]
  },
  {
   "cell_type": "code",
   "execution_count": 7,
   "id": "cbd5e8ee",
   "metadata": {},
   "outputs": [
    {
     "data": {
      "text/html": [
       "<div>\n",
       "<style scoped>\n",
       "    .dataframe tbody tr th:only-of-type {\n",
       "        vertical-align: middle;\n",
       "    }\n",
       "\n",
       "    .dataframe tbody tr th {\n",
       "        vertical-align: top;\n",
       "    }\n",
       "\n",
       "    .dataframe thead th {\n",
       "        text-align: right;\n",
       "    }\n",
       "</style>\n",
       "<table border=\"1\" class=\"dataframe\">\n",
       "  <thead>\n",
       "    <tr style=\"text-align: right;\">\n",
       "      <th></th>\n",
       "      <th>price</th>\n",
       "      <th>mark</th>\n",
       "      <th>model</th>\n",
       "      <th>year</th>\n",
       "      <th>mileage</th>\n",
       "      <th>engine_capacity</th>\n",
       "      <th>transmission</th>\n",
       "      <th>drive</th>\n",
       "      <th>hand_drive</th>\n",
       "      <th>fuel</th>\n",
       "    </tr>\n",
       "  </thead>\n",
       "  <tbody>\n",
       "    <tr>\n",
       "      <th>0</th>\n",
       "      <td>80</td>\n",
       "      <td>nissan</td>\n",
       "      <td>march</td>\n",
       "      <td>2003</td>\n",
       "      <td>80000</td>\n",
       "      <td>1240</td>\n",
       "      <td>at</td>\n",
       "      <td>2wd</td>\n",
       "      <td>rhd</td>\n",
       "      <td>gasoline</td>\n",
       "    </tr>\n",
       "    <tr>\n",
       "      <th>1</th>\n",
       "      <td>110</td>\n",
       "      <td>nissan</td>\n",
       "      <td>march</td>\n",
       "      <td>2010</td>\n",
       "      <td>53000</td>\n",
       "      <td>1200</td>\n",
       "      <td>at</td>\n",
       "      <td>2wd</td>\n",
       "      <td>rhd</td>\n",
       "      <td>gasoline</td>\n",
       "    </tr>\n",
       "    <tr>\n",
       "      <th>2</th>\n",
       "      <td>165</td>\n",
       "      <td>nissan</td>\n",
       "      <td>lafesta</td>\n",
       "      <td>2005</td>\n",
       "      <td>47690</td>\n",
       "      <td>2000</td>\n",
       "      <td>at</td>\n",
       "      <td>2wd</td>\n",
       "      <td>rhd</td>\n",
       "      <td>gasoline</td>\n",
       "    </tr>\n",
       "    <tr>\n",
       "      <th>3</th>\n",
       "      <td>190</td>\n",
       "      <td>toyota</td>\n",
       "      <td>avensis</td>\n",
       "      <td>2008</td>\n",
       "      <td>130661</td>\n",
       "      <td>1990</td>\n",
       "      <td>at</td>\n",
       "      <td>2wd</td>\n",
       "      <td>rhd</td>\n",
       "      <td>gasoline</td>\n",
       "    </tr>\n",
       "    <tr>\n",
       "      <th>4</th>\n",
       "      <td>190</td>\n",
       "      <td>daihatsu</td>\n",
       "      <td>mira</td>\n",
       "      <td>2006</td>\n",
       "      <td>66300</td>\n",
       "      <td>660</td>\n",
       "      <td>at</td>\n",
       "      <td>2wd</td>\n",
       "      <td>rhd</td>\n",
       "      <td>gasoline</td>\n",
       "    </tr>\n",
       "    <tr>\n",
       "      <th>...</th>\n",
       "      <td>...</td>\n",
       "      <td>...</td>\n",
       "      <td>...</td>\n",
       "      <td>...</td>\n",
       "      <td>...</td>\n",
       "      <td>...</td>\n",
       "      <td>...</td>\n",
       "      <td>...</td>\n",
       "      <td>...</td>\n",
       "      <td>...</td>\n",
       "    </tr>\n",
       "    <tr>\n",
       "      <th>2313</th>\n",
       "      <td>1400</td>\n",
       "      <td>toyota</td>\n",
       "      <td>vitz</td>\n",
       "      <td>2009</td>\n",
       "      <td>121000</td>\n",
       "      <td>996</td>\n",
       "      <td>at</td>\n",
       "      <td>2wd</td>\n",
       "      <td>rhd</td>\n",
       "      <td>gasoline</td>\n",
       "    </tr>\n",
       "    <tr>\n",
       "      <th>2314</th>\n",
       "      <td>1400</td>\n",
       "      <td>toyota</td>\n",
       "      <td>estima</td>\n",
       "      <td>2003</td>\n",
       "      <td>101000</td>\n",
       "      <td>3000</td>\n",
       "      <td>at</td>\n",
       "      <td>2wd</td>\n",
       "      <td>rhd</td>\n",
       "      <td>gasoline</td>\n",
       "    </tr>\n",
       "    <tr>\n",
       "      <th>2315</th>\n",
       "      <td>1400</td>\n",
       "      <td>subaru</td>\n",
       "      <td>r2</td>\n",
       "      <td>2005</td>\n",
       "      <td>101000</td>\n",
       "      <td>660</td>\n",
       "      <td>cvt</td>\n",
       "      <td>2wd</td>\n",
       "      <td>rhd</td>\n",
       "      <td>gasoline</td>\n",
       "    </tr>\n",
       "    <tr>\n",
       "      <th>2316</th>\n",
       "      <td>1400</td>\n",
       "      <td>honda</td>\n",
       "      <td>z</td>\n",
       "      <td>2000</td>\n",
       "      <td>170000</td>\n",
       "      <td>660</td>\n",
       "      <td>at</td>\n",
       "      <td>4wd</td>\n",
       "      <td>rhd</td>\n",
       "      <td>gasoline</td>\n",
       "    </tr>\n",
       "    <tr>\n",
       "      <th>2317</th>\n",
       "      <td>1400</td>\n",
       "      <td>toyota</td>\n",
       "      <td>estima t</td>\n",
       "      <td>2005</td>\n",
       "      <td>72320</td>\n",
       "      <td>3000</td>\n",
       "      <td>at</td>\n",
       "      <td>2wd</td>\n",
       "      <td>rhd</td>\n",
       "      <td>gasoline</td>\n",
       "    </tr>\n",
       "  </tbody>\n",
       "</table>\n",
       "<p>2318 rows × 10 columns</p>\n",
       "</div>"
      ],
      "text/plain": [
       "      price      mark     model  year  mileage  engine_capacity transmission  \\\n",
       "0        80    nissan     march  2003    80000             1240           at   \n",
       "1       110    nissan     march  2010    53000             1200           at   \n",
       "2       165    nissan   lafesta  2005    47690             2000           at   \n",
       "3       190    toyota   avensis  2008   130661             1990           at   \n",
       "4       190  daihatsu      mira  2006    66300              660           at   \n",
       "...     ...       ...       ...   ...      ...              ...          ...   \n",
       "2313   1400    toyota      vitz  2009   121000              996           at   \n",
       "2314   1400    toyota    estima  2003   101000             3000           at   \n",
       "2315   1400    subaru        r2  2005   101000              660          cvt   \n",
       "2316   1400     honda         z  2000   170000              660           at   \n",
       "2317   1400    toyota  estima t  2005    72320             3000           at   \n",
       "\n",
       "     drive hand_drive      fuel  \n",
       "0      2wd        rhd  gasoline  \n",
       "1      2wd        rhd  gasoline  \n",
       "2      2wd        rhd  gasoline  \n",
       "3      2wd        rhd  gasoline  \n",
       "4      2wd        rhd  gasoline  \n",
       "...    ...        ...       ...  \n",
       "2313   2wd        rhd  gasoline  \n",
       "2314   2wd        rhd  gasoline  \n",
       "2315   2wd        rhd  gasoline  \n",
       "2316   4wd        rhd  gasoline  \n",
       "2317   2wd        rhd  gasoline  \n",
       "\n",
       "[2318 rows x 10 columns]"
      ]
     },
     "execution_count": 7,
     "metadata": {},
     "output_type": "execute_result"
    }
   ],
   "source": [
    "df.drop('id',axis=1,inplace=True)\n",
    "df"
   ]
  },
  {
   "cell_type": "markdown",
   "id": "14b0f72f",
   "metadata": {},
   "source": [
    "# We will find unique values in categorical data"
   ]
  },
  {
   "cell_type": "code",
   "execution_count": 8,
   "id": "36ba43c6",
   "metadata": {},
   "outputs": [
    {
     "name": "stdout",
     "output_type": "stream",
     "text": [
      "MARK :  28\n",
      "toyota           1047\n",
      "honda             382\n",
      "nissan            320\n",
      "mazda             148\n",
      "suzuki            126\n",
      "mitsubishi         65\n",
      "daihatsu           56\n",
      "subaru             54\n",
      "volkswagen         52\n",
      "bmw                27\n",
      "hyundai             9\n",
      "mercedes-benz       5\n",
      "kia motors          4\n",
      "isuzu               3\n",
      "audi                3\n",
      "smart               2\n",
      "volvo               2\n",
      "land rover          2\n",
      "peugeot             2\n",
      "hino                1\n",
      "mitsuoka            1\n",
      "ford                1\n",
      "gm                  1\n",
      "citroen             1\n",
      "opel                1\n",
      "chrysler            1\n",
      "kubota              1\n",
      "jaguar              1\n",
      "Name: mark, dtype: int64\n",
      "\n",
      "\n",
      "MODEL :  258\n",
      "fit                    270\n",
      "vitz                   179\n",
      "passo                  127\n",
      "ist                     93\n",
      "ractis                  85\n",
      "                      ... \n",
      "sx4 sedan                1\n",
      "207                      1\n",
      "corolla ii               1\n",
      "impreza sportswagon      1\n",
      "estima t                 1\n",
      "Name: model, Length: 258, dtype: int64\n",
      "\n",
      "\n",
      "TRANSMISSION :  3\n",
      "at     2171\n",
      "mt      117\n",
      "cvt      30\n",
      "Name: transmission, dtype: int64\n",
      "\n",
      "\n",
      "DRIVE :  3\n",
      "2wd    2121\n",
      "4wd     192\n",
      "awd       5\n",
      "Name: drive, dtype: int64\n",
      "\n",
      "\n",
      "HAND_DRIVE :  3\n",
      "rhd       2301\n",
      "lhd         16\n",
      "center       1\n",
      "Name: hand_drive, dtype: int64\n",
      "\n",
      "\n",
      "FUEL :  5\n",
      "gasoline    2290\n",
      "diesel        18\n",
      "lpg            7\n",
      "hybrid         2\n",
      "cng            1\n",
      "Name: fuel, dtype: int64\n",
      "\n",
      "\n"
     ]
    }
   ],
   "source": [
    "for column in df.columns: \n",
    "    if df[column].dtype == 'object': \n",
    "        print(column.upper(),': ',df[column].nunique())\n",
    "        print(df[column].value_counts())\n",
    "        print('\\n')"
   ]
  },
  {
   "cell_type": "code",
   "execution_count": 9,
   "id": "ac7491f5",
   "metadata": {},
   "outputs": [],
   "source": [
    "#Checking for Duplicates"
   ]
  },
  {
   "cell_type": "code",
   "execution_count": 10,
   "id": "db81a59b",
   "metadata": {},
   "outputs": [
    {
     "name": "stdout",
     "output_type": "stream",
     "text": [
      "Number of duplicate rows = 0\n"
     ]
    }
   ],
   "source": [
    "dups = df.duplicated()\n",
    "print('Number of duplicate rows = %d' % (dups.sum()))"
   ]
  },
  {
   "cell_type": "code",
   "execution_count": 11,
   "id": "cb11c0f1",
   "metadata": {},
   "outputs": [
    {
     "data": {
      "text/html": [
       "<div>\n",
       "<style scoped>\n",
       "    .dataframe tbody tr th:only-of-type {\n",
       "        vertical-align: middle;\n",
       "    }\n",
       "\n",
       "    .dataframe tbody tr th {\n",
       "        vertical-align: top;\n",
       "    }\n",
       "\n",
       "    .dataframe thead th {\n",
       "        text-align: right;\n",
       "    }\n",
       "</style>\n",
       "<table border=\"1\" class=\"dataframe\">\n",
       "  <thead>\n",
       "    <tr style=\"text-align: right;\">\n",
       "      <th></th>\n",
       "      <th>count</th>\n",
       "      <th>unique</th>\n",
       "      <th>top</th>\n",
       "      <th>freq</th>\n",
       "      <th>mean</th>\n",
       "      <th>std</th>\n",
       "      <th>min</th>\n",
       "      <th>25%</th>\n",
       "      <th>50%</th>\n",
       "      <th>75%</th>\n",
       "      <th>max</th>\n",
       "    </tr>\n",
       "  </thead>\n",
       "  <tbody>\n",
       "    <tr>\n",
       "      <th>price</th>\n",
       "      <td>2318.0</td>\n",
       "      <td>NaN</td>\n",
       "      <td>NaN</td>\n",
       "      <td>NaN</td>\n",
       "      <td>971.522433</td>\n",
       "      <td>288.673112</td>\n",
       "      <td>80.0</td>\n",
       "      <td>776.0</td>\n",
       "      <td>1000.0</td>\n",
       "      <td>1213.0</td>\n",
       "      <td>1400.0</td>\n",
       "    </tr>\n",
       "    <tr>\n",
       "      <th>mark</th>\n",
       "      <td>2318</td>\n",
       "      <td>28</td>\n",
       "      <td>toyota</td>\n",
       "      <td>1047</td>\n",
       "      <td>NaN</td>\n",
       "      <td>NaN</td>\n",
       "      <td>NaN</td>\n",
       "      <td>NaN</td>\n",
       "      <td>NaN</td>\n",
       "      <td>NaN</td>\n",
       "      <td>NaN</td>\n",
       "    </tr>\n",
       "    <tr>\n",
       "      <th>model</th>\n",
       "      <td>2318</td>\n",
       "      <td>258</td>\n",
       "      <td>fit</td>\n",
       "      <td>270</td>\n",
       "      <td>NaN</td>\n",
       "      <td>NaN</td>\n",
       "      <td>NaN</td>\n",
       "      <td>NaN</td>\n",
       "      <td>NaN</td>\n",
       "      <td>NaN</td>\n",
       "      <td>NaN</td>\n",
       "    </tr>\n",
       "    <tr>\n",
       "      <th>year</th>\n",
       "      <td>2318.0</td>\n",
       "      <td>NaN</td>\n",
       "      <td>NaN</td>\n",
       "      <td>NaN</td>\n",
       "      <td>2005.97239</td>\n",
       "      <td>3.698863</td>\n",
       "      <td>1979.0</td>\n",
       "      <td>2004.0</td>\n",
       "      <td>2006.0</td>\n",
       "      <td>2009.0</td>\n",
       "      <td>2015.0</td>\n",
       "    </tr>\n",
       "    <tr>\n",
       "      <th>mileage</th>\n",
       "      <td>2318.0</td>\n",
       "      <td>NaN</td>\n",
       "      <td>NaN</td>\n",
       "      <td>NaN</td>\n",
       "      <td>100013.194996</td>\n",
       "      <td>52512.478883</td>\n",
       "      <td>2000.0</td>\n",
       "      <td>67000.0</td>\n",
       "      <td>94000.0</td>\n",
       "      <td>124000.0</td>\n",
       "      <td>790000.0</td>\n",
       "    </tr>\n",
       "    <tr>\n",
       "      <th>engine_capacity</th>\n",
       "      <td>2318.0</td>\n",
       "      <td>NaN</td>\n",
       "      <td>NaN</td>\n",
       "      <td>NaN</td>\n",
       "      <td>1507.010785</td>\n",
       "      <td>549.58517</td>\n",
       "      <td>9.0</td>\n",
       "      <td>1300.0</td>\n",
       "      <td>1490.0</td>\n",
       "      <td>1800.0</td>\n",
       "      <td>12340.0</td>\n",
       "    </tr>\n",
       "    <tr>\n",
       "      <th>transmission</th>\n",
       "      <td>2318</td>\n",
       "      <td>3</td>\n",
       "      <td>at</td>\n",
       "      <td>2171</td>\n",
       "      <td>NaN</td>\n",
       "      <td>NaN</td>\n",
       "      <td>NaN</td>\n",
       "      <td>NaN</td>\n",
       "      <td>NaN</td>\n",
       "      <td>NaN</td>\n",
       "      <td>NaN</td>\n",
       "    </tr>\n",
       "    <tr>\n",
       "      <th>drive</th>\n",
       "      <td>2318</td>\n",
       "      <td>3</td>\n",
       "      <td>2wd</td>\n",
       "      <td>2121</td>\n",
       "      <td>NaN</td>\n",
       "      <td>NaN</td>\n",
       "      <td>NaN</td>\n",
       "      <td>NaN</td>\n",
       "      <td>NaN</td>\n",
       "      <td>NaN</td>\n",
       "      <td>NaN</td>\n",
       "    </tr>\n",
       "    <tr>\n",
       "      <th>hand_drive</th>\n",
       "      <td>2318</td>\n",
       "      <td>3</td>\n",
       "      <td>rhd</td>\n",
       "      <td>2301</td>\n",
       "      <td>NaN</td>\n",
       "      <td>NaN</td>\n",
       "      <td>NaN</td>\n",
       "      <td>NaN</td>\n",
       "      <td>NaN</td>\n",
       "      <td>NaN</td>\n",
       "      <td>NaN</td>\n",
       "    </tr>\n",
       "    <tr>\n",
       "      <th>fuel</th>\n",
       "      <td>2318</td>\n",
       "      <td>5</td>\n",
       "      <td>gasoline</td>\n",
       "      <td>2290</td>\n",
       "      <td>NaN</td>\n",
       "      <td>NaN</td>\n",
       "      <td>NaN</td>\n",
       "      <td>NaN</td>\n",
       "      <td>NaN</td>\n",
       "      <td>NaN</td>\n",
       "      <td>NaN</td>\n",
       "    </tr>\n",
       "  </tbody>\n",
       "</table>\n",
       "</div>"
      ],
      "text/plain": [
       "                  count unique       top  freq           mean           std  \\\n",
       "price            2318.0    NaN       NaN   NaN     971.522433    288.673112   \n",
       "mark               2318     28    toyota  1047            NaN           NaN   \n",
       "model              2318    258       fit   270            NaN           NaN   \n",
       "year             2318.0    NaN       NaN   NaN     2005.97239      3.698863   \n",
       "mileage          2318.0    NaN       NaN   NaN  100013.194996  52512.478883   \n",
       "engine_capacity  2318.0    NaN       NaN   NaN    1507.010785     549.58517   \n",
       "transmission       2318      3        at  2171            NaN           NaN   \n",
       "drive              2318      3       2wd  2121            NaN           NaN   \n",
       "hand_drive         2318      3       rhd  2301            NaN           NaN   \n",
       "fuel               2318      5  gasoline  2290            NaN           NaN   \n",
       "\n",
       "                    min      25%      50%       75%       max  \n",
       "price              80.0    776.0   1000.0    1213.0    1400.0  \n",
       "mark                NaN      NaN      NaN       NaN       NaN  \n",
       "model               NaN      NaN      NaN       NaN       NaN  \n",
       "year             1979.0   2004.0   2006.0    2009.0    2015.0  \n",
       "mileage          2000.0  67000.0  94000.0  124000.0  790000.0  \n",
       "engine_capacity     9.0   1300.0   1490.0    1800.0   12340.0  \n",
       "transmission        NaN      NaN      NaN       NaN       NaN  \n",
       "drive               NaN      NaN      NaN       NaN       NaN  \n",
       "hand_drive          NaN      NaN      NaN       NaN       NaN  \n",
       "fuel                NaN      NaN      NaN       NaN       NaN  "
      ]
     },
     "execution_count": 11,
     "metadata": {},
     "output_type": "execute_result"
    }
   ],
   "source": [
    "df.describe(include='all').T"
   ]
  },
  {
   "cell_type": "markdown",
   "id": "b701f5c9",
   "metadata": {},
   "source": [
    "# 1.2 Perform Univariate and Bivariate Analysis. Do exploratory data analysis. Check for Outliers.\n",
    "Find the Outliers for continuous variables."
   ]
  },
  {
   "cell_type": "code",
   "execution_count": 12,
   "id": "3ae75989",
   "metadata": {},
   "outputs": [
    {
     "data": {
      "image/png": "[encoded data removed]",
      "text/plain": [
       "<Figure size 432x288 with 1 Axes>"
      ]
     },
     "metadata": {
      "needs_background": "light"
     },
     "output_type": "display_data"
    },
    {
     "data": {
      "image/png": "[encoded data removed]",
      "text/plain": [
       "<Figure size 432x288 with 1 Axes>"
      ]
     },
     "metadata": {
      "needs_background": "light"
     },
     "output_type": "display_data"
    },
    {
     "data": {
      "image/png": "[encoded data removed]",
      "text/plain": [
       "<Figure size 432x288 with 1 Axes>"
      ]
     },
     "metadata": {
      "needs_background": "light"
     },
     "output_type": "display_data"
    },
    {
     "data": {
      "image/png": "[encoded data removed]",
      "text/plain": [
       "<Figure size 432x288 with 1 Axes>"
      ]
     },
     "metadata": {
      "needs_background": "light"
     },
     "output_type": "display_data"
    }
   ],
   "source": [
    "cols=['price','year','mileage','engine_capacity'];\n",
    "\n",
    "for i in cols:\n",
    "    sns.boxplot(df[i])\n",
    "    plt.title('With Outliers',fontsize=16)\n",
    "    plt.show()"
   ]
  },
  {
   "cell_type": "code",
   "execution_count": 13,
   "id": "fa7942ad",
   "metadata": {},
   "outputs": [
    {
     "data": {
      "text/plain": [
       "drive               0\n",
       "engine_capacity    44\n",
       "fuel                0\n",
       "hand_drive          0\n",
       "mark                0\n",
       "mileage            46\n",
       "model               0\n",
       "price               2\n",
       "transmission        0\n",
       "year               35\n",
       "dtype: int64"
      ]
     },
     "execution_count": 13,
     "metadata": {},
     "output_type": "execute_result"
    }
   ],
   "source": [
    "q1=df.quantile(0.25)\n",
    "q3=df.quantile(0.75)\n",
    "iqr = q3 - q1\n",
    "((df<(q1 -(1.5 * iqr)))|(df>(q3 +(1.5 * iqr)))).sum()"
   ]
  },
  {
   "cell_type": "markdown",
   "id": "531d152b",
   "metadata": {},
   "source": [
    "There are outliers in the dataset in 'price', 'year', 'mileage', 'engine_capacity'.\n",
    "There are three common approaches for converting ordinal and categorical variables to numerical values.\n",
    "They are:\n",
    "• Ordinal Encoding\n",
    "• One-Hot Encoding\n",
    "• Dummy Variable Encoding\n",
    "We know that six categorical variables are present in dataset. Convert categorical to dummy variables as Categorical values cannot be given in the regression models. Hence, we will encode categorical values to an integer by converting categorical to dummy variables."
   ]
  },
  {
   "cell_type": "code",
   "execution_count": 14,
   "id": "ab5dbe2c",
   "metadata": {},
   "outputs": [
    {
     "data": {
      "text/html": [
       "<div>\n",
       "<style scoped>\n",
       "    .dataframe tbody tr th:only-of-type {\n",
       "        vertical-align: middle;\n",
       "    }\n",
       "\n",
       "    .dataframe tbody tr th {\n",
       "        vertical-align: top;\n",
       "    }\n",
       "\n",
       "    .dataframe thead th {\n",
       "        text-align: right;\n",
       "    }\n",
       "</style>\n",
       "<table border=\"1\" class=\"dataframe\">\n",
       "  <thead>\n",
       "    <tr style=\"text-align: right;\">\n",
       "      <th></th>\n",
       "      <th>mark</th>\n",
       "      <th>model</th>\n",
       "      <th>transmission</th>\n",
       "      <th>drive</th>\n",
       "      <th>hand_drive</th>\n",
       "      <th>fuel</th>\n",
       "    </tr>\n",
       "  </thead>\n",
       "  <tbody>\n",
       "    <tr>\n",
       "      <th>0</th>\n",
       "      <td>nissan</td>\n",
       "      <td>march</td>\n",
       "      <td>at</td>\n",
       "      <td>2wd</td>\n",
       "      <td>rhd</td>\n",
       "      <td>gasoline</td>\n",
       "    </tr>\n",
       "    <tr>\n",
       "      <th>1</th>\n",
       "      <td>nissan</td>\n",
       "      <td>march</td>\n",
       "      <td>at</td>\n",
       "      <td>2wd</td>\n",
       "      <td>rhd</td>\n",
       "      <td>gasoline</td>\n",
       "    </tr>\n",
       "    <tr>\n",
       "      <th>2</th>\n",
       "      <td>nissan</td>\n",
       "      <td>lafesta</td>\n",
       "      <td>at</td>\n",
       "      <td>2wd</td>\n",
       "      <td>rhd</td>\n",
       "      <td>gasoline</td>\n",
       "    </tr>\n",
       "    <tr>\n",
       "      <th>3</th>\n",
       "      <td>toyota</td>\n",
       "      <td>avensis</td>\n",
       "      <td>at</td>\n",
       "      <td>2wd</td>\n",
       "      <td>rhd</td>\n",
       "      <td>gasoline</td>\n",
       "    </tr>\n",
       "    <tr>\n",
       "      <th>4</th>\n",
       "      <td>daihatsu</td>\n",
       "      <td>mira</td>\n",
       "      <td>at</td>\n",
       "      <td>2wd</td>\n",
       "      <td>rhd</td>\n",
       "      <td>gasoline</td>\n",
       "    </tr>\n",
       "    <tr>\n",
       "      <th>5</th>\n",
       "      <td>daihatsu</td>\n",
       "      <td>mira</td>\n",
       "      <td>at</td>\n",
       "      <td>2wd</td>\n",
       "      <td>rhd</td>\n",
       "      <td>gasoline</td>\n",
       "    </tr>\n",
       "    <tr>\n",
       "      <th>6</th>\n",
       "      <td>nissan</td>\n",
       "      <td>march</td>\n",
       "      <td>at</td>\n",
       "      <td>2wd</td>\n",
       "      <td>rhd</td>\n",
       "      <td>gasoline</td>\n",
       "    </tr>\n",
       "    <tr>\n",
       "      <th>7</th>\n",
       "      <td>volkswagen</td>\n",
       "      <td>passat</td>\n",
       "      <td>at</td>\n",
       "      <td>4wd</td>\n",
       "      <td>rhd</td>\n",
       "      <td>gasoline</td>\n",
       "    </tr>\n",
       "    <tr>\n",
       "      <th>8</th>\n",
       "      <td>mazda</td>\n",
       "      <td>bongo van</td>\n",
       "      <td>mt</td>\n",
       "      <td>2wd</td>\n",
       "      <td>rhd</td>\n",
       "      <td>gasoline</td>\n",
       "    </tr>\n",
       "    <tr>\n",
       "      <th>9</th>\n",
       "      <td>honda</td>\n",
       "      <td>step wgn</td>\n",
       "      <td>at</td>\n",
       "      <td>2wd</td>\n",
       "      <td>rhd</td>\n",
       "      <td>gasoline</td>\n",
       "    </tr>\n",
       "  </tbody>\n",
       "</table>\n",
       "</div>"
      ],
      "text/plain": [
       "         mark      model transmission drive hand_drive      fuel\n",
       "0      nissan      march           at   2wd        rhd  gasoline\n",
       "1      nissan      march           at   2wd        rhd  gasoline\n",
       "2      nissan    lafesta           at   2wd        rhd  gasoline\n",
       "3      toyota    avensis           at   2wd        rhd  gasoline\n",
       "4    daihatsu       mira           at   2wd        rhd  gasoline\n",
       "5    daihatsu       mira           at   2wd        rhd  gasoline\n",
       "6      nissan      march           at   2wd        rhd  gasoline\n",
       "7  volkswagen     passat           at   4wd        rhd  gasoline\n",
       "8       mazda  bongo van           mt   2wd        rhd  gasoline\n",
       "9       honda   step wgn           at   2wd        rhd  gasoline"
      ]
     },
     "execution_count": 14,
     "metadata": {},
     "output_type": "execute_result"
    }
   ],
   "source": [
    "df.select_dtypes(include='object').head(10)"
   ]
  },
  {
   "cell_type": "code",
   "execution_count": 15,
   "id": "81cded3f",
   "metadata": {},
   "outputs": [
    {
     "data": {
      "text/html": [
       "<div>\n",
       "<style scoped>\n",
       "    .dataframe tbody tr th:only-of-type {\n",
       "        vertical-align: middle;\n",
       "    }\n",
       "\n",
       "    .dataframe tbody tr th {\n",
       "        vertical-align: top;\n",
       "    }\n",
       "\n",
       "    .dataframe thead th {\n",
       "        text-align: right;\n",
       "    }\n",
       "</style>\n",
       "<table border=\"1\" class=\"dataframe\">\n",
       "  <thead>\n",
       "    <tr style=\"text-align: right;\">\n",
       "      <th></th>\n",
       "      <th>price</th>\n",
       "      <th>year</th>\n",
       "      <th>mileage</th>\n",
       "      <th>engine_capacity</th>\n",
       "      <th>mark_bmw</th>\n",
       "      <th>mark_chrysler</th>\n",
       "      <th>mark_citroen</th>\n",
       "      <th>mark_daihatsu</th>\n",
       "      <th>mark_ford</th>\n",
       "      <th>mark_gm</th>\n",
       "      <th>...</th>\n",
       "      <th>transmission_cvt</th>\n",
       "      <th>transmission_mt</th>\n",
       "      <th>drive_4wd</th>\n",
       "      <th>drive_awd</th>\n",
       "      <th>hand_drive_lhd</th>\n",
       "      <th>hand_drive_rhd</th>\n",
       "      <th>fuel_diesel</th>\n",
       "      <th>fuel_gasoline</th>\n",
       "      <th>fuel_hybrid</th>\n",
       "      <th>fuel_lpg</th>\n",
       "    </tr>\n",
       "  </thead>\n",
       "  <tbody>\n",
       "    <tr>\n",
       "      <th>0</th>\n",
       "      <td>80</td>\n",
       "      <td>2003</td>\n",
       "      <td>80000</td>\n",
       "      <td>1240</td>\n",
       "      <td>0</td>\n",
       "      <td>0</td>\n",
       "      <td>0</td>\n",
       "      <td>0</td>\n",
       "      <td>0</td>\n",
       "      <td>0</td>\n",
       "      <td>...</td>\n",
       "      <td>0</td>\n",
       "      <td>0</td>\n",
       "      <td>0</td>\n",
       "      <td>0</td>\n",
       "      <td>0</td>\n",
       "      <td>1</td>\n",
       "      <td>0</td>\n",
       "      <td>1</td>\n",
       "      <td>0</td>\n",
       "      <td>0</td>\n",
       "    </tr>\n",
       "    <tr>\n",
       "      <th>1</th>\n",
       "      <td>110</td>\n",
       "      <td>2010</td>\n",
       "      <td>53000</td>\n",
       "      <td>1200</td>\n",
       "      <td>0</td>\n",
       "      <td>0</td>\n",
       "      <td>0</td>\n",
       "      <td>0</td>\n",
       "      <td>0</td>\n",
       "      <td>0</td>\n",
       "      <td>...</td>\n",
       "      <td>0</td>\n",
       "      <td>0</td>\n",
       "      <td>0</td>\n",
       "      <td>0</td>\n",
       "      <td>0</td>\n",
       "      <td>1</td>\n",
       "      <td>0</td>\n",
       "      <td>1</td>\n",
       "      <td>0</td>\n",
       "      <td>0</td>\n",
       "    </tr>\n",
       "    <tr>\n",
       "      <th>2</th>\n",
       "      <td>165</td>\n",
       "      <td>2005</td>\n",
       "      <td>47690</td>\n",
       "      <td>2000</td>\n",
       "      <td>0</td>\n",
       "      <td>0</td>\n",
       "      <td>0</td>\n",
       "      <td>0</td>\n",
       "      <td>0</td>\n",
       "      <td>0</td>\n",
       "      <td>...</td>\n",
       "      <td>0</td>\n",
       "      <td>0</td>\n",
       "      <td>0</td>\n",
       "      <td>0</td>\n",
       "      <td>0</td>\n",
       "      <td>1</td>\n",
       "      <td>0</td>\n",
       "      <td>1</td>\n",
       "      <td>0</td>\n",
       "      <td>0</td>\n",
       "    </tr>\n",
       "    <tr>\n",
       "      <th>3</th>\n",
       "      <td>190</td>\n",
       "      <td>2008</td>\n",
       "      <td>130661</td>\n",
       "      <td>1990</td>\n",
       "      <td>0</td>\n",
       "      <td>0</td>\n",
       "      <td>0</td>\n",
       "      <td>0</td>\n",
       "      <td>0</td>\n",
       "      <td>0</td>\n",
       "      <td>...</td>\n",
       "      <td>0</td>\n",
       "      <td>0</td>\n",
       "      <td>0</td>\n",
       "      <td>0</td>\n",
       "      <td>0</td>\n",
       "      <td>1</td>\n",
       "      <td>0</td>\n",
       "      <td>1</td>\n",
       "      <td>0</td>\n",
       "      <td>0</td>\n",
       "    </tr>\n",
       "    <tr>\n",
       "      <th>4</th>\n",
       "      <td>190</td>\n",
       "      <td>2006</td>\n",
       "      <td>66300</td>\n",
       "      <td>660</td>\n",
       "      <td>0</td>\n",
       "      <td>0</td>\n",
       "      <td>0</td>\n",
       "      <td>1</td>\n",
       "      <td>0</td>\n",
       "      <td>0</td>\n",
       "      <td>...</td>\n",
       "      <td>0</td>\n",
       "      <td>0</td>\n",
       "      <td>0</td>\n",
       "      <td>0</td>\n",
       "      <td>0</td>\n",
       "      <td>1</td>\n",
       "      <td>0</td>\n",
       "      <td>1</td>\n",
       "      <td>0</td>\n",
       "      <td>0</td>\n",
       "    </tr>\n",
       "  </tbody>\n",
       "</table>\n",
       "<p>5 rows × 298 columns</p>\n",
       "</div>"
      ],
      "text/plain": [
       "   price  year  mileage  engine_capacity  mark_bmw  mark_chrysler  \\\n",
       "0     80  2003    80000             1240         0              0   \n",
       "1    110  2010    53000             1200         0              0   \n",
       "2    165  2005    47690             2000         0              0   \n",
       "3    190  2008   130661             1990         0              0   \n",
       "4    190  2006    66300              660         0              0   \n",
       "\n",
       "   mark_citroen  mark_daihatsu  mark_ford  mark_gm  ...  transmission_cvt  \\\n",
       "0             0              0          0        0  ...                 0   \n",
       "1             0              0          0        0  ...                 0   \n",
       "2             0              0          0        0  ...                 0   \n",
       "3             0              0          0        0  ...                 0   \n",
       "4             0              1          0        0  ...                 0   \n",
       "\n",
       "   transmission_mt  drive_4wd  drive_awd  hand_drive_lhd  hand_drive_rhd  \\\n",
       "0                0          0          0               0               1   \n",
       "1                0          0          0               0               1   \n",
       "2                0          0          0               0               1   \n",
       "3                0          0          0               0               1   \n",
       "4                0          0          0               0               1   \n",
       "\n",
       "   fuel_diesel  fuel_gasoline  fuel_hybrid  fuel_lpg  \n",
       "0            0              1            0         0  \n",
       "1            0              1            0         0  \n",
       "2            0              1            0         0  \n",
       "3            0              1            0         0  \n",
       "4            0              1            0         0  \n",
       "\n",
       "[5 rows x 298 columns]"
      ]
     },
     "execution_count": 15,
     "metadata": {},
     "output_type": "execute_result"
    }
   ],
   "source": [
    "df2_dummy = pd.get_dummies(df, columns=['mark','model','transmission','drive','hand_drive','fuel'],drop_first=True)\n",
    "df2_dummy.head()"
   ]
  },
  {
   "cell_type": "markdown",
   "id": "f99a37ac",
   "metadata": {},
   "source": [
    "Removal of the Outliers for continuous variables."
   ]
  },
  {
   "cell_type": "code",
   "execution_count": 16,
   "id": "45b7f630",
   "metadata": {},
   "outputs": [],
   "source": [
    "def remove_outlier(col):\n",
    "    sorted(col)\n",
    "    Q1,Q3=np.percentile(col,[25,75])\n",
    "    IQR=Q3-Q1\n",
    "    lower_range= Q1-(1.5 * IQR)\n",
    "    upper_range= Q3+(1.5 * IQR)\n",
    "    return lower_range, upper_range"
   ]
  },
  {
   "cell_type": "code",
   "execution_count": 17,
   "id": "4fd40be7",
   "metadata": {},
   "outputs": [],
   "source": [
    "for column in df2_dummy.columns:\n",
    "    lr,ur=remove_outlier(df2_dummy[column])\n",
    "    df2_dummy[column]=np.where(df2_dummy[column]>ur,ur,df2_dummy[column])\n",
    "    df2_dummy[column]=np.where(df2_dummy[column]<lr,lr,df2_dummy[column])"
   ]
  },
  {
   "cell_type": "code",
   "execution_count": 18,
   "id": "9d3c274c",
   "metadata": {},
   "outputs": [
    {
     "data": {
      "image/png": "[encoded data removed]",
      "text/plain": [
       "<Figure size 432x288 with 1 Axes>"
      ]
     },
     "metadata": {
      "needs_background": "light"
     },
     "output_type": "display_data"
    },
    {
     "data": {
      "image/png": "[encoded data removed]",
      "text/plain": [
       "<Figure size 432x288 with 1 Axes>"
      ]
     },
     "metadata": {
      "needs_background": "light"
     },
     "output_type": "display_data"
    },
    {
     "data": {
      "image/png": "[encoded data removed]",
      "text/plain": [
       "<Figure size 432x288 with 1 Axes>"
      ]
     },
     "metadata": {
      "needs_background": "light"
     },
     "output_type": "display_data"
    },
    {
     "data": {
      "image/png": "[encoded data removed]",
      "text/plain": [
       "<Figure size 432x288 with 1 Axes>"
      ]
     },
     "metadata": {
      "needs_background": "light"
     },
     "output_type": "display_data"
    }
   ],
   "source": [
    "cols=['price','year','mileage','engine_capacity'];\n",
    "\n",
    "for i in cols:\n",
    "    sns.boxplot(df2_dummy[i])\n",
    "    plt.title('Without Outliers',fontsize=16)\n",
    "    plt.show()"
   ]
  },
  {
   "cell_type": "markdown",
   "id": "d4014f98",
   "metadata": {},
   "source": [
    "# Univariate Analysis\n",
    "Let us define a function 'UnivariateAnalysis_numeric' to display information as part of univariate analysis of numeric variables. The function will accept coulmn name and number of bins as arguments.\n",
    "The function will display the statistical description of the the numeric variable, histogram or distplot to view the distribution and the box plot to view 5 point summary."
   ]
  },
  {
   "cell_type": "code",
   "execution_count": 19,
   "id": "e983f4a8",
   "metadata": {},
   "outputs": [],
   "source": [
    "def univariateAnalysis_numeric(column,nbins):\n",
    "    print(\"Description of \" + column)\n",
    "    print(\"----------------------------------------------------------------------------\")\n",
    "    print(df[column].describe(),end=' ')\n",
    "    \n",
    "    \n",
    "    plt.figure()\n",
    "    print(\"Distribution of \" + column)\n",
    "    print(\"----------------------------------------------------------------------------\")\n",
    "    sns.distplot(df[column], kde=True, color='y');\n",
    "    plt.show()\n",
    "    \n",
    "    plt.figure()\n",
    "    print(\"BoxPlot of \" + column)\n",
    "    print(\"----------------------------------------------------------------------------\")\n",
    "    ax = sns.boxplot(x=df[column])\n",
    "    plt.show()\n"
   ]
  },
  {
   "cell_type": "code",
   "execution_count": 20,
   "id": "daec13b3",
   "metadata": {},
   "outputs": [
    {
     "data": {
      "text/plain": [
       "4"
      ]
     },
     "execution_count": 20,
     "metadata": {},
     "output_type": "execute_result"
    }
   ],
   "source": [
    "df_num = df.select_dtypes(include = ['float64', 'int64'])\n",
    "lstnumericcolumns = list(df_num.columns.values)\n",
    "len(lstnumericcolumns)"
   ]
  },
  {
   "cell_type": "code",
   "execution_count": 21,
   "id": "a5b9a3bd",
   "metadata": {},
   "outputs": [
    {
     "name": "stdout",
     "output_type": "stream",
     "text": [
      "Description of price\n",
      "----------------------------------------------------------------------------\n",
      "count    2318.000000\n",
      "mean      971.522433\n",
      "std       288.673112\n",
      "min        80.000000\n",
      "25%       776.000000\n",
      "50%      1000.000000\n",
      "75%      1213.000000\n",
      "max      1400.000000\n",
      "Name: price, dtype: float64 Distribution of price\n",
      "----------------------------------------------------------------------------\n"
     ]
    },
    {
     "data": {
      "image/png": "[encoded data removed]",
      "text/plain": [
       "<Figure size 432x288 with 1 Axes>"
      ]
     },
     "metadata": {
      "needs_background": "light"
     },
     "output_type": "display_data"
    },
    {
     "name": "stdout",
     "output_type": "stream",
     "text": [
      "BoxPlot of price\n",
      "----------------------------------------------------------------------------\n"
     ]
    },
    {
     "data": {
      "image/png": "[encoded data removed]",
      "text/plain": [
       "<Figure size 432x288 with 1 Axes>"
      ]
     },
     "metadata": {
      "needs_background": "light"
     },
     "output_type": "display_data"
    },
    {
     "name": "stdout",
     "output_type": "stream",
     "text": [
      "Description of year\n",
      "----------------------------------------------------------------------------\n",
      "count    2318.000000\n",
      "mean     2005.972390\n",
      "std         3.698863\n",
      "min      1979.000000\n",
      "25%      2004.000000\n",
      "50%      2006.000000\n",
      "75%      2009.000000\n",
      "max      2015.000000\n",
      "Name: year, dtype: float64 Distribution of year\n",
      "----------------------------------------------------------------------------\n"
     ]
    },
    {
     "data": {
      "image/png": "[encoded data removed]",
      "text/plain": [
       "<Figure size 432x288 with 1 Axes>"
      ]
     },
     "metadata": {
      "needs_background": "light"
     },
     "output_type": "display_data"
    },
    {
     "name": "stdout",
     "output_type": "stream",
     "text": [
      "BoxPlot of year\n",
      "----------------------------------------------------------------------------\n"
     ]
    },
    {
     "data": {
      "image/png": "[encoded data removed]",
      "text/plain": [
       "<Figure size 432x288 with 1 Axes>"
      ]
     },
     "metadata": {
      "needs_background": "light"
     },
     "output_type": "display_data"
    },
    {
     "name": "stdout",
     "output_type": "stream",
     "text": [
      "Description of mileage\n",
      "----------------------------------------------------------------------------\n",
      "count      2318.000000\n",
      "mean     100013.194996\n",
      "std       52512.478883\n",
      "min        2000.000000\n",
      "25%       67000.000000\n",
      "50%       94000.000000\n",
      "75%      124000.000000\n",
      "max      790000.000000\n",
      "Name: mileage, dtype: float64 Distribution of mileage\n",
      "----------------------------------------------------------------------------\n"
     ]
    },
    {
     "data": {
      "image/png": "[encoded data removed]",
      "text/plain": [
       "<Figure size 432x288 with 1 Axes>"
      ]
     },
     "metadata": {
      "needs_background": "light"
     },
     "output_type": "display_data"
    },
    {
     "name": "stdout",
     "output_type": "stream",
     "text": [
      "BoxPlot of mileage\n",
      "----------------------------------------------------------------------------\n"
     ]
    },
    {
     "data": {
      "image/png": "[encoded data removed]",
      "text/plain": [
       "<Figure size 432x288 with 1 Axes>"
      ]
     },
     "metadata": {
      "needs_background": "light"
     },
     "output_type": "display_data"
    },
    {
     "name": "stdout",
     "output_type": "stream",
     "text": [
      "Description of engine_capacity\n",
      "----------------------------------------------------------------------------\n",
      "count     2318.000000\n",
      "mean      1507.010785\n",
      "std        549.585170\n",
      "min          9.000000\n",
      "25%       1300.000000\n",
      "50%       1490.000000\n",
      "75%       1800.000000\n",
      "max      12340.000000\n",
      "Name: engine_capacity, dtype: float64 Distribution of engine_capacity\n",
      "----------------------------------------------------------------------------\n"
     ]
    },
    {
     "data": {
      "image/png": "[encoded data removed]",
      "text/plain": [
       "<Figure size 432x288 with 1 Axes>"
      ]
     },
     "metadata": {
      "needs_background": "light"
     },
     "output_type": "display_data"
    },
    {
     "name": "stdout",
     "output_type": "stream",
     "text": [
      "BoxPlot of engine_capacity\n",
      "----------------------------------------------------------------------------\n"
     ]
    },
    {
     "data": {
      "image/png": "[encoded data removed]",
      "text/plain": [
       "<Figure size 432x288 with 1 Axes>"
      ]
     },
     "metadata": {
      "needs_background": "light"
     },
     "output_type": "display_data"
    }
   ],
   "source": [
    "for x in lstnumericcolumns:\n",
    "    univariateAnalysis_numeric(x,20)"
   ]
  },
  {
   "cell_type": "code",
   "execution_count": 22,
   "id": "066b63bf",
   "metadata": {},
   "outputs": [
    {
     "data": {
      "text/plain": [
       "price             -0.466780\n",
       "year              -0.845917\n",
       "mileage            3.089142\n",
       "engine_capacity    4.038892\n",
       "dtype: float64"
      ]
     },
     "execution_count": 22,
     "metadata": {},
     "output_type": "execute_result"
    }
   ],
   "source": [
    "df_num.skew()"
   ]
  },
  {
   "cell_type": "markdown",
   "id": "68ab38bb",
   "metadata": {},
   "source": [
    "Distribution is skewed to left tail for the variables Price and Year and for variables Mileage and Engine_Capacity it is right tail"
   ]
  },
  {
   "cell_type": "markdown",
   "id": "ce473fb3",
   "metadata": {},
   "source": [
    "# Bivariate Analysis"
   ]
  },
  {
   "cell_type": "code",
   "execution_count": 23,
   "id": "d25dfcbb",
   "metadata": {},
   "outputs": [
    {
     "data": {
      "image/png": "[encoded data removed]",
      "text/plain": [
       "<Figure size 720x720 with 20 Axes>"
      ]
     },
     "metadata": {
      "needs_background": "light"
     },
     "output_type": "display_data"
    }
   ],
   "source": [
    "sns.pairplot(df)\n",
    "plt.show()\n"
   ]
  },
  {
   "cell_type": "markdown",
   "id": "4b8b3b32",
   "metadata": {},
   "source": [
    "# Find the Correlation between variables"
   ]
  },
  {
   "cell_type": "code",
   "execution_count": 24,
   "id": "7c23b454",
   "metadata": {},
   "outputs": [
    {
     "data": {
      "text/html": [
       "<div>\n",
       "<style scoped>\n",
       "    .dataframe tbody tr th:only-of-type {\n",
       "        vertical-align: middle;\n",
       "    }\n",
       "\n",
       "    .dataframe tbody tr th {\n",
       "        vertical-align: top;\n",
       "    }\n",
       "\n",
       "    .dataframe thead th {\n",
       "        text-align: right;\n",
       "    }\n",
       "</style>\n",
       "<table border=\"1\" class=\"dataframe\">\n",
       "  <thead>\n",
       "    <tr style=\"text-align: right;\">\n",
       "      <th></th>\n",
       "      <th>price</th>\n",
       "      <th>year</th>\n",
       "      <th>mileage</th>\n",
       "      <th>engine_capacity</th>\n",
       "    </tr>\n",
       "  </thead>\n",
       "  <tbody>\n",
       "    <tr>\n",
       "      <th>price</th>\n",
       "      <td>1.000000</td>\n",
       "      <td>-0.211092</td>\n",
       "      <td>0.021581</td>\n",
       "      <td>0.173748</td>\n",
       "    </tr>\n",
       "    <tr>\n",
       "      <th>year</th>\n",
       "      <td>-0.211092</td>\n",
       "      <td>1.000000</td>\n",
       "      <td>0.086065</td>\n",
       "      <td>-0.142460</td>\n",
       "    </tr>\n",
       "    <tr>\n",
       "      <th>mileage</th>\n",
       "      <td>0.021581</td>\n",
       "      <td>0.086065</td>\n",
       "      <td>1.000000</td>\n",
       "      <td>0.130362</td>\n",
       "    </tr>\n",
       "    <tr>\n",
       "      <th>engine_capacity</th>\n",
       "      <td>0.173748</td>\n",
       "      <td>-0.142460</td>\n",
       "      <td>0.130362</td>\n",
       "      <td>1.000000</td>\n",
       "    </tr>\n",
       "  </tbody>\n",
       "</table>\n",
       "</div>"
      ],
      "text/plain": [
       "                    price      year   mileage  engine_capacity\n",
       "price            1.000000 -0.211092  0.021581         0.173748\n",
       "year            -0.211092  1.000000  0.086065        -0.142460\n",
       "mileage          0.021581  0.086065  1.000000         0.130362\n",
       "engine_capacity  0.173748 -0.142460  0.130362         1.000000"
      ]
     },
     "execution_count": 24,
     "metadata": {},
     "output_type": "execute_result"
    }
   ],
   "source": [
    "df.corr()"
   ]
  },
  {
   "cell_type": "markdown",
   "id": "54629b77",
   "metadata": {},
   "source": [
    "# Correlation Heatmap"
   ]
  },
  {
   "cell_type": "code",
   "execution_count": 25,
   "id": "5fb2d032",
   "metadata": {},
   "outputs": [
    {
     "data": {
      "image/png": "[encoded data removed]",
      "text/plain": [
       "<Figure size 720x720 with 2 Axes>"
      ]
     },
     "metadata": {
      "needs_background": "light"
     },
     "output_type": "display_data"
    }
   ],
   "source": [
    "corrl = df.corr(method='pearson')\n",
    "mask1 = np.triu(np.ones_like(corrl, dtype=np.bool)) \n",
    "fig = plt.subplots(figsize=(10, 10))\n",
    "sns.heatmap(df.corr(), annot=True,fmt='.2f',mask=mask1)\n",
    "plt.show()"
   ]
  },
  {
   "cell_type": "markdown",
   "id": "e0b682ef",
   "metadata": {},
   "source": [
    "1.3 Encode the data (having string values) for Modelling. Is Scaling necessary here or not? Data Split: Split the data into train and test (70:30)."
   ]
  },
  {
   "cell_type": "code",
   "execution_count": 26,
   "id": "a8a837a6",
   "metadata": {},
   "outputs": [],
   "source": [
    "df3 = df2_dummy.copy()"
   ]
  },
  {
   "cell_type": "code",
   "execution_count": 27,
   "id": "72d621b7",
   "metadata": {},
   "outputs": [
    {
     "data": {
      "text/html": [
       "<div>\n",
       "<style scoped>\n",
       "    .dataframe tbody tr th:only-of-type {\n",
       "        vertical-align: middle;\n",
       "    }\n",
       "\n",
       "    .dataframe tbody tr th {\n",
       "        vertical-align: top;\n",
       "    }\n",
       "\n",
       "    .dataframe thead th {\n",
       "        text-align: right;\n",
       "    }\n",
       "</style>\n",
       "<table border=\"1\" class=\"dataframe\">\n",
       "  <thead>\n",
       "    <tr style=\"text-align: right;\">\n",
       "      <th></th>\n",
       "      <th>price</th>\n",
       "      <th>year</th>\n",
       "      <th>mileage</th>\n",
       "      <th>engine_capacity</th>\n",
       "      <th>mark_bmw</th>\n",
       "      <th>mark_chrysler</th>\n",
       "      <th>mark_citroen</th>\n",
       "      <th>mark_daihatsu</th>\n",
       "      <th>mark_ford</th>\n",
       "      <th>mark_gm</th>\n",
       "      <th>...</th>\n",
       "      <th>transmission_cvt</th>\n",
       "      <th>transmission_mt</th>\n",
       "      <th>drive_4wd</th>\n",
       "      <th>drive_awd</th>\n",
       "      <th>hand_drive_lhd</th>\n",
       "      <th>hand_drive_rhd</th>\n",
       "      <th>fuel_diesel</th>\n",
       "      <th>fuel_gasoline</th>\n",
       "      <th>fuel_hybrid</th>\n",
       "      <th>fuel_lpg</th>\n",
       "    </tr>\n",
       "  </thead>\n",
       "  <tbody>\n",
       "    <tr>\n",
       "      <th>0</th>\n",
       "      <td>120.5</td>\n",
       "      <td>2003.0</td>\n",
       "      <td>80000.0</td>\n",
       "      <td>1240.0</td>\n",
       "      <td>0.0</td>\n",
       "      <td>0.0</td>\n",
       "      <td>0.0</td>\n",
       "      <td>0.0</td>\n",
       "      <td>0.0</td>\n",
       "      <td>0.0</td>\n",
       "      <td>...</td>\n",
       "      <td>0.0</td>\n",
       "      <td>0.0</td>\n",
       "      <td>0.0</td>\n",
       "      <td>0.0</td>\n",
       "      <td>0.0</td>\n",
       "      <td>1.0</td>\n",
       "      <td>0.0</td>\n",
       "      <td>1.0</td>\n",
       "      <td>0.0</td>\n",
       "      <td>0.0</td>\n",
       "    </tr>\n",
       "    <tr>\n",
       "      <th>1</th>\n",
       "      <td>120.5</td>\n",
       "      <td>2010.0</td>\n",
       "      <td>53000.0</td>\n",
       "      <td>1200.0</td>\n",
       "      <td>0.0</td>\n",
       "      <td>0.0</td>\n",
       "      <td>0.0</td>\n",
       "      <td>0.0</td>\n",
       "      <td>0.0</td>\n",
       "      <td>0.0</td>\n",
       "      <td>...</td>\n",
       "      <td>0.0</td>\n",
       "      <td>0.0</td>\n",
       "      <td>0.0</td>\n",
       "      <td>0.0</td>\n",
       "      <td>0.0</td>\n",
       "      <td>1.0</td>\n",
       "      <td>0.0</td>\n",
       "      <td>1.0</td>\n",
       "      <td>0.0</td>\n",
       "      <td>0.0</td>\n",
       "    </tr>\n",
       "    <tr>\n",
       "      <th>2</th>\n",
       "      <td>165.0</td>\n",
       "      <td>2005.0</td>\n",
       "      <td>47690.0</td>\n",
       "      <td>2000.0</td>\n",
       "      <td>0.0</td>\n",
       "      <td>0.0</td>\n",
       "      <td>0.0</td>\n",
       "      <td>0.0</td>\n",
       "      <td>0.0</td>\n",
       "      <td>0.0</td>\n",
       "      <td>...</td>\n",
       "      <td>0.0</td>\n",
       "      <td>0.0</td>\n",
       "      <td>0.0</td>\n",
       "      <td>0.0</td>\n",
       "      <td>0.0</td>\n",
       "      <td>1.0</td>\n",
       "      <td>0.0</td>\n",
       "      <td>1.0</td>\n",
       "      <td>0.0</td>\n",
       "      <td>0.0</td>\n",
       "    </tr>\n",
       "    <tr>\n",
       "      <th>3</th>\n",
       "      <td>190.0</td>\n",
       "      <td>2008.0</td>\n",
       "      <td>130661.0</td>\n",
       "      <td>1990.0</td>\n",
       "      <td>0.0</td>\n",
       "      <td>0.0</td>\n",
       "      <td>0.0</td>\n",
       "      <td>0.0</td>\n",
       "      <td>0.0</td>\n",
       "      <td>0.0</td>\n",
       "      <td>...</td>\n",
       "      <td>0.0</td>\n",
       "      <td>0.0</td>\n",
       "      <td>0.0</td>\n",
       "      <td>0.0</td>\n",
       "      <td>0.0</td>\n",
       "      <td>1.0</td>\n",
       "      <td>0.0</td>\n",
       "      <td>1.0</td>\n",
       "      <td>0.0</td>\n",
       "      <td>0.0</td>\n",
       "    </tr>\n",
       "    <tr>\n",
       "      <th>4</th>\n",
       "      <td>190.0</td>\n",
       "      <td>2006.0</td>\n",
       "      <td>66300.0</td>\n",
       "      <td>660.0</td>\n",
       "      <td>0.0</td>\n",
       "      <td>0.0</td>\n",
       "      <td>0.0</td>\n",
       "      <td>0.0</td>\n",
       "      <td>0.0</td>\n",
       "      <td>0.0</td>\n",
       "      <td>...</td>\n",
       "      <td>0.0</td>\n",
       "      <td>0.0</td>\n",
       "      <td>0.0</td>\n",
       "      <td>0.0</td>\n",
       "      <td>0.0</td>\n",
       "      <td>1.0</td>\n",
       "      <td>0.0</td>\n",
       "      <td>1.0</td>\n",
       "      <td>0.0</td>\n",
       "      <td>0.0</td>\n",
       "    </tr>\n",
       "  </tbody>\n",
       "</table>\n",
       "<p>5 rows × 298 columns</p>\n",
       "</div>"
      ],
      "text/plain": [
       "   price    year   mileage  engine_capacity  mark_bmw  mark_chrysler  \\\n",
       "0  120.5  2003.0   80000.0           1240.0       0.0            0.0   \n",
       "1  120.5  2010.0   53000.0           1200.0       0.0            0.0   \n",
       "2  165.0  2005.0   47690.0           2000.0       0.0            0.0   \n",
       "3  190.0  2008.0  130661.0           1990.0       0.0            0.0   \n",
       "4  190.0  2006.0   66300.0            660.0       0.0            0.0   \n",
       "\n",
       "   mark_citroen  mark_daihatsu  mark_ford  mark_gm  ...  transmission_cvt  \\\n",
       "0           0.0            0.0        0.0      0.0  ...               0.0   \n",
       "1           0.0            0.0        0.0      0.0  ...               0.0   \n",
       "2           0.0            0.0        0.0      0.0  ...               0.0   \n",
       "3           0.0            0.0        0.0      0.0  ...               0.0   \n",
       "4           0.0            0.0        0.0      0.0  ...               0.0   \n",
       "\n",
       "   transmission_mt  drive_4wd  drive_awd  hand_drive_lhd  hand_drive_rhd  \\\n",
       "0              0.0        0.0        0.0             0.0             1.0   \n",
       "1              0.0        0.0        0.0             0.0             1.0   \n",
       "2              0.0        0.0        0.0             0.0             1.0   \n",
       "3              0.0        0.0        0.0             0.0             1.0   \n",
       "4              0.0        0.0        0.0             0.0             1.0   \n",
       "\n",
       "   fuel_diesel  fuel_gasoline  fuel_hybrid  fuel_lpg  \n",
       "0          0.0            1.0          0.0       0.0  \n",
       "1          0.0            1.0          0.0       0.0  \n",
       "2          0.0            1.0          0.0       0.0  \n",
       "3          0.0            1.0          0.0       0.0  \n",
       "4          0.0            1.0          0.0       0.0  \n",
       "\n",
       "[5 rows x 298 columns]"
      ]
     },
     "execution_count": 27,
     "metadata": {},
     "output_type": "execute_result"
    }
   ],
   "source": [
    "df3.head()"
   ]
  },
  {
   "cell_type": "markdown",
   "id": "0be6467e",
   "metadata": {},
   "source": [
    "# Data Split: Split the data into train and test (70:30)"
   ]
  },
  {
   "cell_type": "markdown",
   "id": "6f5c07df",
   "metadata": {},
   "source": [
    "Before Splitting we need to find the Target Variable and here we have target variable is \"Price\""
   ]
  },
  {
   "cell_type": "code",
   "execution_count": 34,
   "id": "921e1aa9",
   "metadata": {},
   "outputs": [],
   "source": [
    "X = df3.drop('price', axis=1)\n",
    "Y = df3[['price']]"
   ]
  },
  {
   "cell_type": "code",
   "execution_count": 35,
   "id": "5f9d7f42",
   "metadata": {},
   "outputs": [],
   "source": [
    "X_train,X_test,Y_train,Y_test = train_test_split(X,Y,test_size=0.30,random_state=1)"
   ]
  },
  {
   "cell_type": "code",
   "execution_count": 36,
   "id": "8db330b1",
   "metadata": {},
   "outputs": [
    {
     "name": "stdout",
     "output_type": "stream",
     "text": [
      "Number of rows and columns of the training set for the independent variables: (1622, 297)\n",
      "Number of rows and columns of the training set for the dependent variable: (1622, 1)\n",
      "Number of rows and columns of the test set for the independent variables: (696, 297)\n",
      "Number of rows and columns of the test set for the dependent variable: (696, 1)\n"
     ]
    }
   ],
   "source": [
    "print('Number of rows and columns of the training set for the independent variables:',X_train.shape)\n",
    "print('Number of rows and columns of the training set for the dependent variable:',Y_train.shape)\n",
    "print('Number of rows and columns of the test set for the independent variables:',X_test.shape)\n",
    "print('Number of rows and columns of the test set for the dependent variable:',Y_test.shape)"
   ]
  },
  {
   "cell_type": "markdown",
   "id": "39d6ae9d",
   "metadata": {},
   "source": [
    "1.4 Apply Logistic Regression and LDA (linear discriminant analysis)."
   ]
  },
  {
   "cell_type": "markdown",
   "id": "b6cd0ca9",
   "metadata": {},
   "source": [
    "As discussed earlier Scaling of the data is not required for LDA whereas for Logistic Regression we need to scale the data. So we will first build LDA model and then Logistic Regression model."
   ]
  },
  {
   "cell_type": "code",
   "execution_count": 44,
   "id": "e004e112",
   "metadata": {},
   "outputs": [],
   "source": [
    "scalar=StandardScaler()"
   ]
  },
  {
   "cell_type": "code",
   "execution_count": 45,
   "id": "1a7f7963",
   "metadata": {},
   "outputs": [],
   "source": [
    "X_train=scalar.fit_transform(X_train)\n",
    "X_test=scalar.fit_transform(X_test)\n"
   ]
  },
  {
   "cell_type": "code",
   "execution_count": 46,
   "id": "7f689b8f",
   "metadata": {},
   "outputs": [],
   "source": [
    "model=LinearRegression()"
   ]
  },
  {
   "cell_type": "code",
   "execution_count": 47,
   "id": "97c8ea31",
   "metadata": {},
   "outputs": [
    {
     "data": {
      "text/plain": [
       "LinearRegression()"
      ]
     },
     "execution_count": 47,
     "metadata": {},
     "output_type": "execute_result"
    }
   ],
   "source": [
    "model.fit(X_train, Y_train)"
   ]
  },
  {
   "cell_type": "code",
   "execution_count": 48,
   "id": "4b0ca776",
   "metadata": {},
   "outputs": [],
   "source": [
    "pred=model.predict(X_test)\n"
   ]
  },
  {
   "cell_type": "code",
   "execution_count": 49,
   "id": "fa6ce79d",
   "metadata": {},
   "outputs": [],
   "source": [
    "from sklearn import metrics\n",
    "from sklearn.metrics import mean_absolute_error, mean_squared_error, r2_score"
   ]
  },
  {
   "cell_type": "code",
   "execution_count": 50,
   "id": "a89fec3a",
   "metadata": {},
   "outputs": [
    {
     "name": "stdout",
     "output_type": "stream",
     "text": [
      "MAE 225.56227357721863\n",
      "MSE 72663.98326632979\n",
      "R2 score -8.968150876370492\n"
     ]
    }
   ],
   "source": [
    "print(\"MAE\", (metrics.mean_absolute_error(pred, Y_test)))\n",
    "print(\"MSE\", (metrics.mean_squared_error(pred, Y_test)))\n",
    "print(\"R2 score\",(metrics.r2_score(pred, Y_test)))"
   ]
  },
  {
   "cell_type": "code",
   "execution_count": 51,
   "id": "ebd619e7",
   "metadata": {},
   "outputs": [
    {
     "data": {
      "image/png": "[encoded data removed]",
      "text/plain": [
       "<Figure size 432x288 with 1 Axes>"
      ]
     },
     "metadata": {
      "needs_background": "light"
     },
     "output_type": "display_data"
    }
   ],
   "source": [
    "sns.regplot(x=pred, y=Y_test)\n",
    "plt.xlabel(\"Predicted Price\")\n",
    "plt.ylabel(\"Actual Value\")\n",
    "plt.title(\"Actual Vs PRedicted\")\n",
    "plt.show()"
   ]
  },
  {
   "cell_type": "code",
   "execution_count": null,
   "id": "b57ff955",
   "metadata": {},
   "outputs": [],
   "source": []
  },
  {
   "cell_type": "markdown",
   "id": "25fd3414",
   "metadata": {},
   "source": [
    "# Decision Tree"
   ]
  },
  {
   "cell_type": "code",
   "execution_count": 54,
   "id": "bceb92e2",
   "metadata": {},
   "outputs": [],
   "source": [
    "dt=DecisionTreeRegressor()\n",
    "dt.fit(X_train, Y_train)\n",
    "dt_pred=dt.predict(X_test)"
   ]
  },
  {
   "cell_type": "code",
   "execution_count": 55,
   "id": "96d3d450",
   "metadata": {},
   "outputs": [
    {
     "name": "stdout",
     "output_type": "stream",
     "text": [
      "MAE 274.4238505747126\n",
      "mse 120624.86709770115\n",
      "r2 -0.5291019297609572\n"
     ]
    }
   ],
   "source": [
    "dt_mae=mean_absolute_error(Y_test, dt_pred)\n",
    "dt_mse=mean_squared_error(Y_test, dt_pred)\n",
    "dt_r2=r2_score(Y_test, dt_pred)\n",
    "\n",
    "print(\"MAE\", dt_mae)\n",
    "print(\"mse\", dt_mse)\n",
    "print(\"r2\", dt_r2)"
   ]
  },
  {
   "cell_type": "code",
   "execution_count": null,
   "id": "cca2c91f",
   "metadata": {},
   "outputs": [],
   "source": []
  },
  {
   "cell_type": "markdown",
   "id": "d56e8ee6",
   "metadata": {},
   "source": [
    "# Random Forest"
   ]
  },
  {
   "cell_type": "code",
   "execution_count": 56,
   "id": "a60bf8b6",
   "metadata": {},
   "outputs": [],
   "source": [
    "rf=RandomForestRegressor()\n",
    "rf.fit(X_train, Y_train)\n",
    "rf_pred=rf.predict(X_test)"
   ]
  },
  {
   "cell_type": "code",
   "execution_count": 57,
   "id": "5cb253ae",
   "metadata": {},
   "outputs": [
    {
     "name": "stdout",
     "output_type": "stream",
     "text": [
      "MAE 218.68227808565953\n",
      "mse 73872.40049623503\n",
      "r2 0.06355602395503057\n"
     ]
    }
   ],
   "source": [
    "rf_mae=mean_absolute_error(Y_test, rf_pred)\n",
    "rf_mse=mean_squared_error(Y_test, rf_pred)\n",
    "rf_r2=r2_score(Y_test, rf_pred)\n",
    "\n",
    "print(\"MAE\", rf_mae)\n",
    "print(\"mse\", rf_mse)\n",
    "print(\"r2\",rf_r2)"
   ]
  },
  {
   "cell_type": "code",
   "execution_count": null,
   "id": "e5e2cf8d",
   "metadata": {},
   "outputs": [],
   "source": []
  },
  {
   "cell_type": "code",
   "execution_count": null,
   "id": "3f235b08",
   "metadata": {},
   "outputs": [],
   "source": []
  },
  {
   "cell_type": "code",
   "execution_count": null,
   "id": "be6a2d45",
   "metadata": {},
   "outputs": [],
   "source": []
  },
  {
   "cell_type": "code",
   "execution_count": null,
   "id": "075a1e39",
   "metadata": {},
   "outputs": [],
   "source": []
  }
 ],
 "metadata": {
  "kernelspec": {
   "display_name": "Python 3 (ipykernel)",
   "language": "python",
   "name": "python3"
  },
  "language_info": {
   "codemirror_mode": {
    "name": "ipython",
    "version": 3
   },
   "file_extension": ".py",
   "mimetype": "text/x-python",
   "name": "python",
   "nbconvert_exporter": "python",
   "pygments_lexer": "ipython3",
   "version": "3.9.12"
  }
 },
 "nbformat": 4,
 "nbformat_minor": 5
}
