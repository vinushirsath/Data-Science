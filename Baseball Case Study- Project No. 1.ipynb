{
 "cells": [
  {
   "cell_type": "markdown",
   "id": "2c922177",
   "metadata": {},
   "source": [
    "Problem Statement:\n",
    "This dataset utilizes data from 2014 Major League Baseball seasons in order to develop an algorithm that predicts the number of wins for a given team in the 2015 season based on several different indicators of success. There are 16 different features that will be used as the inputs to the machine learning and the output will be a value that represents the number of wins. \n",
    "\n",
    "-- Input features: Runs, At Bats, Hits, Doubles, Triples, Homeruns, Walks, Strikeouts, Stolen Bases, Runs Allowed, Earned Runs, Earned Run Average (ERA), Shutouts, Saves, Complete Games and Errors\n",
    "\n",
    "-- Output: Number of predicted wins (W)\n",
    "    \n",
    "    \n",
    "To understand the columns meaning, follow the link given below to understand the baseball statistics: https://en.wikipedia.org/wiki/Baseball_statistics"
   ]
  },
  {
   "cell_type": "code",
   "execution_count": 3,
   "id": "9e238535",
   "metadata": {},
   "outputs": [],
   "source": [
    "import pandas as pd\n",
    "import numpy as np\n",
    "import matplotlib.pyplot as plt\n",
    "import seaborn as sns\n",
    "from sklearn.preprocessing import StandardScaler \n",
    "from sklearn.linear_model import LinearRegression\n",
    "from sklearn.discriminant_analysis import LinearDiscriminantAnalysis\n",
    "from sklearn import metrics,model_selection\n",
    "from sklearn.tree import DecisionTreeRegressor\n",
    "from sklearn.neighbors import KNeighborsRegressor\n",
    "from sklearn.ensemble import RandomForestRegressor\n",
    "from sklearn.model_selection import train_test_split\n",
    "from statsmodels.stats.outliers_influence import variance_inflation_factor\n",
    "from sklearn.model_selection import train_test_split, GridSearchCV\n",
    "\n",
    "\n",
    "from sklearn.ensemble import RandomForestRegressor\n",
    "\n",
    "from sklearn.metrics import accuracy_score, confusion_matrix, roc_curve, roc_auc_score\n",
    "\n",
    "\n",
    "import warnings\n",
    "warnings.filterwarnings(\"ignore\")"
   ]
  },
  {
   "cell_type": "code",
   "execution_count": 4,
   "id": "40e9e7f5",
   "metadata": {},
   "outputs": [
    {
     "data": {
      "text/html": [
       "<div>\n",
       "<style scoped>\n",
       "    .dataframe tbody tr th:only-of-type {\n",
       "        vertical-align: middle;\n",
       "    }\n",
       "\n",
       "    .dataframe tbody tr th {\n",
       "        vertical-align: top;\n",
       "    }\n",
       "\n",
       "    .dataframe thead th {\n",
       "        text-align: right;\n",
       "    }\n",
       "</style>\n",
       "<table border=\"1\" class=\"dataframe\">\n",
       "  <thead>\n",
       "    <tr style=\"text-align: right;\">\n",
       "      <th></th>\n",
       "      <th>W</th>\n",
       "      <th>R</th>\n",
       "      <th>AB</th>\n",
       "      <th>H</th>\n",
       "      <th>2B</th>\n",
       "      <th>3B</th>\n",
       "      <th>HR</th>\n",
       "      <th>BB</th>\n",
       "      <th>SO</th>\n",
       "      <th>SB</th>\n",
       "      <th>RA</th>\n",
       "      <th>ER</th>\n",
       "      <th>ERA</th>\n",
       "      <th>CG</th>\n",
       "      <th>SHO</th>\n",
       "      <th>SV</th>\n",
       "      <th>E</th>\n",
       "    </tr>\n",
       "  </thead>\n",
       "  <tbody>\n",
       "    <tr>\n",
       "      <th>0</th>\n",
       "      <td>95</td>\n",
       "      <td>724</td>\n",
       "      <td>5575</td>\n",
       "      <td>1497</td>\n",
       "      <td>300</td>\n",
       "      <td>42</td>\n",
       "      <td>139</td>\n",
       "      <td>383</td>\n",
       "      <td>973</td>\n",
       "      <td>104</td>\n",
       "      <td>641</td>\n",
       "      <td>601</td>\n",
       "      <td>3.73</td>\n",
       "      <td>2</td>\n",
       "      <td>8</td>\n",
       "      <td>56</td>\n",
       "      <td>88</td>\n",
       "    </tr>\n",
       "    <tr>\n",
       "      <th>1</th>\n",
       "      <td>83</td>\n",
       "      <td>696</td>\n",
       "      <td>5467</td>\n",
       "      <td>1349</td>\n",
       "      <td>277</td>\n",
       "      <td>44</td>\n",
       "      <td>156</td>\n",
       "      <td>439</td>\n",
       "      <td>1264</td>\n",
       "      <td>70</td>\n",
       "      <td>700</td>\n",
       "      <td>653</td>\n",
       "      <td>4.07</td>\n",
       "      <td>2</td>\n",
       "      <td>12</td>\n",
       "      <td>45</td>\n",
       "      <td>86</td>\n",
       "    </tr>\n",
       "    <tr>\n",
       "      <th>2</th>\n",
       "      <td>81</td>\n",
       "      <td>669</td>\n",
       "      <td>5439</td>\n",
       "      <td>1395</td>\n",
       "      <td>303</td>\n",
       "      <td>29</td>\n",
       "      <td>141</td>\n",
       "      <td>533</td>\n",
       "      <td>1157</td>\n",
       "      <td>86</td>\n",
       "      <td>640</td>\n",
       "      <td>584</td>\n",
       "      <td>3.67</td>\n",
       "      <td>11</td>\n",
       "      <td>10</td>\n",
       "      <td>38</td>\n",
       "      <td>79</td>\n",
       "    </tr>\n",
       "    <tr>\n",
       "      <th>3</th>\n",
       "      <td>76</td>\n",
       "      <td>622</td>\n",
       "      <td>5533</td>\n",
       "      <td>1381</td>\n",
       "      <td>260</td>\n",
       "      <td>27</td>\n",
       "      <td>136</td>\n",
       "      <td>404</td>\n",
       "      <td>1231</td>\n",
       "      <td>68</td>\n",
       "      <td>701</td>\n",
       "      <td>643</td>\n",
       "      <td>3.98</td>\n",
       "      <td>7</td>\n",
       "      <td>9</td>\n",
       "      <td>37</td>\n",
       "      <td>101</td>\n",
       "    </tr>\n",
       "    <tr>\n",
       "      <th>4</th>\n",
       "      <td>74</td>\n",
       "      <td>689</td>\n",
       "      <td>5605</td>\n",
       "      <td>1515</td>\n",
       "      <td>289</td>\n",
       "      <td>49</td>\n",
       "      <td>151</td>\n",
       "      <td>455</td>\n",
       "      <td>1259</td>\n",
       "      <td>83</td>\n",
       "      <td>803</td>\n",
       "      <td>746</td>\n",
       "      <td>4.64</td>\n",
       "      <td>7</td>\n",
       "      <td>12</td>\n",
       "      <td>35</td>\n",
       "      <td>86</td>\n",
       "    </tr>\n",
       "  </tbody>\n",
       "</table>\n",
       "</div>"
      ],
      "text/plain": [
       "    W    R    AB     H   2B  3B   HR   BB    SO   SB   RA   ER   ERA  CG  SHO  \\\n",
       "0  95  724  5575  1497  300  42  139  383   973  104  641  601  3.73   2    8   \n",
       "1  83  696  5467  1349  277  44  156  439  1264   70  700  653  4.07   2   12   \n",
       "2  81  669  5439  1395  303  29  141  533  1157   86  640  584  3.67  11   10   \n",
       "3  76  622  5533  1381  260  27  136  404  1231   68  701  643  3.98   7    9   \n",
       "4  74  689  5605  1515  289  49  151  455  1259   83  803  746  4.64   7   12   \n",
       "\n",
       "   SV    E  \n",
       "0  56   88  \n",
       "1  45   86  \n",
       "2  38   79  \n",
       "3  37  101  \n",
       "4  35   86  "
      ]
     },
     "execution_count": 4,
     "metadata": {},
     "output_type": "execute_result"
    }
   ],
   "source": [
    "#Impoting the dataset\n",
    "df=pd.read_csv(\"https://raw.githubusercontent.com/dsrscientist/Data-Science-ML-Capstone-Projects/master/baseball.csv\")\n",
    "df.head()"
   ]
  },
  {
   "cell_type": "code",
   "execution_count": 5,
   "id": "e7d5fdae",
   "metadata": {},
   "outputs": [
    {
     "name": "stdout",
     "output_type": "stream",
     "text": [
      "<class 'pandas.core.frame.DataFrame'>\n",
      "RangeIndex: 30 entries, 0 to 29\n",
      "Data columns (total 17 columns):\n",
      " #   Column  Non-Null Count  Dtype  \n",
      "---  ------  --------------  -----  \n",
      " 0   W       30 non-null     int64  \n",
      " 1   R       30 non-null     int64  \n",
      " 2   AB      30 non-null     int64  \n",
      " 3   H       30 non-null     int64  \n",
      " 4   2B      30 non-null     int64  \n",
      " 5   3B      30 non-null     int64  \n",
      " 6   HR      30 non-null     int64  \n",
      " 7   BB      30 non-null     int64  \n",
      " 8   SO      30 non-null     int64  \n",
      " 9   SB      30 non-null     int64  \n",
      " 10  RA      30 non-null     int64  \n",
      " 11  ER      30 non-null     int64  \n",
      " 12  ERA     30 non-null     float64\n",
      " 13  CG      30 non-null     int64  \n",
      " 14  SHO     30 non-null     int64  \n",
      " 15  SV      30 non-null     int64  \n",
      " 16  E       30 non-null     int64  \n",
      "dtypes: float64(1), int64(16)\n",
      "memory usage: 4.1 KB\n"
     ]
    }
   ],
   "source": [
    "#Getting info \n",
    "df.info()"
   ]
  },
  {
   "cell_type": "markdown",
   "id": "ec61b496",
   "metadata": {},
   "source": [
    "In this dataset all the data in interger form except ERA which score is in float.\n",
    "By primary analysis it is observed that there is no null values present in dataset."
   ]
  },
  {
   "cell_type": "code",
   "execution_count": 4,
   "id": "7f64ae80",
   "metadata": {},
   "outputs": [
    {
     "data": {
      "text/plain": [
       "W      0\n",
       "R      0\n",
       "AB     0\n",
       "H      0\n",
       "2B     0\n",
       "3B     0\n",
       "HR     0\n",
       "BB     0\n",
       "SO     0\n",
       "SB     0\n",
       "RA     0\n",
       "ER     0\n",
       "ERA    0\n",
       "CG     0\n",
       "SHO    0\n",
       "SV     0\n",
       "E      0\n",
       "dtype: int64"
      ]
     },
     "execution_count": 4,
     "metadata": {},
     "output_type": "execute_result"
    }
   ],
   "source": [
    "#Finding Null Values\n",
    "df.isna().sum()"
   ]
  },
  {
   "cell_type": "markdown",
   "id": "a8336b13",
   "metadata": {},
   "source": [
    "No null values are present in dataset"
   ]
  },
  {
   "cell_type": "code",
   "execution_count": 5,
   "id": "a0515270",
   "metadata": {},
   "outputs": [
    {
     "data": {
      "text/plain": [
       "(30, 17)"
      ]
     },
     "execution_count": 5,
     "metadata": {},
     "output_type": "execute_result"
    }
   ],
   "source": [
    "#Finding the shape\n",
    "df.shape"
   ]
  },
  {
   "cell_type": "markdown",
   "id": "90721d4d",
   "metadata": {},
   "source": [
    "In this dataset there are 30 attributes & 17 columns (16 Features & one label )"
   ]
  },
  {
   "cell_type": "code",
   "execution_count": 6,
   "id": "c16480ca",
   "metadata": {},
   "outputs": [
    {
     "data": {
      "text/plain": [
       "W      24\n",
       "R      28\n",
       "AB     29\n",
       "H      29\n",
       "2B     22\n",
       "3B     23\n",
       "HR     27\n",
       "BB     29\n",
       "SO     29\n",
       "SB     27\n",
       "RA     30\n",
       "ER     30\n",
       "ERA    30\n",
       "CG      9\n",
       "SHO    12\n",
       "SV     20\n",
       "E      21\n",
       "dtype: int64"
      ]
     },
     "execution_count": 6,
     "metadata": {},
     "output_type": "execute_result"
    }
   ],
   "source": [
    "#Checking the unoique values\n",
    "df.nunique()"
   ]
  },
  {
   "cell_type": "code",
   "execution_count": 8,
   "id": "080c960d",
   "metadata": {
    "scrolled": true
   },
   "outputs": [
    {
     "data": {
      "text/plain": [
       "W      0.047089\n",
       "R      1.200786\n",
       "AB     0.183437\n",
       "H      0.670254\n",
       "2B    -0.230650\n",
       "3B     0.129502\n",
       "HR     0.516441\n",
       "BB     0.158498\n",
       "SO    -0.156065\n",
       "SB     0.479893\n",
       "RA     0.045734\n",
       "ER     0.058710\n",
       "ERA    0.053331\n",
       "CG     0.736845\n",
       "SHO    0.565790\n",
       "SV     0.657524\n",
       "E      0.890132\n",
       "dtype: float64"
      ]
     },
     "execution_count": 8,
     "metadata": {},
     "output_type": "execute_result"
    }
   ],
   "source": [
    "df.skew()"
   ]
  },
  {
   "cell_type": "raw",
   "id": "930fe326",
   "metadata": {},
   "source": [
    "- Positive skewness means data is positively skewed (Right skewed), negeative skewness means data is negatively skewed(Left skewed), zero means data is normally destributed.\n",
    "-Both positive & negative skewness observed in dataset."
   ]
  },
  {
   "cell_type": "code",
   "execution_count": 9,
   "id": "480692d5",
   "metadata": {},
   "outputs": [
    {
     "data": {
      "text/plain": [
       "0     False\n",
       "1     False\n",
       "2     False\n",
       "3     False\n",
       "4     False\n",
       "5     False\n",
       "6     False\n",
       "7     False\n",
       "8     False\n",
       "9     False\n",
       "10    False\n",
       "11    False\n",
       "12    False\n",
       "13    False\n",
       "14    False\n",
       "15    False\n",
       "16    False\n",
       "17    False\n",
       "18    False\n",
       "19    False\n",
       "20    False\n",
       "21    False\n",
       "22    False\n",
       "23    False\n",
       "24    False\n",
       "25    False\n",
       "26    False\n",
       "27    False\n",
       "28    False\n",
       "29    False\n",
       "dtype: bool"
      ]
     },
     "execution_count": 9,
     "metadata": {},
     "output_type": "execute_result"
    }
   ],
   "source": [
    "df.duplicated()"
   ]
  },
  {
   "cell_type": "raw",
   "id": "25b684e6",
   "metadata": {},
   "source": [
    "-No duplicate values present in dataset"
   ]
  },
  {
   "cell_type": "code",
   "execution_count": 7,
   "id": "ae40b875",
   "metadata": {},
   "outputs": [
    {
     "data": {
      "text/html": [
       "<div>\n",
       "<style scoped>\n",
       "    .dataframe tbody tr th:only-of-type {\n",
       "        vertical-align: middle;\n",
       "    }\n",
       "\n",
       "    .dataframe tbody tr th {\n",
       "        vertical-align: top;\n",
       "    }\n",
       "\n",
       "    .dataframe thead th {\n",
       "        text-align: right;\n",
       "    }\n",
       "</style>\n",
       "<table border=\"1\" class=\"dataframe\">\n",
       "  <thead>\n",
       "    <tr style=\"text-align: right;\">\n",
       "      <th></th>\n",
       "      <th>W</th>\n",
       "      <th>R</th>\n",
       "      <th>AB</th>\n",
       "      <th>H</th>\n",
       "      <th>2B</th>\n",
       "      <th>3B</th>\n",
       "      <th>HR</th>\n",
       "      <th>BB</th>\n",
       "      <th>SO</th>\n",
       "      <th>SB</th>\n",
       "      <th>RA</th>\n",
       "      <th>ER</th>\n",
       "      <th>ERA</th>\n",
       "      <th>CG</th>\n",
       "      <th>SHO</th>\n",
       "      <th>SV</th>\n",
       "      <th>E</th>\n",
       "    </tr>\n",
       "  </thead>\n",
       "  <tbody>\n",
       "    <tr>\n",
       "      <th>count</th>\n",
       "      <td>30.000000</td>\n",
       "      <td>30.000000</td>\n",
       "      <td>30.000000</td>\n",
       "      <td>30.000000</td>\n",
       "      <td>30.000000</td>\n",
       "      <td>30.000000</td>\n",
       "      <td>30.000000</td>\n",
       "      <td>30.000000</td>\n",
       "      <td>30.00000</td>\n",
       "      <td>30.000000</td>\n",
       "      <td>30.000000</td>\n",
       "      <td>30.000000</td>\n",
       "      <td>30.000000</td>\n",
       "      <td>30.000000</td>\n",
       "      <td>30.000000</td>\n",
       "      <td>30.000000</td>\n",
       "      <td>30.000000</td>\n",
       "    </tr>\n",
       "    <tr>\n",
       "      <th>mean</th>\n",
       "      <td>80.966667</td>\n",
       "      <td>688.233333</td>\n",
       "      <td>5516.266667</td>\n",
       "      <td>1403.533333</td>\n",
       "      <td>274.733333</td>\n",
       "      <td>31.300000</td>\n",
       "      <td>163.633333</td>\n",
       "      <td>469.100000</td>\n",
       "      <td>1248.20000</td>\n",
       "      <td>83.500000</td>\n",
       "      <td>688.233333</td>\n",
       "      <td>635.833333</td>\n",
       "      <td>3.956333</td>\n",
       "      <td>3.466667</td>\n",
       "      <td>11.300000</td>\n",
       "      <td>43.066667</td>\n",
       "      <td>94.333333</td>\n",
       "    </tr>\n",
       "    <tr>\n",
       "      <th>std</th>\n",
       "      <td>10.453455</td>\n",
       "      <td>58.761754</td>\n",
       "      <td>70.467372</td>\n",
       "      <td>57.140923</td>\n",
       "      <td>18.095405</td>\n",
       "      <td>10.452355</td>\n",
       "      <td>31.823309</td>\n",
       "      <td>57.053725</td>\n",
       "      <td>103.75947</td>\n",
       "      <td>22.815225</td>\n",
       "      <td>72.108005</td>\n",
       "      <td>70.140786</td>\n",
       "      <td>0.454089</td>\n",
       "      <td>2.763473</td>\n",
       "      <td>4.120177</td>\n",
       "      <td>7.869335</td>\n",
       "      <td>13.958889</td>\n",
       "    </tr>\n",
       "    <tr>\n",
       "      <th>min</th>\n",
       "      <td>63.000000</td>\n",
       "      <td>573.000000</td>\n",
       "      <td>5385.000000</td>\n",
       "      <td>1324.000000</td>\n",
       "      <td>236.000000</td>\n",
       "      <td>13.000000</td>\n",
       "      <td>100.000000</td>\n",
       "      <td>375.000000</td>\n",
       "      <td>973.00000</td>\n",
       "      <td>44.000000</td>\n",
       "      <td>525.000000</td>\n",
       "      <td>478.000000</td>\n",
       "      <td>2.940000</td>\n",
       "      <td>0.000000</td>\n",
       "      <td>4.000000</td>\n",
       "      <td>28.000000</td>\n",
       "      <td>75.000000</td>\n",
       "    </tr>\n",
       "    <tr>\n",
       "      <th>25%</th>\n",
       "      <td>74.000000</td>\n",
       "      <td>651.250000</td>\n",
       "      <td>5464.000000</td>\n",
       "      <td>1363.000000</td>\n",
       "      <td>262.250000</td>\n",
       "      <td>23.000000</td>\n",
       "      <td>140.250000</td>\n",
       "      <td>428.250000</td>\n",
       "      <td>1157.50000</td>\n",
       "      <td>69.000000</td>\n",
       "      <td>636.250000</td>\n",
       "      <td>587.250000</td>\n",
       "      <td>3.682500</td>\n",
       "      <td>1.000000</td>\n",
       "      <td>9.000000</td>\n",
       "      <td>37.250000</td>\n",
       "      <td>86.000000</td>\n",
       "    </tr>\n",
       "    <tr>\n",
       "      <th>50%</th>\n",
       "      <td>81.000000</td>\n",
       "      <td>689.000000</td>\n",
       "      <td>5510.000000</td>\n",
       "      <td>1382.500000</td>\n",
       "      <td>275.500000</td>\n",
       "      <td>31.000000</td>\n",
       "      <td>158.500000</td>\n",
       "      <td>473.000000</td>\n",
       "      <td>1261.50000</td>\n",
       "      <td>83.500000</td>\n",
       "      <td>695.500000</td>\n",
       "      <td>644.500000</td>\n",
       "      <td>4.025000</td>\n",
       "      <td>3.000000</td>\n",
       "      <td>12.000000</td>\n",
       "      <td>42.000000</td>\n",
       "      <td>91.000000</td>\n",
       "    </tr>\n",
       "    <tr>\n",
       "      <th>75%</th>\n",
       "      <td>87.750000</td>\n",
       "      <td>718.250000</td>\n",
       "      <td>5570.000000</td>\n",
       "      <td>1451.500000</td>\n",
       "      <td>288.750000</td>\n",
       "      <td>39.000000</td>\n",
       "      <td>177.000000</td>\n",
       "      <td>501.250000</td>\n",
       "      <td>1311.50000</td>\n",
       "      <td>96.500000</td>\n",
       "      <td>732.500000</td>\n",
       "      <td>679.250000</td>\n",
       "      <td>4.220000</td>\n",
       "      <td>5.750000</td>\n",
       "      <td>13.000000</td>\n",
       "      <td>46.750000</td>\n",
       "      <td>96.750000</td>\n",
       "    </tr>\n",
       "    <tr>\n",
       "      <th>max</th>\n",
       "      <td>100.000000</td>\n",
       "      <td>891.000000</td>\n",
       "      <td>5649.000000</td>\n",
       "      <td>1515.000000</td>\n",
       "      <td>308.000000</td>\n",
       "      <td>49.000000</td>\n",
       "      <td>232.000000</td>\n",
       "      <td>570.000000</td>\n",
       "      <td>1518.00000</td>\n",
       "      <td>134.000000</td>\n",
       "      <td>844.000000</td>\n",
       "      <td>799.000000</td>\n",
       "      <td>5.040000</td>\n",
       "      <td>11.000000</td>\n",
       "      <td>21.000000</td>\n",
       "      <td>62.000000</td>\n",
       "      <td>126.000000</td>\n",
       "    </tr>\n",
       "  </tbody>\n",
       "</table>\n",
       "</div>"
      ],
      "text/plain": [
       "                W           R           AB            H          2B  \\\n",
       "count   30.000000   30.000000    30.000000    30.000000   30.000000   \n",
       "mean    80.966667  688.233333  5516.266667  1403.533333  274.733333   \n",
       "std     10.453455   58.761754    70.467372    57.140923   18.095405   \n",
       "min     63.000000  573.000000  5385.000000  1324.000000  236.000000   \n",
       "25%     74.000000  651.250000  5464.000000  1363.000000  262.250000   \n",
       "50%     81.000000  689.000000  5510.000000  1382.500000  275.500000   \n",
       "75%     87.750000  718.250000  5570.000000  1451.500000  288.750000   \n",
       "max    100.000000  891.000000  5649.000000  1515.000000  308.000000   \n",
       "\n",
       "              3B          HR          BB          SO          SB          RA  \\\n",
       "count  30.000000   30.000000   30.000000    30.00000   30.000000   30.000000   \n",
       "mean   31.300000  163.633333  469.100000  1248.20000   83.500000  688.233333   \n",
       "std    10.452355   31.823309   57.053725   103.75947   22.815225   72.108005   \n",
       "min    13.000000  100.000000  375.000000   973.00000   44.000000  525.000000   \n",
       "25%    23.000000  140.250000  428.250000  1157.50000   69.000000  636.250000   \n",
       "50%    31.000000  158.500000  473.000000  1261.50000   83.500000  695.500000   \n",
       "75%    39.000000  177.000000  501.250000  1311.50000   96.500000  732.500000   \n",
       "max    49.000000  232.000000  570.000000  1518.00000  134.000000  844.000000   \n",
       "\n",
       "               ER        ERA         CG        SHO         SV           E  \n",
       "count   30.000000  30.000000  30.000000  30.000000  30.000000   30.000000  \n",
       "mean   635.833333   3.956333   3.466667  11.300000  43.066667   94.333333  \n",
       "std     70.140786   0.454089   2.763473   4.120177   7.869335   13.958889  \n",
       "min    478.000000   2.940000   0.000000   4.000000  28.000000   75.000000  \n",
       "25%    587.250000   3.682500   1.000000   9.000000  37.250000   86.000000  \n",
       "50%    644.500000   4.025000   3.000000  12.000000  42.000000   91.000000  \n",
       "75%    679.250000   4.220000   5.750000  13.000000  46.750000   96.750000  \n",
       "max    799.000000   5.040000  11.000000  21.000000  62.000000  126.000000  "
      ]
     },
     "execution_count": 7,
     "metadata": {},
     "output_type": "execute_result"
    }
   ],
   "source": [
    "#Describing the dataset\n",
    "df.describe()"
   ]
  },
  {
   "cell_type": "raw",
   "id": "cc126d31",
   "metadata": {},
   "source": [
    "Observations:-\n",
    "\n",
    "-No missing data is observed.\n",
    "-As per the dataset some outliers observed in Runs where 75% is 718 & max is 891 runs.\n",
    "-In complete games the diffrence between mean & standard deviation is very less. Also some outliers are seen in dataset.\n",
    "-Let us visualize the data in order to get much better information about dataset.\n"
   ]
  },
  {
   "cell_type": "markdown",
   "id": "cbabbbd0",
   "metadata": {},
   "source": [
    "# EDA"
   ]
  },
  {
   "cell_type": "code",
   "execution_count": 8,
   "id": "bfc812ec",
   "metadata": {},
   "outputs": [
    {
     "data": {
      "image/png": "[encoded data removed]",
      "text/plain": [
       "<Figure size 1440x720 with 17 Axes>"
      ]
     },
     "metadata": {
      "needs_background": "light"
     },
     "output_type": "display_data"
    }
   ],
   "source": [
    "plt.figure(figsize=(20,10))\n",
    "plotnumber=1\n",
    "\n",
    "\n",
    "for column in df:\n",
    "    if plotnumber<=17:\n",
    "        ax=plt.subplot(4,5, plotnumber)\n",
    "        sns.distplot(df[column])\n",
    "        plt.xlabel(column,fontsize=20)\n",
    "    plotnumber+=1\n",
    "    \n",
    "plt.tight_layout()"
   ]
  },
  {
   "cell_type": "raw",
   "id": "58018b8a",
   "metadata": {},
   "source": [
    "Observations:-\n",
    "    -In Runs coloumn one outlier is observed i.e 900 due to this data destribution is not showing properly.\n",
    "    -In Complete game (CG) column data destribution is postivetively skewed.\n",
    "    -In error column data destribution is not proper, some outliers are obsered.\n",
    "    -SHO (Shut Out), SV(Save) coloumn some outliers are seen .\n",
    "    -Remaining all columns data destribution is looking normal.\n",
    "    -Lets check outliers using boxplot."
   ]
  },
  {
   "cell_type": "code",
   "execution_count": 9,
   "id": "0f26c5c3",
   "metadata": {},
   "outputs": [],
   "source": [
    "#Lets check outliers in dataset. First remove the label coloumn W from the dataset.\n",
    "df_feature=df.drop(\"W\", axis=1)"
   ]
  },
  {
   "cell_type": "code",
   "execution_count": 10,
   "id": "40ec2962",
   "metadata": {},
   "outputs": [
    {
     "data": {
      "image/png": "[encoded data removed]",
      "text/plain": [
       "<Figure size 1440x1440 with 16 Axes>"
      ]
     },
     "metadata": {
      "needs_background": "light"
     },
     "output_type": "display_data"
    }
   ],
   "source": [
    "#Finding the outliers using boxplot\n",
    "\n",
    "plt.figure(figsize=(20,20))\n",
    "graph=1\n",
    "\n",
    "for column in df_feature:\n",
    "    if graph<=16:\n",
    "        plt.subplot(4,4, graph)\n",
    "        ax=sns.boxplot(data=df_feature[column])\n",
    "        plt.xlabel(column, fontsize=15)\n",
    "\n",
    "    graph+=1\n",
    "\n",
    "plt.show()"
   ]
  },
  {
   "cell_type": "raw",
   "id": "7902fc4c",
   "metadata": {},
   "source": [
    "-From above boxplot it is observed that one outlier observed in R (Runs) column.\n",
    "-In SHO(Shut out) & SV(Save) column outlier observed.\n",
    "-In E (Error) column some outliers are observed.\n",
    "-Remaining features no outliers are seen & found proper data destribution."
   ]
  },
  {
   "cell_type": "code",
   "execution_count": 11,
   "id": "76245281",
   "metadata": {},
   "outputs": [],
   "source": [
    "#Let us remove the outliers\n",
    "#quantile 1\n",
    "q1=df.quantile(0.25)\n",
    "\n",
    "#3rd quantile\n",
    "q3=df.quantile(0.75)\n",
    "\n",
    "#IQR\n",
    "IQR=q3-q1"
   ]
  },
  {
   "cell_type": "code",
   "execution_count": 12,
   "id": "627b4da5",
   "metadata": {},
   "outputs": [],
   "source": [
    "def remove_outlier(df):\n",
    "    sorted(df)\n",
    "    Q1,Q3=np.percentile(df,[25,75])\n",
    "    IQR=Q3-Q1\n",
    "    lower_range= Q1-(1.5 * IQR)\n",
    "    upper_range= Q3+(1.5 * IQR)\n",
    "    return lower_range, upper_range"
   ]
  },
  {
   "cell_type": "code",
   "execution_count": 13,
   "id": "a091e196",
   "metadata": {},
   "outputs": [],
   "source": [
    "for column in df:\n",
    "    lr,ur=remove_outlier(df[column])\n",
    "    df[column]=np.where(df[column]>ur,ur,df[column])\n",
    "    df[column]=np.where(df[column]<lr,lr,df[column])"
   ]
  },
  {
   "cell_type": "code",
   "execution_count": 14,
   "id": "01af6b64",
   "metadata": {},
   "outputs": [
    {
     "data": {
      "image/png": "[encoded data removed]",
      "text/plain": [
       "<Figure size 1440x1440 with 16 Axes>"
      ]
     },
     "metadata": {
      "needs_background": "light"
     },
     "output_type": "display_data"
    }
   ],
   "source": [
    "#Finding the outliers using boxplot\n",
    "\n",
    "plt.figure(figsize=(20,20))\n",
    "graph=1\n",
    "\n",
    "for column in df:\n",
    "    if graph<=16:\n",
    "        plt.subplot(4,4, graph)\n",
    "        ax=sns.boxplot(data=df[column])\n",
    "        plt.xlabel(column, fontsize=15)\n",
    "        \n",
    "    graph+=1\n",
    "    \n",
    "plt.show()"
   ]
  },
  {
   "cell_type": "raw",
   "id": "3c029112",
   "metadata": {},
   "source": [
    "From above we have successfully removed the outliers from the dataset."
   ]
  },
  {
   "cell_type": "code",
   "execution_count": 15,
   "id": "bdcf7e70",
   "metadata": {},
   "outputs": [
    {
     "data": {
      "image/png": "[encoded data removed]",
      "text/plain": [
       "<Figure size 1440x1440 with 16 Axes>"
      ]
     },
     "metadata": {
      "needs_background": "light"
     },
     "output_type": "display_data"
    }
   ],
   "source": [
    "#Finding the outliers using boxplot\n",
    "\n",
    "plt.figure(figsize=(20,20))\n",
    "graph=1\n",
    "\n",
    "for column in df_feature:\n",
    "    if graph<=16:\n",
    "        plt.subplot(4,4, graph)\n",
    "        ax=sns.scatterplot(x=df_feature[column], y=df[\"W\"])\n",
    "        plt.xlabel(column, fontsize=15)\n",
    "        \n",
    "        \n",
    "    graph+=1\n",
    "    \n",
    "plt.show()"
   ]
  },
  {
   "cell_type": "raw",
   "id": "5002c265",
   "metadata": {},
   "source": [
    "- In this dataset it is observed that when RA (Runs Average), ER(Earned Run) & ERA(Earned Run Average) increases the number of predicted wins decreases.\n",
    "-In baseball statistics, run average (RA) refers to measures of the rate at which runs are allowed or scored. For pitchers, the run average is the number of runs—earned or unearned—allowed per nine innings.\n",
    "-an earned run is any run that was fully enabled by the offensive team's production in the face of competent play from the defensive team. Conversely, an unearned run is a run that would not have been scored without the aid of an error or a passed ball committed by the defense.\n",
    "-earned run average (ERA) is the average of earned runs allowed by a pitcher per nine innings pitched (i.e. the traditional length of a game). It is determined by dividing the number of earned runs allowed by the number of innings pitched and multiplying by nine. Thus, a lower ERA is better.\n",
    "\n",
    "- It is also observed when all other remaining features increases the number of predicted wins are also increases. The data is linear.\n",
    "\n",
    "-The Term E (Error) refers to of a fielder misplaying a ball in a manner that allows a batter or baserunner to advance one or more bases or allows a plate appearance to continue after the batter should have been put out. From this as low as error then the chances of predicted win is more.In very rear cases it is observed that the predicted win percentage is high when error is also high. Remaing the lower the Error chances of predicted wins are more.\n",
    "\n",
    "-In SV(Save): More the no. of save more the chance of win.\n",
    "\n",
    "-Same as in SHO, CG, HR, BB, R,SO, when they are increasing then the chances of predicted wins are also increases.\n",
    "\n",
    "-Randomness observed cloumns: E, SB, 3B, 2B,H, AB.\n",
    "\n"
   ]
  },
  {
   "cell_type": "markdown",
   "id": "0ee138c2",
   "metadata": {},
   "source": [
    "# Let us check the correlation between the dataset using Heatmap"
   ]
  },
  {
   "cell_type": "code",
   "execution_count": 118,
   "id": "a90a80de",
   "metadata": {},
   "outputs": [
    {
     "data": {
      "text/plain": [
       "<AxesSubplot:>"
      ]
     },
     "execution_count": 118,
     "metadata": {},
     "output_type": "execute_result"
    },
    {
     "data": {
      "image/png": "[encoded data removed]",
      "text/plain": [
       "<Figure size 1440x1440 with 2 Axes>"
      ]
     },
     "metadata": {
      "needs_background": "light"
     },
     "output_type": "display_data"
    }
   ],
   "source": [
    "plt.figure(figsize=(20,20))\n",
    "sns.heatmap(df.corr(), annot=True)"
   ]
  },
  {
   "cell_type": "raw",
   "id": "5a5e5703",
   "metadata": {},
   "source": [
    "-H (hits allowed (HA) signifies the total number of hits allowed by a pitcher) & AB ( at bat (AB) or time at bat is a batter's turn batting against a pitcher) having 74% correlationship\n",
    "\n",
    "-SV(Save) & Predicted wins (W) are having good relationship :67%\n",
    "\n",
    "-HR (Total home run allowed) & R (Runs) highest 67% correlation.\n",
    "\n",
    "-ERA, RA, ER are having higher correlation around 99% & 100% hence it is better to remove two columns from dataset before training in order to avoid overfitting."
   ]
  },
  {
   "cell_type": "markdown",
   "id": "4596379d",
   "metadata": {},
   "source": [
    "Let us check the relationship between highest correlation H & AB with the help of scatterplot"
   ]
  },
  {
   "cell_type": "code",
   "execution_count": 238,
   "id": "1f22b41c",
   "metadata": {},
   "outputs": [
    {
     "data": {
      "image/png": "[encoded data removed]",
      "text/plain": [
       "<Figure size 432x288 with 1 Axes>"
      ]
     },
     "metadata": {
      "needs_background": "light"
     },
     "output_type": "display_data"
    }
   ],
   "source": [
    "sns.scatterplot(x=df[\"AB\"], y=df[\"H\"])\n",
    "plt.ylabel(\"Total No. of Hit Allowed\")\n",
    "plt.xlabel(\"At Bat\")\n",
    "plt.title(\"Relationship between AB Vs H\")\n",
    "plt.show()"
   ]
  },
  {
   "cell_type": "raw",
   "id": "13f25095",
   "metadata": {},
   "source": [
    "-It is observd that there is positive relationship ,between both the fetures. \n",
    "-When at bats (Batters turn at bat against pitcher) increases then the \"H\" total no. of hit allowed is also increases."
   ]
  },
  {
   "cell_type": "code",
   "execution_count": 239,
   "id": "568c01c1",
   "metadata": {},
   "outputs": [
    {
     "data": {
      "image/png": "[encoded data removed]",
      "text/plain": [
       "<Figure size 432x288 with 1 Axes>"
      ]
     },
     "metadata": {
      "needs_background": "light"
     },
     "output_type": "display_data"
    }
   ],
   "source": [
    "sns.scatterplot(x=df[\"SV\"], y=df[\"W\"])\n",
    "plt.xlabel(\"Save\")\n",
    "plt.ylabel(\"No. of Predicted wins\")\n",
    "plt.title(\"Save Vs No. of Predicted wins\")\n",
    "plt.show()"
   ]
  },
  {
   "cell_type": "raw",
   "id": "d2c6a87e",
   "metadata": {},
   "source": [
    "-Good correlation observed in both. When save increases then the chance of no. of predicted wins also increases."
   ]
  },
  {
   "cell_type": "code",
   "execution_count": 240,
   "id": "0ee778ef",
   "metadata": {},
   "outputs": [
    {
     "data": {
      "image/png": "[encoded data removed]",
      "text/plain": [
       "<Figure size 432x288 with 1 Axes>"
      ]
     },
     "metadata": {
      "needs_background": "light"
     },
     "output_type": "display_data"
    }
   ],
   "source": [
    "sns.scatterplot(x=df[\"HR\"], y=df[\"R\"])\n",
    "plt.xlabel(\"Total Home Runs\")\n",
    "plt.ylabel(\"Runs\")\n",
    "plt.title(\"Total Home Runs Vs Runs\")\n",
    "plt.show()"
   ]
  },
  {
   "cell_type": "raw",
   "id": "f3764e6e",
   "metadata": {},
   "source": [
    "-In HR & R there is also very good linear correlationship observed."
   ]
  },
  {
   "cell_type": "code",
   "execution_count": null,
   "id": "b64f9505",
   "metadata": {},
   "outputs": [],
   "source": []
  },
  {
   "cell_type": "markdown",
   "id": "615ce653",
   "metadata": {},
   "source": [
    "# Scaling of dataset using Standard Scalar"
   ]
  },
  {
   "cell_type": "code",
   "execution_count": 11,
   "id": "c9b26ee7",
   "metadata": {},
   "outputs": [],
   "source": [
    "x=df.drop(columns=[\"W\", \"RA\", \"ER\"], axis=1)\n",
    "y=df[\"W\"]"
   ]
  },
  {
   "cell_type": "raw",
   "id": "787adbac",
   "metadata": {},
   "source": [
    "- We have dropped RA & ER column from dataset before scaling due highest correlation around 99% which will impact on model training"
   ]
  },
  {
   "cell_type": "code",
   "execution_count": 12,
   "id": "a0afb392",
   "metadata": {},
   "outputs": [],
   "source": [
    "#Scaling of dataset\n",
    "scalar=StandardScaler()\n",
    "x_scaled=scalar.fit_transform(x)"
   ]
  },
  {
   "cell_type": "code",
   "execution_count": 13,
   "id": "9bac0876",
   "metadata": {},
   "outputs": [
    {
     "data": {
      "text/html": [
       "<div>\n",
       "<style scoped>\n",
       "    .dataframe tbody tr th:only-of-type {\n",
       "        vertical-align: middle;\n",
       "    }\n",
       "\n",
       "    .dataframe tbody tr th {\n",
       "        vertical-align: top;\n",
       "    }\n",
       "\n",
       "    .dataframe thead th {\n",
       "        text-align: right;\n",
       "    }\n",
       "</style>\n",
       "<table border=\"1\" class=\"dataframe\">\n",
       "  <thead>\n",
       "    <tr style=\"text-align: right;\">\n",
       "      <th></th>\n",
       "      <th>vif</th>\n",
       "      <th>features</th>\n",
       "    </tr>\n",
       "  </thead>\n",
       "  <tbody>\n",
       "    <tr>\n",
       "      <th>0</th>\n",
       "      <td>10.987898</td>\n",
       "      <td>R</td>\n",
       "    </tr>\n",
       "    <tr>\n",
       "      <th>1</th>\n",
       "      <td>4.399954</td>\n",
       "      <td>AB</td>\n",
       "    </tr>\n",
       "    <tr>\n",
       "      <th>2</th>\n",
       "      <td>8.941874</td>\n",
       "      <td>H</td>\n",
       "    </tr>\n",
       "    <tr>\n",
       "      <th>3</th>\n",
       "      <td>3.729413</td>\n",
       "      <td>2B</td>\n",
       "    </tr>\n",
       "    <tr>\n",
       "      <th>4</th>\n",
       "      <td>3.142717</td>\n",
       "      <td>3B</td>\n",
       "    </tr>\n",
       "    <tr>\n",
       "      <th>5</th>\n",
       "      <td>7.882841</td>\n",
       "      <td>HR</td>\n",
       "    </tr>\n",
       "    <tr>\n",
       "      <th>6</th>\n",
       "      <td>3.468244</td>\n",
       "      <td>BB</td>\n",
       "    </tr>\n",
       "    <tr>\n",
       "      <th>7</th>\n",
       "      <td>2.155496</td>\n",
       "      <td>SO</td>\n",
       "    </tr>\n",
       "    <tr>\n",
       "      <th>8</th>\n",
       "      <td>1.819823</td>\n",
       "      <td>SB</td>\n",
       "    </tr>\n",
       "    <tr>\n",
       "      <th>9</th>\n",
       "      <td>4.951981</td>\n",
       "      <td>ERA</td>\n",
       "    </tr>\n",
       "    <tr>\n",
       "      <th>10</th>\n",
       "      <td>2.723370</td>\n",
       "      <td>CG</td>\n",
       "    </tr>\n",
       "    <tr>\n",
       "      <th>11</th>\n",
       "      <td>3.227759</td>\n",
       "      <td>SHO</td>\n",
       "    </tr>\n",
       "    <tr>\n",
       "      <th>12</th>\n",
       "      <td>2.948133</td>\n",
       "      <td>SV</td>\n",
       "    </tr>\n",
       "    <tr>\n",
       "      <th>13</th>\n",
       "      <td>2.040676</td>\n",
       "      <td>E</td>\n",
       "    </tr>\n",
       "  </tbody>\n",
       "</table>\n",
       "</div>"
      ],
      "text/plain": [
       "          vif features\n",
       "0   10.987898        R\n",
       "1    4.399954       AB\n",
       "2    8.941874        H\n",
       "3    3.729413       2B\n",
       "4    3.142717       3B\n",
       "5    7.882841       HR\n",
       "6    3.468244       BB\n",
       "7    2.155496       SO\n",
       "8    1.819823       SB\n",
       "9    4.951981      ERA\n",
       "10   2.723370       CG\n",
       "11   3.227759      SHO\n",
       "12   2.948133       SV\n",
       "13   2.040676        E"
      ]
     },
     "execution_count": 13,
     "metadata": {},
     "output_type": "execute_result"
    }
   ],
   "source": [
    "#Finding Variance inflation factor to check multicolinearity\n",
    "\n",
    "vif=pd.DataFrame()\n",
    "vif[\"vif\"]=[variance_inflation_factor(x_scaled, i) for i in range(x_scaled.shape[1])]\n",
    "vif[\"features\"]=x.columns\n",
    "\n",
    "vif\n"
   ]
  },
  {
   "cell_type": "raw",
   "id": "9e7b8f61",
   "metadata": {},
   "source": [
    "-Heat allowed H , Home Runs HR & Runs R having highest multicolinearity"
   ]
  },
  {
   "cell_type": "code",
   "execution_count": 124,
   "id": "bf9b7a15",
   "metadata": {},
   "outputs": [
    {
     "data": {
      "text/plain": [
       "(30, 14)"
      ]
     },
     "execution_count": 124,
     "metadata": {},
     "output_type": "execute_result"
    }
   ],
   "source": [
    "#Finding the shape of X\n",
    "x_scaled.shape"
   ]
  },
  {
   "cell_type": "markdown",
   "id": "f2f7d49d",
   "metadata": {},
   "source": [
    "# Train Test Split"
   ]
  },
  {
   "cell_type": "code",
   "execution_count": 125,
   "id": "41f06301",
   "metadata": {},
   "outputs": [],
   "source": [
    "x_train, x_test, y_train, y_test= train_test_split(x_scaled,y, test_size=0.25, random_state=1)"
   ]
  },
  {
   "cell_type": "markdown",
   "id": "c033c3cf",
   "metadata": {},
   "source": [
    "# Model Initialisation"
   ]
  },
  {
   "cell_type": "markdown",
   "id": "a378e66d",
   "metadata": {},
   "source": [
    "# Using Linear Regression"
   ]
  },
  {
   "cell_type": "code",
   "execution_count": 126,
   "id": "eb5912de",
   "metadata": {},
   "outputs": [
    {
     "data": {
      "text/plain": [
       "LinearRegression()"
      ]
     },
     "execution_count": 126,
     "metadata": {},
     "output_type": "execute_result"
    }
   ],
   "source": [
    "#Initiate with linear regression model\n",
    "\n",
    "lr= LinearRegression()\n",
    "lr.fit(x_train, y_train)"
   ]
  },
  {
   "cell_type": "code",
   "execution_count": 127,
   "id": "684ce73e",
   "metadata": {},
   "outputs": [
    {
     "data": {
      "text/plain": [
       "0.9683424477815185"
      ]
     },
     "execution_count": 127,
     "metadata": {},
     "output_type": "execute_result"
    }
   ],
   "source": [
    "#Checking training score\n",
    "\n",
    "lr.score(x_train, y_train)"
   ]
  },
  {
   "cell_type": "raw",
   "id": "04581cf1",
   "metadata": {},
   "source": [
    "-We got training score :96%."
   ]
  },
  {
   "cell_type": "code",
   "execution_count": 128,
   "id": "4d159415",
   "metadata": {},
   "outputs": [
    {
     "data": {
      "text/plain": [
       "0.5824658071886717"
      ]
     },
     "execution_count": 128,
     "metadata": {},
     "output_type": "execute_result"
    }
   ],
   "source": [
    "#Checking testing score\n",
    "\n",
    "lr.score(x_test, y_test)"
   ]
  },
  {
   "cell_type": "raw",
   "id": "44c14975",
   "metadata": {},
   "source": [
    "-Testing score is 58%"
   ]
  },
  {
   "cell_type": "code",
   "execution_count": 129,
   "id": "d2a5ee62",
   "metadata": {},
   "outputs": [
    {
     "data": {
      "text/plain": [
       "array([97.40548748, 88.56558757, 88.63452673, 61.94659853, 83.93185902,\n",
       "       85.98853485, 91.43673612, 78.66009317])"
      ]
     },
     "execution_count": 129,
     "metadata": {},
     "output_type": "execute_result"
    }
   ],
   "source": [
    "\n",
    "y_pred=lr.predict(x_test)\n",
    "y_pred"
   ]
  },
  {
   "cell_type": "code",
   "execution_count": 130,
   "id": "54f461e2",
   "metadata": {},
   "outputs": [
    {
     "data": {
      "text/plain": [
       "array([60.47908055, 72.6332563 , 65.26104747, 71.44055275, 83.17863634,\n",
       "       92.0282368 , 86.82938642, 71.40053411, 76.4220361 , 80.70172773,\n",
       "       79.47769744, 82.63264666, 96.53872211, 93.50166242, 98.9905124 ,\n",
       "       68.00341609, 72.70522397, 82.494303  , 82.54639742, 84.90264042,\n",
       "       85.50885539, 91.32342811])"
      ]
     },
     "execution_count": 130,
     "metadata": {},
     "output_type": "execute_result"
    }
   ],
   "source": [
    "pred_train=lr.predict(x_train)\n",
    "pred_train"
   ]
  },
  {
   "cell_type": "code",
   "execution_count": 131,
   "id": "6c4f2111",
   "metadata": {},
   "outputs": [
    {
     "data": {
      "image/png": "[encoded data removed]",
      "text/plain": [
       "<Figure size 432x288 with 1 Axes>"
      ]
     },
     "metadata": {
      "needs_background": "light"
     },
     "output_type": "display_data"
    }
   ],
   "source": [
    "#Plotting the graph of Acutal score Vs Predicted score\n",
    "\n",
    "plt.scatter(y_test, y_pred)\n",
    "plt.xlabel(\"Actual\")\n",
    "plt.ylabel(\"Predicted\")\n",
    "plt.title(\"Score\")\n",
    "plt.show()"
   ]
  },
  {
   "cell_type": "markdown",
   "id": "66a12d22",
   "metadata": {},
   "source": [
    "# Model Evaluation"
   ]
  },
  {
   "cell_type": "code",
   "execution_count": 132,
   "id": "7c60d2c2",
   "metadata": {},
   "outputs": [],
   "source": [
    "from sklearn.metrics import mean_squared_error, mean_absolute_error, r2_score"
   ]
  },
  {
   "cell_type": "code",
   "execution_count": 133,
   "id": "b45f1c23",
   "metadata": {},
   "outputs": [
    {
     "data": {
      "text/plain": [
       "array([97.40548748, 88.56558757, 88.63452673, 61.94659853, 83.93185902,\n",
       "       85.98853485, 91.43673612, 78.66009317])"
      ]
     },
     "execution_count": 133,
     "metadata": {},
     "output_type": "execute_result"
    }
   ],
   "source": [
    "y_pred= lr.predict(x_test)\n",
    "y_pred"
   ]
  },
  {
   "cell_type": "code",
   "execution_count": 134,
   "id": "55426ae0",
   "metadata": {},
   "outputs": [
    {
     "data": {
      "text/plain": [
       "4.837394587810076"
      ]
     },
     "execution_count": 134,
     "metadata": {},
     "output_type": "execute_result"
    }
   ],
   "source": [
    "#Mean square error\n",
    "mean_absolute_error(y_test, y_pred)"
   ]
  },
  {
   "cell_type": "code",
   "execution_count": 135,
   "id": "9f48788f",
   "metadata": {},
   "outputs": [
    {
     "data": {
      "text/plain": [
       "4.837394587810076"
      ]
     },
     "execution_count": 135,
     "metadata": {},
     "output_type": "execute_result"
    }
   ],
   "source": [
    "#MSE\n",
    "mean_absolute_error(y_test, y_pred)"
   ]
  },
  {
   "cell_type": "code",
   "execution_count": 136,
   "id": "61ae5a4d",
   "metadata": {},
   "outputs": [
    {
     "data": {
      "text/plain": [
       "6.782849612839594"
      ]
     },
     "execution_count": 136,
     "metadata": {},
     "output_type": "execute_result"
    }
   ],
   "source": [
    "#RMSE\n",
    "np.sqrt(mean_squared_error(y_test, y_pred))"
   ]
  },
  {
   "cell_type": "code",
   "execution_count": 137,
   "id": "74fa6f4b",
   "metadata": {},
   "outputs": [
    {
     "data": {
      "text/plain": [
       "0.5824658071886717"
      ]
     },
     "execution_count": 137,
     "metadata": {},
     "output_type": "execute_result"
    }
   ],
   "source": [
    "r2_score(y_test, y_pred)"
   ]
  },
  {
   "cell_type": "raw",
   "id": "4e56284b",
   "metadata": {},
   "source": [
    "R2 score is 58% which is similar to the testing score"
   ]
  },
  {
   "cell_type": "markdown",
   "id": "fe3a48d9",
   "metadata": {},
   "source": [
    "# Cross Validation"
   ]
  },
  {
   "cell_type": "code",
   "execution_count": 181,
   "id": "e0f488ad",
   "metadata": {},
   "outputs": [
    {
     "data": {
      "text/plain": [
       "array([0.49872787, 0.47756031, 0.83866218, 0.78077689])"
      ]
     },
     "execution_count": 181,
     "metadata": {},
     "output_type": "execute_result"
    }
   ],
   "source": [
    "cv_score=cross_val_score(lr, x_scaled, y, cv=4)\n",
    "cv_score"
   ]
  },
  {
   "cell_type": "code",
   "execution_count": 182,
   "id": "f897b21c",
   "metadata": {},
   "outputs": [
    {
     "data": {
      "text/plain": [
       "0.6489318120521198"
      ]
     },
     "execution_count": 182,
     "metadata": {},
     "output_type": "execute_result"
    }
   ],
   "source": [
    "cv_score.mean()"
   ]
  },
  {
   "cell_type": "raw",
   "id": "51301411",
   "metadata": {},
   "source": [
    "-In Linear regression model we got very good CV score 64%"
   ]
  },
  {
   "cell_type": "markdown",
   "id": "be44729e",
   "metadata": {},
   "source": [
    "# Lets predict the Baseball model No. of predicted wins using Linear regression"
   ]
  },
  {
   "cell_type": "code",
   "execution_count": 183,
   "id": "cbaa8922",
   "metadata": {},
   "outputs": [
    {
     "data": {
      "text/html": [
       "<div>\n",
       "<style scoped>\n",
       "    .dataframe tbody tr th:only-of-type {\n",
       "        vertical-align: middle;\n",
       "    }\n",
       "\n",
       "    .dataframe tbody tr th {\n",
       "        vertical-align: top;\n",
       "    }\n",
       "\n",
       "    .dataframe thead th {\n",
       "        text-align: right;\n",
       "    }\n",
       "</style>\n",
       "<table border=\"1\" class=\"dataframe\">\n",
       "  <thead>\n",
       "    <tr style=\"text-align: right;\">\n",
       "      <th></th>\n",
       "      <th>R</th>\n",
       "      <th>AB</th>\n",
       "      <th>H</th>\n",
       "      <th>2B</th>\n",
       "      <th>3B</th>\n",
       "      <th>HR</th>\n",
       "      <th>BB</th>\n",
       "      <th>SO</th>\n",
       "      <th>SB</th>\n",
       "      <th>ERA</th>\n",
       "      <th>CG</th>\n",
       "      <th>SHO</th>\n",
       "      <th>SV</th>\n",
       "      <th>E</th>\n",
       "    </tr>\n",
       "  </thead>\n",
       "  <tbody>\n",
       "    <tr>\n",
       "      <th>25</th>\n",
       "      <td>667.0</td>\n",
       "      <td>5385.0</td>\n",
       "      <td>1346.0</td>\n",
       "      <td>263.0</td>\n",
       "      <td>26.0</td>\n",
       "      <td>187.0</td>\n",
       "      <td>563.0</td>\n",
       "      <td>1258.0</td>\n",
       "      <td>59.0</td>\n",
       "      <td>3.44000</td>\n",
       "      <td>6.0</td>\n",
       "      <td>19.0</td>\n",
       "      <td>47.0</td>\n",
       "      <td>75.0</td>\n",
       "    </tr>\n",
       "    <tr>\n",
       "      <th>26</th>\n",
       "      <td>696.0</td>\n",
       "      <td>5565.0</td>\n",
       "      <td>1486.0</td>\n",
       "      <td>288.0</td>\n",
       "      <td>39.0</td>\n",
       "      <td>136.0</td>\n",
       "      <td>457.0</td>\n",
       "      <td>1159.0</td>\n",
       "      <td>93.0</td>\n",
       "      <td>3.72000</td>\n",
       "      <td>7.0</td>\n",
       "      <td>18.0</td>\n",
       "      <td>41.0</td>\n",
       "      <td>78.0</td>\n",
       "    </tr>\n",
       "    <tr>\n",
       "      <th>27</th>\n",
       "      <td>720.0</td>\n",
       "      <td>5649.0</td>\n",
       "      <td>1494.0</td>\n",
       "      <td>289.0</td>\n",
       "      <td>48.0</td>\n",
       "      <td>154.0</td>\n",
       "      <td>490.0</td>\n",
       "      <td>1312.0</td>\n",
       "      <td>132.0</td>\n",
       "      <td>4.04000</td>\n",
       "      <td>1.0</td>\n",
       "      <td>12.0</td>\n",
       "      <td>44.0</td>\n",
       "      <td>86.0</td>\n",
       "    </tr>\n",
       "    <tr>\n",
       "      <th>28</th>\n",
       "      <td>650.0</td>\n",
       "      <td>5457.0</td>\n",
       "      <td>1324.0</td>\n",
       "      <td>260.0</td>\n",
       "      <td>36.0</td>\n",
       "      <td>148.0</td>\n",
       "      <td>426.0</td>\n",
       "      <td>1327.0</td>\n",
       "      <td>82.0</td>\n",
       "      <td>4.09000</td>\n",
       "      <td>1.0</td>\n",
       "      <td>6.0</td>\n",
       "      <td>41.0</td>\n",
       "      <td>92.0</td>\n",
       "    </tr>\n",
       "    <tr>\n",
       "      <th>29</th>\n",
       "      <td>737.0</td>\n",
       "      <td>5572.0</td>\n",
       "      <td>1479.0</td>\n",
       "      <td>274.0</td>\n",
       "      <td>49.0</td>\n",
       "      <td>186.0</td>\n",
       "      <td>388.0</td>\n",
       "      <td>1283.0</td>\n",
       "      <td>97.0</td>\n",
       "      <td>5.02625</td>\n",
       "      <td>4.0</td>\n",
       "      <td>4.0</td>\n",
       "      <td>36.0</td>\n",
       "      <td>95.0</td>\n",
       "    </tr>\n",
       "  </tbody>\n",
       "</table>\n",
       "</div>"
      ],
      "text/plain": [
       "        R      AB       H     2B    3B     HR     BB      SO     SB      ERA  \\\n",
       "25  667.0  5385.0  1346.0  263.0  26.0  187.0  563.0  1258.0   59.0  3.44000   \n",
       "26  696.0  5565.0  1486.0  288.0  39.0  136.0  457.0  1159.0   93.0  3.72000   \n",
       "27  720.0  5649.0  1494.0  289.0  48.0  154.0  490.0  1312.0  132.0  4.04000   \n",
       "28  650.0  5457.0  1324.0  260.0  36.0  148.0  426.0  1327.0   82.0  4.09000   \n",
       "29  737.0  5572.0  1479.0  274.0  49.0  186.0  388.0  1283.0   97.0  5.02625   \n",
       "\n",
       "     CG   SHO    SV     E  \n",
       "25  6.0  19.0  47.0  75.0  \n",
       "26  7.0  18.0  41.0  78.0  \n",
       "27  1.0  12.0  44.0  86.0  \n",
       "28  1.0   6.0  41.0  92.0  \n",
       "29  4.0   4.0  36.0  95.0  "
      ]
     },
     "execution_count": 183,
     "metadata": {},
     "output_type": "execute_result"
    }
   ],
   "source": [
    "x.tail()"
   ]
  },
  {
   "cell_type": "code",
   "execution_count": 184,
   "id": "5ca7b0aa",
   "metadata": {},
   "outputs": [
    {
     "data": {
      "text/plain": [
       "25    92.0\n",
       "26    84.0\n",
       "27    79.0\n",
       "28    74.0\n",
       "29    68.0\n",
       "Name: W, dtype: float64"
      ]
     },
     "execution_count": 184,
     "metadata": {},
     "output_type": "execute_result"
    }
   ],
   "source": [
    "y.tail()"
   ]
  },
  {
   "cell_type": "code",
   "execution_count": 185,
   "id": "34e976e0",
   "metadata": {},
   "outputs": [
    {
     "name": "stdout",
     "output_type": "stream",
     "text": [
      "No. of predicted wins  [92.0282368]\n",
      "No. of predicted wins  [91.43673612]\n"
     ]
    }
   ],
   "source": [
    "print(\"No. of predicted wins \", lr.predict(scalar.transform([[667.0,5385.0,1346.0,263.0,26.0,187.0,563.0,1258.0,59.0,3.44000,6.0,19.0,47.0,75.0]])))\n",
    "\n",
    "print(\"No. of predicted wins \", lr.predict(scalar.transform([[696.0,5565.0,1486.0,288.0,39.0,136.0,457.0,1159.0,93.0,3.72000,7.0,18.0,41.0,78.0]])))"
   ]
  },
  {
   "cell_type": "raw",
   "id": "00579a5d",
   "metadata": {},
   "source": [
    "-We got almost eqaul predicted win score. "
   ]
  },
  {
   "cell_type": "markdown",
   "id": "17cd4bcd",
   "metadata": {},
   "source": [
    "# Save the model & use it for prediction using Linear Regression"
   ]
  },
  {
   "cell_type": "code",
   "execution_count": 186,
   "id": "d47b4734",
   "metadata": {},
   "outputs": [],
   "source": [
    "#Saving the model in local file system \n",
    "import pickle\n",
    "\n",
    "pickle.dump(lr, open(\"reg_model\", \"wb\"))"
   ]
  },
  {
   "cell_type": "code",
   "execution_count": 187,
   "id": "0cd0f339",
   "metadata": {},
   "outputs": [
    {
     "data": {
      "text/plain": [
       "array([68.00341609])"
      ]
     },
     "execution_count": 187,
     "metadata": {},
     "output_type": "execute_result"
    }
   ],
   "source": [
    "#Prediction using the saved model\n",
    "loaded_model=pickle.load(open(\"reg_model\", \"rb\"))\n",
    "\n",
    "a=loaded_model.predict(scalar.transform([[737.0,5572.0,1479.0,274.0,49.0,186.0,388.0,1283.0,97.0,5.02625,4.0,4.0,36.0,95.0]]))\n",
    "a"
   ]
  },
  {
   "cell_type": "raw",
   "id": "465f7994",
   "metadata": {},
   "source": [
    "-From this we have successfully saved the model & further we can use it for prediction purpose also"
   ]
  },
  {
   "cell_type": "markdown",
   "id": "7c04d16d",
   "metadata": {},
   "source": [
    "# Using Random Forest"
   ]
  },
  {
   "cell_type": "code",
   "execution_count": 188,
   "id": "725d4f19",
   "metadata": {},
   "outputs": [
    {
     "data": {
      "text/plain": [
       "RandomForestRegressor()"
      ]
     },
     "execution_count": 188,
     "metadata": {},
     "output_type": "execute_result"
    }
   ],
   "source": [
    "rf= RandomForestRegressor()\n",
    "rf.fit(x_train, y_train)"
   ]
  },
  {
   "cell_type": "code",
   "execution_count": 189,
   "id": "259b900b",
   "metadata": {},
   "outputs": [
    {
     "data": {
      "text/plain": [
       "0.9410649729322278"
      ]
     },
     "execution_count": 189,
     "metadata": {},
     "output_type": "execute_result"
    }
   ],
   "source": [
    "#Checking training score\n",
    "\n",
    "rf.score(x_train, y_train)"
   ]
  },
  {
   "cell_type": "code",
   "execution_count": 190,
   "id": "75b8d5c1",
   "metadata": {},
   "outputs": [
    {
     "data": {
      "text/plain": [
       "0.4839334814344656"
      ]
     },
     "execution_count": 190,
     "metadata": {},
     "output_type": "execute_result"
    }
   ],
   "source": [
    "#Checking testing score\n",
    "\n",
    "rf.score(x_test, y_test)"
   ]
  },
  {
   "cell_type": "code",
   "execution_count": 191,
   "id": "0b24a37d",
   "metadata": {},
   "outputs": [
    {
     "data": {
      "text/plain": [
       "array([75.03, 71.36, 77.93, 76.89, 71.8 , 81.01, 71.75, 80.34])"
      ]
     },
     "execution_count": 191,
     "metadata": {},
     "output_type": "execute_result"
    }
   ],
   "source": [
    "\n",
    "y_pred=rf.predict(x_test)\n",
    "y_pred"
   ]
  },
  {
   "cell_type": "code",
   "execution_count": 192,
   "id": "f2cafcba",
   "metadata": {},
   "outputs": [
    {
     "data": {
      "image/png": "[encoded data removed]",
      "text/plain": [
       "<Figure size 432x288 with 1 Axes>"
      ]
     },
     "metadata": {
      "needs_background": "light"
     },
     "output_type": "display_data"
    }
   ],
   "source": [
    "#Plotting the graph of Acutal score Vs Predicted score\n",
    "\n",
    "plt.scatter(y_test, y_pred)\n",
    "plt.xlabel(\"Actual\")\n",
    "plt.ylabel(\"Predicted\")\n",
    "plt.title(\"Score\")\n",
    "plt.show()"
   ]
  },
  {
   "cell_type": "code",
   "execution_count": 193,
   "id": "0babdecb",
   "metadata": {},
   "outputs": [
    {
     "data": {
      "text/plain": [
       "array([75.03, 71.36, 77.93, 76.89, 71.8 , 81.01, 71.75, 80.34])"
      ]
     },
     "execution_count": 193,
     "metadata": {},
     "output_type": "execute_result"
    }
   ],
   "source": [
    "y_pred= rf.predict(x_test)\n",
    "y_pred"
   ]
  },
  {
   "cell_type": "code",
   "execution_count": 194,
   "id": "7ed107ef",
   "metadata": {},
   "outputs": [
    {
     "data": {
      "text/plain": [
       "4.083749999999998"
      ]
     },
     "execution_count": 194,
     "metadata": {},
     "output_type": "execute_result"
    }
   ],
   "source": [
    "#Mean square error\n",
    "mean_absolute_error(y_test, y_pred)"
   ]
  },
  {
   "cell_type": "code",
   "execution_count": 195,
   "id": "1756cfef",
   "metadata": {},
   "outputs": [
    {
     "data": {
      "text/plain": [
       "4.083749999999998"
      ]
     },
     "execution_count": 195,
     "metadata": {},
     "output_type": "execute_result"
    }
   ],
   "source": [
    "#MSE\n",
    "mean_absolute_error(y_test, y_pred)"
   ]
  },
  {
   "cell_type": "code",
   "execution_count": 198,
   "id": "176b2988",
   "metadata": {},
   "outputs": [
    {
     "data": {
      "text/plain": [
       "5.04065595929736"
      ]
     },
     "execution_count": 198,
     "metadata": {},
     "output_type": "execute_result"
    }
   ],
   "source": [
    "#RMSE\n",
    "np.sqrt(mean_squared_error(y_test, y_pred))"
   ]
  },
  {
   "cell_type": "code",
   "execution_count": 199,
   "id": "4b2f20c6",
   "metadata": {},
   "outputs": [
    {
     "data": {
      "text/plain": [
       "0.4839334814344656"
      ]
     },
     "execution_count": 199,
     "metadata": {},
     "output_type": "execute_result"
    }
   ],
   "source": [
    "r2_score(y_test, y_pred)"
   ]
  },
  {
   "cell_type": "raw",
   "id": "28cff077",
   "metadata": {},
   "source": [
    "-Got r2 score 48%"
   ]
  },
  {
   "cell_type": "code",
   "execution_count": 200,
   "id": "06caf3da",
   "metadata": {},
   "outputs": [],
   "source": [
    "#Saving the model in local file system \n",
    "import pickle\n",
    "\n",
    "pickle.dump(rf, open(\"reg_model1\", \"wb\"))"
   ]
  },
  {
   "cell_type": "code",
   "execution_count": 201,
   "id": "b19a0c02",
   "metadata": {},
   "outputs": [
    {
     "data": {
      "text/plain": [
       "array([71.8])"
      ]
     },
     "execution_count": 201,
     "metadata": {},
     "output_type": "execute_result"
    }
   ],
   "source": [
    "#Prediction using the saved model\n",
    "loaded_model=pickle.load(open(\"reg_model1\", \"rb\"))\n",
    "\n",
    "a=loaded_model.predict(scalar.transform([[737.0,5572.0,1479.0,274.0,49.0,186.0,388.0,1283.0,97.0,5.02625,4.0,4.0,36.0,95.0]]))\n",
    "a"
   ]
  },
  {
   "cell_type": "raw",
   "id": "29a8f30c",
   "metadata": {},
   "source": [
    "-We got slitely higher prediction as compared to actual."
   ]
  },
  {
   "cell_type": "markdown",
   "id": "56e6b3cf",
   "metadata": {},
   "source": [
    "# Cross Validation"
   ]
  },
  {
   "cell_type": "code",
   "execution_count": 202,
   "id": "f2fb7db7",
   "metadata": {},
   "outputs": [],
   "source": [
    "#cross validation is to check whether the model is overfitting\n",
    "\n",
    "from sklearn.model_selection import KFold, cross_val_score"
   ]
  },
  {
   "cell_type": "code",
   "execution_count": 203,
   "id": "b84df360",
   "metadata": {},
   "outputs": [],
   "source": [
    "x_train, x_test, y_train, y_test= train_test_split(x_scaled, y, test_size=0.25, random_state=20)"
   ]
  },
  {
   "cell_type": "code",
   "execution_count": 204,
   "id": "d564245b",
   "metadata": {},
   "outputs": [
    {
     "data": {
      "text/plain": [
       "array([0.17880661, 0.23869927, 0.73483224, 0.63982234])"
      ]
     },
     "execution_count": 204,
     "metadata": {},
     "output_type": "execute_result"
    }
   ],
   "source": [
    "cv_score=cross_val_score(rf, x_scaled, y, cv=4)\n",
    "cv_score"
   ]
  },
  {
   "cell_type": "code",
   "execution_count": 205,
   "id": "7d9193ca",
   "metadata": {},
   "outputs": [
    {
     "data": {
      "text/plain": [
       "0.44804011359902207"
      ]
     },
     "execution_count": 205,
     "metadata": {},
     "output_type": "execute_result"
    }
   ],
   "source": [
    "cv_score.mean()"
   ]
  },
  {
   "cell_type": "raw",
   "id": "ff18ff21",
   "metadata": {},
   "source": [
    "- Cross validation mean score is 44% "
   ]
  },
  {
   "cell_type": "markdown",
   "id": "86ca9bba",
   "metadata": {},
   "source": [
    "# Model initialisation using KNN"
   ]
  },
  {
   "cell_type": "code",
   "execution_count": 225,
   "id": "f83921ad",
   "metadata": {},
   "outputs": [],
   "source": [
    "x_train, x_test, y_train, y_test= train_test_split(x_scaled,y, test_size=0.25, random_state=1)"
   ]
  },
  {
   "cell_type": "code",
   "execution_count": 226,
   "id": "a747d461",
   "metadata": {},
   "outputs": [
    {
     "data": {
      "text/plain": [
       "KNeighborsRegressor()"
      ]
     },
     "execution_count": 226,
     "metadata": {},
     "output_type": "execute_result"
    }
   ],
   "source": [
    "knn= KNeighborsRegressor()\n",
    "knn.fit(x_train, y_train)"
   ]
  },
  {
   "cell_type": "code",
   "execution_count": 227,
   "id": "231171c4",
   "metadata": {},
   "outputs": [
    {
     "data": {
      "text/plain": [
       "0.6987480369744559"
      ]
     },
     "execution_count": 227,
     "metadata": {},
     "output_type": "execute_result"
    }
   ],
   "source": [
    "#Checking training score\n",
    "\n",
    "knn.score(x_train, y_train)"
   ]
  },
  {
   "cell_type": "raw",
   "id": "9197b383",
   "metadata": {},
   "source": [
    "-We got Training score 69%"
   ]
  },
  {
   "cell_type": "code",
   "execution_count": 228,
   "id": "e7c00d0b",
   "metadata": {},
   "outputs": [
    {
     "data": {
      "text/plain": [
       "0.5936471922858761"
      ]
     },
     "execution_count": 228,
     "metadata": {},
     "output_type": "execute_result"
    }
   ],
   "source": [
    "#Checking testing score\n",
    "\n",
    "knn.score(x_test, y_test)"
   ]
  },
  {
   "cell_type": "raw",
   "id": "ff744c13",
   "metadata": {},
   "source": [
    "-Testing score is 59%"
   ]
  },
  {
   "cell_type": "code",
   "execution_count": 230,
   "id": "8c31828b",
   "metadata": {},
   "outputs": [
    {
     "data": {
      "text/plain": [
       "array([86.8, 84. , 78.4, 70.4, 73.2, 84.8, 79. , 69.6])"
      ]
     },
     "execution_count": 230,
     "metadata": {},
     "output_type": "execute_result"
    }
   ],
   "source": [
    "\n",
    "y_pred=knn.predict(x_test)\n",
    "y_pred"
   ]
  },
  {
   "cell_type": "code",
   "execution_count": 231,
   "id": "33ae56e3",
   "metadata": {},
   "outputs": [
    {
     "data": {
      "image/png": "[encoded data removed]",
      "text/plain": [
       "<Figure size 432x288 with 1 Axes>"
      ]
     },
     "metadata": {
      "needs_background": "light"
     },
     "output_type": "display_data"
    }
   ],
   "source": [
    "#Plotting the graph of Acutal score Vs Predicted score\n",
    "\n",
    "plt.scatter(y_test, y_pred)\n",
    "plt.xlabel(\"Actual\")\n",
    "plt.ylabel(\"Predicted\")\n",
    "plt.title(\"Score\")\n",
    "plt.show()"
   ]
  },
  {
   "cell_type": "code",
   "execution_count": 232,
   "id": "e93f3464",
   "metadata": {},
   "outputs": [
    {
     "data": {
      "text/plain": [
       "6.125000000000002"
      ]
     },
     "execution_count": 232,
     "metadata": {},
     "output_type": "execute_result"
    }
   ],
   "source": [
    "#Mean square error\n",
    "mean_absolute_error(y_test, y_pred)"
   ]
  },
  {
   "cell_type": "code",
   "execution_count": 233,
   "id": "134fec78",
   "metadata": {},
   "outputs": [
    {
     "data": {
      "text/plain": [
       "6.125000000000002"
      ]
     },
     "execution_count": 233,
     "metadata": {},
     "output_type": "execute_result"
    }
   ],
   "source": [
    "#MSE\n",
    "mean_absolute_error(y_test, y_pred)"
   ]
  },
  {
   "cell_type": "code",
   "execution_count": 234,
   "id": "815a78b1",
   "metadata": {},
   "outputs": [
    {
     "data": {
      "text/plain": [
       "6.69141240695864"
      ]
     },
     "execution_count": 234,
     "metadata": {},
     "output_type": "execute_result"
    }
   ],
   "source": [
    "#RMSE\n",
    "np.sqrt(mean_squared_error(y_test, y_pred))"
   ]
  },
  {
   "cell_type": "code",
   "execution_count": 235,
   "id": "5e1e8690",
   "metadata": {},
   "outputs": [
    {
     "data": {
      "text/plain": [
       "0.5936471922858761"
      ]
     },
     "execution_count": 235,
     "metadata": {},
     "output_type": "execute_result"
    }
   ],
   "source": [
    "r2_score(y_test, y_pred)"
   ]
  },
  {
   "cell_type": "raw",
   "id": "45ef4062",
   "metadata": {},
   "source": [
    "-Using Knn model we Got R2 score 59%"
   ]
  },
  {
   "cell_type": "code",
   "execution_count": 252,
   "id": "564c8182",
   "metadata": {},
   "outputs": [],
   "source": [
    "#cross validation is to check whether the model is overfitting\n",
    "\n",
    "from sklearn.model_selection import KFold, cross_val_score"
   ]
  },
  {
   "cell_type": "code",
   "execution_count": 253,
   "id": "3d5edf91",
   "metadata": {},
   "outputs": [],
   "source": [
    "x_train, x_test, y_train, y_test= train_test_split(x_scaled, y, test_size=0.25, random_state=20)"
   ]
  },
  {
   "cell_type": "code",
   "execution_count": 254,
   "id": "f338894d",
   "metadata": {},
   "outputs": [
    {
     "data": {
      "text/plain": [
       "array([0.09712834, 0.44336028, 0.56900241, 0.44410302])"
      ]
     },
     "execution_count": 254,
     "metadata": {},
     "output_type": "execute_result"
    }
   ],
   "source": [
    "cv_score=cross_val_score(knn, x_scaled, y, cv=4)\n",
    "cv_score"
   ]
  },
  {
   "cell_type": "code",
   "execution_count": 256,
   "id": "87db1e29",
   "metadata": {},
   "outputs": [
    {
     "data": {
      "text/plain": [
       "0.3883985121488703"
      ]
     },
     "execution_count": 256,
     "metadata": {},
     "output_type": "execute_result"
    }
   ],
   "source": [
    "cv_mean=cv_score.mean()\n",
    "cv_mean"
   ]
  },
  {
   "cell_type": "raw",
   "id": "5f8db79d",
   "metadata": {},
   "source": [
    "-There is difference in R2 Score: 59% & CV score:38%"
   ]
  },
  {
   "cell_type": "markdown",
   "id": "63c40754",
   "metadata": {},
   "source": [
    "# Saving Model & Use it for prediction using KNN"
   ]
  },
  {
   "cell_type": "code",
   "execution_count": 236,
   "id": "c471c5a7",
   "metadata": {},
   "outputs": [],
   "source": [
    "#Saving the model in local file system \n",
    "import pickle\n",
    "\n",
    "pickle.dump(knn, open(\"reg_model3\", \"wb\"))"
   ]
  },
  {
   "cell_type": "code",
   "execution_count": 237,
   "id": "4fdfd8fb",
   "metadata": {},
   "outputs": [
    {
     "data": {
      "text/plain": [
       "array([70.2])"
      ]
     },
     "execution_count": 237,
     "metadata": {},
     "output_type": "execute_result"
    }
   ],
   "source": [
    "#Prediction using the saved model\n",
    "loaded_model=pickle.load(open(\"reg_model3\", \"rb\"))\n",
    "\n",
    "a=loaded_model.predict(scalar.transform([[737.0,5572.0,1479.0,274.0,49.0,186.0,388.0,1283.0,97.0,5.02625,4.0,4.0,36.0,95.0]]))\n",
    "a"
   ]
  },
  {
   "cell_type": "raw",
   "id": "d44f5d9c",
   "metadata": {},
   "source": [
    "-With the use of Knn we have predicted no. of wins is 70 & actual predicted win is 68. Which is much closer."
   ]
  },
  {
   "cell_type": "code",
   "execution_count": null,
   "id": "f8e1c5d4",
   "metadata": {},
   "outputs": [],
   "source": []
  },
  {
   "cell_type": "markdown",
   "id": "3430e5c2",
   "metadata": {},
   "source": [
    "# Lasso model"
   ]
  },
  {
   "cell_type": "code",
   "execution_count": 206,
   "id": "9e8c8235",
   "metadata": {},
   "outputs": [
    {
     "name": "stdout",
     "output_type": "stream",
     "text": [
      "{'alpha': 1, 'random_state': 0}\n"
     ]
    }
   ],
   "source": [
    "from sklearn.linear_model import Lasso\n",
    "parameters={\"alpha\":[.0001, .001,.01,.1,1,10],\n",
    "           \"random_state\":list(range(0,10))}\n",
    "\n",
    "ls=Lasso()\n",
    "clf=GridSearchCV(ls, parameters)\n",
    "clf.fit(x_train, y_train)\n",
    "print(clf.best_params_)"
   ]
  },
  {
   "cell_type": "code",
   "execution_count": 207,
   "id": "32ae45e4",
   "metadata": {},
   "outputs": [
    {
     "data": {
      "text/plain": [
       "91.7505925162339"
      ]
     },
     "execution_count": 207,
     "metadata": {},
     "output_type": "execute_result"
    }
   ],
   "source": [
    "#So from lasso model we got best parameters hence we will tune on the basis\n",
    "\n",
    "#Final training of model\n",
    "\n",
    "ls=Lasso(alpha=1, random_state=0)\n",
    "ls.fit(x_train, y_train)\n",
    "ls_score_training=ls.score(x_train, y_train)\n",
    "pred_ls=ls.predict(x_test)\n",
    "ls_score_training*100"
   ]
  },
  {
   "cell_type": "raw",
   "id": "e9c48a41",
   "metadata": {},
   "source": [
    "-Training accuracy is 91%"
   ]
  },
  {
   "cell_type": "code",
   "execution_count": 208,
   "id": "2afa3b16",
   "metadata": {},
   "outputs": [],
   "source": [
    "#Checking testing score\n",
    "\n",
    "pred_ls=ls.predict(x_test)"
   ]
  },
  {
   "cell_type": "code",
   "execution_count": 209,
   "id": "632405a6",
   "metadata": {},
   "outputs": [
    {
     "data": {
      "text/plain": [
       "59.619902907292364"
      ]
     },
     "execution_count": 209,
     "metadata": {},
     "output_type": "execute_result"
    }
   ],
   "source": [
    "lss=r2_score(y_test, pred_ls)\n",
    "lss*100"
   ]
  },
  {
   "cell_type": "raw",
   "id": "d52481af",
   "metadata": {},
   "source": [
    "-Testing R2 score is 59%"
   ]
  },
  {
   "cell_type": "raw",
   "id": "9d6471ab",
   "metadata": {},
   "source": [
    "-Cross Validation "
   ]
  },
  {
   "cell_type": "code",
   "execution_count": 210,
   "id": "cbef2519",
   "metadata": {},
   "outputs": [
    {
     "data": {
      "text/plain": [
       "41.887225538377024"
      ]
     },
     "execution_count": 210,
     "metadata": {},
     "output_type": "execute_result"
    }
   ],
   "source": [
    "cv_score=cross_val_score(ls,x, y,cv=4)\n",
    "cv_mean=cv_score.mean()\n",
    "cv_mean*100"
   ]
  },
  {
   "cell_type": "raw",
   "id": "72ae4c12",
   "metadata": {},
   "source": [
    "-So CV score is 41% "
   ]
  },
  {
   "cell_type": "raw",
   "id": "38ffbd47",
   "metadata": {},
   "source": [
    "-The diffrence betwen test R2 score & CV score is more . Score is reduced."
   ]
  },
  {
   "cell_type": "markdown",
   "id": "70973d62",
   "metadata": {},
   "source": [
    "# Save the model & Use further for prediction using Lasso model"
   ]
  },
  {
   "cell_type": "code",
   "execution_count": 212,
   "id": "11afdb24",
   "metadata": {},
   "outputs": [],
   "source": [
    "#Saving the model in local file system \n",
    "import pickle\n",
    "\n",
    "pickle.dump(ls, open(\"reg_model2\", \"wb\"))"
   ]
  },
  {
   "cell_type": "code",
   "execution_count": 213,
   "id": "f8477483",
   "metadata": {},
   "outputs": [
    {
     "data": {
      "text/plain": [
       "array([65.35550298])"
      ]
     },
     "execution_count": 213,
     "metadata": {},
     "output_type": "execute_result"
    }
   ],
   "source": [
    "#Prediction using the saved model\n",
    "loaded_model=pickle.load(open(\"reg_model2\", \"rb\"))\n",
    "\n",
    "a=loaded_model.predict(scalar.transform([[737.0,5572.0,1479.0,274.0,49.0,186.0,388.0,1283.0,97.0,5.02625,4.0,4.0,36.0,95.0]]))\n",
    "a"
   ]
  },
  {
   "cell_type": "raw",
   "id": "3887a17a",
   "metadata": {},
   "source": [
    "-We got predicted wins using lasso model is 65"
   ]
  },
  {
   "cell_type": "markdown",
   "id": "cfddd485",
   "metadata": {},
   "source": [
    "# Ada Boost Regressor"
   ]
  },
  {
   "cell_type": "code",
   "execution_count": 241,
   "id": "d91402e4",
   "metadata": {},
   "outputs": [],
   "source": [
    "from sklearn.ensemble import AdaBoostRegressor"
   ]
  },
  {
   "cell_type": "code",
   "execution_count": 242,
   "id": "c63bf0d2",
   "metadata": {},
   "outputs": [
    {
     "data": {
      "text/plain": [
       "AdaBoostRegressor()"
      ]
     },
     "execution_count": 242,
     "metadata": {},
     "output_type": "execute_result"
    }
   ],
   "source": [
    "ada=AdaBoostRegressor()\n",
    "ada.fit(x_train, y_train)"
   ]
  },
  {
   "cell_type": "code",
   "execution_count": 243,
   "id": "3d46c643",
   "metadata": {},
   "outputs": [],
   "source": [
    "#Model Prediction on train data\n",
    "y_pred=ada.predict(x_train)\n"
   ]
  },
  {
   "cell_type": "code",
   "execution_count": 244,
   "id": "56c4cce8",
   "metadata": {},
   "outputs": [
    {
     "name": "stdout",
     "output_type": "stream",
     "text": [
      "R Square Score 0.9820877474565644\n"
     ]
    }
   ],
   "source": [
    "accuracy=metrics.r2_score(y_train, y_pred)\n",
    "print(\"R Square Score\" , accuracy)"
   ]
  },
  {
   "cell_type": "code",
   "execution_count": 245,
   "id": "4efaa6d9",
   "metadata": {},
   "outputs": [],
   "source": [
    "#Model Prediction on test data\n",
    "y_pred=ada.predict(x_test)\n"
   ]
  },
  {
   "cell_type": "code",
   "execution_count": 246,
   "id": "e9593ded",
   "metadata": {},
   "outputs": [
    {
     "name": "stdout",
     "output_type": "stream",
     "text": [
      "R Square Score 0.6106069200226887\n"
     ]
    }
   ],
   "source": [
    "accuracy=metrics.r2_score(y_test, y_pred)\n",
    "print(\"R Square Score\" , accuracy)"
   ]
  },
  {
   "cell_type": "code",
   "execution_count": 247,
   "id": "0edf7191",
   "metadata": {},
   "outputs": [
    {
     "data": {
      "image/png": "[encoded data removed]",
      "text/plain": [
       "<Figure size 432x288 with 1 Axes>"
      ]
     },
     "metadata": {
      "needs_background": "light"
     },
     "output_type": "display_data"
    }
   ],
   "source": [
    "#Plotting the graph of Acutal score Vs Predicted score\n",
    "\n",
    "plt.scatter(y_test, y_pred)\n",
    "plt.xlabel(\"Actual\")\n",
    "plt.ylabel(\"Predicted\")\n",
    "plt.title(\"Predicted Vs Actual\")\n",
    "plt.show()"
   ]
  },
  {
   "cell_type": "code",
   "execution_count": 248,
   "id": "85cc58cf",
   "metadata": {},
   "outputs": [
    {
     "data": {
      "text/plain": [
       "5.9375"
      ]
     },
     "execution_count": 248,
     "metadata": {},
     "output_type": "execute_result"
    }
   ],
   "source": [
    "#Mean square error\n",
    "mean_absolute_error(y_test, y_pred)"
   ]
  },
  {
   "cell_type": "code",
   "execution_count": 249,
   "id": "8ccf97ba",
   "metadata": {},
   "outputs": [
    {
     "data": {
      "text/plain": [
       "5.9375"
      ]
     },
     "execution_count": 249,
     "metadata": {},
     "output_type": "execute_result"
    }
   ],
   "source": [
    "#MSE\n",
    "mean_absolute_error(y_test, y_pred)"
   ]
  },
  {
   "cell_type": "code",
   "execution_count": 250,
   "id": "c0863ac3",
   "metadata": {},
   "outputs": [
    {
     "data": {
      "text/plain": [
       "6.550286253286951"
      ]
     },
     "execution_count": 250,
     "metadata": {},
     "output_type": "execute_result"
    }
   ],
   "source": [
    "#RMSE\n",
    "np.sqrt(mean_squared_error(y_test, y_pred))"
   ]
  },
  {
   "cell_type": "code",
   "execution_count": 251,
   "id": "2d367f4b",
   "metadata": {},
   "outputs": [
    {
     "data": {
      "text/plain": [
       "0.6106069200226887"
      ]
     },
     "execution_count": 251,
     "metadata": {},
     "output_type": "execute_result"
    }
   ],
   "source": [
    "r2_score(y_test, y_pred)"
   ]
  },
  {
   "cell_type": "code",
   "execution_count": 257,
   "id": "817a8dcf",
   "metadata": {},
   "outputs": [],
   "source": [
    "#cross validation is to check whether the model is overfitting\n",
    "\n",
    "from sklearn.model_selection import KFold, cross_val_score"
   ]
  },
  {
   "cell_type": "code",
   "execution_count": 258,
   "id": "115b4e76",
   "metadata": {},
   "outputs": [],
   "source": [
    "x_train, x_test, y_train, y_test= train_test_split(x_scaled, y, test_size=0.25, random_state=20)"
   ]
  },
  {
   "cell_type": "code",
   "execution_count": 261,
   "id": "a8916854",
   "metadata": {},
   "outputs": [
    {
     "data": {
      "text/plain": [
       "array([0.23367962, 0.19194219, 0.75966437, 0.69650434])"
      ]
     },
     "execution_count": 261,
     "metadata": {},
     "output_type": "execute_result"
    }
   ],
   "source": [
    "cv_score=cross_val_score(ada, x_scaled, y, cv=4)\n",
    "cv_score"
   ]
  },
  {
   "cell_type": "code",
   "execution_count": 262,
   "id": "c1e29209",
   "metadata": {},
   "outputs": [
    {
     "data": {
      "text/plain": [
       "0.4704476318089204"
      ]
     },
     "execution_count": 262,
     "metadata": {},
     "output_type": "execute_result"
    }
   ],
   "source": [
    "cv_mean=cv_score.mean()\n",
    "cv_mean"
   ]
  },
  {
   "cell_type": "raw",
   "id": "30133115",
   "metadata": {},
   "source": [
    "-By applying Ada boost regressor it is observed that R2 score & CV score having huge gap"
   ]
  },
  {
   "cell_type": "code",
   "execution_count": null,
   "id": "eaaa49e1",
   "metadata": {},
   "outputs": [],
   "source": []
  },
  {
   "cell_type": "markdown",
   "id": "ce21dcb2",
   "metadata": {},
   "source": [
    "-By above it is observed that we are getting very good R2 score, CV score in Linear Regression model.\n",
    "-Hence we will use Linear regression model for prediction"
   ]
  },
  {
   "cell_type": "markdown",
   "id": "cbcb61d5",
   "metadata": {},
   "source": [
    "# Final model Selection & Conclusion"
   ]
  },
  {
   "cell_type": "code",
   "execution_count": 215,
   "id": "384f9e86",
   "metadata": {},
   "outputs": [
    {
     "name": "stdout",
     "output_type": "stream",
     "text": [
      "95.15892732499216\n"
     ]
    }
   ],
   "source": [
    "loaded_model=pickle.load(open(\"reg_model\", \"rb\"))\n",
    "result=loaded_model.score(x_test, y_test)\n",
    "print(result*100)"
   ]
  },
  {
   "cell_type": "code",
   "execution_count": 217,
   "id": "b622369e",
   "metadata": {},
   "outputs": [],
   "source": [
    "conclusion=pd.DataFrame([loaded_model.predict(x_test)[:],y_test[:]],index=[\"Predicted\", \"Original\"])\n"
   ]
  },
  {
   "cell_type": "code",
   "execution_count": 218,
   "id": "933cf31c",
   "metadata": {},
   "outputs": [
    {
     "data": {
      "text/html": [
       "<div>\n",
       "<style scoped>\n",
       "    .dataframe tbody tr th:only-of-type {\n",
       "        vertical-align: middle;\n",
       "    }\n",
       "\n",
       "    .dataframe tbody tr th {\n",
       "        vertical-align: top;\n",
       "    }\n",
       "\n",
       "    .dataframe thead th {\n",
       "        text-align: right;\n",
       "    }\n",
       "</style>\n",
       "<table border=\"1\" class=\"dataframe\">\n",
       "  <thead>\n",
       "    <tr style=\"text-align: right;\">\n",
       "      <th></th>\n",
       "      <th>0</th>\n",
       "      <th>1</th>\n",
       "      <th>2</th>\n",
       "      <th>3</th>\n",
       "      <th>4</th>\n",
       "      <th>5</th>\n",
       "      <th>6</th>\n",
       "      <th>7</th>\n",
       "    </tr>\n",
       "  </thead>\n",
       "  <tbody>\n",
       "    <tr>\n",
       "      <th>Predicted</th>\n",
       "      <td>76.422036</td>\n",
       "      <td>71.440553</td>\n",
       "      <td>82.632647</td>\n",
       "      <td>88.634527</td>\n",
       "      <td>68.003416</td>\n",
       "      <td>84.90264</td>\n",
       "      <td>71.400534</td>\n",
       "      <td>79.477697</td>\n",
       "    </tr>\n",
       "    <tr>\n",
       "      <th>Original</th>\n",
       "      <td>76.000000</td>\n",
       "      <td>74.000000</td>\n",
       "      <td>83.000000</td>\n",
       "      <td>88.000000</td>\n",
       "      <td>68.000000</td>\n",
       "      <td>85.00000</td>\n",
       "      <td>68.000000</td>\n",
       "      <td>79.000000</td>\n",
       "    </tr>\n",
       "  </tbody>\n",
       "</table>\n",
       "</div>"
      ],
      "text/plain": [
       "                   0          1          2          3          4         5  \\\n",
       "Predicted  76.422036  71.440553  82.632647  88.634527  68.003416  84.90264   \n",
       "Original   76.000000  74.000000  83.000000  88.000000  68.000000  85.00000   \n",
       "\n",
       "                   6          7  \n",
       "Predicted  71.400534  79.477697  \n",
       "Original   68.000000  79.000000  "
      ]
     },
     "execution_count": 218,
     "metadata": {},
     "output_type": "execute_result"
    }
   ],
   "source": [
    "conclusion"
   ]
  },
  {
   "cell_type": "code",
   "execution_count": null,
   "id": "d21baed6",
   "metadata": {},
   "outputs": [],
   "source": []
  }
 ],
 "metadata": {
  "kernelspec": {
   "display_name": "Python 3 (ipykernel)",
   "language": "python",
   "name": "python3"
  },
  "language_info": {
   "codemirror_mode": {
    "name": "ipython",
    "version": 3
   },
   "file_extension": ".py",
   "mimetype": "text/x-python",
   "name": "python",
   "nbconvert_exporter": "python",
   "pygments_lexer": "ipython3",
   "version": "3.9.12"
  }
 },
 "nbformat": 4,
 "nbformat_minor": 5
}
