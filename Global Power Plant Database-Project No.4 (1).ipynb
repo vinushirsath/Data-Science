{
 "cells": [
  {
   "cell_type": "markdown",
   "id": "f490d438",
   "metadata": {},
   "source": [
    "# Global Power Plant Database\n",
    "Problem Statement:"
   ]
  },
  {
   "cell_type": "raw",
   "id": "aa619ebc",
   "metadata": {},
   "source": [
    "# Global Power Plant Database\n",
    "Problem Statement:\n",
    "Description\n",
    "\n",
    "The Global Power Plant Database is a comprehensive, open source database of power plants around the world. It centralizes power plant data to make it easier to navigate, compare and draw insights for one’s own analysis. The database covers approximately 35,000 power plants from 167 countries and includes thermal plants (e.g. coal, gas, oil, nuclear, biomass, waste, geothermal) and renewables (e.g. hydro, wind, solar). Each power plant is geolocated and entries contain information on plant capacity, generation, ownership, and fuel type. It will be continuously updated as data becomes available.\n",
    "\n",
    "Key attributes of the database\n",
    "The database includes the following indicators:\n",
    "\n",
    "`country` (text): 3 character country code corresponding to the ISO 3166-1 alpha-3 specification [5]\n",
    "`country_long` (text): longer form of the country designation\n",
    "`name` (text): name or title of the power plant, generally in Romanized form\n",
    "`gppd_idnr` (text): 10 or 12 character identifier for the power \n",
    "plant\n",
    "`capacity_mw` (number): electrical generating capacity in megawatts\n",
    "`latitude` (number): geolocation in decimal degrees; WGS84 (EPSG:4326)\n",
    "`longitude` (number): geolocation in decimal degrees; WGS84 (EPSG:4326)\n",
    "`primary_fuel` (text): energy source used in primary electricity generation or export\n",
    "`other_fuel1` (text): energy source used in electricity generation or export\n",
    "`other_fuel2` (text): energy source used in electricity generation or export\n",
    "`other_fuel3` (text): energy source used in electricity generation or export\n",
    " `commissioning_year` (number): year of plant operation, weighted by unit-capacity when data is available\n",
    "`owner` (text): majority shareholder of the power plant, generally in Romanized form\n",
    "`source` (text): entity reporting the data; could be an organization, report, or document, generally in Romanized form\n",
    "`url` (text): web document corresponding to the `source` field\n",
    "`geolocation_source` (text): attribution for geolocation information\n",
    "`wepp_id` (text): a reference to a unique plant identifier in the widely-used PLATTS-WEPP database.\n",
    "`year_of_capacity_data` (number): year the capacity information was reported\n",
    "`generation_gwh_2013` (number): electricity generation in gigawatt-hours reported for the year 2013\n",
    "`generation_gwh_2014` (number): electricity generation in gigawatt-hours reported for the year 2014\n",
    "`generation_gwh_2015` (number): electricity generation in gigawatt-hours reported for the year 2015\n",
    "`generation_gwh_2016` (number): electricity generation in gigawatt-hours reported for the year 2016\n",
    "`generation_gwh_2017` (number): electricity generation in gigawatt-hours reported for the year 2017\n",
    "`generation_gwh_2018` (number): electricity generation in gigawatt-hours reported for the year 2018\n",
    "`generation_gwh_2019` (number): electricity generation in gigawatt-hours reported for the year 2019\n",
    "`generation_data_source` (text): attribution for the reported generation information\n",
    "`estimated_generation_gwh_2013` (number): estimated electricity generation in gigawatt-hours for the year 2013\n",
    "`estimated_generation_gwh_2014` (number): estimated electricity generation in gigawatt-hours for the year 2014 \n",
    "`estimated_generation_gwh_2015` (number): estimated electricity generation in gigawatt-hours for the year 2015 \n",
    "`estimated_generation_gwh_2016` (number): estimated electricity generation in gigawatt-hours for the year 2016 \n",
    "`estimated_generation_gwh_2017` (number): estimated electricity generation in gigawatt-hours for the year 2017 \n",
    "'estimated_generation_note_2013` (text): label of the model/method used to estimate generation for the year 2013\n",
    "`estimated_generation_note_2014` (text): label of the model/method used to estimate generation for the year 2014 \n",
    "`estimated_generation_note_2015` (text): label of the model/method used to estimate generation for the year 2015\n",
    "`estimated_generation_note_2016` (text): label of the model/method used to estimate generation for the year 2016\n",
    "`estimated_generation_note_2017` (text): label of the model/method used to estimate generation for the year 2017 \n",
    "Fuel Type Aggregation\n",
    "We define the \"Fuel Type\" attribute of our database based on common fuel categories. \n",
    "\n",
    "Prediction :   Make two prediction  1) Primary Fuel    2) capacity_mw \n",
    "\n",
    "Find the dataset link below. \n",
    "\n",
    "Downlaod Files:\n",
    "https://github.com/wri/global-power-plant-database/blob/master/source_databases_csv/database_IND.csv"
   ]
  },
  {
   "cell_type": "code",
   "execution_count": null,
   "id": "71ae7c24",
   "metadata": {},
   "outputs": [],
   "source": []
  },
  {
   "cell_type": "code",
   "execution_count": 215,
   "id": "504d8e07",
   "metadata": {},
   "outputs": [],
   "source": [
    "import pandas as pd\n",
    "#Importing necessary libraries for classification & regression.\n",
    "import pandas as pd\n",
    "import seaborn as sns\n",
    "import matplotlib.pyplot as plt\n",
    "import numpy as np\n",
    "from sklearn.preprocessing import StandardScaler\n",
    "\n",
    "#Libraries for classification model\n",
    "\n",
    "from sklearn.linear_model import LogisticRegression\n",
    "from sklearn.model_selection import GridSearchCV\n",
    "from sklearn.neighbors import KNeighborsClassifier\n",
    "from sklearn.ensemble import RandomForestClassifier\n",
    "from sklearn.model_selection import train_test_split\n",
    "from sklearn.tree import DecisionTreeClassifier\n",
    "from statsmodels.stats.outliers_influence import variance_inflation_factor\n",
    "from sklearn.metrics import accuracy_score,confusion_matrix,roc_curve, roc_auc_score, classification_report\n",
    "\n",
    "#Libraries for Regression model\n",
    "from sklearn.linear_model import LinearRegression\n",
    "from sklearn.discriminant_analysis import LinearDiscriminantAnalysis\n",
    "from sklearn import metrics,model_selection\n",
    "from sklearn.tree import DecisionTreeRegressor\n",
    "from sklearn.neighbors import KNeighborsRegressor\n",
    "from sklearn.ensemble import RandomForestRegressor\n",
    "from sklearn.model_selection import train_test_split\n",
    "from statsmodels.stats.outliers_influence import variance_inflation_factor\n",
    "from sklearn.model_selection import train_test_split, GridSearchCV\n",
    "from sklearn.ensemble import RandomForestRegressor\n",
    "from sklearn.metrics import accuracy_score, confusion_matrix, roc_curve, roc_auc_score\n",
    "from sklearn.metrics import mean_squared_error, mean_absolute_error, r2_score\n",
    "from sklearn.linear_model import Lasso\n",
    "from sklearn.ensemble import AdaBoostRegressor\n",
    "from sklearn.preprocessing import LabelEncoder\n",
    "\n",
    "import pickle\n",
    "\n",
    "\n",
    "import warnings\n",
    "warnings.filterwarnings(\"ignore\")"
   ]
  },
  {
   "cell_type": "code",
   "execution_count": 216,
   "id": "d55adaed",
   "metadata": {},
   "outputs": [
    {
     "data": {
      "text/html": [
       "<div>\n",
       "<style scoped>\n",
       "    .dataframe tbody tr th:only-of-type {\n",
       "        vertical-align: middle;\n",
       "    }\n",
       "\n",
       "    .dataframe tbody tr th {\n",
       "        vertical-align: top;\n",
       "    }\n",
       "\n",
       "    .dataframe thead th {\n",
       "        text-align: right;\n",
       "    }\n",
       "</style>\n",
       "<table border=\"1\" class=\"dataframe\">\n",
       "  <thead>\n",
       "    <tr style=\"text-align: right;\">\n",
       "      <th></th>\n",
       "      <th>country</th>\n",
       "      <th>country_long</th>\n",
       "      <th>name</th>\n",
       "      <th>gppd_idnr</th>\n",
       "      <th>capacity_mw</th>\n",
       "      <th>latitude</th>\n",
       "      <th>longitude</th>\n",
       "      <th>primary_fuel</th>\n",
       "      <th>other_fuel1</th>\n",
       "      <th>other_fuel2</th>\n",
       "      <th>...</th>\n",
       "      <th>year_of_capacity_data</th>\n",
       "      <th>generation_gwh_2013</th>\n",
       "      <th>generation_gwh_2014</th>\n",
       "      <th>generation_gwh_2015</th>\n",
       "      <th>generation_gwh_2016</th>\n",
       "      <th>generation_gwh_2017</th>\n",
       "      <th>generation_gwh_2018</th>\n",
       "      <th>generation_gwh_2019</th>\n",
       "      <th>generation_data_source</th>\n",
       "      <th>estimated_generation_gwh</th>\n",
       "    </tr>\n",
       "  </thead>\n",
       "  <tbody>\n",
       "    <tr>\n",
       "      <th>0</th>\n",
       "      <td>IND</td>\n",
       "      <td>India</td>\n",
       "      <td>ACME Solar Tower</td>\n",
       "      <td>WRI1020239</td>\n",
       "      <td>2.5</td>\n",
       "      <td>28.1839</td>\n",
       "      <td>73.2407</td>\n",
       "      <td>Solar</td>\n",
       "      <td>NaN</td>\n",
       "      <td>NaN</td>\n",
       "      <td>...</td>\n",
       "      <td>NaN</td>\n",
       "      <td>NaN</td>\n",
       "      <td>NaN</td>\n",
       "      <td>NaN</td>\n",
       "      <td>NaN</td>\n",
       "      <td>NaN</td>\n",
       "      <td>NaN</td>\n",
       "      <td>NaN</td>\n",
       "      <td>NaN</td>\n",
       "      <td>NaN</td>\n",
       "    </tr>\n",
       "    <tr>\n",
       "      <th>1</th>\n",
       "      <td>IND</td>\n",
       "      <td>India</td>\n",
       "      <td>ADITYA CEMENT WORKS</td>\n",
       "      <td>WRI1019881</td>\n",
       "      <td>98.0</td>\n",
       "      <td>24.7663</td>\n",
       "      <td>74.6090</td>\n",
       "      <td>Coal</td>\n",
       "      <td>NaN</td>\n",
       "      <td>NaN</td>\n",
       "      <td>...</td>\n",
       "      <td>NaN</td>\n",
       "      <td>NaN</td>\n",
       "      <td>NaN</td>\n",
       "      <td>NaN</td>\n",
       "      <td>NaN</td>\n",
       "      <td>NaN</td>\n",
       "      <td>NaN</td>\n",
       "      <td>NaN</td>\n",
       "      <td>NaN</td>\n",
       "      <td>NaN</td>\n",
       "    </tr>\n",
       "    <tr>\n",
       "      <th>2</th>\n",
       "      <td>IND</td>\n",
       "      <td>India</td>\n",
       "      <td>AES Saurashtra Windfarms</td>\n",
       "      <td>WRI1026669</td>\n",
       "      <td>39.2</td>\n",
       "      <td>21.9038</td>\n",
       "      <td>69.3732</td>\n",
       "      <td>Wind</td>\n",
       "      <td>NaN</td>\n",
       "      <td>NaN</td>\n",
       "      <td>...</td>\n",
       "      <td>NaN</td>\n",
       "      <td>NaN</td>\n",
       "      <td>NaN</td>\n",
       "      <td>NaN</td>\n",
       "      <td>NaN</td>\n",
       "      <td>NaN</td>\n",
       "      <td>NaN</td>\n",
       "      <td>NaN</td>\n",
       "      <td>NaN</td>\n",
       "      <td>NaN</td>\n",
       "    </tr>\n",
       "    <tr>\n",
       "      <th>3</th>\n",
       "      <td>IND</td>\n",
       "      <td>India</td>\n",
       "      <td>AGARTALA GT</td>\n",
       "      <td>IND0000001</td>\n",
       "      <td>135.0</td>\n",
       "      <td>23.8712</td>\n",
       "      <td>91.3602</td>\n",
       "      <td>Gas</td>\n",
       "      <td>NaN</td>\n",
       "      <td>NaN</td>\n",
       "      <td>...</td>\n",
       "      <td>2019.0</td>\n",
       "      <td>NaN</td>\n",
       "      <td>617.789264</td>\n",
       "      <td>843.747</td>\n",
       "      <td>886.004428</td>\n",
       "      <td>663.774500</td>\n",
       "      <td>626.239128</td>\n",
       "      <td>NaN</td>\n",
       "      <td>Central Electricity Authority</td>\n",
       "      <td>NaN</td>\n",
       "    </tr>\n",
       "    <tr>\n",
       "      <th>4</th>\n",
       "      <td>IND</td>\n",
       "      <td>India</td>\n",
       "      <td>AKALTARA TPP</td>\n",
       "      <td>IND0000002</td>\n",
       "      <td>1800.0</td>\n",
       "      <td>21.9603</td>\n",
       "      <td>82.4091</td>\n",
       "      <td>Coal</td>\n",
       "      <td>Oil</td>\n",
       "      <td>NaN</td>\n",
       "      <td>...</td>\n",
       "      <td>2019.0</td>\n",
       "      <td>NaN</td>\n",
       "      <td>3035.550000</td>\n",
       "      <td>5916.370</td>\n",
       "      <td>6243.000000</td>\n",
       "      <td>5385.579736</td>\n",
       "      <td>7279.000000</td>\n",
       "      <td>NaN</td>\n",
       "      <td>Central Electricity Authority</td>\n",
       "      <td>NaN</td>\n",
       "    </tr>\n",
       "  </tbody>\n",
       "</table>\n",
       "<p>5 rows × 27 columns</p>\n",
       "</div>"
      ],
      "text/plain": [
       "  country country_long                      name   gppd_idnr  capacity_mw  \\\n",
       "0     IND        India          ACME Solar Tower  WRI1020239          2.5   \n",
       "1     IND        India       ADITYA CEMENT WORKS  WRI1019881         98.0   \n",
       "2     IND        India  AES Saurashtra Windfarms  WRI1026669         39.2   \n",
       "3     IND        India               AGARTALA GT  IND0000001        135.0   \n",
       "4     IND        India              AKALTARA TPP  IND0000002       1800.0   \n",
       "\n",
       "   latitude  longitude primary_fuel other_fuel1 other_fuel2  ...  \\\n",
       "0   28.1839    73.2407        Solar         NaN         NaN  ...   \n",
       "1   24.7663    74.6090         Coal         NaN         NaN  ...   \n",
       "2   21.9038    69.3732         Wind         NaN         NaN  ...   \n",
       "3   23.8712    91.3602          Gas         NaN         NaN  ...   \n",
       "4   21.9603    82.4091         Coal         Oil         NaN  ...   \n",
       "\n",
       "   year_of_capacity_data  generation_gwh_2013 generation_gwh_2014  \\\n",
       "0                    NaN                  NaN                 NaN   \n",
       "1                    NaN                  NaN                 NaN   \n",
       "2                    NaN                  NaN                 NaN   \n",
       "3                 2019.0                  NaN          617.789264   \n",
       "4                 2019.0                  NaN         3035.550000   \n",
       "\n",
       "  generation_gwh_2015 generation_gwh_2016 generation_gwh_2017  \\\n",
       "0                 NaN                 NaN                 NaN   \n",
       "1                 NaN                 NaN                 NaN   \n",
       "2                 NaN                 NaN                 NaN   \n",
       "3             843.747          886.004428          663.774500   \n",
       "4            5916.370         6243.000000         5385.579736   \n",
       "\n",
       "   generation_gwh_2018  generation_gwh_2019         generation_data_source  \\\n",
       "0                  NaN                  NaN                            NaN   \n",
       "1                  NaN                  NaN                            NaN   \n",
       "2                  NaN                  NaN                            NaN   \n",
       "3           626.239128                  NaN  Central Electricity Authority   \n",
       "4          7279.000000                  NaN  Central Electricity Authority   \n",
       "\n",
       "   estimated_generation_gwh  \n",
       "0                       NaN  \n",
       "1                       NaN  \n",
       "2                       NaN  \n",
       "3                       NaN  \n",
       "4                       NaN  \n",
       "\n",
       "[5 rows x 27 columns]"
      ]
     },
     "execution_count": 216,
     "metadata": {},
     "output_type": "execute_result"
    }
   ],
   "source": [
    "df=pd.read_csv(\"Desktop/database_IND.csv\")\n",
    "df.head(5)"
   ]
  },
  {
   "cell_type": "code",
   "execution_count": 217,
   "id": "95fe8df4",
   "metadata": {},
   "outputs": [
    {
     "data": {
      "text/plain": [
       "(907, 27)"
      ]
     },
     "execution_count": 217,
     "metadata": {},
     "output_type": "execute_result"
    }
   ],
   "source": [
    "#Finding the shape of dataset\n",
    "df.shape"
   ]
  },
  {
   "cell_type": "raw",
   "id": "719aaaaf",
   "metadata": {},
   "source": [
    "-It has 907 rows & 27 columns"
   ]
  },
  {
   "cell_type": "code",
   "execution_count": null,
   "id": "829d6286",
   "metadata": {},
   "outputs": [],
   "source": []
  },
  {
   "cell_type": "code",
   "execution_count": 218,
   "id": "3f7d7e5f",
   "metadata": {},
   "outputs": [
    {
     "name": "stdout",
     "output_type": "stream",
     "text": [
      "<class 'pandas.core.frame.DataFrame'>\n",
      "RangeIndex: 907 entries, 0 to 906\n",
      "Data columns (total 27 columns):\n",
      " #   Column                    Non-Null Count  Dtype  \n",
      "---  ------                    --------------  -----  \n",
      " 0   country                   907 non-null    object \n",
      " 1   country_long              907 non-null    object \n",
      " 2   name                      907 non-null    object \n",
      " 3   gppd_idnr                 907 non-null    object \n",
      " 4   capacity_mw               907 non-null    float64\n",
      " 5   latitude                  861 non-null    float64\n",
      " 6   longitude                 861 non-null    float64\n",
      " 7   primary_fuel              907 non-null    object \n",
      " 8   other_fuel1               198 non-null    object \n",
      " 9   other_fuel2               1 non-null      object \n",
      " 10  other_fuel3               0 non-null      float64\n",
      " 11  commissioning_year        527 non-null    float64\n",
      " 12  owner                     342 non-null    object \n",
      " 13  source                    907 non-null    object \n",
      " 14  url                       907 non-null    object \n",
      " 15  geolocation_source        888 non-null    object \n",
      " 16  wepp_id                   0 non-null      float64\n",
      " 17  year_of_capacity_data     519 non-null    float64\n",
      " 18  generation_gwh_2013       0 non-null      float64\n",
      " 19  generation_gwh_2014       398 non-null    float64\n",
      " 20  generation_gwh_2015       422 non-null    float64\n",
      " 21  generation_gwh_2016       434 non-null    float64\n",
      " 22  generation_gwh_2017       440 non-null    float64\n",
      " 23  generation_gwh_2018       448 non-null    float64\n",
      " 24  generation_gwh_2019       0 non-null      float64\n",
      " 25  generation_data_source    449 non-null    object \n",
      " 26  estimated_generation_gwh  0 non-null      float64\n",
      "dtypes: float64(15), object(12)\n",
      "memory usage: 191.4+ KB\n"
     ]
    }
   ],
   "source": [
    "#Information about dataset\n",
    "df.info()"
   ]
  },
  {
   "cell_type": "code",
   "execution_count": null,
   "id": "b3480d00",
   "metadata": {},
   "outputs": [],
   "source": []
  },
  {
   "cell_type": "code",
   "execution_count": 219,
   "id": "cf05f650",
   "metadata": {},
   "outputs": [
    {
     "data": {
      "text/plain": [
       "country                       0\n",
       "country_long                  0\n",
       "name                          0\n",
       "gppd_idnr                     0\n",
       "capacity_mw                   0\n",
       "latitude                     46\n",
       "longitude                    46\n",
       "primary_fuel                  0\n",
       "other_fuel1                 709\n",
       "other_fuel2                 906\n",
       "other_fuel3                 907\n",
       "commissioning_year          380\n",
       "owner                       565\n",
       "source                        0\n",
       "url                           0\n",
       "geolocation_source           19\n",
       "wepp_id                     907\n",
       "year_of_capacity_data       388\n",
       "generation_gwh_2013         907\n",
       "generation_gwh_2014         509\n",
       "generation_gwh_2015         485\n",
       "generation_gwh_2016         473\n",
       "generation_gwh_2017         467\n",
       "generation_gwh_2018         459\n",
       "generation_gwh_2019         907\n",
       "generation_data_source      458\n",
       "estimated_generation_gwh    907\n",
       "dtype: int64"
      ]
     },
     "execution_count": 219,
     "metadata": {},
     "output_type": "execute_result"
    }
   ],
   "source": [
    "#finding the null values\n",
    "df.isna().sum()"
   ]
  },
  {
   "cell_type": "raw",
   "id": "173db0cb",
   "metadata": {},
   "source": [
    "-From above it is observed that Other fuel3, wepp_id,generation_gwh_2013,generation_gwh_2019,estimated_generation_gwh all are null values. No data is observed in that columns.\n",
    "Latitude & longitude:- 46 nos. data is missing.\n",
    "-Other fuel1 :-709 nos. data is missing.\n",
    "-Other fuel2:- 906 nos data is missing.\n",
    "-Commissioning year :-380 nos. data missing.\n",
    "-Owner:- 565 nos. data missing.\n",
    "-Geolocation source:- 19 nos. data missing.\n",
    "-year_of_capacity_data:- 388\n",
    "-generation_gwh_2014:-509\n",
    "-generation_gwh_2015:-485\n",
    "-generation_gwh_2016:-473\n",
    "-generation_gwh_2017:-467\n",
    "-generation_gwh_2018:-459\n",
    "-generation_data_source:-458"
   ]
  },
  {
   "cell_type": "code",
   "execution_count": 220,
   "id": "174f0cd4",
   "metadata": {},
   "outputs": [
    {
     "data": {
      "text/plain": [
       "Oil             195\n",
       "Gas               2\n",
       "Cogeneration      1\n",
       "Name: other_fuel1, dtype: int64"
      ]
     },
     "execution_count": 220,
     "metadata": {},
     "output_type": "execute_result"
    }
   ],
   "source": [
    "#Finding the fuel type 1 count\n",
    "df[\"other_fuel1\"].value_counts()"
   ]
  },
  {
   "cell_type": "code",
   "execution_count": 221,
   "id": "ae4e979c",
   "metadata": {},
   "outputs": [
    {
     "data": {
      "text/plain": [
       "Oil    1\n",
       "Name: other_fuel2, dtype: int64"
      ]
     },
     "execution_count": 221,
     "metadata": {},
     "output_type": "execute_result"
    }
   ],
   "source": [
    "#Finding the fuel type 2 count\n",
    "df[\"other_fuel2\"].value_counts()"
   ]
  },
  {
   "cell_type": "code",
   "execution_count": 222,
   "id": "40887e95",
   "metadata": {},
   "outputs": [
    {
     "data": {
      "text/plain": [
       "Series([], Name: other_fuel3, dtype: int64)"
      ]
     },
     "execution_count": 222,
     "metadata": {},
     "output_type": "execute_result"
    }
   ],
   "source": [
    "#Finding the fuel type 3 count\n",
    "df[\"other_fuel3\"].value_counts()"
   ]
  },
  {
   "cell_type": "code",
   "execution_count": 223,
   "id": "43a936b7",
   "metadata": {},
   "outputs": [
    {
     "data": {
      "text/plain": [
       "Coal       258\n",
       "Hydro      251\n",
       "Solar      127\n",
       "Wind       123\n",
       "Gas         69\n",
       "Biomass     50\n",
       "Oil         20\n",
       "Nuclear      9\n",
       "Name: primary_fuel, dtype: int64"
      ]
     },
     "execution_count": 223,
     "metadata": {},
     "output_type": "execute_result"
    }
   ],
   "source": [
    "#Finding the primary fuel count\n",
    "df[\"primary_fuel\"].value_counts()"
   ]
  },
  {
   "cell_type": "code",
   "execution_count": 224,
   "id": "f989331c",
   "metadata": {},
   "outputs": [],
   "source": [
    "#From above dataset it is observed that pther_fuel2 & 3 column having null values. There is no dataset present.\n",
    "#Hence it is better to remove those two columns from dataset"
   ]
  },
  {
   "cell_type": "code",
   "execution_count": 225,
   "id": "c29f9539",
   "metadata": {},
   "outputs": [],
   "source": [
    "df.drop(\"other_fuel2\",axis=1, inplace=True)\n",
    "df.drop(\"other_fuel3\",axis=1, inplace=True)"
   ]
  },
  {
   "cell_type": "code",
   "execution_count": 226,
   "id": "56ee6bbf",
   "metadata": {},
   "outputs": [],
   "source": [
    "\n",
    "df.drop(\"wepp_id\",axis=1, inplace=True)\n",
    "df.drop(\"generation_gwh_2019\",axis=1, inplace=True)\n",
    "df.drop(\"estimated_generation_gwh\",axis=1, inplace=True)\n"
   ]
  },
  {
   "cell_type": "code",
   "execution_count": 227,
   "id": "98e4943b",
   "metadata": {},
   "outputs": [],
   "source": [
    "df.drop(\"generation_gwh_2013\",axis=1, inplace=True)"
   ]
  },
  {
   "cell_type": "code",
   "execution_count": 228,
   "id": "561980e8",
   "metadata": {},
   "outputs": [
    {
     "data": {
      "text/html": [
       "<div>\n",
       "<style scoped>\n",
       "    .dataframe tbody tr th:only-of-type {\n",
       "        vertical-align: middle;\n",
       "    }\n",
       "\n",
       "    .dataframe tbody tr th {\n",
       "        vertical-align: top;\n",
       "    }\n",
       "\n",
       "    .dataframe thead th {\n",
       "        text-align: right;\n",
       "    }\n",
       "</style>\n",
       "<table border=\"1\" class=\"dataframe\">\n",
       "  <thead>\n",
       "    <tr style=\"text-align: right;\">\n",
       "      <th></th>\n",
       "      <th>country</th>\n",
       "      <th>country_long</th>\n",
       "      <th>name</th>\n",
       "      <th>gppd_idnr</th>\n",
       "      <th>capacity_mw</th>\n",
       "      <th>latitude</th>\n",
       "      <th>longitude</th>\n",
       "      <th>primary_fuel</th>\n",
       "      <th>other_fuel1</th>\n",
       "      <th>commissioning_year</th>\n",
       "      <th>...</th>\n",
       "      <th>source</th>\n",
       "      <th>url</th>\n",
       "      <th>geolocation_source</th>\n",
       "      <th>year_of_capacity_data</th>\n",
       "      <th>generation_gwh_2014</th>\n",
       "      <th>generation_gwh_2015</th>\n",
       "      <th>generation_gwh_2016</th>\n",
       "      <th>generation_gwh_2017</th>\n",
       "      <th>generation_gwh_2018</th>\n",
       "      <th>generation_data_source</th>\n",
       "    </tr>\n",
       "  </thead>\n",
       "  <tbody>\n",
       "    <tr>\n",
       "      <th>0</th>\n",
       "      <td>IND</td>\n",
       "      <td>India</td>\n",
       "      <td>ACME Solar Tower</td>\n",
       "      <td>WRI1020239</td>\n",
       "      <td>2.5</td>\n",
       "      <td>28.1839</td>\n",
       "      <td>73.2407</td>\n",
       "      <td>Solar</td>\n",
       "      <td>NaN</td>\n",
       "      <td>2011.0</td>\n",
       "      <td>...</td>\n",
       "      <td>National Renewable Energy Laboratory</td>\n",
       "      <td>http://www.nrel.gov/csp/solarpaces/project_det...</td>\n",
       "      <td>National Renewable Energy Laboratory</td>\n",
       "      <td>NaN</td>\n",
       "      <td>NaN</td>\n",
       "      <td>NaN</td>\n",
       "      <td>NaN</td>\n",
       "      <td>NaN</td>\n",
       "      <td>NaN</td>\n",
       "      <td>NaN</td>\n",
       "    </tr>\n",
       "    <tr>\n",
       "      <th>1</th>\n",
       "      <td>IND</td>\n",
       "      <td>India</td>\n",
       "      <td>ADITYA CEMENT WORKS</td>\n",
       "      <td>WRI1019881</td>\n",
       "      <td>98.0</td>\n",
       "      <td>24.7663</td>\n",
       "      <td>74.6090</td>\n",
       "      <td>Coal</td>\n",
       "      <td>NaN</td>\n",
       "      <td>NaN</td>\n",
       "      <td>...</td>\n",
       "      <td>Ultratech Cement ltd</td>\n",
       "      <td>http://www.ultratechcement.com/</td>\n",
       "      <td>WRI</td>\n",
       "      <td>NaN</td>\n",
       "      <td>NaN</td>\n",
       "      <td>NaN</td>\n",
       "      <td>NaN</td>\n",
       "      <td>NaN</td>\n",
       "      <td>NaN</td>\n",
       "      <td>NaN</td>\n",
       "    </tr>\n",
       "    <tr>\n",
       "      <th>2</th>\n",
       "      <td>IND</td>\n",
       "      <td>India</td>\n",
       "      <td>AES Saurashtra Windfarms</td>\n",
       "      <td>WRI1026669</td>\n",
       "      <td>39.2</td>\n",
       "      <td>21.9038</td>\n",
       "      <td>69.3732</td>\n",
       "      <td>Wind</td>\n",
       "      <td>NaN</td>\n",
       "      <td>NaN</td>\n",
       "      <td>...</td>\n",
       "      <td>CDM</td>\n",
       "      <td>https://cdm.unfccc.int/Projects/DB/DNV-CUK1328...</td>\n",
       "      <td>WRI</td>\n",
       "      <td>NaN</td>\n",
       "      <td>NaN</td>\n",
       "      <td>NaN</td>\n",
       "      <td>NaN</td>\n",
       "      <td>NaN</td>\n",
       "      <td>NaN</td>\n",
       "      <td>NaN</td>\n",
       "    </tr>\n",
       "    <tr>\n",
       "      <th>3</th>\n",
       "      <td>IND</td>\n",
       "      <td>India</td>\n",
       "      <td>AGARTALA GT</td>\n",
       "      <td>IND0000001</td>\n",
       "      <td>135.0</td>\n",
       "      <td>23.8712</td>\n",
       "      <td>91.3602</td>\n",
       "      <td>Gas</td>\n",
       "      <td>NaN</td>\n",
       "      <td>2004.0</td>\n",
       "      <td>...</td>\n",
       "      <td>Central Electricity Authority</td>\n",
       "      <td>http://www.cea.nic.in/</td>\n",
       "      <td>WRI</td>\n",
       "      <td>2019.0</td>\n",
       "      <td>617.789264</td>\n",
       "      <td>843.747</td>\n",
       "      <td>886.004428</td>\n",
       "      <td>663.774500</td>\n",
       "      <td>626.239128</td>\n",
       "      <td>Central Electricity Authority</td>\n",
       "    </tr>\n",
       "    <tr>\n",
       "      <th>4</th>\n",
       "      <td>IND</td>\n",
       "      <td>India</td>\n",
       "      <td>AKALTARA TPP</td>\n",
       "      <td>IND0000002</td>\n",
       "      <td>1800.0</td>\n",
       "      <td>21.9603</td>\n",
       "      <td>82.4091</td>\n",
       "      <td>Coal</td>\n",
       "      <td>Oil</td>\n",
       "      <td>2015.0</td>\n",
       "      <td>...</td>\n",
       "      <td>Central Electricity Authority</td>\n",
       "      <td>http://www.cea.nic.in/</td>\n",
       "      <td>WRI</td>\n",
       "      <td>2019.0</td>\n",
       "      <td>3035.550000</td>\n",
       "      <td>5916.370</td>\n",
       "      <td>6243.000000</td>\n",
       "      <td>5385.579736</td>\n",
       "      <td>7279.000000</td>\n",
       "      <td>Central Electricity Authority</td>\n",
       "    </tr>\n",
       "  </tbody>\n",
       "</table>\n",
       "<p>5 rows × 21 columns</p>\n",
       "</div>"
      ],
      "text/plain": [
       "  country country_long                      name   gppd_idnr  capacity_mw  \\\n",
       "0     IND        India          ACME Solar Tower  WRI1020239          2.5   \n",
       "1     IND        India       ADITYA CEMENT WORKS  WRI1019881         98.0   \n",
       "2     IND        India  AES Saurashtra Windfarms  WRI1026669         39.2   \n",
       "3     IND        India               AGARTALA GT  IND0000001        135.0   \n",
       "4     IND        India              AKALTARA TPP  IND0000002       1800.0   \n",
       "\n",
       "   latitude  longitude primary_fuel other_fuel1  commissioning_year  ...  \\\n",
       "0   28.1839    73.2407        Solar         NaN              2011.0  ...   \n",
       "1   24.7663    74.6090         Coal         NaN                 NaN  ...   \n",
       "2   21.9038    69.3732         Wind         NaN                 NaN  ...   \n",
       "3   23.8712    91.3602          Gas         NaN              2004.0  ...   \n",
       "4   21.9603    82.4091         Coal         Oil              2015.0  ...   \n",
       "\n",
       "                                 source  \\\n",
       "0  National Renewable Energy Laboratory   \n",
       "1                  Ultratech Cement ltd   \n",
       "2                                   CDM   \n",
       "3         Central Electricity Authority   \n",
       "4         Central Electricity Authority   \n",
       "\n",
       "                                                 url  \\\n",
       "0  http://www.nrel.gov/csp/solarpaces/project_det...   \n",
       "1                    http://www.ultratechcement.com/   \n",
       "2  https://cdm.unfccc.int/Projects/DB/DNV-CUK1328...   \n",
       "3                             http://www.cea.nic.in/   \n",
       "4                             http://www.cea.nic.in/   \n",
       "\n",
       "                     geolocation_source year_of_capacity_data  \\\n",
       "0  National Renewable Energy Laboratory                   NaN   \n",
       "1                                   WRI                   NaN   \n",
       "2                                   WRI                   NaN   \n",
       "3                                   WRI                2019.0   \n",
       "4                                   WRI                2019.0   \n",
       "\n",
       "   generation_gwh_2014  generation_gwh_2015  generation_gwh_2016  \\\n",
       "0                  NaN                  NaN                  NaN   \n",
       "1                  NaN                  NaN                  NaN   \n",
       "2                  NaN                  NaN                  NaN   \n",
       "3           617.789264              843.747           886.004428   \n",
       "4          3035.550000             5916.370          6243.000000   \n",
       "\n",
       "   generation_gwh_2017  generation_gwh_2018         generation_data_source  \n",
       "0                  NaN                  NaN                            NaN  \n",
       "1                  NaN                  NaN                            NaN  \n",
       "2                  NaN                  NaN                            NaN  \n",
       "3           663.774500           626.239128  Central Electricity Authority  \n",
       "4          5385.579736          7279.000000  Central Electricity Authority  \n",
       "\n",
       "[5 rows x 21 columns]"
      ]
     },
     "execution_count": 228,
     "metadata": {},
     "output_type": "execute_result"
    }
   ],
   "source": [
    "df.head(5)"
   ]
  },
  {
   "cell_type": "code",
   "execution_count": 229,
   "id": "af833c6b",
   "metadata": {},
   "outputs": [
    {
     "data": {
      "text/plain": [
       "(907, 21)"
      ]
     },
     "execution_count": 229,
     "metadata": {},
     "output_type": "execute_result"
    }
   ],
   "source": [
    "#New Datashape \n",
    "df.shape"
   ]
  },
  {
   "cell_type": "code",
   "execution_count": 230,
   "id": "997b5d31",
   "metadata": {},
   "outputs": [],
   "source": [
    "#We have bring down to 27 column to 21 column"
   ]
  },
  {
   "cell_type": "code",
   "execution_count": 231,
   "id": "82533768",
   "metadata": {},
   "outputs": [
    {
     "name": "stdout",
     "output_type": "stream",
     "text": [
      "Number of duplicate rows = 0\n"
     ]
    }
   ],
   "source": [
    "#Checking duplicate values\n",
    "\n",
    "dups = df.duplicated()\n",
    "print('Number of duplicate rows = %d' % (dups.sum()))"
   ]
  },
  {
   "cell_type": "raw",
   "id": "ded2a569",
   "metadata": {},
   "source": [
    "-No duplicate values are present in dataset"
   ]
  },
  {
   "cell_type": "code",
   "execution_count": null,
   "id": "3cde51a8",
   "metadata": {},
   "outputs": [],
   "source": []
  },
  {
   "cell_type": "code",
   "execution_count": 232,
   "id": "b46462ff",
   "metadata": {},
   "outputs": [
    {
     "data": {
      "text/html": [
       "<div>\n",
       "<style scoped>\n",
       "    .dataframe tbody tr th:only-of-type {\n",
       "        vertical-align: middle;\n",
       "    }\n",
       "\n",
       "    .dataframe tbody tr th {\n",
       "        vertical-align: top;\n",
       "    }\n",
       "\n",
       "    .dataframe thead th {\n",
       "        text-align: right;\n",
       "    }\n",
       "</style>\n",
       "<table border=\"1\" class=\"dataframe\">\n",
       "  <thead>\n",
       "    <tr style=\"text-align: right;\">\n",
       "      <th></th>\n",
       "      <th>capacity_mw</th>\n",
       "      <th>latitude</th>\n",
       "      <th>longitude</th>\n",
       "      <th>commissioning_year</th>\n",
       "      <th>year_of_capacity_data</th>\n",
       "      <th>generation_gwh_2014</th>\n",
       "      <th>generation_gwh_2015</th>\n",
       "      <th>generation_gwh_2016</th>\n",
       "      <th>generation_gwh_2017</th>\n",
       "      <th>generation_gwh_2018</th>\n",
       "    </tr>\n",
       "  </thead>\n",
       "  <tbody>\n",
       "    <tr>\n",
       "      <th>count</th>\n",
       "      <td>907.000000</td>\n",
       "      <td>861.000000</td>\n",
       "      <td>861.000000</td>\n",
       "      <td>527.000000</td>\n",
       "      <td>519.0</td>\n",
       "      <td>398.000000</td>\n",
       "      <td>422.000000</td>\n",
       "      <td>434.000000</td>\n",
       "      <td>440.000000</td>\n",
       "      <td>448.000000</td>\n",
       "    </tr>\n",
       "    <tr>\n",
       "      <th>mean</th>\n",
       "      <td>326.223755</td>\n",
       "      <td>21.197918</td>\n",
       "      <td>77.464907</td>\n",
       "      <td>1997.091082</td>\n",
       "      <td>2019.0</td>\n",
       "      <td>2431.823590</td>\n",
       "      <td>2428.226946</td>\n",
       "      <td>2467.936859</td>\n",
       "      <td>2547.759305</td>\n",
       "      <td>2600.804099</td>\n",
       "    </tr>\n",
       "    <tr>\n",
       "      <th>std</th>\n",
       "      <td>590.085456</td>\n",
       "      <td>6.239612</td>\n",
       "      <td>4.939316</td>\n",
       "      <td>17.082868</td>\n",
       "      <td>0.0</td>\n",
       "      <td>4026.440035</td>\n",
       "      <td>4194.596959</td>\n",
       "      <td>4162.884308</td>\n",
       "      <td>4196.991169</td>\n",
       "      <td>4314.880456</td>\n",
       "    </tr>\n",
       "    <tr>\n",
       "      <th>min</th>\n",
       "      <td>0.000000</td>\n",
       "      <td>8.168900</td>\n",
       "      <td>68.644700</td>\n",
       "      <td>1927.000000</td>\n",
       "      <td>2019.0</td>\n",
       "      <td>0.000000</td>\n",
       "      <td>0.000000</td>\n",
       "      <td>0.000000</td>\n",
       "      <td>0.000000</td>\n",
       "      <td>0.000000</td>\n",
       "    </tr>\n",
       "    <tr>\n",
       "      <th>25%</th>\n",
       "      <td>16.725000</td>\n",
       "      <td>16.773900</td>\n",
       "      <td>74.256200</td>\n",
       "      <td>1988.000000</td>\n",
       "      <td>2019.0</td>\n",
       "      <td>223.557672</td>\n",
       "      <td>176.381063</td>\n",
       "      <td>188.285252</td>\n",
       "      <td>177.874930</td>\n",
       "      <td>193.378250</td>\n",
       "    </tr>\n",
       "    <tr>\n",
       "      <th>50%</th>\n",
       "      <td>59.200000</td>\n",
       "      <td>21.780000</td>\n",
       "      <td>76.719500</td>\n",
       "      <td>2001.000000</td>\n",
       "      <td>2019.0</td>\n",
       "      <td>801.123775</td>\n",
       "      <td>711.181225</td>\n",
       "      <td>737.205450</td>\n",
       "      <td>817.977250</td>\n",
       "      <td>751.644375</td>\n",
       "    </tr>\n",
       "    <tr>\n",
       "      <th>75%</th>\n",
       "      <td>385.250000</td>\n",
       "      <td>25.512400</td>\n",
       "      <td>79.440800</td>\n",
       "      <td>2012.000000</td>\n",
       "      <td>2019.0</td>\n",
       "      <td>3035.306250</td>\n",
       "      <td>3084.121250</td>\n",
       "      <td>3282.861313</td>\n",
       "      <td>3275.690475</td>\n",
       "      <td>3143.535900</td>\n",
       "    </tr>\n",
       "    <tr>\n",
       "      <th>max</th>\n",
       "      <td>4760.000000</td>\n",
       "      <td>34.649000</td>\n",
       "      <td>95.408000</td>\n",
       "      <td>2018.000000</td>\n",
       "      <td>2019.0</td>\n",
       "      <td>28127.000000</td>\n",
       "      <td>30539.000000</td>\n",
       "      <td>30015.000000</td>\n",
       "      <td>35116.000000</td>\n",
       "      <td>35136.000000</td>\n",
       "    </tr>\n",
       "  </tbody>\n",
       "</table>\n",
       "</div>"
      ],
      "text/plain": [
       "       capacity_mw    latitude   longitude  commissioning_year  \\\n",
       "count   907.000000  861.000000  861.000000          527.000000   \n",
       "mean    326.223755   21.197918   77.464907         1997.091082   \n",
       "std     590.085456    6.239612    4.939316           17.082868   \n",
       "min       0.000000    8.168900   68.644700         1927.000000   \n",
       "25%      16.725000   16.773900   74.256200         1988.000000   \n",
       "50%      59.200000   21.780000   76.719500         2001.000000   \n",
       "75%     385.250000   25.512400   79.440800         2012.000000   \n",
       "max    4760.000000   34.649000   95.408000         2018.000000   \n",
       "\n",
       "       year_of_capacity_data  generation_gwh_2014  generation_gwh_2015  \\\n",
       "count                  519.0           398.000000           422.000000   \n",
       "mean                  2019.0          2431.823590          2428.226946   \n",
       "std                      0.0          4026.440035          4194.596959   \n",
       "min                   2019.0             0.000000             0.000000   \n",
       "25%                   2019.0           223.557672           176.381063   \n",
       "50%                   2019.0           801.123775           711.181225   \n",
       "75%                   2019.0          3035.306250          3084.121250   \n",
       "max                   2019.0         28127.000000         30539.000000   \n",
       "\n",
       "       generation_gwh_2016  generation_gwh_2017  generation_gwh_2018  \n",
       "count           434.000000           440.000000           448.000000  \n",
       "mean           2467.936859          2547.759305          2600.804099  \n",
       "std            4162.884308          4196.991169          4314.880456  \n",
       "min               0.000000             0.000000             0.000000  \n",
       "25%             188.285252           177.874930           193.378250  \n",
       "50%             737.205450           817.977250           751.644375  \n",
       "75%            3282.861313          3275.690475          3143.535900  \n",
       "max           30015.000000         35116.000000         35136.000000  "
      ]
     },
     "execution_count": 232,
     "metadata": {},
     "output_type": "execute_result"
    }
   ],
   "source": [
    "#Describing the data\n",
    "df.describe()"
   ]
  },
  {
   "cell_type": "raw",
   "id": "b803db46",
   "metadata": {},
   "source": [
    "-While describing the dataset it is observed that data is missing in all columns except capacity_mv.\n",
    "-Power plant Commissioning year is between 1927 to 2018.\n",
    "-In Generation in gwh (Gegawatt) outliers are seen in the year of 2014 2015, 2016,2017 & 2018."
   ]
  },
  {
   "cell_type": "code",
   "execution_count": 233,
   "id": "8a2e04bc",
   "metadata": {},
   "outputs": [],
   "source": [
    "cols=[\"capacity_mw\",\"commissioning_year\",\"year_of_capacity_data\",\"generation_gwh_2014\",\"generation_gwh_2015\",\"generation_gwh_2016\",\"generation_gwh_2017\",\"generation_gwh_2018\"]"
   ]
  },
  {
   "cell_type": "code",
   "execution_count": null,
   "id": "f4d8ecff",
   "metadata": {},
   "outputs": [],
   "source": []
  },
  {
   "cell_type": "code",
   "execution_count": 234,
   "id": "8d0f641e",
   "metadata": {},
   "outputs": [
    {
     "data": {
      "image/png": "[encoded data removed]",
      "text/plain": [
       "<Figure size 1440x1080 with 8 Axes>"
      ]
     },
     "metadata": {
      "needs_background": "light"
     },
     "output_type": "display_data"
    }
   ],
   "source": [
    "#Lets check data destribution, visualize the dataset\n",
    "\n",
    "plt.figure(figsize=(20,15))\n",
    "plotnumber=1\n",
    "\n",
    "for column in cols:\n",
    "    if plotnumber<=10:\n",
    "        ax=plt.subplot(4,5, plotnumber)\n",
    "        sns.distplot(df[column])\n",
    "        plt.xlabel(column,fontsize=20)\n",
    "    plotnumber+=1\n",
    "    \n",
    "plt.tight_layout()"
   ]
  },
  {
   "cell_type": "code",
   "execution_count": 235,
   "id": "e8e1090a",
   "metadata": {},
   "outputs": [
    {
     "data": {
      "image/png": "[encoded data removed]",
      "text/plain": [
       "<Figure size 1080x1080 with 8 Axes>"
      ]
     },
     "metadata": {
      "needs_background": "light"
     },
     "output_type": "display_data"
    }
   ],
   "source": [
    "#Finding the outliers using Box plot\n",
    "    #Finding the outliers using boxplot\n",
    "\n",
    "plt.figure(figsize=(15,15))\n",
    "graph=1\n",
    "\n",
    "for column in cols:\n",
    "    \n",
    "    if graph<=10:\n",
    "        \n",
    "        plt.subplot(3,3, graph)\n",
    "        ax=sns.boxplot(data=df[column])\n",
    "        plt.xlabel(column, fontsize=10)\n",
    "    \n",
    "\n",
    "    graph+=1\n",
    "\n",
    "plt.show()"
   ]
  },
  {
   "cell_type": "code",
   "execution_count": 238,
   "id": "3bc2b029",
   "metadata": {
    "scrolled": true
   },
   "outputs": [
    {
     "data": {
      "text/plain": [
       "country                     0\n",
       "country_long                0\n",
       "name                        0\n",
       "gppd_idnr                   0\n",
       "capacity_mw                 0\n",
       "latitude                   46\n",
       "longitude                  46\n",
       "primary_fuel                0\n",
       "other_fuel1               709\n",
       "commissioning_year        380\n",
       "owner                     565\n",
       "source                      0\n",
       "url                         0\n",
       "geolocation_source         19\n",
       "year_of_capacity_data     388\n",
       "generation_gwh_2014       509\n",
       "generation_gwh_2015       485\n",
       "generation_gwh_2016       473\n",
       "generation_gwh_2017       467\n",
       "generation_gwh_2018       459\n",
       "generation_data_source    458\n",
       "dtype: int64"
      ]
     },
     "execution_count": 238,
     "metadata": {},
     "output_type": "execute_result"
    }
   ],
   "source": [
    "df.isna().sum()"
   ]
  },
  {
   "cell_type": "raw",
   "id": "2b884ac3",
   "metadata": {},
   "source": [
    "Other_fuel1, commissioning_year, year_of_capacity_data, generation_gwh_2014,generation_gwh_2015,generation_gwh_2016,generation_gwh_2017,generation_gwh_2018, generation_data_source are having null values which need to replace by mode method"
   ]
  },
  {
   "cell_type": "code",
   "execution_count": 239,
   "id": "10f995eb",
   "metadata": {},
   "outputs": [
    {
     "data": {
      "text/plain": [
       "Central Electricity Authority    449\n",
       "Name: generation_data_source, dtype: int64"
      ]
     },
     "execution_count": 239,
     "metadata": {},
     "output_type": "execute_result"
    }
   ],
   "source": [
    "df[\"generation_data_source\"].value_counts()"
   ]
  },
  {
   "cell_type": "code",
   "execution_count": 240,
   "id": "0b043d87",
   "metadata": {},
   "outputs": [
    {
     "data": {
      "text/plain": [
       "Central Electricity Authority                                  519\n",
       "CDM                                                            124\n",
       "Lancosola                                                       10\n",
       "National Renewable Energy Laboratory                             8\n",
       "National Thermal Power Corporation (NTPC)                        6\n",
       "                                                              ... \n",
       "Harsha Engineers Limited                                         1\n",
       "Godawari Energy ltd                                              1\n",
       "Sunkon Energy Private Limited                                    1\n",
       "West Bengal Energy Development Corporation Limited (WBEDCL)      1\n",
       "Yashwantrao Krishna ssk                                          1\n",
       "Name: source, Length: 191, dtype: int64"
      ]
     },
     "execution_count": 240,
     "metadata": {},
     "output_type": "execute_result"
    }
   ],
   "source": [
    "df[\"source\"].value_counts()"
   ]
  },
  {
   "cell_type": "code",
   "execution_count": 241,
   "id": "82f3c448",
   "metadata": {},
   "outputs": [
    {
     "data": {
      "text/plain": [
       "<AxesSubplot:xlabel='country', ylabel='count'>"
      ]
     },
     "execution_count": 241,
     "metadata": {},
     "output_type": "execute_result"
    },
    {
     "data": {
      "image/png": "[encoded data removed]",
      "text/plain": [
       "<Figure size 432x288 with 1 Axes>"
      ]
     },
     "metadata": {
      "needs_background": "light"
     },
     "output_type": "display_data"
    }
   ],
   "source": [
    "sns.countplot(df[\"country\"])"
   ]
  },
  {
   "cell_type": "code",
   "execution_count": 242,
   "id": "59c0b1a4",
   "metadata": {},
   "outputs": [
    {
     "data": {
      "text/plain": [
       "India    907\n",
       "Name: country_long, dtype: int64"
      ]
     },
     "execution_count": 242,
     "metadata": {},
     "output_type": "execute_result"
    }
   ],
   "source": [
    "df[\"country_long\"].value_counts()"
   ]
  },
  {
   "cell_type": "markdown",
   "id": "41d421d2",
   "metadata": {},
   "source": [
    "-This is the data of Indian Power plants."
   ]
  },
  {
   "cell_type": "code",
   "execution_count": 243,
   "id": "177cb26b",
   "metadata": {},
   "outputs": [
    {
     "data": {
      "text/plain": [
       "WRI1020239    1\n",
       "IND0000356    1\n",
       "IND0000346    1\n",
       "IND0000523    1\n",
       "WRI1019978    1\n",
       "             ..\n",
       "IND0000167    1\n",
       "IND0000168    1\n",
       "IND0000169    1\n",
       "IND0000170    1\n",
       "WRI1026761    1\n",
       "Name: gppd_idnr, Length: 907, dtype: int64"
      ]
     },
     "execution_count": 243,
     "metadata": {},
     "output_type": "execute_result"
    }
   ],
   "source": [
    "df[\"gppd_idnr\"].value_counts()"
   ]
  },
  {
   "cell_type": "markdown",
   "id": "5d19b811",
   "metadata": {},
   "source": [
    "-10 or 12 character identifier for the power plant. "
   ]
  },
  {
   "cell_type": "code",
   "execution_count": 244,
   "id": "0c452345",
   "metadata": {},
   "outputs": [
    {
     "data": {
      "text/plain": [
       "ACME Solar Tower           1\n",
       "RAICHUR                    1\n",
       "PRYAGRAJ (BARA) TPP        1\n",
       "PULICHINTALA               1\n",
       "PUNE MILL                  1\n",
       "                          ..\n",
       "KADANA                     1\n",
       "KADRA                      1\n",
       "KAHALGAON                  1\n",
       "KAIGA                      1\n",
       "iEnergy Theni Wind Farm    1\n",
       "Name: name, Length: 907, dtype: int64"
      ]
     },
     "execution_count": 244,
     "metadata": {},
     "output_type": "execute_result"
    }
   ],
   "source": [
    "#Name of Power Plants\n",
    "df[\"name\"].value_counts()"
   ]
  },
  {
   "cell_type": "markdown",
   "id": "dc7c250d",
   "metadata": {},
   "source": [
    "-This is the dataset of 907 different power plant "
   ]
  },
  {
   "cell_type": "code",
   "execution_count": 245,
   "id": "146c24a5",
   "metadata": {},
   "outputs": [
    {
     "data": {
      "image/png": "[encoded data removed]",
      "text/plain": [
       "<Figure size 720x360 with 1 Axes>"
      ]
     },
     "metadata": {
      "needs_background": "light"
     },
     "output_type": "display_data"
    }
   ],
   "source": [
    "#Finding top 10 countries which is having highest capacity in mw\n",
    "\n",
    "plt.figure(figsize=(10,5))\n",
    "sns.barplot(x=\"capacity_mw\",\n",
    "           y=\"name\",\n",
    "           data=df.nlargest(10,\"capacity_mw\"))\n",
    "plt.show()"
   ]
  },
  {
   "cell_type": "raw",
   "id": "d63d2e6c",
   "metadata": {},
   "source": [
    "-Vindh_chal stps having higest mw power capacity more than 4.5mw, followed by Mundra TPP, Mundra UMPP, SASAN UMPP.\n",
    "-These are the graph of top ten power capacity production plant."
   ]
  },
  {
   "cell_type": "code",
   "execution_count": null,
   "id": "5b74aef0",
   "metadata": {},
   "outputs": [],
   "source": []
  },
  {
   "cell_type": "code",
   "execution_count": 246,
   "id": "cac989c7",
   "metadata": {},
   "outputs": [
    {
     "data": {
      "image/png": "[encoded data removed]",
      "text/plain": [
       "<Figure size 432x288 with 1 Axes>"
      ]
     },
     "metadata": {
      "needs_background": "light"
     },
     "output_type": "display_data"
    }
   ],
   "source": [
    "#Finding top 10 countries which is having lowest capacity in mw\n",
    "sns.barplot(x=\"capacity_mw\",\n",
    "           y=\"name\",\n",
    "           data=df.nsmallest(10,\"capacity_mw\"))\n",
    "\n",
    "\n",
    "plt.show()"
   ]
  },
  {
   "cell_type": "raw",
   "id": "746a23a3",
   "metadata": {},
   "source": [
    "-Solar power plant is lower capacity in mw"
   ]
  },
  {
   "cell_type": "code",
   "execution_count": 247,
   "id": "00192d41",
   "metadata": {},
   "outputs": [
    {
     "data": {
      "text/plain": [
       "(array([ 0,  1,  2,  3,  4,  5,  6,  7,  8,  9, 10, 11, 12, 13, 14, 15, 16,\n",
       "        17, 18, 19, 20, 21, 22, 23, 24, 25, 26, 27, 28, 29, 30, 31, 32, 33,\n",
       "        34, 35, 36, 37, 38, 39, 40, 41, 42, 43, 44, 45, 46, 47, 48, 49, 50,\n",
       "        51, 52, 53, 54, 55, 56, 57, 58, 59, 60, 61, 62, 63, 64, 65, 66, 67,\n",
       "        68, 69, 70, 71, 72]),\n",
       " [Text(0, 0, '1927.0'),\n",
       "  Text(1, 0, '1937.0'),\n",
       "  Text(2, 0, '1939.0'),\n",
       "  Text(3, 0, '1943.0'),\n",
       "  Text(4, 0, '1946.0'),\n",
       "  Text(5, 0, '1949.0'),\n",
       "  Text(6, 0, '1952.0'),\n",
       "  Text(7, 0, '1953.0'),\n",
       "  Text(8, 0, '1954.0'),\n",
       "  Text(9, 0, '1955.0'),\n",
       "  Text(10, 0, '1956.0'),\n",
       "  Text(11, 0, '1957.0'),\n",
       "  Text(12, 0, '1958.0'),\n",
       "  Text(13, 0, '1959.0'),\n",
       "  Text(14, 0, '1960.0'),\n",
       "  Text(15, 0, '1961.0'),\n",
       "  Text(16, 0, '1962.0'),\n",
       "  Text(17, 0, '1963.0'),\n",
       "  Text(18, 0, '1964.0'),\n",
       "  Text(19, 0, '1965.0'),\n",
       "  Text(20, 0, '1966.0'),\n",
       "  Text(21, 0, '1967.0'),\n",
       "  Text(22, 0, '1968.0'),\n",
       "  Text(23, 0, '1969.0'),\n",
       "  Text(24, 0, '1970.0'),\n",
       "  Text(25, 0, '1971.0'),\n",
       "  Text(26, 0, '1972.0'),\n",
       "  Text(27, 0, '1973.0'),\n",
       "  Text(28, 0, '1974.0'),\n",
       "  Text(29, 0, '1975.0'),\n",
       "  Text(30, 0, '1976.0'),\n",
       "  Text(31, 0, '1977.0'),\n",
       "  Text(32, 0, '1978.0'),\n",
       "  Text(33, 0, '1979.0'),\n",
       "  Text(34, 0, '1980.0'),\n",
       "  Text(35, 0, '1981.0'),\n",
       "  Text(36, 0, '1982.0'),\n",
       "  Text(37, 0, '1983.0'),\n",
       "  Text(38, 0, '1984.0'),\n",
       "  Text(39, 0, '1985.0'),\n",
       "  Text(40, 0, '1986.0'),\n",
       "  Text(41, 0, '1987.0'),\n",
       "  Text(42, 0, '1988.0'),\n",
       "  Text(43, 0, '1989.0'),\n",
       "  Text(44, 0, '1990.0'),\n",
       "  Text(45, 0, '1991.0'),\n",
       "  Text(46, 0, '1992.0'),\n",
       "  Text(47, 0, '1993.0'),\n",
       "  Text(48, 0, '1994.0'),\n",
       "  Text(49, 0, '1995.0'),\n",
       "  Text(50, 0, '1996.0'),\n",
       "  Text(51, 0, '1997.0'),\n",
       "  Text(52, 0, '1998.0'),\n",
       "  Text(53, 0, '1999.0'),\n",
       "  Text(54, 0, '2000.0'),\n",
       "  Text(55, 0, '2001.0'),\n",
       "  Text(56, 0, '2002.0'),\n",
       "  Text(57, 0, '2003.0'),\n",
       "  Text(58, 0, '2004.0'),\n",
       "  Text(59, 0, '2005.0'),\n",
       "  Text(60, 0, '2006.0'),\n",
       "  Text(61, 0, '2007.0'),\n",
       "  Text(62, 0, '2008.0'),\n",
       "  Text(63, 0, '2009.0'),\n",
       "  Text(64, 0, '2010.0'),\n",
       "  Text(65, 0, '2011.0'),\n",
       "  Text(66, 0, '2012.0'),\n",
       "  Text(67, 0, '2013.0'),\n",
       "  Text(68, 0, '2014.0'),\n",
       "  Text(69, 0, '2015.0'),\n",
       "  Text(70, 0, '2016.0'),\n",
       "  Text(71, 0, '2017.0'),\n",
       "  Text(72, 0, '2018.0')])"
      ]
     },
     "execution_count": 247,
     "metadata": {},
     "output_type": "execute_result"
    },
    {
     "data": {
      "image/png": "[encoded data removed]",
      "text/plain": [
       "<Figure size 1800x504 with 1 Axes>"
      ]
     },
     "metadata": {
      "needs_background": "light"
     },
     "output_type": "display_data"
    }
   ],
   "source": [
    "plt.figure(figsize=(25,7))\n",
    "sns.countplot(df[\"commissioning_year\"])\n",
    "\n",
    "plt.xticks(rotation = 45)"
   ]
  },
  {
   "cell_type": "code",
   "execution_count": 248,
   "id": "cddd280a",
   "metadata": {},
   "outputs": [
    {
     "data": {
      "text/plain": [
       "2015.0    28\n",
       "2013.0    25\n",
       "2012.0    23\n",
       "2016.0    19\n",
       "2010.0    18\n",
       "          ..\n",
       "1946.0     1\n",
       "1956.0     1\n",
       "1937.0     1\n",
       "1949.0     1\n",
       "1953.0     1\n",
       "Name: commissioning_year, Length: 73, dtype: int64"
      ]
     },
     "execution_count": 248,
     "metadata": {},
     "output_type": "execute_result"
    }
   ],
   "source": [
    "df[\"commissioning_year\"].value_counts()"
   ]
  },
  {
   "cell_type": "raw",
   "id": "6ce937bd",
   "metadata": {},
   "source": [
    "-From above it is observed that most of the power plants are commissioned in 2015: -28 nos., followed by 2013:- 25 nos, 2012:-23nos. & 2016:- 19 nos.\n",
    "-From 1927 to 1956 only few power plants are started. \n",
    "-In 1957 five new power plants are established. \n",
    "-From 1984 the commissioning of power pant trend in upper direction."
   ]
  },
  {
   "cell_type": "code",
   "execution_count": 249,
   "id": "410e03f9",
   "metadata": {},
   "outputs": [
    {
     "data": {
      "image/png": "[encoded data removed]",
      "text/plain": [
       "<Figure size 720x360 with 1 Axes>"
      ]
     },
     "metadata": {
      "needs_background": "light"
     },
     "output_type": "display_data"
    }
   ],
   "source": [
    "#Finding commissioning year which is having highest capacity in mw\n",
    "\n",
    "plt.figure(figsize=(10,5))\n",
    "sns.barplot(y=\"capacity_mw\",\n",
    "           x=\"commissioning_year\",\n",
    "           data=df.nlargest(10,\"capacity_mw\"), ci=None)\n",
    "plt.show()"
   ]
  },
  {
   "cell_type": "code",
   "execution_count": 250,
   "id": "3077cd6e",
   "metadata": {},
   "outputs": [
    {
     "data": {
      "text/plain": [
       "WRI                                     765\n",
       "Industry About                          119\n",
       "National Renewable Energy Laboratory      4\n",
       "Name: geolocation_source, dtype: int64"
      ]
     },
     "execution_count": 250,
     "metadata": {},
     "output_type": "execute_result"
    }
   ],
   "source": [
    "df[\"geolocation_source\"].value_counts()"
   ]
  },
  {
   "cell_type": "code",
   "execution_count": 251,
   "id": "2cdac0bd",
   "metadata": {},
   "outputs": [
    {
     "data": {
      "text/plain": [
       "Coal       258\n",
       "Hydro      251\n",
       "Solar      127\n",
       "Wind       123\n",
       "Gas         69\n",
       "Biomass     50\n",
       "Oil         20\n",
       "Nuclear      9\n",
       "Name: primary_fuel, dtype: int64"
      ]
     },
     "execution_count": 251,
     "metadata": {},
     "output_type": "execute_result"
    }
   ],
   "source": [
    "#Finding which primary fuel required for primary plant operation\n",
    "df[\"primary_fuel\"].value_counts()"
   ]
  },
  {
   "cell_type": "raw",
   "id": "ecfa71c7",
   "metadata": {},
   "source": [
    "-Most of Power plants required Coal(258 plants) as primary fuel, Followed by Hydro(251 plants), Solar(127 plants), Wind(123 nos.), Gas\"-69 nos, Biogas: 50 nos, Oil: 20 nos, & Nuclear: 9 nos."
   ]
  },
  {
   "cell_type": "code",
   "execution_count": 252,
   "id": "7eeb6532",
   "metadata": {},
   "outputs": [
    {
     "data": {
      "image/png": "[encoded data removed]",
      "text/plain": [
       "<Figure size 720x360 with 1 Axes>"
      ]
     },
     "metadata": {
      "needs_background": "light"
     },
     "output_type": "display_data"
    }
   ],
   "source": [
    "plt.figure(figsize=(10,5))\n",
    "sns.countplot(df[\"primary_fuel\"], hue=df[\"geolocation_source\"])\n",
    "plt.show()"
   ]
  },
  {
   "cell_type": "raw",
   "id": "2f72196c",
   "metadata": {},
   "source": [
    "-From above it is observed that coal & hydrogen plants are more in nos. \n",
    "-Followed by Solar plants & then after wind plants.\n"
   ]
  },
  {
   "cell_type": "code",
   "execution_count": 253,
   "id": "b95f68e0",
   "metadata": {},
   "outputs": [
    {
     "data": {
      "image/png": "[encoded data removed]",
      "text/plain": [
       "<Figure size 720x360 with 1 Axes>"
      ]
     },
     "metadata": {
      "needs_background": "light"
     },
     "output_type": "display_data"
    }
   ],
   "source": [
    "\n",
    "\n",
    "plt.figure(figsize=(10,5))\n",
    "sns.barplot(x=\"generation_gwh_2014\",\n",
    "           y=\"name\",\n",
    "           data=df.nlargest(10,\"generation_gwh_2014\"))\n",
    "\n",
    "plt.show()"
   ]
  },
  {
   "cell_type": "markdown",
   "id": "e029da1a",
   "metadata": {},
   "source": [
    "-Mundra TTP, Vindh_chal stps, mundra UMPP are the top generation of energy in gwh. They have produced more than 25K gwh energy in 2014."
   ]
  },
  {
   "cell_type": "code",
   "execution_count": 254,
   "id": "ff2d614e",
   "metadata": {},
   "outputs": [
    {
     "data": {
      "image/png": "[encoded data removed]",
      "text/plain": [
       "<Figure size 720x360 with 1 Axes>"
      ]
     },
     "metadata": {
      "needs_background": "light"
     },
     "output_type": "display_data"
    }
   ],
   "source": [
    "\n",
    "plt.figure(figsize=(10,5))\n",
    "sns.barplot(x=\"generation_gwh_2015\",\n",
    "           y=\"name\",\n",
    "           data=df.nlargest(10,\"generation_gwh_2015\"))\n",
    "\n",
    "plt.show()"
   ]
  },
  {
   "cell_type": "code",
   "execution_count": 255,
   "id": "adab4d74",
   "metadata": {},
   "outputs": [
    {
     "data": {
      "image/png": "[encoded data removed]",
      "text/plain": [
       "<Figure size 720x360 with 1 Axes>"
      ]
     },
     "metadata": {
      "needs_background": "light"
     },
     "output_type": "display_data"
    }
   ],
   "source": [
    "\n",
    "plt.figure(figsize=(10,5))\n",
    "sns.barplot(x=\"generation_gwh_2016\",\n",
    "           y=\"name\",\n",
    "           data=df.nlargest(10,\"generation_gwh_2016\"))\n",
    "\n",
    "plt.show()"
   ]
  },
  {
   "cell_type": "code",
   "execution_count": 256,
   "id": "45d13476",
   "metadata": {},
   "outputs": [
    {
     "data": {
      "image/png": "[encoded data removed]",
      "text/plain": [
       "<Figure size 720x360 with 1 Axes>"
      ]
     },
     "metadata": {
      "needs_background": "light"
     },
     "output_type": "display_data"
    }
   ],
   "source": [
    "\n",
    "plt.figure(figsize=(10,5))\n",
    "sns.barplot(x=\"generation_gwh_2017\",\n",
    "           y=\"name\",\n",
    "           data=df.nlargest(10,\"generation_gwh_2015\"))\n",
    "\n",
    "plt.show()"
   ]
  },
  {
   "cell_type": "code",
   "execution_count": 257,
   "id": "e07ace14",
   "metadata": {},
   "outputs": [
    {
     "data": {
      "image/png": "[encoded data removed]",
      "text/plain": [
       "<Figure size 720x360 with 1 Axes>"
      ]
     },
     "metadata": {
      "needs_background": "light"
     },
     "output_type": "display_data"
    }
   ],
   "source": [
    "\n",
    "plt.figure(figsize=(10,5))\n",
    "sns.barplot(x=\"generation_gwh_2018\",\n",
    "           y=\"name\",\n",
    "           data=df.nlargest(10,\"generation_gwh_2018\"))\n",
    "\n",
    "plt.show()"
   ]
  },
  {
   "cell_type": "markdown",
   "id": "c83f9dea",
   "metadata": {},
   "source": [
    "From all above graph it is observed that VINDH_CHAL STPS, SASAN UMPP, Mundra UMPP are generating highest gwh in every year."
   ]
  },
  {
   "cell_type": "code",
   "execution_count": 258,
   "id": "77183946",
   "metadata": {},
   "outputs": [],
   "source": [
    "#Filling the Null Values using mode method."
   ]
  },
  {
   "cell_type": "code",
   "execution_count": 259,
   "id": "074a8862",
   "metadata": {},
   "outputs": [],
   "source": [
    "df[\"other_fuel1\"]=df[\"other_fuel1\"].fillna(df[\"other_fuel1\"].mode()[0])\n",
    "df[\"commissioning_year\"]=df[\"commissioning_year\"].fillna(df[\"commissioning_year\"].mode()[0])\n",
    "df[\"year_of_capacity_data\"]=df[\"year_of_capacity_data\"].fillna(df[\"year_of_capacity_data\"].mode()[0])\n",
    "df[\"generation_gwh_2014\"]=df[\"generation_gwh_2014\"].fillna(df[\"generation_gwh_2014\"].median())\n",
    "df[\"generation_gwh_2015\"]=df[\"generation_gwh_2015\"].fillna(df[\"generation_gwh_2015\"].median())\n",
    "df[\"generation_gwh_2016\"]=df[\"generation_gwh_2016\"].fillna(df[\"generation_gwh_2016\"].median())\n",
    "df[\"generation_gwh_2017\"]=df[\"generation_gwh_2017\"].fillna(df[\"generation_gwh_2017\"].mode())\n",
    "df[\"generation_gwh_2018\"]=df[\"generation_gwh_2018\"].fillna(df[\"generation_gwh_2018\"].median())\n",
    "df[\"generation_data_source\"]=df[\"generation_data_source\"].fillna(df[\"generation_data_source\"].mode()[0])\n",
    "df[\"owner\"]=df[\"owner\"].fillna(df[\"owner\"].mode()[0])\n"
   ]
  },
  {
   "cell_type": "code",
   "execution_count": 260,
   "id": "ff033dc1",
   "metadata": {},
   "outputs": [],
   "source": [
    "#Dropping less nos. of null values present in dataset\n",
    "df=df.dropna()"
   ]
  },
  {
   "cell_type": "code",
   "execution_count": 261,
   "id": "873eac4c",
   "metadata": {},
   "outputs": [
    {
     "data": {
      "text/plain": [
       "country                   0\n",
       "country_long              0\n",
       "name                      0\n",
       "gppd_idnr                 0\n",
       "capacity_mw               0\n",
       "latitude                  0\n",
       "longitude                 0\n",
       "primary_fuel              0\n",
       "other_fuel1               0\n",
       "commissioning_year        0\n",
       "owner                     0\n",
       "source                    0\n",
       "url                       0\n",
       "geolocation_source        0\n",
       "year_of_capacity_data     0\n",
       "generation_gwh_2014       0\n",
       "generation_gwh_2015       0\n",
       "generation_gwh_2016       0\n",
       "generation_gwh_2017       0\n",
       "generation_gwh_2018       0\n",
       "generation_data_source    0\n",
       "dtype: int64"
      ]
     },
     "execution_count": 261,
     "metadata": {},
     "output_type": "execute_result"
    }
   ],
   "source": [
    "df.isna().sum()"
   ]
  },
  {
   "cell_type": "code",
   "execution_count": 262,
   "id": "e1b67f46",
   "metadata": {},
   "outputs": [
    {
     "data": {
      "text/plain": [
       "(429, 21)"
      ]
     },
     "execution_count": 262,
     "metadata": {},
     "output_type": "execute_result"
    }
   ],
   "source": [
    "#Finding the shape of data\n",
    "df.shape"
   ]
  },
  {
   "cell_type": "raw",
   "id": "109155bc",
   "metadata": {},
   "source": [
    "-Earlier 907 nos. of row now after dropping of null values it bring down to 861 rows."
   ]
  },
  {
   "cell_type": "code",
   "execution_count": 263,
   "id": "330869a9",
   "metadata": {},
   "outputs": [
    {
     "name": "stdout",
     "output_type": "stream",
     "text": [
      "<class 'pandas.core.frame.DataFrame'>\n",
      "Int64Index: 429 entries, 0 to 902\n",
      "Data columns (total 21 columns):\n",
      " #   Column                  Non-Null Count  Dtype  \n",
      "---  ------                  --------------  -----  \n",
      " 0   country                 429 non-null    object \n",
      " 1   country_long            429 non-null    object \n",
      " 2   name                    429 non-null    object \n",
      " 3   gppd_idnr               429 non-null    object \n",
      " 4   capacity_mw             429 non-null    float64\n",
      " 5   latitude                429 non-null    float64\n",
      " 6   longitude               429 non-null    float64\n",
      " 7   primary_fuel            429 non-null    object \n",
      " 8   other_fuel1             429 non-null    object \n",
      " 9   commissioning_year      429 non-null    float64\n",
      " 10  owner                   429 non-null    object \n",
      " 11  source                  429 non-null    object \n",
      " 12  url                     429 non-null    object \n",
      " 13  geolocation_source      429 non-null    object \n",
      " 14  year_of_capacity_data   429 non-null    float64\n",
      " 15  generation_gwh_2014     429 non-null    float64\n",
      " 16  generation_gwh_2015     429 non-null    float64\n",
      " 17  generation_gwh_2016     429 non-null    float64\n",
      " 18  generation_gwh_2017     429 non-null    float64\n",
      " 19  generation_gwh_2018     429 non-null    float64\n",
      " 20  generation_data_source  429 non-null    object \n",
      "dtypes: float64(10), object(11)\n",
      "memory usage: 73.7+ KB\n"
     ]
    }
   ],
   "source": [
    "df.info()"
   ]
  },
  {
   "cell_type": "code",
   "execution_count": 264,
   "id": "21f5575a",
   "metadata": {},
   "outputs": [],
   "source": [
    "#Dropping country column as it will not impact on model trainig\n",
    "df=df.drop([\"country\",\"url\"],axis=1)"
   ]
  },
  {
   "cell_type": "code",
   "execution_count": 265,
   "id": "57005658",
   "metadata": {},
   "outputs": [
    {
     "data": {
      "text/html": [
       "<div>\n",
       "<style scoped>\n",
       "    .dataframe tbody tr th:only-of-type {\n",
       "        vertical-align: middle;\n",
       "    }\n",
       "\n",
       "    .dataframe tbody tr th {\n",
       "        vertical-align: top;\n",
       "    }\n",
       "\n",
       "    .dataframe thead th {\n",
       "        text-align: right;\n",
       "    }\n",
       "</style>\n",
       "<table border=\"1\" class=\"dataframe\">\n",
       "  <thead>\n",
       "    <tr style=\"text-align: right;\">\n",
       "      <th></th>\n",
       "      <th>country_long</th>\n",
       "      <th>name</th>\n",
       "      <th>gppd_idnr</th>\n",
       "      <th>capacity_mw</th>\n",
       "      <th>latitude</th>\n",
       "      <th>longitude</th>\n",
       "      <th>primary_fuel</th>\n",
       "      <th>other_fuel1</th>\n",
       "      <th>commissioning_year</th>\n",
       "      <th>owner</th>\n",
       "      <th>source</th>\n",
       "      <th>geolocation_source</th>\n",
       "      <th>year_of_capacity_data</th>\n",
       "      <th>generation_gwh_2014</th>\n",
       "      <th>generation_gwh_2015</th>\n",
       "      <th>generation_gwh_2016</th>\n",
       "      <th>generation_gwh_2017</th>\n",
       "      <th>generation_gwh_2018</th>\n",
       "      <th>generation_data_source</th>\n",
       "    </tr>\n",
       "  </thead>\n",
       "  <tbody>\n",
       "    <tr>\n",
       "      <th>0</th>\n",
       "      <td>India</td>\n",
       "      <td>ACME Solar Tower</td>\n",
       "      <td>WRI1020239</td>\n",
       "      <td>2.5</td>\n",
       "      <td>28.1839</td>\n",
       "      <td>73.2407</td>\n",
       "      <td>Solar</td>\n",
       "      <td>Oil</td>\n",
       "      <td>2011.0</td>\n",
       "      <td>Solar Paces</td>\n",
       "      <td>National Renewable Energy Laboratory</td>\n",
       "      <td>National Renewable Energy Laboratory</td>\n",
       "      <td>2019.0</td>\n",
       "      <td>801.123775</td>\n",
       "      <td>711.181225</td>\n",
       "      <td>737.205450</td>\n",
       "      <td>0.000000</td>\n",
       "      <td>751.644375</td>\n",
       "      <td>Central Electricity Authority</td>\n",
       "    </tr>\n",
       "    <tr>\n",
       "      <th>3</th>\n",
       "      <td>India</td>\n",
       "      <td>AGARTALA GT</td>\n",
       "      <td>IND0000001</td>\n",
       "      <td>135.0</td>\n",
       "      <td>23.8712</td>\n",
       "      <td>91.3602</td>\n",
       "      <td>Gas</td>\n",
       "      <td>Oil</td>\n",
       "      <td>2004.0</td>\n",
       "      <td>Acc Acc ltd</td>\n",
       "      <td>Central Electricity Authority</td>\n",
       "      <td>WRI</td>\n",
       "      <td>2019.0</td>\n",
       "      <td>617.789264</td>\n",
       "      <td>843.747000</td>\n",
       "      <td>886.004428</td>\n",
       "      <td>663.774500</td>\n",
       "      <td>626.239128</td>\n",
       "      <td>Central Electricity Authority</td>\n",
       "    </tr>\n",
       "    <tr>\n",
       "      <th>4</th>\n",
       "      <td>India</td>\n",
       "      <td>AKALTARA TPP</td>\n",
       "      <td>IND0000002</td>\n",
       "      <td>1800.0</td>\n",
       "      <td>21.9603</td>\n",
       "      <td>82.4091</td>\n",
       "      <td>Coal</td>\n",
       "      <td>Oil</td>\n",
       "      <td>2015.0</td>\n",
       "      <td>Acc Acc ltd</td>\n",
       "      <td>Central Electricity Authority</td>\n",
       "      <td>WRI</td>\n",
       "      <td>2019.0</td>\n",
       "      <td>3035.550000</td>\n",
       "      <td>5916.370000</td>\n",
       "      <td>6243.000000</td>\n",
       "      <td>5385.579736</td>\n",
       "      <td>7279.000000</td>\n",
       "      <td>Central Electricity Authority</td>\n",
       "    </tr>\n",
       "    <tr>\n",
       "      <th>5</th>\n",
       "      <td>India</td>\n",
       "      <td>AKRIMOTA LIG</td>\n",
       "      <td>IND0000003</td>\n",
       "      <td>250.0</td>\n",
       "      <td>23.7689</td>\n",
       "      <td>68.6447</td>\n",
       "      <td>Coal</td>\n",
       "      <td>Oil</td>\n",
       "      <td>2005.0</td>\n",
       "      <td>Acc Acc ltd</td>\n",
       "      <td>Central Electricity Authority</td>\n",
       "      <td>WRI</td>\n",
       "      <td>2019.0</td>\n",
       "      <td>1153.421000</td>\n",
       "      <td>1208.852000</td>\n",
       "      <td>1175.765000</td>\n",
       "      <td>1147.913000</td>\n",
       "      <td>976.655000</td>\n",
       "      <td>Central Electricity Authority</td>\n",
       "    </tr>\n",
       "    <tr>\n",
       "      <th>6</th>\n",
       "      <td>India</td>\n",
       "      <td>ALIYAR</td>\n",
       "      <td>IND0000004</td>\n",
       "      <td>60.0</td>\n",
       "      <td>10.4547</td>\n",
       "      <td>77.0078</td>\n",
       "      <td>Hydro</td>\n",
       "      <td>Oil</td>\n",
       "      <td>1970.0</td>\n",
       "      <td>Acc Acc ltd</td>\n",
       "      <td>Central Electricity Authority</td>\n",
       "      <td>WRI</td>\n",
       "      <td>2019.0</td>\n",
       "      <td>157.558250</td>\n",
       "      <td>152.195200</td>\n",
       "      <td>61.421350</td>\n",
       "      <td>89.629600</td>\n",
       "      <td>48.327150</td>\n",
       "      <td>Central Electricity Authority</td>\n",
       "    </tr>\n",
       "  </tbody>\n",
       "</table>\n",
       "</div>"
      ],
      "text/plain": [
       "  country_long              name   gppd_idnr  capacity_mw  latitude  \\\n",
       "0        India  ACME Solar Tower  WRI1020239          2.5   28.1839   \n",
       "3        India       AGARTALA GT  IND0000001        135.0   23.8712   \n",
       "4        India      AKALTARA TPP  IND0000002       1800.0   21.9603   \n",
       "5        India      AKRIMOTA LIG  IND0000003        250.0   23.7689   \n",
       "6        India            ALIYAR  IND0000004         60.0   10.4547   \n",
       "\n",
       "   longitude primary_fuel other_fuel1  commissioning_year        owner  \\\n",
       "0    73.2407        Solar         Oil              2011.0  Solar Paces   \n",
       "3    91.3602          Gas         Oil              2004.0  Acc Acc ltd   \n",
       "4    82.4091         Coal         Oil              2015.0  Acc Acc ltd   \n",
       "5    68.6447         Coal         Oil              2005.0  Acc Acc ltd   \n",
       "6    77.0078        Hydro         Oil              1970.0  Acc Acc ltd   \n",
       "\n",
       "                                 source                    geolocation_source  \\\n",
       "0  National Renewable Energy Laboratory  National Renewable Energy Laboratory   \n",
       "3         Central Electricity Authority                                   WRI   \n",
       "4         Central Electricity Authority                                   WRI   \n",
       "5         Central Electricity Authority                                   WRI   \n",
       "6         Central Electricity Authority                                   WRI   \n",
       "\n",
       "   year_of_capacity_data  generation_gwh_2014  generation_gwh_2015  \\\n",
       "0                 2019.0           801.123775           711.181225   \n",
       "3                 2019.0           617.789264           843.747000   \n",
       "4                 2019.0          3035.550000          5916.370000   \n",
       "5                 2019.0          1153.421000          1208.852000   \n",
       "6                 2019.0           157.558250           152.195200   \n",
       "\n",
       "   generation_gwh_2016  generation_gwh_2017  generation_gwh_2018  \\\n",
       "0           737.205450             0.000000           751.644375   \n",
       "3           886.004428           663.774500           626.239128   \n",
       "4          6243.000000          5385.579736          7279.000000   \n",
       "5          1175.765000          1147.913000           976.655000   \n",
       "6            61.421350            89.629600            48.327150   \n",
       "\n",
       "          generation_data_source  \n",
       "0  Central Electricity Authority  \n",
       "3  Central Electricity Authority  \n",
       "4  Central Electricity Authority  \n",
       "5  Central Electricity Authority  \n",
       "6  Central Electricity Authority  "
      ]
     },
     "execution_count": 265,
     "metadata": {},
     "output_type": "execute_result"
    }
   ],
   "source": [
    "df.head()"
   ]
  },
  {
   "cell_type": "markdown",
   "id": "72f85dba",
   "metadata": {},
   "source": [
    "# Data Encoding using label encoder"
   ]
  },
  {
   "cell_type": "code",
   "execution_count": 266,
   "id": "ddf16469",
   "metadata": {},
   "outputs": [],
   "source": [
    "from sklearn.preprocessing import LabelEncoder\n",
    "lab_enc= LabelEncoder()"
   ]
  },
  {
   "cell_type": "code",
   "execution_count": 267,
   "id": "f8f3969e",
   "metadata": {},
   "outputs": [
    {
     "data": {
      "text/html": [
       "<div>\n",
       "<style scoped>\n",
       "    .dataframe tbody tr th:only-of-type {\n",
       "        vertical-align: middle;\n",
       "    }\n",
       "\n",
       "    .dataframe tbody tr th {\n",
       "        vertical-align: top;\n",
       "    }\n",
       "\n",
       "    .dataframe thead th {\n",
       "        text-align: right;\n",
       "    }\n",
       "</style>\n",
       "<table border=\"1\" class=\"dataframe\">\n",
       "  <thead>\n",
       "    <tr style=\"text-align: right;\">\n",
       "      <th></th>\n",
       "      <th>country_long</th>\n",
       "      <th>name</th>\n",
       "      <th>gppd_idnr</th>\n",
       "      <th>capacity_mw</th>\n",
       "      <th>latitude</th>\n",
       "      <th>longitude</th>\n",
       "      <th>primary_fuel</th>\n",
       "      <th>other_fuel1</th>\n",
       "      <th>commissioning_year</th>\n",
       "      <th>owner</th>\n",
       "      <th>source</th>\n",
       "      <th>geolocation_source</th>\n",
       "      <th>year_of_capacity_data</th>\n",
       "      <th>generation_gwh_2014</th>\n",
       "      <th>generation_gwh_2015</th>\n",
       "      <th>generation_gwh_2016</th>\n",
       "      <th>generation_gwh_2017</th>\n",
       "      <th>generation_gwh_2018</th>\n",
       "      <th>generation_data_source</th>\n",
       "    </tr>\n",
       "  </thead>\n",
       "  <tbody>\n",
       "    <tr>\n",
       "      <th>0</th>\n",
       "      <td>0</td>\n",
       "      <td>0</td>\n",
       "      <td>428</td>\n",
       "      <td>2.5</td>\n",
       "      <td>28.1839</td>\n",
       "      <td>73.2407</td>\n",
       "      <td>5</td>\n",
       "      <td>2</td>\n",
       "      <td>2011.0</td>\n",
       "      <td>1</td>\n",
       "      <td>1</td>\n",
       "      <td>0</td>\n",
       "      <td>2019.0</td>\n",
       "      <td>801.123775</td>\n",
       "      <td>711.181225</td>\n",
       "      <td>737.205450</td>\n",
       "      <td>0.000000</td>\n",
       "      <td>751.644375</td>\n",
       "      <td>0</td>\n",
       "    </tr>\n",
       "    <tr>\n",
       "      <th>3</th>\n",
       "      <td>0</td>\n",
       "      <td>1</td>\n",
       "      <td>0</td>\n",
       "      <td>135.0</td>\n",
       "      <td>23.8712</td>\n",
       "      <td>91.3602</td>\n",
       "      <td>1</td>\n",
       "      <td>2</td>\n",
       "      <td>2004.0</td>\n",
       "      <td>0</td>\n",
       "      <td>0</td>\n",
       "      <td>1</td>\n",
       "      <td>2019.0</td>\n",
       "      <td>617.789264</td>\n",
       "      <td>843.747000</td>\n",
       "      <td>886.004428</td>\n",
       "      <td>663.774500</td>\n",
       "      <td>626.239128</td>\n",
       "      <td>0</td>\n",
       "    </tr>\n",
       "    <tr>\n",
       "      <th>4</th>\n",
       "      <td>0</td>\n",
       "      <td>2</td>\n",
       "      <td>1</td>\n",
       "      <td>1800.0</td>\n",
       "      <td>21.9603</td>\n",
       "      <td>82.4091</td>\n",
       "      <td>0</td>\n",
       "      <td>2</td>\n",
       "      <td>2015.0</td>\n",
       "      <td>0</td>\n",
       "      <td>0</td>\n",
       "      <td>1</td>\n",
       "      <td>2019.0</td>\n",
       "      <td>3035.550000</td>\n",
       "      <td>5916.370000</td>\n",
       "      <td>6243.000000</td>\n",
       "      <td>5385.579736</td>\n",
       "      <td>7279.000000</td>\n",
       "      <td>0</td>\n",
       "    </tr>\n",
       "    <tr>\n",
       "      <th>5</th>\n",
       "      <td>0</td>\n",
       "      <td>3</td>\n",
       "      <td>2</td>\n",
       "      <td>250.0</td>\n",
       "      <td>23.7689</td>\n",
       "      <td>68.6447</td>\n",
       "      <td>0</td>\n",
       "      <td>2</td>\n",
       "      <td>2005.0</td>\n",
       "      <td>0</td>\n",
       "      <td>0</td>\n",
       "      <td>1</td>\n",
       "      <td>2019.0</td>\n",
       "      <td>1153.421000</td>\n",
       "      <td>1208.852000</td>\n",
       "      <td>1175.765000</td>\n",
       "      <td>1147.913000</td>\n",
       "      <td>976.655000</td>\n",
       "      <td>0</td>\n",
       "    </tr>\n",
       "    <tr>\n",
       "      <th>6</th>\n",
       "      <td>0</td>\n",
       "      <td>4</td>\n",
       "      <td>3</td>\n",
       "      <td>60.0</td>\n",
       "      <td>10.4547</td>\n",
       "      <td>77.0078</td>\n",
       "      <td>2</td>\n",
       "      <td>2</td>\n",
       "      <td>1970.0</td>\n",
       "      <td>0</td>\n",
       "      <td>0</td>\n",
       "      <td>1</td>\n",
       "      <td>2019.0</td>\n",
       "      <td>157.558250</td>\n",
       "      <td>152.195200</td>\n",
       "      <td>61.421350</td>\n",
       "      <td>89.629600</td>\n",
       "      <td>48.327150</td>\n",
       "      <td>0</td>\n",
       "    </tr>\n",
       "  </tbody>\n",
       "</table>\n",
       "</div>"
      ],
      "text/plain": [
       "   country_long  name  gppd_idnr  capacity_mw  latitude  longitude  \\\n",
       "0             0     0        428          2.5   28.1839    73.2407   \n",
       "3             0     1          0        135.0   23.8712    91.3602   \n",
       "4             0     2          1       1800.0   21.9603    82.4091   \n",
       "5             0     3          2        250.0   23.7689    68.6447   \n",
       "6             0     4          3         60.0   10.4547    77.0078   \n",
       "\n",
       "   primary_fuel  other_fuel1  commissioning_year  owner  source  \\\n",
       "0             5            2              2011.0      1       1   \n",
       "3             1            2              2004.0      0       0   \n",
       "4             0            2              2015.0      0       0   \n",
       "5             0            2              2005.0      0       0   \n",
       "6             2            2              1970.0      0       0   \n",
       "\n",
       "   geolocation_source  year_of_capacity_data  generation_gwh_2014  \\\n",
       "0                   0                 2019.0           801.123775   \n",
       "3                   1                 2019.0           617.789264   \n",
       "4                   1                 2019.0          3035.550000   \n",
       "5                   1                 2019.0          1153.421000   \n",
       "6                   1                 2019.0           157.558250   \n",
       "\n",
       "   generation_gwh_2015  generation_gwh_2016  generation_gwh_2017  \\\n",
       "0           711.181225           737.205450             0.000000   \n",
       "3           843.747000           886.004428           663.774500   \n",
       "4          5916.370000          6243.000000          5385.579736   \n",
       "5          1208.852000          1175.765000          1147.913000   \n",
       "6           152.195200            61.421350            89.629600   \n",
       "\n",
       "   generation_gwh_2018  generation_data_source  \n",
       "0           751.644375                       0  \n",
       "3           626.239128                       0  \n",
       "4          7279.000000                       0  \n",
       "5           976.655000                       0  \n",
       "6            48.327150                       0  "
      ]
     },
     "execution_count": 267,
     "metadata": {},
     "output_type": "execute_result"
    }
   ],
   "source": [
    "cols=[\"country_long\",\"name\",\"gppd_idnr\",\"primary_fuel\",\"other_fuel1\",\"owner\",\"source\",\"geolocation_source\",\"generation_data_source\"]\n",
    "\n",
    "df[cols]=df[cols].apply(LabelEncoder().fit_transform)\n",
    "\n",
    "df.head()"
   ]
  },
  {
   "cell_type": "code",
   "execution_count": 268,
   "id": "41ad21f0",
   "metadata": {},
   "outputs": [
    {
     "data": {
      "text/plain": [
       "<AxesSubplot:>"
      ]
     },
     "execution_count": 268,
     "metadata": {},
     "output_type": "execute_result"
    },
    {
     "data": {
      "image/png": "[encoded data removed]",
      "text/plain": [
       "<Figure size 2160x2160 with 2 Axes>"
      ]
     },
     "metadata": {
      "needs_background": "light"
     },
     "output_type": "display_data"
    }
   ],
   "source": [
    "#Finding the correlationship between dataset using heatmap\n",
    "plt.figure(figsize=(30,30))\n",
    "sns.heatmap(df.corr(), annot=True)"
   ]
  },
  {
   "cell_type": "markdown",
   "id": "d57fcd1c",
   "metadata": {},
   "source": [
    "# Scaling using Standard scalar"
   ]
  },
  {
   "cell_type": "code",
   "execution_count": 269,
   "id": "524cc687",
   "metadata": {},
   "outputs": [],
   "source": [
    "x=df.drop(\"primary_fuel\", axis=1)\n",
    "y=df[\"primary_fuel\"]"
   ]
  },
  {
   "cell_type": "code",
   "execution_count": 270,
   "id": "ddb39571",
   "metadata": {},
   "outputs": [],
   "source": [
    "#Scaling of dataset\n",
    "scalar=StandardScaler()\n",
    "x_scaled=scalar.fit_transform(x)"
   ]
  },
  {
   "cell_type": "code",
   "execution_count": 271,
   "id": "460929c0",
   "metadata": {},
   "outputs": [
    {
     "data": {
      "text/html": [
       "<div>\n",
       "<style scoped>\n",
       "    .dataframe tbody tr th:only-of-type {\n",
       "        vertical-align: middle;\n",
       "    }\n",
       "\n",
       "    .dataframe tbody tr th {\n",
       "        vertical-align: top;\n",
       "    }\n",
       "\n",
       "    .dataframe thead th {\n",
       "        text-align: right;\n",
       "    }\n",
       "</style>\n",
       "<table border=\"1\" class=\"dataframe\">\n",
       "  <thead>\n",
       "    <tr style=\"text-align: right;\">\n",
       "      <th></th>\n",
       "      <th>vif</th>\n",
       "      <th>features</th>\n",
       "    </tr>\n",
       "  </thead>\n",
       "  <tbody>\n",
       "    <tr>\n",
       "      <th>0</th>\n",
       "      <td>NaN</td>\n",
       "      <td>country_long</td>\n",
       "    </tr>\n",
       "    <tr>\n",
       "      <th>1</th>\n",
       "      <td>6.612588</td>\n",
       "      <td>name</td>\n",
       "    </tr>\n",
       "    <tr>\n",
       "      <th>2</th>\n",
       "      <td>6.543725</td>\n",
       "      <td>gppd_idnr</td>\n",
       "    </tr>\n",
       "    <tr>\n",
       "      <th>3</th>\n",
       "      <td>6.196571</td>\n",
       "      <td>capacity_mw</td>\n",
       "    </tr>\n",
       "    <tr>\n",
       "      <th>4</th>\n",
       "      <td>1.076411</td>\n",
       "      <td>latitude</td>\n",
       "    </tr>\n",
       "    <tr>\n",
       "      <th>5</th>\n",
       "      <td>1.089527</td>\n",
       "      <td>longitude</td>\n",
       "    </tr>\n",
       "    <tr>\n",
       "      <th>6</th>\n",
       "      <td>1.014907</td>\n",
       "      <td>other_fuel1</td>\n",
       "    </tr>\n",
       "    <tr>\n",
       "      <th>7</th>\n",
       "      <td>1.319156</td>\n",
       "      <td>commissioning_year</td>\n",
       "    </tr>\n",
       "    <tr>\n",
       "      <th>8</th>\n",
       "      <td>inf</td>\n",
       "      <td>owner</td>\n",
       "    </tr>\n",
       "    <tr>\n",
       "      <th>9</th>\n",
       "      <td>inf</td>\n",
       "      <td>source</td>\n",
       "    </tr>\n",
       "    <tr>\n",
       "      <th>10</th>\n",
       "      <td>inf</td>\n",
       "      <td>geolocation_source</td>\n",
       "    </tr>\n",
       "    <tr>\n",
       "      <th>11</th>\n",
       "      <td>NaN</td>\n",
       "      <td>year_of_capacity_data</td>\n",
       "    </tr>\n",
       "    <tr>\n",
       "      <th>12</th>\n",
       "      <td>13.518028</td>\n",
       "      <td>generation_gwh_2014</td>\n",
       "    </tr>\n",
       "    <tr>\n",
       "      <th>13</th>\n",
       "      <td>31.973117</td>\n",
       "      <td>generation_gwh_2015</td>\n",
       "    </tr>\n",
       "    <tr>\n",
       "      <th>14</th>\n",
       "      <td>41.474903</td>\n",
       "      <td>generation_gwh_2016</td>\n",
       "    </tr>\n",
       "    <tr>\n",
       "      <th>15</th>\n",
       "      <td>49.973408</td>\n",
       "      <td>generation_gwh_2017</td>\n",
       "    </tr>\n",
       "    <tr>\n",
       "      <th>16</th>\n",
       "      <td>41.923974</td>\n",
       "      <td>generation_gwh_2018</td>\n",
       "    </tr>\n",
       "    <tr>\n",
       "      <th>17</th>\n",
       "      <td>NaN</td>\n",
       "      <td>generation_data_source</td>\n",
       "    </tr>\n",
       "  </tbody>\n",
       "</table>\n",
       "</div>"
      ],
      "text/plain": [
       "          vif                features\n",
       "0         NaN            country_long\n",
       "1    6.612588                    name\n",
       "2    6.543725               gppd_idnr\n",
       "3    6.196571             capacity_mw\n",
       "4    1.076411                latitude\n",
       "5    1.089527               longitude\n",
       "6    1.014907             other_fuel1\n",
       "7    1.319156      commissioning_year\n",
       "8         inf                   owner\n",
       "9         inf                  source\n",
       "10        inf      geolocation_source\n",
       "11        NaN   year_of_capacity_data\n",
       "12  13.518028     generation_gwh_2014\n",
       "13  31.973117     generation_gwh_2015\n",
       "14  41.474903     generation_gwh_2016\n",
       "15  49.973408     generation_gwh_2017\n",
       "16  41.923974     generation_gwh_2018\n",
       "17        NaN  generation_data_source"
      ]
     },
     "execution_count": 271,
     "metadata": {},
     "output_type": "execute_result"
    }
   ],
   "source": [
    "#Finding Variance inflation factor to check multicolinearity\n",
    "\n",
    "vif=pd.DataFrame()\n",
    "vif[\"vif\"]=[variance_inflation_factor(x_scaled, i) for i in range(x_scaled.shape[1])]\n",
    "vif[\"features\"]=x.columns\n",
    "\n",
    "vif\n"
   ]
  },
  {
   "cell_type": "code",
   "execution_count": 272,
   "id": "553dbbb1",
   "metadata": {},
   "outputs": [],
   "source": [
    "x_train, x_test, y_train, y_test= train_test_split(x_scaled,y, test_size=0.25, random_state=1)"
   ]
  },
  {
   "cell_type": "code",
   "execution_count": 273,
   "id": "ef92a57b",
   "metadata": {},
   "outputs": [],
   "source": [
    "# Write a function & call to check accuracy score of different model\n",
    "\n",
    "def metric_score (clf, x_train, x_test, y_train, y_test, train=True):\n",
    "    if train:\n",
    "        y_pred=clf.predict(x_train)\n",
    "        \n",
    "        print(\"\\n =============Train Result===============\")\n",
    "        print(f\"Accuracy score:{accuracy_score(y_train, y_pred)*100:.2f}%\")\n",
    "        \n",
    "    elif train==False:\n",
    "        pred=clf.predict(x_test)\n",
    "        \n",
    "        print(\"\\n =============Test Result================\")\n",
    "        print(f\"Accuracy score:{accuracy_score(y_test, pred)*100:.2f}%\")\n",
    "        \n",
    "        print(\"\\n \\n classification report \\n\", classification_report(y_test, pred, digits=2))\n",
    "        "
   ]
  },
  {
   "cell_type": "markdown",
   "id": "841b58f1",
   "metadata": {},
   "source": [
    "# Descision Tree"
   ]
  },
  {
   "cell_type": "code",
   "execution_count": 274,
   "id": "6150386e",
   "metadata": {},
   "outputs": [
    {
     "data": {
      "text/plain": [
       "DecisionTreeClassifier()"
      ]
     },
     "execution_count": 274,
     "metadata": {},
     "output_type": "execute_result"
    }
   ],
   "source": [
    "#Model initialization\n",
    "# Trying for Decision tree Classifier\n",
    "\n",
    "clf=DecisionTreeClassifier()\n",
    "clf.fit(x_train, y_train)"
   ]
  },
  {
   "cell_type": "code",
   "execution_count": 275,
   "id": "1780be99",
   "metadata": {},
   "outputs": [
    {
     "name": "stdout",
     "output_type": "stream",
     "text": [
      "\n",
      " =============Train Result===============\n",
      "Accuracy score:100.00%\n",
      "\n",
      " =============Test Result================\n",
      "Accuracy score:80.56%\n",
      "\n",
      " \n",
      " classification report \n",
      "               precision    recall  f1-score   support\n",
      "\n",
      "           0       0.82      0.89      0.85        46\n",
      "           1       0.56      0.31      0.40        16\n",
      "           2       0.89      0.91      0.90        45\n",
      "           3       0.00      0.00      0.00         1\n",
      "           4       0.00      0.00      0.00         0\n",
      "\n",
      "    accuracy                           0.81       108\n",
      "   macro avg       0.45      0.42      0.43       108\n",
      "weighted avg       0.80      0.81      0.80       108\n",
      "\n"
     ]
    }
   ],
   "source": [
    "# Call the function & pass the data set into it.\n",
    "\n",
    "metric_score(clf, x_train, x_test, y_train, y_test, train=True)  # This is for trainig score\n",
    "metric_score(clf, x_train, x_test, y_train, y_test, train=False)  #This is for testing score"
   ]
  },
  {
   "cell_type": "code",
   "execution_count": 276,
   "id": "e3da0534",
   "metadata": {},
   "outputs": [],
   "source": [
    "#Tunning four important parameters & passing different values for both parameters\n",
    "grid_param={\n",
    "    \"criterion\":[\"gini\",\"entropy\"],\n",
    "    \"max_depth\":range(10,15),\n",
    "    \"min_samples_leaf\":range(2,6),\n",
    "    \"min_samples_split\":range(3,8),\n",
    "    \"max_leaf_nodes\":range(5,10)\n",
    "}"
   ]
  },
  {
   "cell_type": "code",
   "execution_count": 277,
   "id": "4e296028",
   "metadata": {},
   "outputs": [],
   "source": [
    "grid_search=GridSearchCV(estimator=clf,\n",
    "                        param_grid=grid_param,\n",
    "                        cv=5,\n",
    "                        n_jobs=-1)"
   ]
  },
  {
   "cell_type": "code",
   "execution_count": 278,
   "id": "3f00a7e4",
   "metadata": {},
   "outputs": [
    {
     "data": {
      "text/plain": [
       "GridSearchCV(cv=5, estimator=DecisionTreeClassifier(), n_jobs=-1,\n",
       "             param_grid={'criterion': ['gini', 'entropy'],\n",
       "                         'max_depth': range(10, 15),\n",
       "                         'max_leaf_nodes': range(5, 10),\n",
       "                         'min_samples_leaf': range(2, 6),\n",
       "                         'min_samples_split': range(3, 8)})"
      ]
     },
     "execution_count": 278,
     "metadata": {},
     "output_type": "execute_result"
    }
   ],
   "source": [
    "grid_search.fit(x_train, y_train)"
   ]
  },
  {
   "cell_type": "code",
   "execution_count": 279,
   "id": "422b2a85",
   "metadata": {},
   "outputs": [
    {
     "name": "stdout",
     "output_type": "stream",
     "text": [
      "{'criterion': 'gini', 'max_depth': 10, 'max_leaf_nodes': 9, 'min_samples_leaf': 2, 'min_samples_split': 4}\n"
     ]
    }
   ],
   "source": [
    "#Finding the best parameters\n",
    "best_parameters=grid_search.best_params_\n",
    "\n",
    "print(best_parameters)\n"
   ]
  },
  {
   "cell_type": "code",
   "execution_count": 280,
   "id": "cf771d9b",
   "metadata": {},
   "outputs": [
    {
     "data": {
      "text/plain": [
       "DecisionTreeClassifier(max_depth=10, max_leaf_nodes=9, min_samples_leaf=2,\n",
       "                       min_samples_split=4)"
      ]
     },
     "execution_count": 280,
     "metadata": {},
     "output_type": "execute_result"
    }
   ],
   "source": [
    "#Initiating new parameters in decision tree classifier & train\n",
    "\n",
    "clf=DecisionTreeClassifier(criterion= \"gini\", max_depth= 10,min_samples_split=4, max_leaf_nodes= 9, min_samples_leaf=2 )\n",
    "\n",
    "#training of model\n",
    "\n",
    "clf.fit(x_train, y_train)"
   ]
  },
  {
   "cell_type": "code",
   "execution_count": 281,
   "id": "d402cfde",
   "metadata": {},
   "outputs": [
    {
     "name": "stdout",
     "output_type": "stream",
     "text": [
      "\n",
      " =============Train Result===============\n",
      "Accuracy score:79.75%\n",
      "\n",
      " =============Test Result================\n",
      "Accuracy score:75.00%\n",
      "\n",
      " \n",
      " classification report \n",
      "               precision    recall  f1-score   support\n",
      "\n",
      "           0       0.78      0.93      0.85        46\n",
      "           1       0.36      0.25      0.30        16\n",
      "           2       0.81      0.76      0.78        45\n",
      "           3       0.00      0.00      0.00         1\n",
      "\n",
      "    accuracy                           0.75       108\n",
      "   macro avg       0.49      0.49      0.48       108\n",
      "weighted avg       0.72      0.75      0.73       108\n",
      "\n"
     ]
    }
   ],
   "source": [
    "#Now call the function & pass the data set & train the model\n",
    "\n",
    "metric_score(clf, x_train, x_test, y_train, y_test, train=True)  # This is for trainig score\n",
    "metric_score(clf, x_train, x_test, y_train, y_test, train=False)  #This is for testing score\n"
   ]
  },
  {
   "cell_type": "code",
   "execution_count": 282,
   "id": "1966d39e",
   "metadata": {},
   "outputs": [
    {
     "data": {
      "text/plain": [
       "array([0, 0, 1, 1, 2, 0, 2, 2, 0, 0, 0, 0, 2, 0, 1, 0, 0, 2, 2, 0, 2, 0,\n",
       "       2, 0, 0, 2, 1, 2, 2, 0, 0, 0, 0, 2, 2, 0, 2, 0, 2, 0, 0, 2, 2, 1,\n",
       "       1, 2, 2, 2, 2, 2, 0, 0, 2, 2, 0, 2, 2, 1, 0, 0, 2, 0, 0, 0, 2, 2,\n",
       "       0, 2, 2, 0, 0, 2, 2, 0, 2, 0, 2, 0, 0, 0, 0, 1, 0, 0, 2, 2, 2, 1,\n",
       "       2, 0, 2, 0, 2, 0, 0, 0, 0, 0, 0, 0, 2, 0, 1, 0, 0, 0, 0, 1])"
      ]
     },
     "execution_count": 282,
     "metadata": {},
     "output_type": "execute_result"
    }
   ],
   "source": [
    "#Predicting y_pred\n",
    "\n",
    "y_pred=clf.predict(x_test)\n",
    "y_pred"
   ]
  },
  {
   "cell_type": "code",
   "execution_count": 283,
   "id": "da93b947",
   "metadata": {},
   "outputs": [
    {
     "data": {
      "text/plain": [
       "array([[43,  0,  3,  0],\n",
       "       [ 7,  4,  5,  0],\n",
       "       [ 4,  7, 34,  0],\n",
       "       [ 1,  0,  0,  0]], dtype=int64)"
      ]
     },
     "execution_count": 283,
     "metadata": {},
     "output_type": "execute_result"
    }
   ],
   "source": [
    "#Plotting confusion matrix.\n",
    "\n",
    "conf_matrix=confusion_matrix(y_test, y_pred)\n",
    "conf_matrix"
   ]
  },
  {
   "cell_type": "code",
   "execution_count": 285,
   "id": "e8adbe52",
   "metadata": {},
   "outputs": [],
   "source": [
    "#Saving the model in local file system \n",
    "import pickle\n",
    "\n",
    "pickle.dump(clf, open(\"clf\", \"wb\"))"
   ]
  },
  {
   "cell_type": "code",
   "execution_count": 286,
   "id": "cefda3f9",
   "metadata": {},
   "outputs": [
    {
     "name": "stdout",
     "output_type": "stream",
     "text": [
      "75.0\n"
     ]
    }
   ],
   "source": [
    "loaded_model=pickle.load(open(\"clf\", \"rb\"))\n",
    "result=loaded_model.score(x_test, y_test)\n",
    "print(result*100)"
   ]
  },
  {
   "cell_type": "code",
   "execution_count": 287,
   "id": "24313d1c",
   "metadata": {},
   "outputs": [
    {
     "data": {
      "text/html": [
       "<div>\n",
       "<style scoped>\n",
       "    .dataframe tbody tr th:only-of-type {\n",
       "        vertical-align: middle;\n",
       "    }\n",
       "\n",
       "    .dataframe tbody tr th {\n",
       "        vertical-align: top;\n",
       "    }\n",
       "\n",
       "    .dataframe thead th {\n",
       "        text-align: right;\n",
       "    }\n",
       "</style>\n",
       "<table border=\"1\" class=\"dataframe\">\n",
       "  <thead>\n",
       "    <tr style=\"text-align: right;\">\n",
       "      <th></th>\n",
       "      <th>0</th>\n",
       "      <th>1</th>\n",
       "      <th>2</th>\n",
       "      <th>3</th>\n",
       "      <th>4</th>\n",
       "      <th>5</th>\n",
       "      <th>6</th>\n",
       "      <th>7</th>\n",
       "      <th>8</th>\n",
       "      <th>9</th>\n",
       "      <th>...</th>\n",
       "      <th>98</th>\n",
       "      <th>99</th>\n",
       "      <th>100</th>\n",
       "      <th>101</th>\n",
       "      <th>102</th>\n",
       "      <th>103</th>\n",
       "      <th>104</th>\n",
       "      <th>105</th>\n",
       "      <th>106</th>\n",
       "      <th>107</th>\n",
       "    </tr>\n",
       "  </thead>\n",
       "  <tbody>\n",
       "    <tr>\n",
       "      <th>Predicted</th>\n",
       "      <td>0</td>\n",
       "      <td>0</td>\n",
       "      <td>1</td>\n",
       "      <td>1</td>\n",
       "      <td>2</td>\n",
       "      <td>0</td>\n",
       "      <td>2</td>\n",
       "      <td>2</td>\n",
       "      <td>0</td>\n",
       "      <td>0</td>\n",
       "      <td>...</td>\n",
       "      <td>0</td>\n",
       "      <td>0</td>\n",
       "      <td>2</td>\n",
       "      <td>0</td>\n",
       "      <td>1</td>\n",
       "      <td>0</td>\n",
       "      <td>0</td>\n",
       "      <td>0</td>\n",
       "      <td>0</td>\n",
       "      <td>1</td>\n",
       "    </tr>\n",
       "    <tr>\n",
       "      <th>Original</th>\n",
       "      <td>1</td>\n",
       "      <td>0</td>\n",
       "      <td>2</td>\n",
       "      <td>1</td>\n",
       "      <td>2</td>\n",
       "      <td>0</td>\n",
       "      <td>2</td>\n",
       "      <td>2</td>\n",
       "      <td>0</td>\n",
       "      <td>0</td>\n",
       "      <td>...</td>\n",
       "      <td>0</td>\n",
       "      <td>0</td>\n",
       "      <td>2</td>\n",
       "      <td>0</td>\n",
       "      <td>2</td>\n",
       "      <td>1</td>\n",
       "      <td>2</td>\n",
       "      <td>0</td>\n",
       "      <td>0</td>\n",
       "      <td>1</td>\n",
       "    </tr>\n",
       "  </tbody>\n",
       "</table>\n",
       "<p>2 rows × 108 columns</p>\n",
       "</div>"
      ],
      "text/plain": [
       "           0    1    2    3    4    5    6    7    8    9    ...  98   99   \\\n",
       "Predicted    0    0    1    1    2    0    2    2    0    0  ...    0    0   \n",
       "Original     1    0    2    1    2    0    2    2    0    0  ...    0    0   \n",
       "\n",
       "           100  101  102  103  104  105  106  107  \n",
       "Predicted    2    0    1    0    0    0    0    1  \n",
       "Original     2    0    2    1    2    0    0    1  \n",
       "\n",
       "[2 rows x 108 columns]"
      ]
     },
     "execution_count": 287,
     "metadata": {},
     "output_type": "execute_result"
    }
   ],
   "source": [
    "conclusion=pd.DataFrame([loaded_model.predict(x_test)[:],y_test[:]],index=[\"Predicted\", \"Original\"])\n",
    "conclusion"
   ]
  },
  {
   "cell_type": "code",
   "execution_count": 300,
   "id": "c0c8d9c3",
   "metadata": {},
   "outputs": [
    {
     "data": {
      "text/html": [
       "<div>\n",
       "<style scoped>\n",
       "    .dataframe tbody tr th:only-of-type {\n",
       "        vertical-align: middle;\n",
       "    }\n",
       "\n",
       "    .dataframe tbody tr th {\n",
       "        vertical-align: top;\n",
       "    }\n",
       "\n",
       "    .dataframe thead th {\n",
       "        text-align: right;\n",
       "    }\n",
       "</style>\n",
       "<table border=\"1\" class=\"dataframe\">\n",
       "  <thead>\n",
       "    <tr style=\"text-align: right;\">\n",
       "      <th></th>\n",
       "      <th>country_long</th>\n",
       "      <th>name</th>\n",
       "      <th>gppd_idnr</th>\n",
       "      <th>capacity_mw</th>\n",
       "      <th>latitude</th>\n",
       "      <th>longitude</th>\n",
       "      <th>other_fuel1</th>\n",
       "      <th>commissioning_year</th>\n",
       "      <th>owner</th>\n",
       "      <th>source</th>\n",
       "      <th>geolocation_source</th>\n",
       "      <th>year_of_capacity_data</th>\n",
       "      <th>generation_gwh_2014</th>\n",
       "      <th>generation_gwh_2015</th>\n",
       "      <th>generation_gwh_2016</th>\n",
       "      <th>generation_gwh_2017</th>\n",
       "      <th>generation_gwh_2018</th>\n",
       "      <th>generation_data_source</th>\n",
       "    </tr>\n",
       "  </thead>\n",
       "  <tbody>\n",
       "    <tr>\n",
       "      <th>0</th>\n",
       "      <td>0</td>\n",
       "      <td>0</td>\n",
       "      <td>428</td>\n",
       "      <td>2.5</td>\n",
       "      <td>28.1839</td>\n",
       "      <td>73.2407</td>\n",
       "      <td>2</td>\n",
       "      <td>2011.0</td>\n",
       "      <td>1</td>\n",
       "      <td>1</td>\n",
       "      <td>0</td>\n",
       "      <td>2019.0</td>\n",
       "      <td>801.123775</td>\n",
       "      <td>711.181225</td>\n",
       "      <td>737.205450</td>\n",
       "      <td>0.0000</td>\n",
       "      <td>751.644375</td>\n",
       "      <td>0</td>\n",
       "    </tr>\n",
       "    <tr>\n",
       "      <th>3</th>\n",
       "      <td>0</td>\n",
       "      <td>1</td>\n",
       "      <td>0</td>\n",
       "      <td>135.0</td>\n",
       "      <td>23.8712</td>\n",
       "      <td>91.3602</td>\n",
       "      <td>2</td>\n",
       "      <td>2004.0</td>\n",
       "      <td>0</td>\n",
       "      <td>0</td>\n",
       "      <td>1</td>\n",
       "      <td>2019.0</td>\n",
       "      <td>617.789264</td>\n",
       "      <td>843.747000</td>\n",
       "      <td>886.004428</td>\n",
       "      <td>663.7745</td>\n",
       "      <td>626.239128</td>\n",
       "      <td>0</td>\n",
       "    </tr>\n",
       "  </tbody>\n",
       "</table>\n",
       "</div>"
      ],
      "text/plain": [
       "   country_long  name  gppd_idnr  capacity_mw  latitude  longitude  \\\n",
       "0             0     0        428          2.5   28.1839    73.2407   \n",
       "3             0     1          0        135.0   23.8712    91.3602   \n",
       "\n",
       "   other_fuel1  commissioning_year  owner  source  geolocation_source  \\\n",
       "0            2              2011.0      1       1                   0   \n",
       "3            2              2004.0      0       0                   1   \n",
       "\n",
       "   year_of_capacity_data  generation_gwh_2014  generation_gwh_2015  \\\n",
       "0                 2019.0           801.123775           711.181225   \n",
       "3                 2019.0           617.789264           843.747000   \n",
       "\n",
       "   generation_gwh_2016  generation_gwh_2017  generation_gwh_2018  \\\n",
       "0           737.205450               0.0000           751.644375   \n",
       "3           886.004428             663.7745           626.239128   \n",
       "\n",
       "   generation_data_source  \n",
       "0                       0  \n",
       "3                       0  "
      ]
     },
     "execution_count": 300,
     "metadata": {},
     "output_type": "execute_result"
    }
   ],
   "source": [
    "x.head(2)"
   ]
  },
  {
   "cell_type": "code",
   "execution_count": 301,
   "id": "e9c4bab7",
   "metadata": {},
   "outputs": [
    {
     "data": {
      "text/plain": [
       "0    5\n",
       "3    1\n",
       "Name: primary_fuel, dtype: int32"
      ]
     },
     "execution_count": 301,
     "metadata": {},
     "output_type": "execute_result"
    }
   ],
   "source": [
    "y.head(2)"
   ]
  },
  {
   "cell_type": "code",
   "execution_count": 302,
   "id": "a70f0a97",
   "metadata": {},
   "outputs": [
    {
     "name": "stdout",
     "output_type": "stream",
     "text": [
      "Prediction of Primary Fuel:   [2]\n",
      "Prediction of Primary Fuel:   [1]\n"
     ]
    }
   ],
   "source": [
    "print(\"Prediction of Primary Fuel:  \", clf.predict(scalar.transform([[0,0,428,2.5,28.1839,73.2407,2,2011.0,1,1,0,2019.0,801.123775,711.181225,737.205450,0.000000,751.644375,0]])))\n",
    "\n",
    "\n",
    "\n",
    "print(\"Prediction of Primary Fuel:  \", clf.predict(scalar.transform([[0,1,0,135.0,23.8712,91.3602,2,2004.0,0,0,1,2019.0,617.789264,843.747000,886.004428,663.774500,626.239128,0]])))"
   ]
  },
  {
   "cell_type": "code",
   "execution_count": null,
   "id": "ef304f1e",
   "metadata": {},
   "outputs": [],
   "source": []
  },
  {
   "cell_type": "markdown",
   "id": "2cc561fb",
   "metadata": {},
   "source": [
    "# Using KNN Classifier"
   ]
  },
  {
   "cell_type": "code",
   "execution_count": 303,
   "id": "4de20dbe",
   "metadata": {},
   "outputs": [
    {
     "data": {
      "text/plain": [
       "KNeighborsClassifier()"
      ]
     },
     "execution_count": 303,
     "metadata": {},
     "output_type": "execute_result"
    }
   ],
   "source": [
    "#Initiate Kneighbor classifier\n",
    "knn=KNeighborsClassifier()\n",
    "\n",
    "#Model Training\n",
    "knn.fit(x_train,y_train)"
   ]
  },
  {
   "cell_type": "code",
   "execution_count": 304,
   "id": "ba20d4fd",
   "metadata": {},
   "outputs": [
    {
     "name": "stdout",
     "output_type": "stream",
     "text": [
      "\n",
      " =============Train Result===============\n",
      "Accuracy score:79.44%\n",
      "\n",
      " =============Test Result================\n",
      "Accuracy score:70.37%\n",
      "\n",
      " \n",
      " classification report \n",
      "               precision    recall  f1-score   support\n",
      "\n",
      "           0       0.78      0.78      0.78        46\n",
      "           1       0.38      0.19      0.25        16\n",
      "           2       0.70      0.82      0.76        45\n",
      "           3       0.00      0.00      0.00         1\n",
      "\n",
      "    accuracy                           0.70       108\n",
      "   macro avg       0.46      0.45      0.45       108\n",
      "weighted avg       0.68      0.70      0.68       108\n",
      "\n"
     ]
    }
   ],
   "source": [
    "# Call the function & pass the dataset to check train test score\n",
    "metric_score(knn, x_train, x_test, y_train, y_test, train=True)\n",
    "\n",
    "metric_score(knn, x_train, x_test, y_train, y_test, train=False)"
   ]
  },
  {
   "cell_type": "code",
   "execution_count": 305,
   "id": "dbeb03de",
   "metadata": {},
   "outputs": [
    {
     "data": {
      "text/plain": [
       "array([0.65116279, 0.70930233, 0.73255814, 0.70930233, 0.69411765])"
      ]
     },
     "execution_count": 305,
     "metadata": {},
     "output_type": "execute_result"
    }
   ],
   "source": [
    "#cross validationscore to check if the model is overfitting\n",
    "from sklearn.model_selection import KFold, cross_val_score\n",
    "\n",
    "cross_val_score(knn,x_scaled,y, cv=5)\n"
   ]
  },
  {
   "cell_type": "code",
   "execution_count": 306,
   "id": "1b8ef3f1",
   "metadata": {},
   "outputs": [
    {
     "data": {
      "text/plain": [
       "0.6992886456908345"
      ]
     },
     "execution_count": 306,
     "metadata": {},
     "output_type": "execute_result"
    }
   ],
   "source": [
    "cross_val_score(KNeighborsClassifier(),x_scaled,y, cv=5).mean()"
   ]
  },
  {
   "cell_type": "code",
   "execution_count": 307,
   "id": "d04baeb5",
   "metadata": {},
   "outputs": [],
   "source": [
    "from sklearn.model_selection import GridSearchCV"
   ]
  },
  {
   "cell_type": "code",
   "execution_count": 308,
   "id": "828027c7",
   "metadata": {},
   "outputs": [],
   "source": [
    "param_grid={\"algorithm\":[\"kd_tree\",\"brute\"],\n",
    "           \"leaf_size\":[3,5,6,7,8],\n",
    "           \"n_neighbors\": [3,5,7,9,11,13]}"
   ]
  },
  {
   "cell_type": "code",
   "execution_count": 309,
   "id": "71d9133a",
   "metadata": {},
   "outputs": [],
   "source": [
    "gridsearch=GridSearchCV(estimator=knn, param_grid=param_grid)"
   ]
  },
  {
   "cell_type": "code",
   "execution_count": 310,
   "id": "71326817",
   "metadata": {},
   "outputs": [
    {
     "data": {
      "text/plain": [
       "GridSearchCV(estimator=KNeighborsClassifier(),\n",
       "             param_grid={'algorithm': ['kd_tree', 'brute'],\n",
       "                         'leaf_size': [3, 5, 6, 7, 8],\n",
       "                         'n_neighbors': [3, 5, 7, 9, 11, 13]})"
      ]
     },
     "execution_count": 310,
     "metadata": {},
     "output_type": "execute_result"
    }
   ],
   "source": [
    "gridsearch.fit(x_train, y_train)"
   ]
  },
  {
   "cell_type": "code",
   "execution_count": 311,
   "id": "ee15734f",
   "metadata": {},
   "outputs": [
    {
     "data": {
      "text/plain": [
       "{'algorithm': 'kd_tree', 'leaf_size': 3, 'n_neighbors': 3}"
      ]
     },
     "execution_count": 311,
     "metadata": {},
     "output_type": "execute_result"
    }
   ],
   "source": [
    "gridsearch.best_params_"
   ]
  },
  {
   "cell_type": "code",
   "execution_count": 312,
   "id": "3c1a4004",
   "metadata": {},
   "outputs": [
    {
     "data": {
      "text/plain": [
       "KNeighborsClassifier(algorithm='kd_tree', leaf_size=3, n_neighbors=3)"
      ]
     },
     "execution_count": 312,
     "metadata": {},
     "output_type": "execute_result"
    }
   ],
   "source": [
    "#We will use best parameters in our knn & check accuracy is increasing\n",
    "knn=KNeighborsClassifier(algorithm=\"kd_tree\",leaf_size=3, n_neighbors=3)\n",
    "knn.fit(x_train, y_train)"
   ]
  },
  {
   "cell_type": "code",
   "execution_count": 313,
   "id": "3b5e060f",
   "metadata": {},
   "outputs": [
    {
     "name": "stdout",
     "output_type": "stream",
     "text": [
      "\n",
      " =============Train Result===============\n",
      "Accuracy score:86.29%\n",
      "\n",
      " =============Test Result================\n",
      "Accuracy score:74.07%\n",
      "\n",
      " \n",
      " classification report \n",
      "               precision    recall  f1-score   support\n",
      "\n",
      "           0       0.80      0.85      0.82        46\n",
      "           1       0.43      0.19      0.26        16\n",
      "           2       0.73      0.84      0.78        45\n",
      "           3       0.00      0.00      0.00         1\n",
      "\n",
      "    accuracy                           0.74       108\n",
      "   macro avg       0.49      0.47      0.47       108\n",
      "weighted avg       0.71      0.74      0.71       108\n",
      "\n"
     ]
    }
   ],
   "source": [
    "# Call the function & pass the dataset to check train test score\n",
    "metric_score(knn, x_train, x_test, y_train, y_test, train=True)\n",
    "\n",
    "metric_score(knn, x_train, x_test, y_train, y_test, train=False)"
   ]
  },
  {
   "cell_type": "code",
   "execution_count": 314,
   "id": "25c0f490",
   "metadata": {},
   "outputs": [
    {
     "name": "stdout",
     "output_type": "stream",
     "text": [
      "Prediction of Primary Fuel:   [1]\n",
      "Prediction of Primary Fuel:   [1]\n"
     ]
    }
   ],
   "source": [
    "print(\"Prediction of Primary Fuel:  \", knn.predict(scalar.transform([[0,0,428,2.5,28.1839,73.2407,2,2011.0,1,1,0,2019.0,801.123775,711.181225,737.205450,0.000000,751.644375,0]])))\n",
    "\n",
    "\n",
    "\n",
    "print(\"Prediction of Primary Fuel:  \", knn.predict(scalar.transform([[0,1,0,135.0,23.8712,91.3602,2,2004.0,0,0,1,2019.0,617.789264,843.747000,886.004428,663.774500,626.239128,0]])))"
   ]
  },
  {
   "cell_type": "code",
   "execution_count": null,
   "id": "ad8a9d02",
   "metadata": {},
   "outputs": [],
   "source": []
  },
  {
   "cell_type": "markdown",
   "id": "c97177b0",
   "metadata": {},
   "source": [
    "# Random Forest"
   ]
  },
  {
   "cell_type": "code",
   "execution_count": 315,
   "id": "b8a3c599",
   "metadata": {},
   "outputs": [
    {
     "data": {
      "text/plain": [
       "RandomForestClassifier()"
      ]
     },
     "execution_count": 315,
     "metadata": {},
     "output_type": "execute_result"
    }
   ],
   "source": [
    "random_clf= RandomForestClassifier()\n",
    "\n",
    "random_clf.fit(x_train, y_train)"
   ]
  },
  {
   "cell_type": "code",
   "execution_count": 316,
   "id": "ffa982fb",
   "metadata": {},
   "outputs": [
    {
     "name": "stdout",
     "output_type": "stream",
     "text": [
      "\n",
      " =============Train Result===============\n",
      "Accuracy score:100.00%\n",
      "\n",
      " =============Test Result================\n",
      "Accuracy score:80.56%\n",
      "\n",
      " \n",
      " classification report \n",
      "               precision    recall  f1-score   support\n",
      "\n",
      "           0       0.78      0.87      0.82        46\n",
      "           1       0.80      0.25      0.38        16\n",
      "           2       0.83      0.96      0.89        45\n",
      "           3       0.00      0.00      0.00         1\n",
      "\n",
      "    accuracy                           0.81       108\n",
      "   macro avg       0.60      0.52      0.52       108\n",
      "weighted avg       0.80      0.81      0.78       108\n",
      "\n"
     ]
    }
   ],
   "source": [
    "metric_score(random_clf, x_train, x_test, y_train, y_test, train=True)\n",
    "\n",
    "metric_score(random_clf, x_train, x_test, y_train, y_test, train=False)"
   ]
  },
  {
   "cell_type": "markdown",
   "id": "381b72e1",
   "metadata": {},
   "source": [
    "# Lets tune parameters using GridSearchCV"
   ]
  },
  {
   "cell_type": "code",
   "execution_count": 317,
   "id": "08baeb23",
   "metadata": {},
   "outputs": [
    {
     "name": "stdout",
     "output_type": "stream",
     "text": [
      "best_params=> {'criterion': 'entropy', 'max_depth': 10, 'min_samples_leaf': 5, 'min_samples_split': 10, 'n_estimators': 15}\n"
     ]
    }
   ],
   "source": [
    "param={\"n_estimators\":[13,15],\n",
    "       \"criterion\":[\"entropy\",\"gini\"],\n",
    "       \"max_depth\":[10,15],\n",
    "       \"min_samples_split\":[10,11],\n",
    "       \"min_samples_leaf\":[5,6]\n",
    "       \n",
    "      }\n",
    "\n",
    "grd=GridSearchCV(random_clf, param_grid= param)\n",
    "\n",
    "grd.fit(x_train,y_train)\n",
    "\n",
    "print(\"best_params=>\", grd.best_params_)"
   ]
  },
  {
   "cell_type": "code",
   "execution_count": 318,
   "id": "86baeb0f",
   "metadata": {},
   "outputs": [
    {
     "data": {
      "text/plain": [
       "RandomForestClassifier(criterion='entropy', max_depth=10, min_samples_leaf=5,\n",
       "                       min_samples_split=10, n_estimators=15)"
      ]
     },
     "execution_count": 318,
     "metadata": {},
     "output_type": "execute_result"
    }
   ],
   "source": [
    "random_clf=RandomForestClassifier(criterion= 'entropy', max_depth=10, min_samples_leaf=5, min_samples_split=10, n_estimators=15)\n",
    "\n",
    "\n",
    "random_clf.fit(x_train, y_train)\n"
   ]
  },
  {
   "cell_type": "code",
   "execution_count": 319,
   "id": "58dc4c5b",
   "metadata": {},
   "outputs": [
    {
     "name": "stdout",
     "output_type": "stream",
     "text": [
      "\n",
      " =============Train Result===============\n",
      "Accuracy score:86.29%\n",
      "\n",
      " =============Test Result================\n",
      "Accuracy score:81.48%\n",
      "\n",
      " \n",
      " classification report \n",
      "               precision    recall  f1-score   support\n",
      "\n",
      "           0       0.84      0.89      0.86        46\n",
      "           1       0.80      0.25      0.38        16\n",
      "           2       0.80      0.96      0.87        45\n",
      "           3       0.00      0.00      0.00         1\n",
      "\n",
      "    accuracy                           0.81       108\n",
      "   macro avg       0.61      0.52      0.53       108\n",
      "weighted avg       0.81      0.81      0.79       108\n",
      "\n"
     ]
    }
   ],
   "source": [
    "metric_score(random_clf, x_train, x_test, y_train, y_test, train=True)\n",
    "\n",
    "metric_score(random_clf, x_train, x_test, y_train, y_test, train=False)"
   ]
  },
  {
   "cell_type": "code",
   "execution_count": 320,
   "id": "2caa7360",
   "metadata": {},
   "outputs": [
    {
     "name": "stdout",
     "output_type": "stream",
     "text": [
      "Prediction of Primary Fuel:   [2]\n",
      "Prediction of Primary Fuel:   [1]\n"
     ]
    }
   ],
   "source": [
    "print(\"Prediction of Primary Fuel:  \", random_clf.predict(scalar.transform([[0,0,428,2.5,28.1839,73.2407,2,2011.0,1,1,0,2019.0,801.123775,711.181225,737.205450,0.000000,751.644375,0]])))\n",
    "\n",
    "\n",
    "\n",
    "print(\"Prediction of Primary Fuel:  \", random_clf.predict(scalar.transform([[0,1,0,135.0,23.8712,91.3602,2,2004.0,0,0,1,2019.0,617.789264,843.747000,886.004428,663.774500,626.239128,0]])))"
   ]
  },
  {
   "cell_type": "markdown",
   "id": "6dd6c893",
   "metadata": {},
   "source": [
    "# Logistic Regression"
   ]
  },
  {
   "cell_type": "code",
   "execution_count": 321,
   "id": "b22940de",
   "metadata": {},
   "outputs": [
    {
     "data": {
      "text/plain": [
       "LogisticRegression()"
      ]
     },
     "execution_count": 321,
     "metadata": {},
     "output_type": "execute_result"
    }
   ],
   "source": [
    "#Model Training\n",
    "\n",
    "log_reg= LogisticRegression()\n",
    "log_reg.fit(x_train, y_train)"
   ]
  },
  {
   "cell_type": "code",
   "execution_count": 322,
   "id": "b18ea18a",
   "metadata": {},
   "outputs": [
    {
     "data": {
      "text/plain": [
       "array([0, 0, 2, 2, 2, 0, 2, 2, 2, 0, 0, 2, 2, 0, 1, 2, 0, 2, 0, 1, 2, 2,\n",
       "       2, 0, 0, 0, 2, 2, 2, 0, 0, 0, 0, 2, 2, 0, 2, 0, 2, 0, 0, 2, 2, 1,\n",
       "       2, 2, 2, 2, 2, 2, 0, 0, 2, 0, 0, 2, 2, 1, 0, 0, 2, 0, 0, 2, 2, 2,\n",
       "       0, 2, 2, 0, 0, 2, 2, 0, 2, 1, 2, 0, 0, 0, 0, 2, 0, 0, 2, 2, 2, 2,\n",
       "       2, 0, 2, 2, 2, 0, 1, 0, 0, 0, 0, 0, 2, 0, 2, 2, 1, 0, 0, 2])"
      ]
     },
     "execution_count": 322,
     "metadata": {},
     "output_type": "execute_result"
    }
   ],
   "source": [
    "y_pred=log_reg.predict(x_test)\n",
    "y_pred"
   ]
  },
  {
   "cell_type": "code",
   "execution_count": 323,
   "id": "db2b1b32",
   "metadata": {},
   "outputs": [
    {
     "data": {
      "text/plain": [
       "0.7129629629629629"
      ]
     },
     "execution_count": 323,
     "metadata": {},
     "output_type": "execute_result"
    }
   ],
   "source": [
    "#Finding the accuracy score\n",
    "\n",
    "accuracy=accuracy_score(y_test, y_pred)\n",
    "accuracy"
   ]
  },
  {
   "cell_type": "code",
   "execution_count": 324,
   "id": "a390baf2",
   "metadata": {},
   "outputs": [],
   "source": [
    "from sklearn.metrics import classification_report"
   ]
  },
  {
   "cell_type": "code",
   "execution_count": 325,
   "id": "c1f34065",
   "metadata": {},
   "outputs": [
    {
     "name": "stdout",
     "output_type": "stream",
     "text": [
      "              precision    recall  f1-score   support\n",
      "\n",
      "           0       0.79      0.80      0.80        46\n",
      "           1       0.43      0.19      0.26        16\n",
      "           2       0.69      0.82      0.75        45\n",
      "           3       0.00      0.00      0.00         1\n",
      "\n",
      "    accuracy                           0.71       108\n",
      "   macro avg       0.48      0.45      0.45       108\n",
      "weighted avg       0.68      0.71      0.69       108\n",
      "\n"
     ]
    }
   ],
   "source": [
    "print(classification_report(y_test, y_pred))"
   ]
  },
  {
   "cell_type": "code",
   "execution_count": 326,
   "id": "5d1e5380",
   "metadata": {},
   "outputs": [
    {
     "name": "stdout",
     "output_type": "stream",
     "text": [
      "Prediction of Primary Fuel:   [2]\n",
      "Prediction of Primary Fuel:   [1]\n"
     ]
    }
   ],
   "source": [
    "print(\"Prediction of Primary Fuel:  \", random_clf.predict(scalar.transform([[0,0,428,2.5,28.1839,73.2407,2,2011.0,1,1,0,2019.0,801.123775,711.181225,737.205450,0.000000,751.644375,0]])))\n",
    "\n",
    "\n",
    "\n",
    "print(\"Prediction of Primary Fuel:  \", random_clf.predict(scalar.transform([[0,1,0,135.0,23.8712,91.3602,2,2004.0,0,0,1,2019.0,617.789264,843.747000,886.004428,663.774500,626.239128,0]])))"
   ]
  },
  {
   "cell_type": "markdown",
   "id": "1d4df422",
   "metadata": {},
   "source": [
    "# Final model loading & prediction Actual Vs Predicted"
   ]
  },
  {
   "cell_type": "code",
   "execution_count": 327,
   "id": "d7ce2df2",
   "metadata": {},
   "outputs": [],
   "source": [
    "#Saving the model in local file system \n",
    "import pickle\n",
    "\n",
    "pickle.dump(random_clf, open(\"rf\", \"wb\"))"
   ]
  },
  {
   "cell_type": "code",
   "execution_count": 328,
   "id": "16a4e5c1",
   "metadata": {},
   "outputs": [
    {
     "name": "stdout",
     "output_type": "stream",
     "text": [
      "81.48148148148148\n"
     ]
    }
   ],
   "source": [
    "loaded_model=pickle.load(open(\"rf\", \"rb\"))\n",
    "result=loaded_model.score(x_test, y_test)\n",
    "print(result*100)"
   ]
  },
  {
   "cell_type": "code",
   "execution_count": 329,
   "id": "8283727e",
   "metadata": {},
   "outputs": [
    {
     "data": {
      "text/html": [
       "<div>\n",
       "<style scoped>\n",
       "    .dataframe tbody tr th:only-of-type {\n",
       "        vertical-align: middle;\n",
       "    }\n",
       "\n",
       "    .dataframe tbody tr th {\n",
       "        vertical-align: top;\n",
       "    }\n",
       "\n",
       "    .dataframe thead th {\n",
       "        text-align: right;\n",
       "    }\n",
       "</style>\n",
       "<table border=\"1\" class=\"dataframe\">\n",
       "  <thead>\n",
       "    <tr style=\"text-align: right;\">\n",
       "      <th></th>\n",
       "      <th>0</th>\n",
       "      <th>1</th>\n",
       "      <th>2</th>\n",
       "      <th>3</th>\n",
       "      <th>4</th>\n",
       "      <th>5</th>\n",
       "      <th>6</th>\n",
       "      <th>7</th>\n",
       "      <th>8</th>\n",
       "      <th>9</th>\n",
       "      <th>...</th>\n",
       "      <th>98</th>\n",
       "      <th>99</th>\n",
       "      <th>100</th>\n",
       "      <th>101</th>\n",
       "      <th>102</th>\n",
       "      <th>103</th>\n",
       "      <th>104</th>\n",
       "      <th>105</th>\n",
       "      <th>106</th>\n",
       "      <th>107</th>\n",
       "    </tr>\n",
       "  </thead>\n",
       "  <tbody>\n",
       "    <tr>\n",
       "      <th>Predicted</th>\n",
       "      <td>2</td>\n",
       "      <td>0</td>\n",
       "      <td>2</td>\n",
       "      <td>1</td>\n",
       "      <td>2</td>\n",
       "      <td>0</td>\n",
       "      <td>2</td>\n",
       "      <td>2</td>\n",
       "      <td>0</td>\n",
       "      <td>0</td>\n",
       "      <td>...</td>\n",
       "      <td>0</td>\n",
       "      <td>0</td>\n",
       "      <td>2</td>\n",
       "      <td>0</td>\n",
       "      <td>2</td>\n",
       "      <td>1</td>\n",
       "      <td>2</td>\n",
       "      <td>0</td>\n",
       "      <td>0</td>\n",
       "      <td>1</td>\n",
       "    </tr>\n",
       "    <tr>\n",
       "      <th>Original</th>\n",
       "      <td>1</td>\n",
       "      <td>0</td>\n",
       "      <td>2</td>\n",
       "      <td>1</td>\n",
       "      <td>2</td>\n",
       "      <td>0</td>\n",
       "      <td>2</td>\n",
       "      <td>2</td>\n",
       "      <td>0</td>\n",
       "      <td>0</td>\n",
       "      <td>...</td>\n",
       "      <td>0</td>\n",
       "      <td>0</td>\n",
       "      <td>2</td>\n",
       "      <td>0</td>\n",
       "      <td>2</td>\n",
       "      <td>1</td>\n",
       "      <td>2</td>\n",
       "      <td>0</td>\n",
       "      <td>0</td>\n",
       "      <td>1</td>\n",
       "    </tr>\n",
       "  </tbody>\n",
       "</table>\n",
       "<p>2 rows × 108 columns</p>\n",
       "</div>"
      ],
      "text/plain": [
       "           0    1    2    3    4    5    6    7    8    9    ...  98   99   \\\n",
       "Predicted    2    0    2    1    2    0    2    2    0    0  ...    0    0   \n",
       "Original     1    0    2    1    2    0    2    2    0    0  ...    0    0   \n",
       "\n",
       "           100  101  102  103  104  105  106  107  \n",
       "Predicted    2    0    2    1    2    0    0    1  \n",
       "Original     2    0    2    1    2    0    0    1  \n",
       "\n",
       "[2 rows x 108 columns]"
      ]
     },
     "execution_count": 329,
     "metadata": {},
     "output_type": "execute_result"
    }
   ],
   "source": [
    "conclusion=pd.DataFrame([loaded_model.predict(x_test)[:],y_test[:]],index=[\"Predicted\", \"Original\"])\n",
    "conclusion"
   ]
  },
  {
   "cell_type": "code",
   "execution_count": null,
   "id": "cc4733f2",
   "metadata": {},
   "outputs": [],
   "source": []
  },
  {
   "cell_type": "code",
   "execution_count": null,
   "id": "b4222651",
   "metadata": {},
   "outputs": [],
   "source": []
  },
  {
   "cell_type": "markdown",
   "id": "b670e14a",
   "metadata": {},
   "source": [
    "# Now Prediction of capacity_mw"
   ]
  },
  {
   "cell_type": "code",
   "execution_count": 330,
   "id": "70823d1c",
   "metadata": {},
   "outputs": [],
   "source": [
    "X=df.drop(columns=[\"capacity_mw\"], axis=1)\n",
    "y1=df[\"capacity_mw\"]"
   ]
  },
  {
   "cell_type": "code",
   "execution_count": 331,
   "id": "8004fdb4",
   "metadata": {},
   "outputs": [],
   "source": [
    "#Scaling of dataset\n",
    "scalar=StandardScaler()\n",
    "x_scaler=scalar.fit_transform(X)"
   ]
  },
  {
   "cell_type": "code",
   "execution_count": 332,
   "id": "b392ef9a",
   "metadata": {},
   "outputs": [
    {
     "data": {
      "text/html": [
       "<div>\n",
       "<style scoped>\n",
       "    .dataframe tbody tr th:only-of-type {\n",
       "        vertical-align: middle;\n",
       "    }\n",
       "\n",
       "    .dataframe tbody tr th {\n",
       "        vertical-align: top;\n",
       "    }\n",
       "\n",
       "    .dataframe thead th {\n",
       "        text-align: right;\n",
       "    }\n",
       "</style>\n",
       "<table border=\"1\" class=\"dataframe\">\n",
       "  <thead>\n",
       "    <tr style=\"text-align: right;\">\n",
       "      <th></th>\n",
       "      <th>vif</th>\n",
       "      <th>features</th>\n",
       "    </tr>\n",
       "  </thead>\n",
       "  <tbody>\n",
       "    <tr>\n",
       "      <th>0</th>\n",
       "      <td>NaN</td>\n",
       "      <td>country_long</td>\n",
       "    </tr>\n",
       "    <tr>\n",
       "      <th>1</th>\n",
       "      <td>6.610456</td>\n",
       "      <td>name</td>\n",
       "    </tr>\n",
       "    <tr>\n",
       "      <th>2</th>\n",
       "      <td>6.552181</td>\n",
       "      <td>gppd_idnr</td>\n",
       "    </tr>\n",
       "    <tr>\n",
       "      <th>3</th>\n",
       "      <td>1.096949</td>\n",
       "      <td>latitude</td>\n",
       "    </tr>\n",
       "    <tr>\n",
       "      <th>4</th>\n",
       "      <td>1.068518</td>\n",
       "      <td>longitude</td>\n",
       "    </tr>\n",
       "    <tr>\n",
       "      <th>5</th>\n",
       "      <td>1.573304</td>\n",
       "      <td>primary_fuel</td>\n",
       "    </tr>\n",
       "    <tr>\n",
       "      <th>6</th>\n",
       "      <td>1.014530</td>\n",
       "      <td>other_fuel1</td>\n",
       "    </tr>\n",
       "    <tr>\n",
       "      <th>7</th>\n",
       "      <td>1.419361</td>\n",
       "      <td>commissioning_year</td>\n",
       "    </tr>\n",
       "    <tr>\n",
       "      <th>8</th>\n",
       "      <td>inf</td>\n",
       "      <td>owner</td>\n",
       "    </tr>\n",
       "    <tr>\n",
       "      <th>9</th>\n",
       "      <td>inf</td>\n",
       "      <td>source</td>\n",
       "    </tr>\n",
       "    <tr>\n",
       "      <th>10</th>\n",
       "      <td>inf</td>\n",
       "      <td>geolocation_source</td>\n",
       "    </tr>\n",
       "    <tr>\n",
       "      <th>11</th>\n",
       "      <td>NaN</td>\n",
       "      <td>year_of_capacity_data</td>\n",
       "    </tr>\n",
       "    <tr>\n",
       "      <th>12</th>\n",
       "      <td>13.461720</td>\n",
       "      <td>generation_gwh_2014</td>\n",
       "    </tr>\n",
       "    <tr>\n",
       "      <th>13</th>\n",
       "      <td>31.602682</td>\n",
       "      <td>generation_gwh_2015</td>\n",
       "    </tr>\n",
       "    <tr>\n",
       "      <th>14</th>\n",
       "      <td>41.416628</td>\n",
       "      <td>generation_gwh_2016</td>\n",
       "    </tr>\n",
       "    <tr>\n",
       "      <th>15</th>\n",
       "      <td>49.935329</td>\n",
       "      <td>generation_gwh_2017</td>\n",
       "    </tr>\n",
       "    <tr>\n",
       "      <th>16</th>\n",
       "      <td>36.272130</td>\n",
       "      <td>generation_gwh_2018</td>\n",
       "    </tr>\n",
       "    <tr>\n",
       "      <th>17</th>\n",
       "      <td>NaN</td>\n",
       "      <td>generation_data_source</td>\n",
       "    </tr>\n",
       "  </tbody>\n",
       "</table>\n",
       "</div>"
      ],
      "text/plain": [
       "          vif                features\n",
       "0         NaN            country_long\n",
       "1    6.610456                    name\n",
       "2    6.552181               gppd_idnr\n",
       "3    1.096949                latitude\n",
       "4    1.068518               longitude\n",
       "5    1.573304            primary_fuel\n",
       "6    1.014530             other_fuel1\n",
       "7    1.419361      commissioning_year\n",
       "8         inf                   owner\n",
       "9         inf                  source\n",
       "10        inf      geolocation_source\n",
       "11        NaN   year_of_capacity_data\n",
       "12  13.461720     generation_gwh_2014\n",
       "13  31.602682     generation_gwh_2015\n",
       "14  41.416628     generation_gwh_2016\n",
       "15  49.935329     generation_gwh_2017\n",
       "16  36.272130     generation_gwh_2018\n",
       "17        NaN  generation_data_source"
      ]
     },
     "execution_count": 332,
     "metadata": {},
     "output_type": "execute_result"
    }
   ],
   "source": [
    "#Finding Variance inflation factor to check multicolinearity\n",
    "\n",
    "vif=pd.DataFrame()\n",
    "vif[\"vif\"]=[variance_inflation_factor(x_scaler, i) for i in range(x_scaler.shape[1])]\n",
    "vif[\"features\"]=X.columns\n",
    "\n",
    "vif\n"
   ]
  },
  {
   "cell_type": "code",
   "execution_count": 357,
   "id": "2f75f684",
   "metadata": {},
   "outputs": [],
   "source": [
    "x_train, x_test, y_train, y_test= train_test_split(x_scaler,y1, test_size=0.25, random_state=1)"
   ]
  },
  {
   "cell_type": "markdown",
   "id": "2506ae87",
   "metadata": {},
   "source": [
    "# Using Linear Regression"
   ]
  },
  {
   "cell_type": "code",
   "execution_count": 358,
   "id": "5b71fab9",
   "metadata": {},
   "outputs": [
    {
     "name": "stdout",
     "output_type": "stream",
     "text": [
      "R2 of Linear Regresson: 0.8438098845682781\n",
      "----- Prediction Accuracy-----\n",
      "MAE:  201.34268409217614\n",
      "MSE:  72535.73473387289\n",
      "RMSE: 269.32458991683785\n"
     ]
    }
   ],
   "source": [
    "lr = LinearRegression()\n",
    "lr.fit(x_train,y_train)\n",
    "\n",
    "print(\"R2 of Linear Regresson:\", lr.score(x_train,y_train) )\n",
    "print(\"----- Prediction Accuracy-----\")\n",
    "print('MAE: ',metrics.mean_absolute_error(y_test, lr.predict(x_test)))\n",
    "print('MSE: ',metrics.mean_squared_error(y_test, lr.predict(x_test)))\n",
    "print('RMSE:',np.sqrt(metrics.mean_squared_error(y_test, lr.predict(x_test))))"
   ]
  },
  {
   "cell_type": "code",
   "execution_count": 359,
   "id": "71871d96",
   "metadata": {},
   "outputs": [
    {
     "data": {
      "image/png": "[encoded data removed]",
      "text/plain": [
       "<Figure size 432x288 with 1 Axes>"
      ]
     },
     "metadata": {
      "needs_background": "light"
     },
     "output_type": "display_data"
    }
   ],
   "source": [
    "# Creating a Histogram of Residuals\n",
    "plt.figure(figsize=(6,4))\n",
    "sns.distplot(y_test - lr.predict(x_test))\n",
    "plt.title('Distribution of residuals')\n",
    "plt.show()"
   ]
  },
  {
   "cell_type": "code",
   "execution_count": 360,
   "id": "cb0635e4",
   "metadata": {},
   "outputs": [
    {
     "data": {
      "image/png": "[encoded data removed]",
      "text/plain": [
       "<Figure size 432x288 with 1 Axes>"
      ]
     },
     "metadata": {
      "needs_background": "light"
     },
     "output_type": "display_data"
    }
   ],
   "source": [
    "plt.scatter(y_test,lr.predict(x_test));"
   ]
  },
  {
   "cell_type": "code",
   "execution_count": 361,
   "id": "101207ab",
   "metadata": {},
   "outputs": [
    {
     "data": {
      "text/plain": [
       "0.8438098845682781"
      ]
     },
     "execution_count": 361,
     "metadata": {},
     "output_type": "execute_result"
    }
   ],
   "source": [
    "#Checking training score\n",
    "\n",
    "lr.score(x_train, y_train)"
   ]
  },
  {
   "cell_type": "code",
   "execution_count": 362,
   "id": "7525e5d3",
   "metadata": {},
   "outputs": [
    {
     "data": {
      "text/plain": [
       "0.8390565075910246"
      ]
     },
     "execution_count": 362,
     "metadata": {},
     "output_type": "execute_result"
    }
   ],
   "source": [
    "#Checking testing score\n",
    "\n",
    "lr.score(x_test, y_test)"
   ]
  },
  {
   "cell_type": "code",
   "execution_count": 363,
   "id": "eb00ec05",
   "metadata": {},
   "outputs": [
    {
     "data": {
      "text/plain": [
       "array([ 281.59900674,  684.84966534,  342.80522225,  284.47929227,\n",
       "        440.39110531, 1355.06742619,  282.83493438,   86.86366585,\n",
       "        615.63857493, 3288.1519847 ,  878.19589334,  934.25075209,\n",
       "        347.13105352,  858.49338972,  336.68493473,  488.38050374,\n",
       "        879.4078343 ,   70.67777845,  588.41766214,  438.94401789,\n",
       "        591.21064743,  447.46698699,  337.57724689, 1008.5550797 ,\n",
       "       1241.14754625,  202.21905766,  324.92694331,  213.64126349,\n",
       "          8.04134746,  756.70066423,  803.29606347,  953.54047447,\n",
       "        756.30902822,  189.94595056,  406.79177983, 1801.79963254,\n",
       "        270.29311006,  904.38789451,  156.70984506,  881.06969458,\n",
       "        759.64631025,  440.83122251,  202.78327101,  282.0360801 ,\n",
       "        207.36763252,  628.21737405,  540.00266518,  330.18587622,\n",
       "        123.32152442,  170.56393484, 2048.00092294, 1288.16163084,\n",
       "        158.87303023, 1125.24092889,  834.93832469,  237.75516217,\n",
       "        369.19682878,  335.37473947,  343.24853258, 1235.8452269 ,\n",
       "        243.52239588, 1470.28632043,  788.17322152,  408.86052178,\n",
       "        407.22523572,  -53.17885514,  528.73463556,  133.5563919 ,\n",
       "        121.00807809,  809.60685965,  668.90279132,  392.12174689,\n",
       "        241.93850379,  927.05836981,  302.8195115 ,  336.49636679,\n",
       "        173.83842989,  621.77578281, 1063.00515134, 1871.01752981,\n",
       "        624.18839996,  394.79951811,  774.66562338,  575.72934448,\n",
       "        216.48480611,   69.06778546,  238.0693939 ,  345.59655703,\n",
       "        336.03482968,  790.83255771,   80.65172167,  403.87602456,\n",
       "        179.00431737, 1274.35834078,  379.36374668, 1421.77542918,\n",
       "        770.65300874,  372.53024138, 2855.81153463,  973.51759319,\n",
       "        137.13395929, 2157.59274012,  371.90082296,  575.14019557,\n",
       "        318.84177057,  921.96623089, 1626.99290159,  424.48920643])"
      ]
     },
     "execution_count": 363,
     "metadata": {},
     "output_type": "execute_result"
    }
   ],
   "source": [
    "\n",
    "y_pred=lr.predict(x_test)\n",
    "y_pred"
   ]
  },
  {
   "cell_type": "code",
   "execution_count": 364,
   "id": "888dd438",
   "metadata": {},
   "outputs": [
    {
     "data": {
      "text/plain": [
       "array([ 1.44589995e+02,  3.47405265e+02,  1.59669416e+02,  2.15895595e+02,\n",
       "        2.26825596e+02,  7.41872370e+02,  1.15783581e+03,  4.09486885e+02,\n",
       "        5.51143641e+02,  5.51216448e+02,  1.37768760e+02,  4.09854877e+02,\n",
       "        4.11909832e+02,  2.71440710e+02,  4.13529438e+02,  7.55123912e+02,\n",
       "        7.11403246e+02,  2.35699577e+03,  8.37678177e+02,  1.93024369e+02,\n",
       "        5.63463262e+02,  2.65751532e+02,  2.72525346e+03,  5.22855715e+02,\n",
       "        2.96649966e+02,  1.11897465e+03,  8.69513840e+02,  1.98396908e+02,\n",
       "        1.05611483e+03,  1.43170165e+02,  5.92712559e+02,  1.36560303e+02,\n",
       "        1.75191894e+03,  1.91952973e+02,  2.82367787e+03,  1.09882591e+03,\n",
       "        6.25913252e+02,  4.39774445e+02,  4.06769307e+02,  5.31274853e+02,\n",
       "        4.00764279e+02,  2.45362809e+02,  3.38486347e+02,  1.45896478e+03,\n",
       "        4.12164653e+02,  6.10139725e+02,  6.25502750e+02,  1.45418228e+03,\n",
       "        2.73097858e+02,  1.15992090e+02,  2.09381363e+03,  4.90984823e+01,\n",
       "        4.53107564e+02,  5.61393653e+02,  1.99122104e+01,  3.69471166e+02,\n",
       "        3.71707685e+02,  3.52160843e+02,  2.76717748e+02,  9.64429549e+01,\n",
       "        3.61388245e+02,  3.81022667e+02,  3.45825526e+02,  8.15257220e+02,\n",
       "        6.62259268e+02,  5.83251133e+01,  2.02940152e+02,  1.06273674e+03,\n",
       "        4.21106908e+02,  1.09273921e+03,  2.50000000e+00,  7.32013083e+02,\n",
       "        6.03674755e+02,  4.25998698e+02,  7.05334542e+02,  1.51778298e+03,\n",
       "        3.12530706e+02,  1.01117210e+02,  5.91166075e+02,  8.03967316e+02,\n",
       "        1.68789715e+03,  5.04574023e+02,  1.52296303e+02,  1.17951642e+02,\n",
       "        3.72258389e+02,  4.01555539e+03,  5.24083048e+02,  3.06477688e+02,\n",
       "        1.40606996e+02,  1.46395639e+03,  3.04153796e+02, -3.28839737e+00,\n",
       "        4.70769894e+02,  2.00567187e+03,  5.33325477e+01,  4.33600941e+02,\n",
       "        5.06213296e+03,  9.14152330e+02, -1.27640551e+00,  1.23822242e+02,\n",
       "        5.04080003e+01,  9.29096380e+02,  1.19557510e+03,  1.48675489e+03,\n",
       "        9.87228856e+01,  3.96739114e+02,  2.55748051e+02,  3.45326664e+02,\n",
       "        1.52322611e+03,  6.51490733e+02,  1.51647739e+03,  2.39817168e+02,\n",
       "        1.54276025e+03,  1.13552281e+03,  2.92129881e+02,  7.74691388e+02,\n",
       "       -3.63129824e+01,  1.17246255e+03,  7.58179166e+02, -6.60515740e+00,\n",
       "        1.67184204e+02,  1.00871348e+01,  2.45897101e+02,  3.97820126e+02,\n",
       "        1.25332077e+03,  6.90299615e+02,  3.87541305e+02,  2.93318180e+02,\n",
       "        4.16659898e+02,  3.49903411e+02,  7.83931355e+02,  6.47969915e+02,\n",
       "        8.66561664e+01,  4.01810555e+02,  7.39071155e+02,  1.77914178e+02,\n",
       "        8.32802791e+02,  2.74955994e+02,  4.01916473e+02,  5.96624344e+01,\n",
       "        3.20237941e+02,  3.33933548e+02,  6.23272147e+02,  1.68849547e+02,\n",
       "        1.22155717e+03,  5.18701218e+02,  2.97848010e+02,  4.99202060e+02,\n",
       "        2.40008825e+02,  1.17446149e+02,  7.00345665e+02,  4.33955232e+03,\n",
       "        6.80258955e+02,  8.62848400e+02,  2.21726659e+02,  4.55136620e+02,\n",
       "        4.68989057e+02,  7.23613258e+02,  6.29547386e+02,  5.74866335e+02,\n",
       "       -1.40364831e-01,  2.95664064e+02,  1.85229070e+02,  1.00126255e+03,\n",
       "        2.27821961e+02,  2.34075733e+02,  2.20470165e+01, -9.41462235e+01,\n",
       "        8.14185334e+02,  2.99567576e+03,  8.14281122e+01,  3.75862268e+03,\n",
       "        1.18173451e+03,  9.64484364e+02,  4.12378216e+02,  2.77349478e+02,\n",
       "        1.24575277e+03,  1.50692499e+03,  5.12886200e+02,  4.29503015e+02,\n",
       "        1.91079273e+02,  6.31810343e+02,  1.78160380e+03,  5.73732060e+02,\n",
       "        2.57351807e+02,  1.13305987e+02,  1.37520843e+03,  1.97387918e+02,\n",
       "        2.29406753e+02,  1.30628923e+02,  5.16550167e+02,  2.56574395e+02,\n",
       "        1.11596748e+03,  1.33980848e+03,  4.95301157e+02,  4.61751063e+02,\n",
       "        3.81031421e+02,  1.34980926e+03,  1.10321298e+03,  3.16877855e+02,\n",
       "        2.30200190e+02,  5.94095659e+02,  3.53649058e+03,  1.40831957e+03,\n",
       "        2.02822659e+02,  4.48982258e+02,  1.27874256e+03,  5.20722622e+01,\n",
       "        3.36154235e+02,  1.64570070e+03,  6.02209327e+02,  1.00371143e+03,\n",
       "        2.84236204e+02,  3.25722169e+02,  3.26463714e+02,  6.12191988e+01,\n",
       "        2.51235458e+02,  5.66476903e+02,  1.36185039e+03,  5.56918298e+02,\n",
       "        1.09245915e+02,  5.26845447e+02,  1.36547503e+03,  2.91349889e+02,\n",
       "        4.00427681e+02,  3.40288201e+02,  6.28950625e+02,  1.32299132e+03,\n",
       "        4.38313156e+02,  3.35745207e+02,  4.10105694e+02,  4.51024179e+02,\n",
       "        1.36805580e+02, -5.18504331e+01,  4.72344863e+02,  5.32301006e+02,\n",
       "        1.45468220e+03,  2.75404662e+02,  3.56673215e+02,  3.70274968e+02,\n",
       "        5.02940682e+02,  1.19376871e+02,  3.47755097e+02,  2.59571012e+02,\n",
       "        1.08335120e+03,  8.24861320e+02,  7.30771878e+02,  6.75855837e+02,\n",
       "        4.34277850e+02,  1.73309742e+02,  1.37247369e+03,  1.01013143e+03,\n",
       "        1.49075455e+02,  1.17042617e+03,  3.73075181e+02,  2.45875481e+02,\n",
       "        3.60007488e+02,  4.23045660e+02,  1.88163261e+02,  4.78295604e+02,\n",
       "        2.38434850e+03,  3.23098454e+02,  7.78984913e+02,  7.93044763e+02,\n",
       "        1.89485607e+02,  4.67250528e+02,  1.20675265e+03,  1.34856605e+03,\n",
       "        2.77249372e+02,  5.55477882e+02,  6.36534647e+02,  1.17048920e+03,\n",
       "        7.20234126e+02,  3.23974052e+02,  1.52258282e+03,  5.79145842e+02,\n",
       "        4.93100631e+02,  1.89352691e+02,  5.00856669e+02,  8.16880486e+02,\n",
       "        8.19967834e+02,  2.36904536e+02,  1.89139545e+02,  1.91044150e+02,\n",
       "        3.21919537e+03,  2.17993317e+02,  6.02330700e+02,  2.63707994e+02,\n",
       "        5.37851657e+02,  5.07788973e+02,  1.42647710e+03,  5.05976320e+02,\n",
       "        2.45444979e+02,  1.24625642e+02,  4.74824711e+02,  1.99105842e+02,\n",
       "        6.11766622e+02,  1.32419453e+03,  3.44429721e+02,  1.27275363e+03,\n",
       "        2.55083852e+02,  4.81280641e+02,  5.40776608e+01,  8.16782168e+02,\n",
       "        9.10565646e+02,  1.13346878e+02,  1.96962945e+02,  1.06959849e+03,\n",
       "        7.68416955e+02,  1.93891491e+02, -5.26322204e+01,  6.24489624e+02,\n",
       "        1.75194073e+03,  6.07862276e+02,  3.28774192e+02,  1.15591881e+03,\n",
       "        1.30734564e+03,  5.20289767e+02,  6.58954606e+02,  1.51449306e+02,\n",
       "        1.02393663e+02])"
      ]
     },
     "execution_count": 364,
     "metadata": {},
     "output_type": "execute_result"
    }
   ],
   "source": [
    "pred_train=lr.predict(x_train)\n",
    "pred_train"
   ]
  },
  {
   "cell_type": "code",
   "execution_count": 365,
   "id": "01690e5a",
   "metadata": {},
   "outputs": [
    {
     "data": {
      "image/png": "[encoded data removed]",
      "text/plain": [
       "<Figure size 432x288 with 1 Axes>"
      ]
     },
     "metadata": {
      "needs_background": "light"
     },
     "output_type": "display_data"
    }
   ],
   "source": [
    "#Plotting the graph of Acutal score Vs Predicted score\n",
    "\n",
    "plt.scatter(y_test, y_pred)\n",
    "plt.xlabel(\"Actual\")\n",
    "plt.ylabel(\"Predicted\")\n",
    "plt.title(\"Score\")\n",
    "plt.show()"
   ]
  },
  {
   "cell_type": "code",
   "execution_count": 366,
   "id": "443ce19d",
   "metadata": {},
   "outputs": [
    {
     "data": {
      "text/html": [
       "<div>\n",
       "<style scoped>\n",
       "    .dataframe tbody tr th:only-of-type {\n",
       "        vertical-align: middle;\n",
       "    }\n",
       "\n",
       "    .dataframe tbody tr th {\n",
       "        vertical-align: top;\n",
       "    }\n",
       "\n",
       "    .dataframe thead th {\n",
       "        text-align: right;\n",
       "    }\n",
       "</style>\n",
       "<table border=\"1\" class=\"dataframe\">\n",
       "  <thead>\n",
       "    <tr style=\"text-align: right;\">\n",
       "      <th></th>\n",
       "      <th>country_long</th>\n",
       "      <th>name</th>\n",
       "      <th>gppd_idnr</th>\n",
       "      <th>latitude</th>\n",
       "      <th>longitude</th>\n",
       "      <th>primary_fuel</th>\n",
       "      <th>other_fuel1</th>\n",
       "      <th>commissioning_year</th>\n",
       "      <th>owner</th>\n",
       "      <th>source</th>\n",
       "      <th>geolocation_source</th>\n",
       "      <th>year_of_capacity_data</th>\n",
       "      <th>generation_gwh_2014</th>\n",
       "      <th>generation_gwh_2015</th>\n",
       "      <th>generation_gwh_2016</th>\n",
       "      <th>generation_gwh_2017</th>\n",
       "      <th>generation_gwh_2018</th>\n",
       "      <th>generation_data_source</th>\n",
       "    </tr>\n",
       "  </thead>\n",
       "  <tbody>\n",
       "    <tr>\n",
       "      <th>0</th>\n",
       "      <td>0</td>\n",
       "      <td>0</td>\n",
       "      <td>428</td>\n",
       "      <td>28.1839</td>\n",
       "      <td>73.2407</td>\n",
       "      <td>5</td>\n",
       "      <td>2</td>\n",
       "      <td>2011.0</td>\n",
       "      <td>1</td>\n",
       "      <td>1</td>\n",
       "      <td>0</td>\n",
       "      <td>2019.0</td>\n",
       "      <td>801.123775</td>\n",
       "      <td>711.181225</td>\n",
       "      <td>737.205450</td>\n",
       "      <td>0.000000</td>\n",
       "      <td>751.644375</td>\n",
       "      <td>0</td>\n",
       "    </tr>\n",
       "    <tr>\n",
       "      <th>3</th>\n",
       "      <td>0</td>\n",
       "      <td>1</td>\n",
       "      <td>0</td>\n",
       "      <td>23.8712</td>\n",
       "      <td>91.3602</td>\n",
       "      <td>1</td>\n",
       "      <td>2</td>\n",
       "      <td>2004.0</td>\n",
       "      <td>0</td>\n",
       "      <td>0</td>\n",
       "      <td>1</td>\n",
       "      <td>2019.0</td>\n",
       "      <td>617.789264</td>\n",
       "      <td>843.747000</td>\n",
       "      <td>886.004428</td>\n",
       "      <td>663.774500</td>\n",
       "      <td>626.239128</td>\n",
       "      <td>0</td>\n",
       "    </tr>\n",
       "    <tr>\n",
       "      <th>4</th>\n",
       "      <td>0</td>\n",
       "      <td>2</td>\n",
       "      <td>1</td>\n",
       "      <td>21.9603</td>\n",
       "      <td>82.4091</td>\n",
       "      <td>0</td>\n",
       "      <td>2</td>\n",
       "      <td>2015.0</td>\n",
       "      <td>0</td>\n",
       "      <td>0</td>\n",
       "      <td>1</td>\n",
       "      <td>2019.0</td>\n",
       "      <td>3035.550000</td>\n",
       "      <td>5916.370000</td>\n",
       "      <td>6243.000000</td>\n",
       "      <td>5385.579736</td>\n",
       "      <td>7279.000000</td>\n",
       "      <td>0</td>\n",
       "    </tr>\n",
       "  </tbody>\n",
       "</table>\n",
       "</div>"
      ],
      "text/plain": [
       "   country_long  name  gppd_idnr  latitude  longitude  primary_fuel  \\\n",
       "0             0     0        428   28.1839    73.2407             5   \n",
       "3             0     1          0   23.8712    91.3602             1   \n",
       "4             0     2          1   21.9603    82.4091             0   \n",
       "\n",
       "   other_fuel1  commissioning_year  owner  source  geolocation_source  \\\n",
       "0            2              2011.0      1       1                   0   \n",
       "3            2              2004.0      0       0                   1   \n",
       "4            2              2015.0      0       0                   1   \n",
       "\n",
       "   year_of_capacity_data  generation_gwh_2014  generation_gwh_2015  \\\n",
       "0                 2019.0           801.123775           711.181225   \n",
       "3                 2019.0           617.789264           843.747000   \n",
       "4                 2019.0          3035.550000          5916.370000   \n",
       "\n",
       "   generation_gwh_2016  generation_gwh_2017  generation_gwh_2018  \\\n",
       "0           737.205450             0.000000           751.644375   \n",
       "3           886.004428           663.774500           626.239128   \n",
       "4          6243.000000          5385.579736          7279.000000   \n",
       "\n",
       "   generation_data_source  \n",
       "0                       0  \n",
       "3                       0  \n",
       "4                       0  "
      ]
     },
     "execution_count": 366,
     "metadata": {},
     "output_type": "execute_result"
    }
   ],
   "source": [
    "X.head(3)"
   ]
  },
  {
   "cell_type": "code",
   "execution_count": 367,
   "id": "1007e07c",
   "metadata": {},
   "outputs": [
    {
     "data": {
      "text/plain": [
       "0       2.5\n",
       "3     135.0\n",
       "4    1800.0\n",
       "Name: capacity_mw, dtype: float64"
      ]
     },
     "execution_count": 367,
     "metadata": {},
     "output_type": "execute_result"
    }
   ],
   "source": [
    "y1.head(3)"
   ]
  },
  {
   "cell_type": "code",
   "execution_count": 368,
   "id": "e84ce7f2",
   "metadata": {},
   "outputs": [
    {
     "name": "stdout",
     "output_type": "stream",
     "text": [
      "Prediction of Primary Fuel:   [1365.47502789]\n",
      "Prediction of Primary Fuel:   [191.04414953]\n"
     ]
    }
   ],
   "source": [
    "print(\"Prediction of Primary Fuel:  \", lr.predict(scalar.transform([[0,2,1,21.9603,82.4091,0,2,2015.0,0,0,1,2019.0,3035.550000,5916.370000,6243.000000,5385.579736,7279.000000,0]])))\n",
    "\n",
    "\n",
    "\n",
    "print(\"Prediction of Primary Fuel:  \", lr.predict(scalar.transform([[0,1,0,23.8712,91.3602,1,2,2004.0,0,0,1,2019.0,617.789264,843.747000,886.004428,663.774500,626.239128,0]])))"
   ]
  },
  {
   "cell_type": "markdown",
   "id": "f674f52c",
   "metadata": {},
   "source": [
    "# using knn regressor"
   ]
  },
  {
   "cell_type": "code",
   "execution_count": 369,
   "id": "92d93b8b",
   "metadata": {},
   "outputs": [],
   "source": [
    "x_train, x_test, y_train, y_test= train_test_split(x_scaler,y1, test_size=0.25, random_state=1)"
   ]
  },
  {
   "cell_type": "code",
   "execution_count": 370,
   "id": "a8d3620f",
   "metadata": {},
   "outputs": [
    {
     "data": {
      "text/plain": [
       "KNeighborsRegressor()"
      ]
     },
     "execution_count": 370,
     "metadata": {},
     "output_type": "execute_result"
    }
   ],
   "source": [
    "knn= KNeighborsRegressor()\n",
    "knn.fit(x_train, y_train)"
   ]
  },
  {
   "cell_type": "code",
   "execution_count": 371,
   "id": "227bf53c",
   "metadata": {},
   "outputs": [
    {
     "data": {
      "text/plain": [
       "0.8523462756053453"
      ]
     },
     "execution_count": 371,
     "metadata": {},
     "output_type": "execute_result"
    }
   ],
   "source": [
    "#Checking training score\n",
    "\n",
    "knn.score(x_train, y_train)"
   ]
  },
  {
   "cell_type": "code",
   "execution_count": 372,
   "id": "e529e1a8",
   "metadata": {},
   "outputs": [
    {
     "data": {
      "text/plain": [
       "0.7443513655935128"
      ]
     },
     "execution_count": 372,
     "metadata": {},
     "output_type": "execute_result"
    }
   ],
   "source": [
    "#Checking testing score\n",
    "\n",
    "knn.score(x_test, y_test)"
   ]
  },
  {
   "cell_type": "code",
   "execution_count": 373,
   "id": "130625cc",
   "metadata": {},
   "outputs": [
    {
     "data": {
      "text/plain": [
       "array([ 119.391 ,  736.    ,  102.4   ,  388.2   ,  220.8   , 1584.    ,\n",
       "        275.91  ,  243.4   ,  559.4   , 2716.    ,  616.    ,  661.9862,\n",
       "        198.8   , 1124.    ,  156.66  ,  453.2   ,  451.204 ,   84.01  ,\n",
       "        320.    ,  275.2   ,  638.072 ,  543.    ,  423.4732,  605.972 ,\n",
       "       1142.    ,  114.8   ,  196.2   ,  166.2   ,  130.44  ,  828.    ,\n",
       "        496.    ,  898.    ,  616.    ,  207.    ,  261.2   , 1362.    ,\n",
       "        162.11  ,  644.    ,  109.    ,  483.    ,  675.956 ,  978.    ,\n",
       "        115.8   ,  599.3428,  105.2   ,  287.    ,  394.204 ,   69.3   ,\n",
       "        140.06  ,  106.55  , 1774.    , 1516.    ,  106.2   , 1082.    ,\n",
       "        870.    ,  159.2   ,  222.2   ,   75.2   ,  106.2   , 1110.4   ,\n",
       "        267.6   , 1188.    ,  740.6   ,  740.6   ,  431.2   ,   39.04  ,\n",
       "        246.72  ,  202.5   ,  113.6   ,  974.    ,  632.    ,  285.404 ,\n",
       "        410.5   , 1342.    ,  412.4   ,  106.66  ,  123.36  ,  992.6   ,\n",
       "       1213.32  , 1684.    ,  716.8   ,  314.    ,  874.    ,  776.6   ,\n",
       "        180.    ,  117.53  ,  184.2   ,  388.    ,  445.3132,  955.32  ,\n",
       "        117.53  ,  650.6   ,  161.2   , 1330.    ,  102.2   ,  990.4   ,\n",
       "        806.    ,  467.6   , 1924.    , 1330.    ,   68.2   , 1924.    ,\n",
       "        154.4   ,  341.8142,   79.    , 1164.8   , 1178.    ,  511.86  ])"
      ]
     },
     "execution_count": 373,
     "metadata": {},
     "output_type": "execute_result"
    }
   ],
   "source": [
    "\n",
    "y_pred=knn.predict(x_test)\n",
    "y_pred"
   ]
  },
  {
   "cell_type": "code",
   "execution_count": 374,
   "id": "ebe03f37",
   "metadata": {},
   "outputs": [
    {
     "data": {
      "image/png": "[encoded data removed]",
      "text/plain": [
       "<Figure size 432x288 with 1 Axes>"
      ]
     },
     "metadata": {
      "needs_background": "light"
     },
     "output_type": "display_data"
    }
   ],
   "source": [
    "#Plotting the graph of Acutal score Vs Predicted score\n",
    "\n",
    "plt.scatter(y_test, y_pred)\n",
    "plt.xlabel(\"Actual\")\n",
    "plt.ylabel(\"Predicted\")\n",
    "plt.title(\"Score\")\n",
    "plt.show()"
   ]
  },
  {
   "cell_type": "code",
   "execution_count": 375,
   "id": "6f1d0f96",
   "metadata": {},
   "outputs": [
    {
     "data": {
      "text/plain": [
       "229.51648703703702"
      ]
     },
     "execution_count": 375,
     "metadata": {},
     "output_type": "execute_result"
    }
   ],
   "source": [
    "#Mean square error\n",
    "mean_absolute_error(y_test, y_pred)"
   ]
  },
  {
   "cell_type": "code",
   "execution_count": 376,
   "id": "afdb6134",
   "metadata": {},
   "outputs": [
    {
     "data": {
      "text/plain": [
       "229.51648703703702"
      ]
     },
     "execution_count": 376,
     "metadata": {},
     "output_type": "execute_result"
    }
   ],
   "source": [
    "#MSE\n",
    "mean_absolute_error(y_test, y_pred)"
   ]
  },
  {
   "cell_type": "code",
   "execution_count": 377,
   "id": "77d13f47",
   "metadata": {},
   "outputs": [
    {
     "data": {
      "text/plain": [
       "339.43844974917624"
      ]
     },
     "execution_count": 377,
     "metadata": {},
     "output_type": "execute_result"
    }
   ],
   "source": [
    "#RMSE\n",
    "np.sqrt(mean_squared_error(y_test, y_pred))"
   ]
  },
  {
   "cell_type": "code",
   "execution_count": 378,
   "id": "7e84dd98",
   "metadata": {},
   "outputs": [
    {
     "data": {
      "text/plain": [
       "0.7443513655935128"
      ]
     },
     "execution_count": 378,
     "metadata": {},
     "output_type": "execute_result"
    }
   ],
   "source": [
    "r2_score(y_test, y_pred)"
   ]
  },
  {
   "cell_type": "code",
   "execution_count": 379,
   "id": "f1306e6d",
   "metadata": {},
   "outputs": [],
   "source": [
    "#cross validation is to check whether the model is overfitting\n",
    "\n",
    "from sklearn.model_selection import KFold, cross_val_score"
   ]
  },
  {
   "cell_type": "code",
   "execution_count": 380,
   "id": "133358af",
   "metadata": {},
   "outputs": [
    {
     "data": {
      "text/plain": [
       "array([0.36392429, 0.30217391, 0.27317927, 0.34128125])"
      ]
     },
     "execution_count": 380,
     "metadata": {},
     "output_type": "execute_result"
    }
   ],
   "source": [
    "cv_score=cross_val_score(knn, x_scaled, y, cv=4)\n",
    "cv_score"
   ]
  },
  {
   "cell_type": "code",
   "execution_count": 381,
   "id": "d7e32bc8",
   "metadata": {},
   "outputs": [
    {
     "data": {
      "text/plain": [
       "0.3201396812432455"
      ]
     },
     "execution_count": 381,
     "metadata": {},
     "output_type": "execute_result"
    }
   ],
   "source": [
    "cv_mean=cv_score.mean()\n",
    "cv_mean"
   ]
  },
  {
   "cell_type": "code",
   "execution_count": 382,
   "id": "23d7e262",
   "metadata": {},
   "outputs": [
    {
     "name": "stdout",
     "output_type": "stream",
     "text": [
      "Prediction of Primary Fuel:   [1304.]\n",
      "Prediction of Primary Fuel:   [351.4]\n"
     ]
    }
   ],
   "source": [
    "print(\"Prediction of Primary Fuel:  \", knn.predict(scalar.transform([[0,2,1,21.9603,82.4091,0,2,2015.0,0,0,1,2019.0,3035.550000,5916.370000,6243.000000,5385.579736,7279.000000,0]])))\n",
    "\n",
    "\n",
    "\n",
    "print(\"Prediction of Primary Fuel:  \", knn.predict(scalar.transform([[0,1,0,23.8712,91.3602,1,2,2004.0,0,0,1,2019.0,617.789264,843.747000,886.004428,663.774500,626.239128,0]])))"
   ]
  },
  {
   "cell_type": "markdown",
   "id": "16985e1f",
   "metadata": {},
   "source": [
    "# Ada Boost Regressor"
   ]
  },
  {
   "cell_type": "code",
   "execution_count": 383,
   "id": "49b1a21d",
   "metadata": {},
   "outputs": [],
   "source": [
    "from sklearn.ensemble import AdaBoostRegressor"
   ]
  },
  {
   "cell_type": "code",
   "execution_count": 384,
   "id": "a43e3645",
   "metadata": {},
   "outputs": [
    {
     "data": {
      "text/plain": [
       "AdaBoostRegressor()"
      ]
     },
     "execution_count": 384,
     "metadata": {},
     "output_type": "execute_result"
    }
   ],
   "source": [
    "ada=AdaBoostRegressor()\n",
    "ada.fit(x_train, y_train)"
   ]
  },
  {
   "cell_type": "code",
   "execution_count": 385,
   "id": "3d647116",
   "metadata": {},
   "outputs": [],
   "source": [
    "#Model Prediction on train data\n",
    "y_pred=ada.predict(x_train)\n"
   ]
  },
  {
   "cell_type": "code",
   "execution_count": 386,
   "id": "402b1455",
   "metadata": {},
   "outputs": [
    {
     "name": "stdout",
     "output_type": "stream",
     "text": [
      "R Square Score 0.8710691023909781\n"
     ]
    }
   ],
   "source": [
    "accuracy=metrics.r2_score(y_train, y_pred)\n",
    "print(\"R Square Score\" , accuracy)"
   ]
  },
  {
   "cell_type": "code",
   "execution_count": 387,
   "id": "55ce9b73",
   "metadata": {},
   "outputs": [],
   "source": [
    "#Model Prediction on test data\n",
    "y_pred=ada.predict(x_test)\n"
   ]
  },
  {
   "cell_type": "code",
   "execution_count": 388,
   "id": "1f831980",
   "metadata": {},
   "outputs": [
    {
     "name": "stdout",
     "output_type": "stream",
     "text": [
      "R Square Score 0.7565360956150586\n"
     ]
    }
   ],
   "source": [
    "accuracy=metrics.r2_score(y_test, y_pred)\n",
    "print(\"R Square Score\" , accuracy)"
   ]
  },
  {
   "cell_type": "code",
   "execution_count": 389,
   "id": "46f30a99",
   "metadata": {},
   "outputs": [
    {
     "data": {
      "image/png": "[encoded data removed]",
      "text/plain": [
       "<Figure size 432x288 with 1 Axes>"
      ]
     },
     "metadata": {
      "needs_background": "light"
     },
     "output_type": "display_data"
    }
   ],
   "source": [
    "#Plotting the graph of Acutal score Vs Predicted score\n",
    "\n",
    "plt.scatter(y_test, y_pred)\n",
    "plt.xlabel(\"Actual\")\n",
    "plt.ylabel(\"Predicted\")\n",
    "plt.title(\"Predicted Vs Actual\")\n",
    "plt.show()"
   ]
  },
  {
   "cell_type": "code",
   "execution_count": 390,
   "id": "6aed5e95",
   "metadata": {},
   "outputs": [
    {
     "data": {
      "text/plain": [
       "293.7853170969315"
      ]
     },
     "execution_count": 390,
     "metadata": {},
     "output_type": "execute_result"
    }
   ],
   "source": [
    "#Mean square error\n",
    "mean_absolute_error(y_test, y_pred)"
   ]
  },
  {
   "cell_type": "code",
   "execution_count": 391,
   "id": "bbdd2204",
   "metadata": {},
   "outputs": [
    {
     "data": {
      "text/plain": [
       "293.7853170969315"
      ]
     },
     "execution_count": 391,
     "metadata": {},
     "output_type": "execute_result"
    }
   ],
   "source": [
    "#MSE\n",
    "mean_absolute_error(y_test, y_pred)"
   ]
  },
  {
   "cell_type": "code",
   "execution_count": 392,
   "id": "e7319bbf",
   "metadata": {},
   "outputs": [
    {
     "data": {
      "text/plain": [
       "331.2505346483217"
      ]
     },
     "execution_count": 392,
     "metadata": {},
     "output_type": "execute_result"
    }
   ],
   "source": [
    "#RMSE\n",
    "np.sqrt(mean_squared_error(y_test, y_pred))"
   ]
  },
  {
   "cell_type": "code",
   "execution_count": 393,
   "id": "03953677",
   "metadata": {},
   "outputs": [
    {
     "data": {
      "text/plain": [
       "0.7565360956150586"
      ]
     },
     "execution_count": 393,
     "metadata": {},
     "output_type": "execute_result"
    }
   ],
   "source": [
    "r2_score(y_test, y_pred)"
   ]
  },
  {
   "cell_type": "code",
   "execution_count": 394,
   "id": "ecdb8506",
   "metadata": {},
   "outputs": [],
   "source": [
    "#cross validation is to check whether the model is overfitting\n",
    "\n",
    "from sklearn.model_selection import KFold, cross_val_score"
   ]
  },
  {
   "cell_type": "code",
   "execution_count": 396,
   "id": "013db129",
   "metadata": {},
   "outputs": [],
   "source": [
    "x_train, x_test, y_train, y_test= train_test_split(x_scaler, y1, test_size=0.25, random_state=20)"
   ]
  },
  {
   "cell_type": "code",
   "execution_count": 397,
   "id": "65b4bc00",
   "metadata": {},
   "outputs": [
    {
     "data": {
      "text/plain": [
       "array([0.37734722, 0.40288886, 0.20751746, 0.36734748])"
      ]
     },
     "execution_count": 397,
     "metadata": {},
     "output_type": "execute_result"
    }
   ],
   "source": [
    "cv_score=cross_val_score(ada, x_scaled, y, cv=4)\n",
    "cv_score"
   ]
  },
  {
   "cell_type": "code",
   "execution_count": 398,
   "id": "b6773c3b",
   "metadata": {},
   "outputs": [
    {
     "data": {
      "text/plain": [
       "0.3387752554438975"
      ]
     },
     "execution_count": 398,
     "metadata": {},
     "output_type": "execute_result"
    }
   ],
   "source": [
    "cv_mean=cv_score.mean()\n",
    "cv_mean"
   ]
  },
  {
   "cell_type": "code",
   "execution_count": 399,
   "id": "df07022a",
   "metadata": {},
   "outputs": [
    {
     "name": "stdout",
     "output_type": "stream",
     "text": [
      "Prediction of Primary Fuel:   [1304.]\n",
      "Prediction of Primary Fuel:   [351.4]\n"
     ]
    }
   ],
   "source": [
    "print(\"Prediction of Primary Fuel:  \", knn.predict(scalar.transform([[0,2,1,21.9603,82.4091,0,2,2015.0,0,0,1,2019.0,3035.550000,5916.370000,6243.000000,5385.579736,7279.000000,0]])))\n",
    "\n",
    "\n",
    "\n",
    "print(\"Prediction of Primary Fuel:  \", knn.predict(scalar.transform([[0,1,0,23.8712,91.3602,1,2,2004.0,0,0,1,2019.0,617.789264,843.747000,886.004428,663.774500,626.239128,0]])))"
   ]
  },
  {
   "cell_type": "markdown",
   "id": "0d0d0e08",
   "metadata": {},
   "source": [
    "# Using Random Forest"
   ]
  },
  {
   "cell_type": "code",
   "execution_count": 400,
   "id": "72acdb0c",
   "metadata": {},
   "outputs": [
    {
     "data": {
      "text/plain": [
       "RandomForestRegressor()"
      ]
     },
     "execution_count": 400,
     "metadata": {},
     "output_type": "execute_result"
    }
   ],
   "source": [
    "rf= RandomForestRegressor()\n",
    "rf.fit(x_train, y_train)"
   ]
  },
  {
   "cell_type": "code",
   "execution_count": 401,
   "id": "3af829a0",
   "metadata": {},
   "outputs": [
    {
     "data": {
      "text/plain": [
       "0.9770746872398083"
      ]
     },
     "execution_count": 401,
     "metadata": {},
     "output_type": "execute_result"
    }
   ],
   "source": [
    "#Checking training score\n",
    "\n",
    "rf.score(x_train, y_train)"
   ]
  },
  {
   "cell_type": "code",
   "execution_count": 402,
   "id": "dd61db78",
   "metadata": {},
   "outputs": [
    {
     "data": {
      "text/plain": [
       "0.8558603194406555"
      ]
     },
     "execution_count": 402,
     "metadata": {},
     "output_type": "execute_result"
    }
   ],
   "source": [
    "#Checking testing score\n",
    "\n",
    "rf.score(x_test, y_test)"
   ]
  },
  {
   "cell_type": "code",
   "execution_count": 403,
   "id": "79b7a8ed",
   "metadata": {},
   "outputs": [
    {
     "data": {
      "text/plain": [
       "array([ 201.55145,   59.8475 , 1365.22   ,  631.1926 ,   58.777  ,\n",
       "         65.4635 , 1280.075  ,  267.2816 , 1557.7    ,  369.89505,\n",
       "        180.7801 ,   65.1075 , 1542.6    ,  671.86   ,  813.7473 ,\n",
       "       1918.4    , 1188.719  ,  373.8174 ,  203.9029 ,  786.193  ,\n",
       "       1339.705  ,  521.487  ,  131.3353 , 1422.538  ,  112.2988 ,\n",
       "        483.474  ,  623.146  ,  191.72715,  241.6975 ,  992.536  ,\n",
       "        711.345  ,  800.47   ,  346.89322,  547.558  ,  880.02   ,\n",
       "        543.20841,  110.8028 ,  579.95742,  565.68   ,  346.57535,\n",
       "        223.8522 ,  296.8289 ,   56.3365 ,  121.911  , 1252.846  ,\n",
       "        375.575  , 1176.29   ,  288.44036, 1452.495  ,  178.6795 ,\n",
       "       1295.04   , 2866.4    , 1251.5    ,   62.417  , 1588.     ,\n",
       "        881.476  ,  122.5351 ,  302.5568 , 1536.8    ,  475.8506 ,\n",
       "       1537.78   ,  605.13971,  499.12   ,  490.657  , 2839.7    ,\n",
       "        134.588  , 1153.654  ,  447.23605,  451.7302 ,  127.6987 ,\n",
       "         38.4645 , 3527.     ,  341.1698 ,  245.127  ,  517.     ,\n",
       "        371.8824 ,   62.9363 ,  390.0883 ,  546.969  ,  397.16045,\n",
       "        130.8361 ,  310.6626 , 1379.95   ,  139.8496 ,  776.872  ,\n",
       "         68.2689 ,   92.926  ,  617.16233,  138.3646 , 1341.675  ,\n",
       "       1799.1    ,   55.984  ,  255.18635,   74.8123 ,  317.1542 ,\n",
       "         87.9368 ,  709.278  ,  219.1045 ,   46.627  ,  464.47042,\n",
       "        294.30385,  241.8833 ,   43.513  ,  674.96   ,  862.406  ,\n",
       "        548.97571, 1448.923  ,  265.1875 ])"
      ]
     },
     "execution_count": 403,
     "metadata": {},
     "output_type": "execute_result"
    }
   ],
   "source": [
    "\n",
    "y_pred=rf.predict(x_test)\n",
    "y_pred"
   ]
  },
  {
   "cell_type": "code",
   "execution_count": 404,
   "id": "f09b5f75",
   "metadata": {},
   "outputs": [
    {
     "data": {
      "image/png": "[encoded data removed]",
      "text/plain": [
       "<Figure size 432x288 with 1 Axes>"
      ]
     },
     "metadata": {
      "needs_background": "light"
     },
     "output_type": "display_data"
    }
   ],
   "source": [
    "#Plotting the graph of Acutal score Vs Predicted score\n",
    "\n",
    "plt.scatter(y_test, y_pred)\n",
    "plt.xlabel(\"Actual\")\n",
    "plt.ylabel(\"Predicted\")\n",
    "plt.title(\"Score\")\n",
    "plt.show()"
   ]
  },
  {
   "cell_type": "code",
   "execution_count": 405,
   "id": "743a18bf",
   "metadata": {},
   "outputs": [
    {
     "data": {
      "text/plain": [
       "array([ 201.55145,   59.8475 , 1365.22   ,  631.1926 ,   58.777  ,\n",
       "         65.4635 , 1280.075  ,  267.2816 , 1557.7    ,  369.89505,\n",
       "        180.7801 ,   65.1075 , 1542.6    ,  671.86   ,  813.7473 ,\n",
       "       1918.4    , 1188.719  ,  373.8174 ,  203.9029 ,  786.193  ,\n",
       "       1339.705  ,  521.487  ,  131.3353 , 1422.538  ,  112.2988 ,\n",
       "        483.474  ,  623.146  ,  191.72715,  241.6975 ,  992.536  ,\n",
       "        711.345  ,  800.47   ,  346.89322,  547.558  ,  880.02   ,\n",
       "        543.20841,  110.8028 ,  579.95742,  565.68   ,  346.57535,\n",
       "        223.8522 ,  296.8289 ,   56.3365 ,  121.911  , 1252.846  ,\n",
       "        375.575  , 1176.29   ,  288.44036, 1452.495  ,  178.6795 ,\n",
       "       1295.04   , 2866.4    , 1251.5    ,   62.417  , 1588.     ,\n",
       "        881.476  ,  122.5351 ,  302.5568 , 1536.8    ,  475.8506 ,\n",
       "       1537.78   ,  605.13971,  499.12   ,  490.657  , 2839.7    ,\n",
       "        134.588  , 1153.654  ,  447.23605,  451.7302 ,  127.6987 ,\n",
       "         38.4645 , 3527.     ,  341.1698 ,  245.127  ,  517.     ,\n",
       "        371.8824 ,   62.9363 ,  390.0883 ,  546.969  ,  397.16045,\n",
       "        130.8361 ,  310.6626 , 1379.95   ,  139.8496 ,  776.872  ,\n",
       "         68.2689 ,   92.926  ,  617.16233,  138.3646 , 1341.675  ,\n",
       "       1799.1    ,   55.984  ,  255.18635,   74.8123 ,  317.1542 ,\n",
       "         87.9368 ,  709.278  ,  219.1045 ,   46.627  ,  464.47042,\n",
       "        294.30385,  241.8833 ,   43.513  ,  674.96   ,  862.406  ,\n",
       "        548.97571, 1448.923  ,  265.1875 ])"
      ]
     },
     "execution_count": 405,
     "metadata": {},
     "output_type": "execute_result"
    }
   ],
   "source": [
    "y_pred= rf.predict(x_test)\n",
    "y_pred"
   ]
  },
  {
   "cell_type": "code",
   "execution_count": 406,
   "id": "01550997",
   "metadata": {},
   "outputs": [
    {
     "data": {
      "text/plain": [
       "186.3809731481481"
      ]
     },
     "execution_count": 406,
     "metadata": {},
     "output_type": "execute_result"
    }
   ],
   "source": [
    "#Mean square error\n",
    "mean_absolute_error(y_test, y_pred)"
   ]
  },
  {
   "cell_type": "code",
   "execution_count": 407,
   "id": "eaddbd8f",
   "metadata": {},
   "outputs": [
    {
     "data": {
      "text/plain": [
       "186.3809731481481"
      ]
     },
     "execution_count": 407,
     "metadata": {},
     "output_type": "execute_result"
    }
   ],
   "source": [
    "#MSE\n",
    "mean_absolute_error(y_test, y_pred)"
   ]
  },
  {
   "cell_type": "code",
   "execution_count": 408,
   "id": "f98aaa93",
   "metadata": {},
   "outputs": [
    {
     "data": {
      "text/plain": [
       "269.6251477504603"
      ]
     },
     "execution_count": 408,
     "metadata": {},
     "output_type": "execute_result"
    }
   ],
   "source": [
    "#RMSE\n",
    "np.sqrt(mean_squared_error(y_test, y_pred))"
   ]
  },
  {
   "cell_type": "code",
   "execution_count": 409,
   "id": "1f78ee6a",
   "metadata": {},
   "outputs": [
    {
     "data": {
      "text/plain": [
       "0.8558603194406555"
      ]
     },
     "execution_count": 409,
     "metadata": {},
     "output_type": "execute_result"
    }
   ],
   "source": [
    "r2_score(y_test, y_pred)"
   ]
  },
  {
   "cell_type": "raw",
   "id": "f387dc49",
   "metadata": {},
   "source": [
    "Cross Validation"
   ]
  },
  {
   "cell_type": "code",
   "execution_count": 411,
   "id": "17a93dc6",
   "metadata": {},
   "outputs": [
    {
     "data": {
      "text/plain": [
       "array([0.60279989, 0.5871158 , 0.53841273, 0.51718406, 0.28165029])"
      ]
     },
     "execution_count": 411,
     "metadata": {},
     "output_type": "execute_result"
    }
   ],
   "source": [
    "cv_score=cross_val_score(rf, x_scaled, y, cv=5)\n",
    "cv_score"
   ]
  },
  {
   "cell_type": "code",
   "execution_count": 412,
   "id": "3c828d27",
   "metadata": {},
   "outputs": [
    {
     "data": {
      "text/plain": [
       "0.5054325515456827"
      ]
     },
     "execution_count": 412,
     "metadata": {},
     "output_type": "execute_result"
    }
   ],
   "source": [
    "cv_score.mean()"
   ]
  },
  {
   "cell_type": "code",
   "execution_count": 413,
   "id": "b2eb5d3f",
   "metadata": {},
   "outputs": [
    {
     "name": "stdout",
     "output_type": "stream",
     "text": [
      "Prediction of Primary Fuel:   [1537.78]\n",
      "Prediction of Primary Fuel:   [197.1606]\n"
     ]
    }
   ],
   "source": [
    "print(\"Prediction of Primary Fuel:  \", rf.predict(scalar.transform([[0,2,1,21.9603,82.4091,0,2,2015.0,0,0,1,2019.0,3035.550000,5916.370000,6243.000000,5385.579736,7279.000000,0]])))\n",
    "\n",
    "\n",
    "\n",
    "print(\"Prediction of Primary Fuel:  \", rf.predict(scalar.transform([[0,1,0,23.8712,91.3602,1,2,2004.0,0,0,1,2019.0,617.789264,843.747000,886.004428,663.774500,626.239128,0]])))"
   ]
  },
  {
   "cell_type": "markdown",
   "id": "39e74db4",
   "metadata": {},
   "source": [
    "From above random forest is giving us good prediction score"
   ]
  },
  {
   "cell_type": "code",
   "execution_count": null,
   "id": "4f6b1702",
   "metadata": {},
   "outputs": [],
   "source": []
  },
  {
   "cell_type": "markdown",
   "id": "27b3d7ef",
   "metadata": {},
   "source": [
    "# Finalising the model for prediction"
   ]
  },
  {
   "cell_type": "code",
   "execution_count": 420,
   "id": "39fec7fc",
   "metadata": {},
   "outputs": [],
   "source": [
    "#Saving the model in local file system \n",
    "import pickle\n",
    "\n",
    "pickle.dump(rf, open(\"rf\", \"wb\"))"
   ]
  },
  {
   "cell_type": "code",
   "execution_count": 421,
   "id": "f9e161ee",
   "metadata": {},
   "outputs": [
    {
     "name": "stdout",
     "output_type": "stream",
     "text": [
      "85.58603194406555\n"
     ]
    }
   ],
   "source": [
    "#Prediction using the saved model\n",
    "\n",
    "loaded_model=pickle.load(open(\"rf\", \"rb\"))\n",
    "result=loaded_model.score(x_test, y_test)\n",
    "print(result*100)"
   ]
  },
  {
   "cell_type": "code",
   "execution_count": 422,
   "id": "c6663f27",
   "metadata": {},
   "outputs": [
    {
     "data": {
      "text/html": [
       "<div>\n",
       "<style scoped>\n",
       "    .dataframe tbody tr th:only-of-type {\n",
       "        vertical-align: middle;\n",
       "    }\n",
       "\n",
       "    .dataframe tbody tr th {\n",
       "        vertical-align: top;\n",
       "    }\n",
       "\n",
       "    .dataframe thead th {\n",
       "        text-align: right;\n",
       "    }\n",
       "</style>\n",
       "<table border=\"1\" class=\"dataframe\">\n",
       "  <thead>\n",
       "    <tr style=\"text-align: right;\">\n",
       "      <th></th>\n",
       "      <th>0</th>\n",
       "      <th>1</th>\n",
       "      <th>2</th>\n",
       "      <th>3</th>\n",
       "      <th>4</th>\n",
       "      <th>5</th>\n",
       "      <th>6</th>\n",
       "      <th>7</th>\n",
       "      <th>8</th>\n",
       "      <th>9</th>\n",
       "      <th>...</th>\n",
       "      <th>98</th>\n",
       "      <th>99</th>\n",
       "      <th>100</th>\n",
       "      <th>101</th>\n",
       "      <th>102</th>\n",
       "      <th>103</th>\n",
       "      <th>104</th>\n",
       "      <th>105</th>\n",
       "      <th>106</th>\n",
       "      <th>107</th>\n",
       "    </tr>\n",
       "  </thead>\n",
       "  <tbody>\n",
       "    <tr>\n",
       "      <th>Predicted</th>\n",
       "      <td>201.55145</td>\n",
       "      <td>59.8475</td>\n",
       "      <td>1365.22</td>\n",
       "      <td>631.1926</td>\n",
       "      <td>58.777</td>\n",
       "      <td>65.4635</td>\n",
       "      <td>1280.075</td>\n",
       "      <td>267.2816</td>\n",
       "      <td>1557.7</td>\n",
       "      <td>369.89505</td>\n",
       "      <td>...</td>\n",
       "      <td>46.627</td>\n",
       "      <td>464.47042</td>\n",
       "      <td>294.30385</td>\n",
       "      <td>241.8833</td>\n",
       "      <td>43.513</td>\n",
       "      <td>674.96</td>\n",
       "      <td>862.406</td>\n",
       "      <td>548.97571</td>\n",
       "      <td>1448.923</td>\n",
       "      <td>265.1875</td>\n",
       "    </tr>\n",
       "    <tr>\n",
       "      <th>Original</th>\n",
       "      <td>161.00000</td>\n",
       "      <td>36.0000</td>\n",
       "      <td>1200.00</td>\n",
       "      <td>1600.0000</td>\n",
       "      <td>60.000</td>\n",
       "      <td>60.0000</td>\n",
       "      <td>1000.000</td>\n",
       "      <td>186.0000</td>\n",
       "      <td>1400.0</td>\n",
       "      <td>431.58600</td>\n",
       "      <td>...</td>\n",
       "      <td>30.000</td>\n",
       "      <td>351.43000</td>\n",
       "      <td>768.00000</td>\n",
       "      <td>350.0000</td>\n",
       "      <td>32.000</td>\n",
       "      <td>440.00</td>\n",
       "      <td>630.000</td>\n",
       "      <td>240.00000</td>\n",
       "      <td>2400.000</td>\n",
       "      <td>445.6740</td>\n",
       "    </tr>\n",
       "  </tbody>\n",
       "</table>\n",
       "<p>2 rows × 108 columns</p>\n",
       "</div>"
      ],
      "text/plain": [
       "                 0        1        2          3       4        5         6    \\\n",
       "Predicted  201.55145  59.8475  1365.22   631.1926  58.777  65.4635  1280.075   \n",
       "Original   161.00000  36.0000  1200.00  1600.0000  60.000  60.0000  1000.000   \n",
       "\n",
       "                7       8          9    ...     98         99         100  \\\n",
       "Predicted  267.2816  1557.7  369.89505  ...  46.627  464.47042  294.30385   \n",
       "Original   186.0000  1400.0  431.58600  ...  30.000  351.43000  768.00000   \n",
       "\n",
       "                101     102     103      104        105       106       107  \n",
       "Predicted  241.8833  43.513  674.96  862.406  548.97571  1448.923  265.1875  \n",
       "Original   350.0000  32.000  440.00  630.000  240.00000  2400.000  445.6740  \n",
       "\n",
       "[2 rows x 108 columns]"
      ]
     },
     "execution_count": 422,
     "metadata": {},
     "output_type": "execute_result"
    }
   ],
   "source": [
    "conclusion=pd.DataFrame([loaded_model.predict(x_test)[:],y_test[:]],index=[\"Predicted\", \"Original\"])\n",
    "conclusion"
   ]
  },
  {
   "cell_type": "code",
   "execution_count": null,
   "id": "fce9d2aa",
   "metadata": {},
   "outputs": [],
   "source": []
  }
 ],
 "metadata": {
  "kernelspec": {
   "display_name": "Python 3 (ipykernel)",
   "language": "python",
   "name": "python3"
  },
  "language_info": {
   "codemirror_mode": {
    "name": "ipython",
    "version": 3
   },
   "file_extension": ".py",
   "mimetype": "text/x-python",
   "name": "python",
   "nbconvert_exporter": "python",
   "pygments_lexer": "ipython3",
   "version": "3.9.12"
  }
 },
 "nbformat": 4,
 "nbformat_minor": 5
}
