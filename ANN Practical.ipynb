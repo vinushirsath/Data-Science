{
 "cells": [
  {
   "cell_type": "code",
   "execution_count": 1,
   "id": "e8c5fd7c",
   "metadata": {},
   "outputs": [
    {
     "name": "stderr",
     "output_type": "stream",
     "text": [
      "C:\\Users\\hp\\anaconda3\\lib\\site-packages\\scipy\\__init__.py:146: UserWarning: A NumPy version >=1.16.5 and <1.23.0 is required for this version of SciPy (detected version 1.26.3\n",
      "  warnings.warn(f\"A NumPy version >={np_minversion} and <{np_maxversion}\"\n"
     ]
    },
    {
     "name": "stdout",
     "output_type": "stream",
     "text": [
      "WARNING:tensorflow:From C:\\Users\\hp\\anaconda3\\lib\\site-packages\\keras\\src\\losses.py:2976: The name tf.losses.sparse_softmax_cross_entropy is deprecated. Please use tf.compat.v1.losses.sparse_softmax_cross_entropy instead.\n",
      "\n"
     ]
    }
   ],
   "source": [
    "import tensorflow as tf"
   ]
  },
  {
   "cell_type": "code",
   "execution_count": 2,
   "id": "d77023bb",
   "metadata": {},
   "outputs": [
    {
     "name": "stdout",
     "output_type": "stream",
     "text": [
      "2.15.0\n"
     ]
    }
   ],
   "source": [
    "print(tf.__version__)"
   ]
  },
  {
   "cell_type": "code",
   "execution_count": 11,
   "id": "9d899f3f",
   "metadata": {},
   "outputs": [],
   "source": [
    "from sklearn.preprocessing import StandardScaler\n",
    "from sklearn.linear_model import LogisticRegression\n",
    "from sklearn.model_selection import GridSearchCV\n",
    "from sklearn.neighbors import KNeighborsClassifier\n",
    "from sklearn.ensemble import RandomForestClassifier\n",
    "from sklearn.model_selection import train_test_split\n",
    "from sklearn.tree import DecisionTreeClassifier\n",
    "from statsmodels.stats.outliers_influence import variance_inflation_factor\n",
    "from sklearn.metrics import accuracy_score,confusion_matrix,roc_curve, roc_auc_score, classification_report\n",
    "\n"
   ]
  },
  {
   "cell_type": "code",
   "execution_count": 51,
   "id": "14bde57d",
   "metadata": {},
   "outputs": [],
   "source": [
    "import matplotlib.pyplot as plt"
   ]
  },
  {
   "cell_type": "code",
   "execution_count": 3,
   "id": "dfd86e41",
   "metadata": {},
   "outputs": [
    {
     "name": "stdout",
     "output_type": "stream",
     "text": [
      "Requirement already satisfied: tensorflow in c:\\users\\hp\\anaconda3\\lib\\site-packages (2.15.0)\n",
      "Requirement already satisfied: tensorflow-intel==2.15.0 in c:\\users\\hp\\anaconda3\\lib\\site-packages (from tensorflow) (2.15.0)\n",
      "Requirement already satisfied: tensorflow-io-gcs-filesystem>=0.23.1 in c:\\users\\hp\\anaconda3\\lib\\site-packages (from tensorflow-intel==2.15.0->tensorflow) (0.31.0)\n",
      "Requirement already satisfied: typing-extensions>=3.6.6 in c:\\users\\hp\\anaconda3\\lib\\site-packages (from tensorflow-intel==2.15.0->tensorflow) (4.1.1)\n",
      "Requirement already satisfied: flatbuffers>=23.5.26 in c:\\users\\hp\\anaconda3\\lib\\site-packages (from tensorflow-intel==2.15.0->tensorflow) (23.5.26)\n",
      "Requirement already satisfied: setuptools in c:\\users\\hp\\anaconda3\\lib\\site-packages (from tensorflow-intel==2.15.0->tensorflow) (61.2.0)\n",
      "Requirement already satisfied: gast!=0.5.0,!=0.5.1,!=0.5.2,>=0.2.1 in c:\\users\\hp\\anaconda3\\lib\\site-packages (from tensorflow-intel==2.15.0->tensorflow) (0.5.4)\n",
      "Requirement already satisfied: termcolor>=1.1.0 in c:\\users\\hp\\anaconda3\\lib\\site-packages (from tensorflow-intel==2.15.0->tensorflow) (2.4.0)\n",
      "Requirement already satisfied: libclang>=13.0.0 in c:\\users\\hp\\anaconda3\\lib\\site-packages (from tensorflow-intel==2.15.0->tensorflow) (16.0.6)\n",
      "Requirement already satisfied: absl-py>=1.0.0 in c:\\users\\hp\\anaconda3\\lib\\site-packages (from tensorflow-intel==2.15.0->tensorflow) (2.1.0)\n",
      "Requirement already satisfied: h5py>=2.9.0 in c:\\users\\hp\\anaconda3\\lib\\site-packages (from tensorflow-intel==2.15.0->tensorflow) (3.6.0)\n",
      "Requirement already satisfied: opt-einsum>=2.3.2 in c:\\users\\hp\\anaconda3\\lib\\site-packages (from tensorflow-intel==2.15.0->tensorflow) (3.3.0)\n",
      "Requirement already satisfied: numpy<2.0.0,>=1.23.5 in c:\\users\\hp\\anaconda3\\lib\\site-packages (from tensorflow-intel==2.15.0->tensorflow) (1.26.3)\n",
      "Requirement already satisfied: protobuf!=4.21.0,!=4.21.1,!=4.21.2,!=4.21.3,!=4.21.4,!=4.21.5,<5.0.0dev,>=3.20.3 in c:\\users\\hp\\anaconda3\\lib\\site-packages (from tensorflow-intel==2.15.0->tensorflow) (4.23.4)\n",
      "Requirement already satisfied: google-pasta>=0.1.1 in c:\\users\\hp\\anaconda3\\lib\\site-packages (from tensorflow-intel==2.15.0->tensorflow) (0.2.0)\n",
      "Requirement already satisfied: tensorboard<2.16,>=2.15 in c:\\users\\hp\\anaconda3\\lib\\site-packages (from tensorflow-intel==2.15.0->tensorflow) (2.15.1)\n",
      "Requirement already satisfied: ml-dtypes~=0.2.0 in c:\\users\\hp\\anaconda3\\lib\\site-packages (from tensorflow-intel==2.15.0->tensorflow) (0.2.0)\n",
      "Requirement already satisfied: astunparse>=1.6.0 in c:\\users\\hp\\anaconda3\\lib\\site-packages (from tensorflow-intel==2.15.0->tensorflow) (1.6.3)\n",
      "Requirement already satisfied: wrapt<1.15,>=1.11.0 in c:\\users\\hp\\anaconda3\\lib\\site-packages (from tensorflow-intel==2.15.0->tensorflow) (1.12.1)\n",
      "Requirement already satisfied: six>=1.12.0 in c:\\users\\hp\\anaconda3\\lib\\site-packages (from tensorflow-intel==2.15.0->tensorflow) (1.16.0)\n",
      "Requirement already satisfied: grpcio<2.0,>=1.24.3 in c:\\users\\hp\\anaconda3\\lib\\site-packages (from tensorflow-intel==2.15.0->tensorflow) (1.60.0)\n",
      "Requirement already satisfied: packaging in c:\\users\\hp\\anaconda3\\lib\\site-packages (from tensorflow-intel==2.15.0->tensorflow) (21.3)\n",
      "Requirement already satisfied: keras<2.16,>=2.15.0 in c:\\users\\hp\\anaconda3\\lib\\site-packages (from tensorflow-intel==2.15.0->tensorflow) (2.15.0)\n",
      "Requirement already satisfied: tensorflow-estimator<2.16,>=2.15.0 in c:\\users\\hp\\anaconda3\\lib\\site-packages (from tensorflow-intel==2.15.0->tensorflow) (2.15.0)\n",
      "Requirement already satisfied: wheel<1.0,>=0.23.0 in c:\\users\\hp\\anaconda3\\lib\\site-packages (from astunparse>=1.6.0->tensorflow-intel==2.15.0->tensorflow) (0.37.1)\n",
      "Requirement already satisfied: google-auth-oauthlib<2,>=0.5 in c:\\users\\hp\\anaconda3\\lib\\site-packages (from tensorboard<2.16,>=2.15->tensorflow-intel==2.15.0->tensorflow) (1.2.0)\n",
      "Requirement already satisfied: markdown>=2.6.8 in c:\\users\\hp\\anaconda3\\lib\\site-packages (from tensorboard<2.16,>=2.15->tensorflow-intel==2.15.0->tensorflow) (3.3.4)\n",
      "Requirement already satisfied: google-auth<3,>=1.6.3 in c:\\users\\hp\\anaconda3\\lib\\site-packages (from tensorboard<2.16,>=2.15->tensorflow-intel==2.15.0->tensorflow) (2.26.2)\n",
      "Requirement already satisfied: requests<3,>=2.21.0 in c:\\users\\hp\\anaconda3\\lib\\site-packages (from tensorboard<2.16,>=2.15->tensorflow-intel==2.15.0->tensorflow) (2.27.1)\n",
      "Requirement already satisfied: tensorboard-data-server<0.8.0,>=0.7.0 in c:\\users\\hp\\anaconda3\\lib\\site-packages (from tensorboard<2.16,>=2.15->tensorflow-intel==2.15.0->tensorflow) (0.7.2)\n",
      "Requirement already satisfied: werkzeug>=1.0.1 in c:\\users\\hp\\anaconda3\\lib\\site-packages (from tensorboard<2.16,>=2.15->tensorflow-intel==2.15.0->tensorflow) (2.0.3)\n",
      "Requirement already satisfied: pyasn1-modules>=0.2.1 in c:\\users\\hp\\anaconda3\\lib\\site-packages (from google-auth<3,>=1.6.3->tensorboard<2.16,>=2.15->tensorflow-intel==2.15.0->tensorflow) (0.2.8)\n",
      "Requirement already satisfied: rsa<5,>=3.1.4 in c:\\users\\hp\\anaconda3\\lib\\site-packages (from google-auth<3,>=1.6.3->tensorboard<2.16,>=2.15->tensorflow-intel==2.15.0->tensorflow) (4.7.2)\n",
      "Requirement already satisfied: cachetools<6.0,>=2.0.0 in c:\\users\\hp\\anaconda3\\lib\\site-packages (from google-auth<3,>=1.6.3->tensorboard<2.16,>=2.15->tensorflow-intel==2.15.0->tensorflow) (4.2.2)\n",
      "Requirement already satisfied: requests-oauthlib>=0.7.0 in c:\\users\\hp\\anaconda3\\lib\\site-packages (from google-auth-oauthlib<2,>=0.5->tensorboard<2.16,>=2.15->tensorflow-intel==2.15.0->tensorflow) (1.3.1)\n",
      "Requirement already satisfied: pyasn1<0.5.0,>=0.4.6 in c:\\users\\hp\\anaconda3\\lib\\site-packages (from pyasn1-modules>=0.2.1->google-auth<3,>=1.6.3->tensorboard<2.16,>=2.15->tensorflow-intel==2.15.0->tensorflow) (0.4.8)\n",
      "Requirement already satisfied: idna<4,>=2.5 in c:\\users\\hp\\anaconda3\\lib\\site-packages (from requests<3,>=2.21.0->tensorboard<2.16,>=2.15->tensorflow-intel==2.15.0->tensorflow) (3.3)\n",
      "Requirement already satisfied: urllib3<1.27,>=1.21.1 in c:\\users\\hp\\anaconda3\\lib\\site-packages (from requests<3,>=2.21.0->tensorboard<2.16,>=2.15->tensorflow-intel==2.15.0->tensorflow) (1.26.9)\n",
      "Requirement already satisfied: charset-normalizer~=2.0.0 in c:\\users\\hp\\anaconda3\\lib\\site-packages (from requests<3,>=2.21.0->tensorboard<2.16,>=2.15->tensorflow-intel==2.15.0->tensorflow) (2.0.4)\n",
      "Requirement already satisfied: certifi>=2017.4.17 in c:\\users\\hp\\anaconda3\\lib\\site-packages (from requests<3,>=2.21.0->tensorboard<2.16,>=2.15->tensorflow-intel==2.15.0->tensorflow) (2021.10.8)\n",
      "Requirement already satisfied: oauthlib>=3.0.0 in c:\\users\\hp\\anaconda3\\lib\\site-packages (from requests-oauthlib>=0.7.0->google-auth-oauthlib<2,>=0.5->tensorboard<2.16,>=2.15->tensorflow-intel==2.15.0->tensorflow) (3.2.2)\n",
      "Requirement already satisfied: pyparsing!=3.0.5,>=2.0.2 in c:\\users\\hp\\anaconda3\\lib\\site-packages (from packaging->tensorflow-intel==2.15.0->tensorflow) (3.0.4)\n"
     ]
    }
   ],
   "source": [
    "!pip install tensorflow"
   ]
  },
  {
   "cell_type": "code",
   "execution_count": 3,
   "id": "69518cd9",
   "metadata": {},
   "outputs": [],
   "source": [
    "import numpy as np\n",
    "import pandas as pd\n",
    "import matplotlib as plt"
   ]
  },
  {
   "cell_type": "code",
   "execution_count": 4,
   "id": "2154cd8b",
   "metadata": {},
   "outputs": [
    {
     "data": {
      "text/html": [
       "<div>\n",
       "<style scoped>\n",
       "    .dataframe tbody tr th:only-of-type {\n",
       "        vertical-align: middle;\n",
       "    }\n",
       "\n",
       "    .dataframe tbody tr th {\n",
       "        vertical-align: top;\n",
       "    }\n",
       "\n",
       "    .dataframe thead th {\n",
       "        text-align: right;\n",
       "    }\n",
       "</style>\n",
       "<table border=\"1\" class=\"dataframe\">\n",
       "  <thead>\n",
       "    <tr style=\"text-align: right;\">\n",
       "      <th></th>\n",
       "      <th>customerID</th>\n",
       "      <th>gender</th>\n",
       "      <th>SeniorCitizen</th>\n",
       "      <th>Partner</th>\n",
       "      <th>Dependents</th>\n",
       "      <th>tenure</th>\n",
       "      <th>PhoneService</th>\n",
       "      <th>MultipleLines</th>\n",
       "      <th>InternetService</th>\n",
       "      <th>OnlineSecurity</th>\n",
       "      <th>...</th>\n",
       "      <th>DeviceProtection</th>\n",
       "      <th>TechSupport</th>\n",
       "      <th>StreamingTV</th>\n",
       "      <th>StreamingMovies</th>\n",
       "      <th>Contract</th>\n",
       "      <th>PaperlessBilling</th>\n",
       "      <th>PaymentMethod</th>\n",
       "      <th>MonthlyCharges</th>\n",
       "      <th>TotalCharges</th>\n",
       "      <th>Churn</th>\n",
       "    </tr>\n",
       "  </thead>\n",
       "  <tbody>\n",
       "    <tr>\n",
       "      <th>0</th>\n",
       "      <td>7590-VHVEG</td>\n",
       "      <td>Female</td>\n",
       "      <td>0</td>\n",
       "      <td>Yes</td>\n",
       "      <td>No</td>\n",
       "      <td>1</td>\n",
       "      <td>No</td>\n",
       "      <td>No phone service</td>\n",
       "      <td>DSL</td>\n",
       "      <td>No</td>\n",
       "      <td>...</td>\n",
       "      <td>No</td>\n",
       "      <td>No</td>\n",
       "      <td>No</td>\n",
       "      <td>No</td>\n",
       "      <td>Month-to-month</td>\n",
       "      <td>Yes</td>\n",
       "      <td>Electronic check</td>\n",
       "      <td>29.85</td>\n",
       "      <td>29.85</td>\n",
       "      <td>No</td>\n",
       "    </tr>\n",
       "    <tr>\n",
       "      <th>1</th>\n",
       "      <td>5575-GNVDE</td>\n",
       "      <td>Male</td>\n",
       "      <td>0</td>\n",
       "      <td>No</td>\n",
       "      <td>No</td>\n",
       "      <td>34</td>\n",
       "      <td>Yes</td>\n",
       "      <td>No</td>\n",
       "      <td>DSL</td>\n",
       "      <td>Yes</td>\n",
       "      <td>...</td>\n",
       "      <td>Yes</td>\n",
       "      <td>No</td>\n",
       "      <td>No</td>\n",
       "      <td>No</td>\n",
       "      <td>One year</td>\n",
       "      <td>No</td>\n",
       "      <td>Mailed check</td>\n",
       "      <td>56.95</td>\n",
       "      <td>1889.5</td>\n",
       "      <td>No</td>\n",
       "    </tr>\n",
       "    <tr>\n",
       "      <th>2</th>\n",
       "      <td>3668-QPYBK</td>\n",
       "      <td>Male</td>\n",
       "      <td>0</td>\n",
       "      <td>No</td>\n",
       "      <td>No</td>\n",
       "      <td>2</td>\n",
       "      <td>Yes</td>\n",
       "      <td>No</td>\n",
       "      <td>DSL</td>\n",
       "      <td>Yes</td>\n",
       "      <td>...</td>\n",
       "      <td>No</td>\n",
       "      <td>No</td>\n",
       "      <td>No</td>\n",
       "      <td>No</td>\n",
       "      <td>Month-to-month</td>\n",
       "      <td>Yes</td>\n",
       "      <td>Mailed check</td>\n",
       "      <td>53.85</td>\n",
       "      <td>108.15</td>\n",
       "      <td>Yes</td>\n",
       "    </tr>\n",
       "    <tr>\n",
       "      <th>3</th>\n",
       "      <td>7795-CFOCW</td>\n",
       "      <td>Male</td>\n",
       "      <td>0</td>\n",
       "      <td>No</td>\n",
       "      <td>No</td>\n",
       "      <td>45</td>\n",
       "      <td>No</td>\n",
       "      <td>No phone service</td>\n",
       "      <td>DSL</td>\n",
       "      <td>Yes</td>\n",
       "      <td>...</td>\n",
       "      <td>Yes</td>\n",
       "      <td>Yes</td>\n",
       "      <td>No</td>\n",
       "      <td>No</td>\n",
       "      <td>One year</td>\n",
       "      <td>No</td>\n",
       "      <td>Bank transfer (automatic)</td>\n",
       "      <td>42.30</td>\n",
       "      <td>1840.75</td>\n",
       "      <td>No</td>\n",
       "    </tr>\n",
       "    <tr>\n",
       "      <th>4</th>\n",
       "      <td>9237-HQITU</td>\n",
       "      <td>Female</td>\n",
       "      <td>0</td>\n",
       "      <td>No</td>\n",
       "      <td>No</td>\n",
       "      <td>2</td>\n",
       "      <td>Yes</td>\n",
       "      <td>No</td>\n",
       "      <td>Fiber optic</td>\n",
       "      <td>No</td>\n",
       "      <td>...</td>\n",
       "      <td>No</td>\n",
       "      <td>No</td>\n",
       "      <td>No</td>\n",
       "      <td>No</td>\n",
       "      <td>Month-to-month</td>\n",
       "      <td>Yes</td>\n",
       "      <td>Electronic check</td>\n",
       "      <td>70.70</td>\n",
       "      <td>151.65</td>\n",
       "      <td>Yes</td>\n",
       "    </tr>\n",
       "  </tbody>\n",
       "</table>\n",
       "<p>5 rows × 21 columns</p>\n",
       "</div>"
      ],
      "text/plain": [
       "   customerID  gender  SeniorCitizen Partner Dependents  tenure PhoneService  \\\n",
       "0  7590-VHVEG  Female              0     Yes         No       1           No   \n",
       "1  5575-GNVDE    Male              0      No         No      34          Yes   \n",
       "2  3668-QPYBK    Male              0      No         No       2          Yes   \n",
       "3  7795-CFOCW    Male              0      No         No      45           No   \n",
       "4  9237-HQITU  Female              0      No         No       2          Yes   \n",
       "\n",
       "      MultipleLines InternetService OnlineSecurity  ... DeviceProtection  \\\n",
       "0  No phone service             DSL             No  ...               No   \n",
       "1                No             DSL            Yes  ...              Yes   \n",
       "2                No             DSL            Yes  ...               No   \n",
       "3  No phone service             DSL            Yes  ...              Yes   \n",
       "4                No     Fiber optic             No  ...               No   \n",
       "\n",
       "  TechSupport StreamingTV StreamingMovies        Contract PaperlessBilling  \\\n",
       "0          No          No              No  Month-to-month              Yes   \n",
       "1          No          No              No        One year               No   \n",
       "2          No          No              No  Month-to-month              Yes   \n",
       "3         Yes          No              No        One year               No   \n",
       "4          No          No              No  Month-to-month              Yes   \n",
       "\n",
       "               PaymentMethod MonthlyCharges  TotalCharges Churn  \n",
       "0           Electronic check          29.85         29.85    No  \n",
       "1               Mailed check          56.95        1889.5    No  \n",
       "2               Mailed check          53.85        108.15   Yes  \n",
       "3  Bank transfer (automatic)          42.30       1840.75    No  \n",
       "4           Electronic check          70.70        151.65   Yes  \n",
       "\n",
       "[5 rows x 21 columns]"
      ]
     },
     "execution_count": 4,
     "metadata": {},
     "output_type": "execute_result"
    }
   ],
   "source": [
    "df= pd.read_csv(\"C:\\\\Users\\\\hp\\\\Desktop\\\\Telecom_customer_churn.csv\")\n",
    "df.head()\n"
   ]
  },
  {
   "cell_type": "code",
   "execution_count": 8,
   "id": "3ec37165",
   "metadata": {},
   "outputs": [],
   "source": []
  },
  {
   "cell_type": "code",
   "execution_count": 5,
   "id": "2f018fa2",
   "metadata": {},
   "outputs": [
    {
     "name": "stdout",
     "output_type": "stream",
     "text": [
      "<class 'pandas.core.frame.DataFrame'>\n",
      "RangeIndex: 7043 entries, 0 to 7042\n",
      "Data columns (total 21 columns):\n",
      " #   Column            Non-Null Count  Dtype  \n",
      "---  ------            --------------  -----  \n",
      " 0   customerID        7043 non-null   object \n",
      " 1   gender            7043 non-null   object \n",
      " 2   SeniorCitizen     7043 non-null   int64  \n",
      " 3   Partner           7043 non-null   object \n",
      " 4   Dependents        7043 non-null   object \n",
      " 5   tenure            7043 non-null   int64  \n",
      " 6   PhoneService      7043 non-null   object \n",
      " 7   MultipleLines     7043 non-null   object \n",
      " 8   InternetService   7043 non-null   object \n",
      " 9   OnlineSecurity    7043 non-null   object \n",
      " 10  OnlineBackup      7043 non-null   object \n",
      " 11  DeviceProtection  7043 non-null   object \n",
      " 12  TechSupport       7043 non-null   object \n",
      " 13  StreamingTV       7043 non-null   object \n",
      " 14  StreamingMovies   7043 non-null   object \n",
      " 15  Contract          7043 non-null   object \n",
      " 16  PaperlessBilling  7043 non-null   object \n",
      " 17  PaymentMethod     7043 non-null   object \n",
      " 18  MonthlyCharges    7043 non-null   float64\n",
      " 19  TotalCharges      7043 non-null   object \n",
      " 20  Churn             7043 non-null   object \n",
      "dtypes: float64(1), int64(2), object(18)\n",
      "memory usage: 1.1+ MB\n"
     ]
    }
   ],
   "source": [
    "df.info()"
   ]
  },
  {
   "cell_type": "code",
   "execution_count": 10,
   "id": "0a434734",
   "metadata": {},
   "outputs": [
    {
     "data": {
      "text/plain": [
       "customerID          0\n",
       "gender              0\n",
       "SeniorCitizen       0\n",
       "Partner             0\n",
       "Dependents          0\n",
       "tenure              0\n",
       "PhoneService        0\n",
       "MultipleLines       0\n",
       "InternetService     0\n",
       "OnlineSecurity      0\n",
       "OnlineBackup        0\n",
       "DeviceProtection    0\n",
       "TechSupport         0\n",
       "StreamingTV         0\n",
       "StreamingMovies     0\n",
       "Contract            0\n",
       "PaperlessBilling    0\n",
       "PaymentMethod       0\n",
       "MonthlyCharges      0\n",
       "TotalCharges        0\n",
       "Churn               0\n",
       "dtype: int64"
      ]
     },
     "execution_count": 10,
     "metadata": {},
     "output_type": "execute_result"
    }
   ],
   "source": [
    "df.isna().sum()"
   ]
  },
  {
   "cell_type": "code",
   "execution_count": 6,
   "id": "1019ddd8",
   "metadata": {},
   "outputs": [],
   "source": [
    "from sklearn.preprocessing import LabelEncoder\n",
    "enc=LabelEncoder()"
   ]
  },
  {
   "cell_type": "code",
   "execution_count": 7,
   "id": "d1514586",
   "metadata": {},
   "outputs": [],
   "source": [
    "#Lets encode the oject datatype\n",
    "for i in df.columns:\n",
    "    if df[i].dtype=='object':\n",
    "        df[i]=enc.fit_transform(df[i])"
   ]
  },
  {
   "cell_type": "code",
   "execution_count": 14,
   "id": "d5ddf1cb",
   "metadata": {},
   "outputs": [
    {
     "data": {
      "text/html": [
       "<div>\n",
       "<style scoped>\n",
       "    .dataframe tbody tr th:only-of-type {\n",
       "        vertical-align: middle;\n",
       "    }\n",
       "\n",
       "    .dataframe tbody tr th {\n",
       "        vertical-align: top;\n",
       "    }\n",
       "\n",
       "    .dataframe thead th {\n",
       "        text-align: right;\n",
       "    }\n",
       "</style>\n",
       "<table border=\"1\" class=\"dataframe\">\n",
       "  <thead>\n",
       "    <tr style=\"text-align: right;\">\n",
       "      <th></th>\n",
       "      <th>customerID</th>\n",
       "      <th>gender</th>\n",
       "      <th>SeniorCitizen</th>\n",
       "      <th>Partner</th>\n",
       "      <th>Dependents</th>\n",
       "      <th>tenure</th>\n",
       "      <th>PhoneService</th>\n",
       "      <th>MultipleLines</th>\n",
       "      <th>InternetService</th>\n",
       "      <th>OnlineSecurity</th>\n",
       "      <th>...</th>\n",
       "      <th>DeviceProtection</th>\n",
       "      <th>TechSupport</th>\n",
       "      <th>StreamingTV</th>\n",
       "      <th>StreamingMovies</th>\n",
       "      <th>Contract</th>\n",
       "      <th>PaperlessBilling</th>\n",
       "      <th>PaymentMethod</th>\n",
       "      <th>MonthlyCharges</th>\n",
       "      <th>TotalCharges</th>\n",
       "      <th>Churn</th>\n",
       "    </tr>\n",
       "  </thead>\n",
       "  <tbody>\n",
       "    <tr>\n",
       "      <th>0</th>\n",
       "      <td>5375</td>\n",
       "      <td>0</td>\n",
       "      <td>0</td>\n",
       "      <td>1</td>\n",
       "      <td>0</td>\n",
       "      <td>1</td>\n",
       "      <td>0</td>\n",
       "      <td>1</td>\n",
       "      <td>0</td>\n",
       "      <td>0</td>\n",
       "      <td>...</td>\n",
       "      <td>0</td>\n",
       "      <td>0</td>\n",
       "      <td>0</td>\n",
       "      <td>0</td>\n",
       "      <td>0</td>\n",
       "      <td>1</td>\n",
       "      <td>2</td>\n",
       "      <td>29.85</td>\n",
       "      <td>2505</td>\n",
       "      <td>0</td>\n",
       "    </tr>\n",
       "    <tr>\n",
       "      <th>1</th>\n",
       "      <td>3962</td>\n",
       "      <td>1</td>\n",
       "      <td>0</td>\n",
       "      <td>0</td>\n",
       "      <td>0</td>\n",
       "      <td>34</td>\n",
       "      <td>1</td>\n",
       "      <td>0</td>\n",
       "      <td>0</td>\n",
       "      <td>2</td>\n",
       "      <td>...</td>\n",
       "      <td>2</td>\n",
       "      <td>0</td>\n",
       "      <td>0</td>\n",
       "      <td>0</td>\n",
       "      <td>1</td>\n",
       "      <td>0</td>\n",
       "      <td>3</td>\n",
       "      <td>56.95</td>\n",
       "      <td>1466</td>\n",
       "      <td>0</td>\n",
       "    </tr>\n",
       "    <tr>\n",
       "      <th>2</th>\n",
       "      <td>2564</td>\n",
       "      <td>1</td>\n",
       "      <td>0</td>\n",
       "      <td>0</td>\n",
       "      <td>0</td>\n",
       "      <td>2</td>\n",
       "      <td>1</td>\n",
       "      <td>0</td>\n",
       "      <td>0</td>\n",
       "      <td>2</td>\n",
       "      <td>...</td>\n",
       "      <td>0</td>\n",
       "      <td>0</td>\n",
       "      <td>0</td>\n",
       "      <td>0</td>\n",
       "      <td>0</td>\n",
       "      <td>1</td>\n",
       "      <td>3</td>\n",
       "      <td>53.85</td>\n",
       "      <td>157</td>\n",
       "      <td>1</td>\n",
       "    </tr>\n",
       "    <tr>\n",
       "      <th>3</th>\n",
       "      <td>5535</td>\n",
       "      <td>1</td>\n",
       "      <td>0</td>\n",
       "      <td>0</td>\n",
       "      <td>0</td>\n",
       "      <td>45</td>\n",
       "      <td>0</td>\n",
       "      <td>1</td>\n",
       "      <td>0</td>\n",
       "      <td>2</td>\n",
       "      <td>...</td>\n",
       "      <td>2</td>\n",
       "      <td>2</td>\n",
       "      <td>0</td>\n",
       "      <td>0</td>\n",
       "      <td>1</td>\n",
       "      <td>0</td>\n",
       "      <td>0</td>\n",
       "      <td>42.30</td>\n",
       "      <td>1400</td>\n",
       "      <td>0</td>\n",
       "    </tr>\n",
       "    <tr>\n",
       "      <th>4</th>\n",
       "      <td>6511</td>\n",
       "      <td>0</td>\n",
       "      <td>0</td>\n",
       "      <td>0</td>\n",
       "      <td>0</td>\n",
       "      <td>2</td>\n",
       "      <td>1</td>\n",
       "      <td>0</td>\n",
       "      <td>1</td>\n",
       "      <td>0</td>\n",
       "      <td>...</td>\n",
       "      <td>0</td>\n",
       "      <td>0</td>\n",
       "      <td>0</td>\n",
       "      <td>0</td>\n",
       "      <td>0</td>\n",
       "      <td>1</td>\n",
       "      <td>2</td>\n",
       "      <td>70.70</td>\n",
       "      <td>925</td>\n",
       "      <td>1</td>\n",
       "    </tr>\n",
       "  </tbody>\n",
       "</table>\n",
       "<p>5 rows × 21 columns</p>\n",
       "</div>"
      ],
      "text/plain": [
       "   customerID  gender  SeniorCitizen  Partner  Dependents  tenure  \\\n",
       "0        5375       0              0        1           0       1   \n",
       "1        3962       1              0        0           0      34   \n",
       "2        2564       1              0        0           0       2   \n",
       "3        5535       1              0        0           0      45   \n",
       "4        6511       0              0        0           0       2   \n",
       "\n",
       "   PhoneService  MultipleLines  InternetService  OnlineSecurity  ...  \\\n",
       "0             0              1                0               0  ...   \n",
       "1             1              0                0               2  ...   \n",
       "2             1              0                0               2  ...   \n",
       "3             0              1                0               2  ...   \n",
       "4             1              0                1               0  ...   \n",
       "\n",
       "   DeviceProtection  TechSupport  StreamingTV  StreamingMovies  Contract  \\\n",
       "0                 0            0            0                0         0   \n",
       "1                 2            0            0                0         1   \n",
       "2                 0            0            0                0         0   \n",
       "3                 2            2            0                0         1   \n",
       "4                 0            0            0                0         0   \n",
       "\n",
       "   PaperlessBilling  PaymentMethod  MonthlyCharges  TotalCharges  Churn  \n",
       "0                 1              2           29.85          2505      0  \n",
       "1                 0              3           56.95          1466      0  \n",
       "2                 1              3           53.85           157      1  \n",
       "3                 0              0           42.30          1400      0  \n",
       "4                 1              2           70.70           925      1  \n",
       "\n",
       "[5 rows x 21 columns]"
      ]
     },
     "execution_count": 14,
     "metadata": {},
     "output_type": "execute_result"
    }
   ],
   "source": [
    "df.head()"
   ]
  },
  {
   "cell_type": "code",
   "execution_count": 14,
   "id": "a5b3cc08",
   "metadata": {},
   "outputs": [],
   "source": [
    "x=df.drop(columns=[\"Churn\"], axis=1)\n",
    "y=df[\"Churn\"]"
   ]
  },
  {
   "cell_type": "code",
   "execution_count": 20,
   "id": "4b2ce7ba",
   "metadata": {},
   "outputs": [],
   "source": [
    "#Feature Scaling of dataset\n",
    "scalar=StandardScaler()\n",
    "x_train=scalar.fit_transform(x)"
   ]
  },
  {
   "cell_type": "code",
   "execution_count": 22,
   "id": "09b5c4d1",
   "metadata": {},
   "outputs": [],
   "source": [
    "x_train,x_test, y_train,y_test= train_test_split(x_train, y, test_size=0.25, random_state=0)"
   ]
  },
  {
   "cell_type": "code",
   "execution_count": 23,
   "id": "188ffba9",
   "metadata": {},
   "outputs": [],
   "source": [
    "#Feature Scaling of dataset\n",
    "scalar=StandardScaler()\n",
    "x_train=scalar.fit_transform(x_train)\n",
    "x_test=scalar.transform(x_test)"
   ]
  },
  {
   "cell_type": "code",
   "execution_count": 24,
   "id": "a75ba61d",
   "metadata": {},
   "outputs": [
    {
     "data": {
      "text/plain": [
       "array([[-0.97345945, -0.99546654, -0.43547634, ..., -0.53849448,\n",
       "        -0.51431406, -1.50952654],\n",
       "       [ 1.0547895 ,  1.0045541 ,  2.29633603, ..., -1.47259228,\n",
       "         0.01784008, -0.11382699],\n",
       "       [ 0.47738336,  1.0045541 , -0.43547634, ...,  1.32970114,\n",
       "        -0.81959371, -1.44324142],\n",
       "       ...,\n",
       "       [ 0.58045671,  1.0045541 , -0.43547634, ...,  1.32970114,\n",
       "        -1.46685329, -1.55194902],\n",
       "       [ 0.20675477,  1.0045541 ,  2.29633603, ...,  0.39560333,\n",
       "         0.16797762,  1.1551354 ],\n",
       "       [ 1.70253952, -0.99546654, -0.43547634, ..., -0.53849448,\n",
       "        -1.47853066,  1.67003824]])"
      ]
     },
     "execution_count": 24,
     "metadata": {},
     "output_type": "execute_result"
    }
   ],
   "source": [
    "x_train"
   ]
  },
  {
   "cell_type": "code",
   "execution_count": 25,
   "id": "edc294e2",
   "metadata": {},
   "outputs": [
    {
     "data": {
      "text/plain": [
       "array([[ 0.46565938, -0.99546654, -0.43547634, ...,  0.39560333,\n",
       "        -0.21737538, -1.6892918 ],\n",
       "       [-0.45711573,  1.0045541 , -0.43547634, ..., -0.53849448,\n",
       "         1.73107615,  1.20392125],\n",
       "       [-0.0145354 , -0.99546654, -0.43547634, ...,  0.39560333,\n",
       "         0.24137819,  1.64670588],\n",
       "       ...,\n",
       "       [ 1.46903687, -0.99546654, -0.43547634, ...,  1.32970114,\n",
       "        -1.49187622,  1.66261431],\n",
       "       [-1.60020401,  1.0045541 , -0.43547634, ..., -1.47259228,\n",
       "         0.73850024,  0.95468919],\n",
       "       [ 1.24628121, -0.99546654, -0.43547634, ...,  1.32970114,\n",
       "        -1.3350659 , -1.14204182]])"
      ]
     },
     "execution_count": 25,
     "metadata": {},
     "output_type": "execute_result"
    }
   ],
   "source": [
    "x_test"
   ]
  },
  {
   "cell_type": "code",
   "execution_count": 26,
   "id": "fc5ad83a",
   "metadata": {},
   "outputs": [
    {
     "data": {
      "text/plain": [
       "(5282, 20)"
      ]
     },
     "execution_count": 26,
     "metadata": {},
     "output_type": "execute_result"
    }
   ],
   "source": [
    "x_train.shape"
   ]
  },
  {
   "cell_type": "code",
   "execution_count": 27,
   "id": "d1dcba86",
   "metadata": {},
   "outputs": [
    {
     "data": {
      "text/plain": [
       "(1761, 20)"
      ]
     },
     "execution_count": 27,
     "metadata": {},
     "output_type": "execute_result"
    }
   ],
   "source": [
    "x_test.shape"
   ]
  },
  {
   "cell_type": "code",
   "execution_count": 27,
   "id": "2e12d976",
   "metadata": {},
   "outputs": [],
   "source": [
    "##Create ANN"
   ]
  },
  {
   "cell_type": "code",
   "execution_count": 28,
   "id": "fa560176",
   "metadata": {},
   "outputs": [],
   "source": [
    "from tensorflow.keras.models import Sequential\n",
    "from tensorflow.keras.layers import Dense\n",
    "from tensorflow.keras.layers import LeakyReLU, PReLU, ELU, ReLU\n",
    "from tensorflow.keras.layers import Dropout"
   ]
  },
  {
   "cell_type": "code",
   "execution_count": 29,
   "id": "c593e57a",
   "metadata": {},
   "outputs": [
    {
     "name": "stdout",
     "output_type": "stream",
     "text": [
      "WARNING:tensorflow:From C:\\Users\\hp\\anaconda3\\lib\\site-packages\\keras\\src\\backend.py:873: The name tf.get_default_graph is deprecated. Please use tf.compat.v1.get_default_graph instead.\n",
      "\n"
     ]
    }
   ],
   "source": [
    "##Lets initialise ANN\n",
    "classifier=Sequential()"
   ]
  },
  {
   "cell_type": "code",
   "execution_count": 30,
   "id": "f2297134",
   "metadata": {},
   "outputs": [],
   "source": [
    "##Adding input layers\n",
    "classifier.add(Dense(units=21, activation='relu'))"
   ]
  },
  {
   "cell_type": "code",
   "execution_count": 31,
   "id": "74738fe8",
   "metadata": {},
   "outputs": [],
   "source": [
    "##Adding first hidden layer\n",
    "classifier.add(Dense(units=11, activation='relu'))"
   ]
  },
  {
   "cell_type": "code",
   "execution_count": 32,
   "id": "136bff4b",
   "metadata": {},
   "outputs": [],
   "source": [
    "##Adding second hidden layer\n",
    "classifier.add(Dense(units=7, activation='relu'))"
   ]
  },
  {
   "cell_type": "code",
   "execution_count": 33,
   "id": "b37dc763",
   "metadata": {},
   "outputs": [],
   "source": [
    "##Adding output layer\n",
    "classifier.add(Dense(1, activation='sigmoid'))"
   ]
  },
  {
   "cell_type": "code",
   "execution_count": 34,
   "id": "e6489309",
   "metadata": {},
   "outputs": [
    {
     "name": "stdout",
     "output_type": "stream",
     "text": [
      "WARNING:tensorflow:From C:\\Users\\hp\\anaconda3\\lib\\site-packages\\keras\\src\\optimizers\\__init__.py:309: The name tf.train.Optimizer is deprecated. Please use tf.compat.v1.train.Optimizer instead.\n",
      "\n"
     ]
    }
   ],
   "source": [
    "classifier.compile(optimizer='adam', loss='binary_crossentropy', metrics= ['accuracy'])"
   ]
  },
  {
   "cell_type": "code",
   "execution_count": 36,
   "id": "4dfe4d9e",
   "metadata": {},
   "outputs": [],
   "source": [
    "import tensorflow\n",
    "import keras\n",
    "opt= tensorflow.keras.optimizers.Adam(learning_rate=0.01)"
   ]
  },
  {
   "cell_type": "code",
   "execution_count": 37,
   "id": "48206b77",
   "metadata": {},
   "outputs": [],
   "source": [
    "##Early stopping\n",
    "early_stopping= keras.callbacks.EarlyStopping(\n",
    "    monitor=\"val_loss\",\n",
    "    min_delta=0.0001,\n",
    "    patience=20,\n",
    "    verbose=1,\n",
    "    mode=\"auto\",\n",
    "    baseline=None,\n",
    "    restore_best_weights=False,\n",
    "    \n",
    ")"
   ]
  },
  {
   "cell_type": "code",
   "execution_count": 38,
   "id": "927a7d77",
   "metadata": {},
   "outputs": [
    {
     "name": "stdout",
     "output_type": "stream",
     "text": [
      "Epoch 1/1000\n",
      "WARNING:tensorflow:From C:\\Users\\hp\\anaconda3\\lib\\site-packages\\keras\\src\\utils\\tf_utils.py:492: The name tf.ragged.RaggedTensorValue is deprecated. Please use tf.compat.v1.ragged.RaggedTensorValue instead.\n",
      "\n",
      "WARNING:tensorflow:From C:\\Users\\hp\\anaconda3\\lib\\site-packages\\keras\\src\\engine\\base_layer_utils.py:384: The name tf.executing_eagerly_outside_functions is deprecated. Please use tf.compat.v1.executing_eagerly_outside_functions instead.\n",
      "\n",
      "354/354 [==============================] - 5s 4ms/step - loss: 0.5036 - accuracy: 0.7321 - val_loss: 0.4386 - val_accuracy: 0.7741\n",
      "Epoch 2/1000\n",
      "354/354 [==============================] - 1s 2ms/step - loss: 0.4451 - accuracy: 0.7773 - val_loss: 0.4243 - val_accuracy: 0.7873\n",
      "Epoch 3/1000\n",
      "354/354 [==============================] - 1s 2ms/step - loss: 0.4275 - accuracy: 0.7855 - val_loss: 0.4224 - val_accuracy: 0.7856\n",
      "Epoch 4/1000\n",
      "354/354 [==============================] - 1s 2ms/step - loss: 0.4162 - accuracy: 0.7940 - val_loss: 0.4212 - val_accuracy: 0.7844\n",
      "Epoch 5/1000\n",
      "354/354 [==============================] - 1s 2ms/step - loss: 0.4106 - accuracy: 0.7971 - val_loss: 0.4222 - val_accuracy: 0.7901\n",
      "Epoch 6/1000\n",
      "354/354 [==============================] - 1s 2ms/step - loss: 0.4044 - accuracy: 0.8021 - val_loss: 0.4207 - val_accuracy: 0.7953\n",
      "Epoch 7/1000\n",
      "354/354 [==============================] - 1s 2ms/step - loss: 0.4016 - accuracy: 0.8086 - val_loss: 0.4224 - val_accuracy: 0.7919\n",
      "Epoch 8/1000\n",
      "354/354 [==============================] - 1s 2ms/step - loss: 0.3970 - accuracy: 0.8089 - val_loss: 0.4237 - val_accuracy: 0.7930\n",
      "Epoch 9/1000\n",
      "354/354 [==============================] - 1s 2ms/step - loss: 0.3951 - accuracy: 0.8070 - val_loss: 0.4265 - val_accuracy: 0.7930\n",
      "Epoch 10/1000\n",
      "354/354 [==============================] - 1s 2ms/step - loss: 0.3913 - accuracy: 0.8135 - val_loss: 0.4228 - val_accuracy: 0.7999\n",
      "Epoch 11/1000\n",
      "354/354 [==============================] - 1s 2ms/step - loss: 0.3896 - accuracy: 0.8151 - val_loss: 0.4287 - val_accuracy: 0.7947\n",
      "Epoch 12/1000\n",
      "354/354 [==============================] - 1s 2ms/step - loss: 0.3873 - accuracy: 0.8135 - val_loss: 0.4299 - val_accuracy: 0.7999\n",
      "Epoch 13/1000\n",
      "354/354 [==============================] - 1s 2ms/step - loss: 0.3848 - accuracy: 0.8137 - val_loss: 0.4328 - val_accuracy: 0.7919\n",
      "Epoch 14/1000\n",
      "354/354 [==============================] - 1s 2ms/step - loss: 0.3829 - accuracy: 0.8174 - val_loss: 0.4298 - val_accuracy: 0.7924\n",
      "Epoch 15/1000\n",
      "354/354 [==============================] - 1s 2ms/step - loss: 0.3805 - accuracy: 0.8166 - val_loss: 0.4350 - val_accuracy: 0.7964\n",
      "Epoch 16/1000\n",
      "354/354 [==============================] - 1s 2ms/step - loss: 0.3781 - accuracy: 0.8174 - val_loss: 0.4367 - val_accuracy: 0.7873\n",
      "Epoch 17/1000\n",
      "354/354 [==============================] - 1s 2ms/step - loss: 0.3766 - accuracy: 0.8154 - val_loss: 0.4339 - val_accuracy: 0.7964\n",
      "Epoch 18/1000\n",
      "354/354 [==============================] - 1s 2ms/step - loss: 0.3761 - accuracy: 0.8197 - val_loss: 0.4375 - val_accuracy: 0.7953\n",
      "Epoch 19/1000\n",
      "354/354 [==============================] - 1s 2ms/step - loss: 0.3731 - accuracy: 0.8228 - val_loss: 0.4405 - val_accuracy: 0.7924\n",
      "Epoch 20/1000\n",
      "354/354 [==============================] - 1s 2ms/step - loss: 0.3708 - accuracy: 0.8208 - val_loss: 0.4421 - val_accuracy: 0.7930\n",
      "Epoch 21/1000\n",
      "354/354 [==============================] - 1s 2ms/step - loss: 0.3689 - accuracy: 0.8270 - val_loss: 0.4409 - val_accuracy: 0.7959\n",
      "Epoch 22/1000\n",
      "354/354 [==============================] - 1s 2ms/step - loss: 0.3680 - accuracy: 0.8296 - val_loss: 0.4410 - val_accuracy: 0.7901\n",
      "Epoch 23/1000\n",
      "354/354 [==============================] - 1s 2ms/step - loss: 0.3674 - accuracy: 0.8217 - val_loss: 0.4442 - val_accuracy: 0.7970\n",
      "Epoch 24/1000\n",
      "354/354 [==============================] - 1s 2ms/step - loss: 0.3635 - accuracy: 0.8267 - val_loss: 0.4534 - val_accuracy: 0.7810\n",
      "Epoch 25/1000\n",
      "354/354 [==============================] - 1s 2ms/step - loss: 0.3614 - accuracy: 0.8315 - val_loss: 0.4529 - val_accuracy: 0.7838\n",
      "Epoch 26/1000\n",
      "354/354 [==============================] - 1s 2ms/step - loss: 0.3593 - accuracy: 0.8321 - val_loss: 0.4586 - val_accuracy: 0.7884\n",
      "Epoch 26: early stopping\n"
     ]
    }
   ],
   "source": [
    "model_history=classifier.fit(x_train, y_train, validation_split=0.33, batch_size=10, epochs=1000, callbacks=early_stopping)"
   ]
  },
  {
   "cell_type": "code",
   "execution_count": 40,
   "id": "f4a2e547",
   "metadata": {},
   "outputs": [
    {
     "data": {
      "text/plain": [
       "dict_keys(['loss', 'accuracy', 'val_loss', 'val_accuracy'])"
      ]
     },
     "execution_count": 40,
     "metadata": {},
     "output_type": "execute_result"
    }
   ],
   "source": [
    "model_history.history.keys()"
   ]
  },
  {
   "cell_type": "code",
   "execution_count": 44,
   "id": "e2aba076",
   "metadata": {},
   "outputs": [],
   "source": [
    "import matplotlib as plt\n",
    "import seaborn as sns"
   ]
  },
  {
   "cell_type": "code",
   "execution_count": 52,
   "id": "46064c9b",
   "metadata": {},
   "outputs": [
    {
     "data": {
      "image/png": "[encoded data removed]",
      "text/plain": [
       "<Figure size 432x288 with 1 Axes>"
      ]
     },
     "metadata": {
      "needs_background": "light"
     },
     "output_type": "display_data"
    }
   ],
   "source": [
    "plt.plot(model_history.history['accuracy'])\n",
    "plt.plot(model_history.history['val_accuracy'])\n",
    "plt.xlabel(\"epoch\")\n",
    "plt.ylabel(\"accuracy\")\n",
    "plt.title(\"Model accuracy\")\n",
    "plt.legend(['train','test'], loc='upper left')\n",
    "plt.show()"
   ]
  },
  {
   "cell_type": "code",
   "execution_count": 53,
   "id": "b372569e",
   "metadata": {},
   "outputs": [
    {
     "data": {
      "image/png": "[encoded data removed]",
      "text/plain": [
       "<Figure size 432x288 with 1 Axes>"
      ]
     },
     "metadata": {
      "needs_background": "light"
     },
     "output_type": "display_data"
    }
   ],
   "source": [
    "plt.plot(model_history.history['loss'])\n",
    "plt.plot(model_history.history['val_loss'])\n",
    "plt.xlabel(\"epoch\")\n",
    "plt.ylabel(\"accuracy\")\n",
    "plt.title(\"Model accuracy\")\n",
    "plt.legend(['train','test'], loc='upper left')\n",
    "plt.show()"
   ]
  },
  {
   "cell_type": "code",
   "execution_count": 54,
   "id": "9cec6c3d",
   "metadata": {},
   "outputs": [
    {
     "name": "stdout",
     "output_type": "stream",
     "text": [
      "56/56 [==============================] - 0s 1ms/step\n"
     ]
    }
   ],
   "source": [
    "y_pred=classifier.predict(x_test)\n",
    "y_pred=(y_pred>=0.5)"
   ]
  },
  {
   "cell_type": "code",
   "execution_count": 55,
   "id": "4c19b3f1",
   "metadata": {},
   "outputs": [
    {
     "data": {
      "text/plain": [
       "array([[1113,  185],\n",
       "       [ 211,  252]], dtype=int64)"
      ]
     },
     "execution_count": 55,
     "metadata": {},
     "output_type": "execute_result"
    }
   ],
   "source": [
    "##confusion matrix\n",
    "cm=confusion_matrix(y_test, y_pred)\n",
    "cm"
   ]
  },
  {
   "cell_type": "code",
   "execution_count": 57,
   "id": "de089416",
   "metadata": {},
   "outputs": [
    {
     "data": {
      "text/plain": [
       "0.7751277683134583"
      ]
     },
     "execution_count": 57,
     "metadata": {},
     "output_type": "execute_result"
    }
   ],
   "source": [
    "##Calculate accuracy\n",
    "score=accuracy_score(y_pred, y_test)\n",
    "score"
   ]
  },
  {
   "cell_type": "code",
   "execution_count": 58,
   "id": "0b4eb345",
   "metadata": {},
   "outputs": [
    {
     "data": {
      "text/plain": [
       "[array([[-0.0109841 ,  0.28944883, -0.50454193,  0.27798182,  0.00941642,\n",
       "         -0.12697478, -0.25709242, -0.08965258,  0.0857474 ,  0.19100694,\n",
       "         -0.22361879,  0.0295463 , -0.0160069 , -0.55516773, -0.01449904,\n",
       "          0.41920707,  0.1593016 ,  0.05113942,  0.01654287, -0.05532004,\n",
       "          0.41335413],\n",
       "        [-0.03969359,  0.2698717 ,  0.4796003 , -0.49854022,  0.0400988 ,\n",
       "         -0.38604075, -0.26993883, -0.08873463,  0.25420806,  0.4058642 ,\n",
       "         -0.41670516, -0.2685324 , -0.24096622, -0.2932205 ,  0.11096387,\n",
       "         -0.38544533,  0.07747307,  0.08202087,  0.13609618,  0.32534304,\n",
       "          0.12230724],\n",
       "        [ 0.13963568,  0.17457493,  0.3753192 , -0.25759685,  0.00983037,\n",
       "          0.19084243,  0.22791857,  0.27829206,  0.09926248,  0.2113453 ,\n",
       "         -0.03240483, -0.03762099,  0.00494479,  0.3380781 , -0.05785085,\n",
       "         -0.3097066 ,  0.13223688,  0.08323871, -0.08125965,  0.03829392,\n",
       "         -0.20682782],\n",
       "        [-0.37293518, -0.04650747,  0.43437284,  0.06798676, -0.34618646,\n",
       "         -0.32344314,  0.09715051,  0.10378596, -0.06064481, -0.1763023 ,\n",
       "          0.43347028, -0.02372864, -0.09717498,  0.09286958,  0.24164633,\n",
       "          0.16532211, -0.3904402 ,  0.50476974,  0.02268035,  0.40033314,\n",
       "          0.06514131],\n",
       "        [-0.2243863 ,  0.27216518,  0.10434775,  0.1927788 ,  0.20624253,\n",
       "          0.00774869, -0.10694296,  0.1640831 ,  0.25692347,  0.05875684,\n",
       "         -0.19751617, -0.2843393 , -0.06354664,  0.21572438,  0.06797924,\n",
       "         -0.18400279, -0.564409  , -0.5472458 , -0.33372247, -0.09406397,\n",
       "          0.27441797],\n",
       "        [-0.26302904, -0.3200354 , -0.14031179,  0.57768124,  0.251887  ,\n",
       "         -0.05246378, -0.1596275 , -0.4654827 , -0.43647462,  0.26754823,\n",
       "         -0.17729276,  0.1739358 , -0.80425626,  0.2738778 ,  0.21892098,\n",
       "         -0.3829204 , -0.3740779 , -0.4635627 ,  0.40578106,  0.38821766,\n",
       "         -0.05641761],\n",
       "        [ 0.14457662,  0.29017386,  0.3591972 ,  0.07410763, -0.18302998,\n",
       "          0.40734732,  0.53140116,  0.03606751,  0.03488834,  0.00526049,\n",
       "          0.08829209, -0.18223673, -0.53564316,  0.04040761, -0.33134994,\n",
       "         -0.18138672,  0.05673129, -0.5248676 ,  0.377967  ,  0.3337612 ,\n",
       "          0.05335083],\n",
       "        [-0.26758826, -0.17656998, -0.26939765,  0.37044576,  0.2153299 ,\n",
       "         -0.13383147,  0.06077622,  0.00258161, -0.21694139, -0.10243792,\n",
       "          0.12681672, -0.25635773,  0.327504  , -0.4416785 , -0.16637178,\n",
       "         -0.25055015, -0.07132138,  0.42325735, -0.217045  ,  0.3356796 ,\n",
       "          0.05276468],\n",
       "        [ 0.05156465,  0.35304904, -0.7896901 , -0.12197803,  0.3955526 ,\n",
       "          0.50223315,  0.31817374,  0.38933563,  0.33563468, -0.01192018,\n",
       "          0.11029983, -0.1842471 , -0.03586875, -0.213057  ,  0.17903876,\n",
       "          0.47949883, -0.08081671,  0.29898685,  0.36202535, -0.5354465 ,\n",
       "         -0.2583028 ],\n",
       "        [-0.23786823,  0.01998838, -0.27521738, -0.05378758,  0.41955602,\n",
       "         -0.03324123,  0.03143743, -0.3632537 ,  0.32412902,  0.26088232,\n",
       "          0.46658322, -0.07404544, -0.3908773 ,  0.1211434 ,  0.09344307,\n",
       "         -0.05243305,  0.03956838, -0.08102519,  0.3756491 ,  0.14489953,\n",
       "         -0.07206672],\n",
       "        [-0.1380619 , -0.4086526 , -0.20073508, -0.10615778,  0.02549416,\n",
       "         -0.47771975,  0.12767756, -0.24124412,  0.10138611, -0.3887628 ,\n",
       "          0.167456  , -0.09215102, -0.23426254, -0.4219622 ,  0.2616473 ,\n",
       "          0.27581987, -0.08195213, -0.14787176,  0.16377556,  0.40130088,\n",
       "         -0.06937004],\n",
       "        [-0.24142134, -0.24077459, -0.2438373 ,  0.05918926,  0.2007707 ,\n",
       "          0.28189462,  0.51289594,  0.11371411, -0.22526512,  0.01336337,\n",
       "          0.2332525 , -0.06829056,  0.1148099 ,  0.00953043,  0.19721642,\n",
       "          0.00566327,  0.19948278, -0.08696099, -0.31368375, -0.14493936,\n",
       "         -0.22908981],\n",
       "        [-0.05483786, -0.2812369 ,  0.26874477,  0.04756213,  0.30955586,\n",
       "         -0.02907953, -0.38329548,  0.01683732, -0.49263608, -0.21756813,\n",
       "          0.00265725,  0.08595471, -0.04232303,  0.16861197,  0.16307089,\n",
       "          0.01260353, -0.4855347 ,  0.06611439,  0.45125026,  0.36806417,\n",
       "          0.17838764],\n",
       "        [-0.20233832,  0.31555957,  0.28107095, -0.03119571,  0.11419456,\n",
       "         -0.10769225,  0.00739594,  0.20203811, -0.300658  , -0.50100195,\n",
       "         -0.17211679,  0.01871523,  0.07614806,  0.34473598, -0.363111  ,\n",
       "          0.03390531, -0.00513842, -0.0205519 , -0.26540482,  0.2631884 ,\n",
       "          0.03999875],\n",
       "        [ 0.02505338,  0.02866785,  0.18805575,  0.18792583, -0.28290838,\n",
       "         -0.09774943, -0.28635785, -0.04932009,  0.01435214, -0.16008174,\n",
       "          0.1346468 , -0.17964259,  0.04263125,  0.15818243,  0.18261755,\n",
       "          0.06229378,  0.1707912 ,  0.13261227,  0.12957953,  0.08644205,\n",
       "         -0.19444449],\n",
       "        [-0.3398606 ,  0.36772737, -0.24892843, -0.24039485,  0.17202242,\n",
       "          0.13695243,  0.21666025, -0.34188342, -0.1423155 ,  0.27013776,\n",
       "         -0.44796684,  0.579169  , -0.36856326, -0.00980528,  0.4079104 ,\n",
       "          0.23951398, -0.30988044, -0.05129247,  0.26455843, -0.15903299,\n",
       "          0.23786001],\n",
       "        [ 0.44664818, -0.03353374, -0.09918581, -0.03616596, -0.16603805,\n",
       "          0.47620174, -0.43333387, -0.17704734, -0.15026508,  0.04173399,\n",
       "          0.0524747 , -0.2681061 ,  0.2834921 ,  0.24287203,  0.18299729,\n",
       "          0.05838256, -0.33697918, -0.03643573,  0.5765874 ,  0.04564939,\n",
       "         -0.11888855],\n",
       "        [ 0.3961917 , -0.30609354, -0.00236355,  0.07276282, -0.0686912 ,\n",
       "         -0.02871078, -0.05602086,  0.19821769, -0.21373464, -0.46464854,\n",
       "         -0.5754354 ,  0.41831622,  0.04847827,  0.08559249,  0.17323226,\n",
       "          0.05666469,  0.55229294,  0.15447357,  0.04431363, -0.19161329,\n",
       "         -0.38409686],\n",
       "        [ 0.37226057,  0.21251312, -0.17111565, -0.45525566, -0.4945104 ,\n",
       "         -0.04189952, -0.24779595,  0.05581957, -0.24854064,  0.01215955,\n",
       "          0.11304666, -0.10496706,  0.1849455 , -0.20515196, -0.5536222 ,\n",
       "         -0.28322145,  0.07569828, -0.04264344, -0.17930217,  0.49299517,\n",
       "         -0.33761132],\n",
       "        [ 0.00532307,  0.27246296, -0.34488034, -0.15180786,  0.15383983,\n",
       "         -0.1565416 , -0.05037417,  0.27988657, -0.30149093, -0.3738156 ,\n",
       "         -0.20709537, -0.2943015 ,  0.26074973,  0.16352603,  0.43795893,\n",
       "         -0.24202539,  0.25383982,  0.14878674,  0.354478  ,  0.47861868,\n",
       "          0.44386756]], dtype=float32),\n",
       " array([-0.00074567,  0.02885993,  0.0898554 , -0.02868516,  0.10176452,\n",
       "         0.00503022,  0.21551709, -0.06810353, -0.2487581 ,  0.06551824,\n",
       "        -0.15613437,  0.08682667,  0.0065524 , -0.01965649,  0.13572559,\n",
       "         0.06996257,  0.19179368, -0.11093055,  0.06558026,  0.01372857,\n",
       "        -0.09249735], dtype=float32),\n",
       " array([[ 4.23396379e-01,  4.16567892e-01,  8.76252204e-02,\n",
       "         -9.59061012e-02, -3.23197782e-01,  4.93479013e-01,\n",
       "          1.78821370e-01,  1.46606088e-01, -5.07442176e-01,\n",
       "          6.99369311e-02, -1.30400687e-01],\n",
       "        [-4.97153103e-02, -5.09453535e-01,  4.55483049e-02,\n",
       "         -1.04117945e-01,  3.89612287e-01, -3.35903227e-01,\n",
       "          2.53935814e-01,  5.46284430e-02,  6.81801289e-02,\n",
       "         -4.77942199e-01,  5.45669794e-01],\n",
       "        [ 1.35575101e-01, -1.35537982e-02,  8.36889148e-02,\n",
       "          4.11442757e-01, -4.76069272e-01, -5.99999905e-01,\n",
       "         -2.84072101e-01, -1.64415956e-01, -2.04585925e-01,\n",
       "          6.34977281e-01,  3.93073529e-01],\n",
       "        [ 2.82964647e-01, -7.37608448e-02, -2.11732686e-01,\n",
       "          4.40295875e-01,  1.89622119e-01,  1.04336098e-01,\n",
       "         -4.99608248e-01,  2.32020587e-01,  7.26218224e-02,\n",
       "          4.18881387e-01, -7.99633339e-02],\n",
       "        [ 3.34152818e-01, -2.41056889e-01, -2.22066447e-01,\n",
       "          7.77530298e-03,  9.25696120e-02, -2.85632182e-02,\n",
       "          3.82107198e-01,  1.93804398e-01,  4.95771050e-01,\n",
       "          2.19294444e-01,  4.61001396e-01],\n",
       "        [-5.15919924e-01, -1.79267943e-01,  1.91330492e-01,\n",
       "         -1.29545674e-01, -4.62868124e-01, -9.57783461e-02,\n",
       "         -8.57529119e-02, -4.40746814e-01,  1.21907063e-01,\n",
       "         -2.52567921e-02, -1.65053606e-02],\n",
       "        [-2.56116062e-01, -5.00435904e-02, -1.78384244e-01,\n",
       "          3.03197324e-01,  1.10307306e-01, -8.08895677e-02,\n",
       "          3.92579198e-01,  1.43923745e-01,  4.21335042e-01,\n",
       "          5.62757492e-01,  3.73402596e-01],\n",
       "        [-2.28904024e-01,  2.41172120e-01,  4.87394392e-01,\n",
       "         -1.38551310e-01, -1.12005696e-01, -5.26721179e-01,\n",
       "          1.62094846e-01, -4.65377539e-01, -3.04056317e-01,\n",
       "         -1.58534989e-01,  4.32186276e-01],\n",
       "        [ 1.33476317e-01,  4.27383482e-01,  4.91833001e-01,\n",
       "         -1.92469269e-01, -4.15049754e-02,  1.59577131e-01,\n",
       "          1.37657583e-01,  8.18495974e-02,  2.48549450e-02,\n",
       "          2.10691392e-01, -4.48064715e-01],\n",
       "        [-4.62328106e-01,  2.63690710e-01, -3.36994648e-01,\n",
       "          6.57475889e-02,  1.49414897e-01, -1.26647100e-01,\n",
       "         -2.03210875e-01,  4.95430350e-01,  4.53767329e-01,\n",
       "          1.35784402e-01, -1.53591350e-01],\n",
       "        [ 3.80093485e-01,  3.86156499e-01,  5.35868287e-01,\n",
       "          4.14082080e-01,  1.06015906e-01, -1.06895015e-01,\n",
       "          4.55929488e-01, -2.26741180e-01, -1.85602248e-01,\n",
       "          8.07778239e-02, -1.59620464e-01],\n",
       "        [-8.37508962e-02, -1.14011370e-01, -4.22401190e-01,\n",
       "          1.01407439e-01,  2.18191966e-01, -4.79400866e-02,\n",
       "          2.62861210e-03,  1.15929253e-01,  2.97779828e-01,\n",
       "          5.35505009e-04,  2.78143119e-02],\n",
       "        [ 2.89033413e-01,  2.66695052e-01,  4.82195169e-01,\n",
       "         -4.19918410e-02, -7.85114765e-01, -2.57381052e-01,\n",
       "          4.81673270e-01, -8.71062948e-05,  9.38606560e-02,\n",
       "         -6.03017151e-01,  2.76507974e-01],\n",
       "        [-5.51012158e-01, -8.21549371e-02,  5.84735215e-01,\n",
       "          2.72549450e-01,  2.60298103e-02,  5.07829785e-01,\n",
       "         -1.29117444e-01,  4.16746251e-02,  1.68463528e-01,\n",
       "         -8.33093375e-02, -8.79010782e-02],\n",
       "        [-2.51814276e-01, -5.45283377e-01, -3.99234444e-01,\n",
       "          2.05510166e-02, -3.75795901e-01, -1.45779932e-02,\n",
       "          8.72486681e-02, -1.87693670e-01,  4.28416789e-01,\n",
       "          1.56148955e-01, -2.61932705e-02],\n",
       "        [ 6.00306749e-01, -3.69001299e-01,  2.06971705e-01,\n",
       "          2.07325257e-02, -2.73919553e-01,  9.15161148e-02,\n",
       "         -6.61291704e-02,  4.59266990e-01,  1.95328519e-01,\n",
       "          1.93456888e-01, -2.21802011e-01],\n",
       "        [ 1.01911537e-01,  3.27908158e-01,  9.44014266e-02,\n",
       "          4.87998545e-01,  4.54877615e-01,  2.29731143e-01,\n",
       "          2.09082946e-01, -1.42019346e-01,  1.62941173e-01,\n",
       "         -2.84095526e-01,  1.75582930e-01],\n",
       "        [ 7.20308840e-01,  1.90500036e-01, -2.12635905e-01,\n",
       "         -4.03335661e-01, -2.58234560e-01, -5.55587947e-01,\n",
       "          7.09217608e-01, -3.84361953e-01, -1.95446864e-01,\n",
       "         -3.17139983e-01,  2.98376739e-01],\n",
       "        [ 3.40543509e-01,  6.99970126e-02, -5.22358716e-01,\n",
       "          4.41063762e-01, -2.29509890e-01, -6.00077391e-01,\n",
       "          3.25809300e-01, -2.92805880e-01,  3.88345867e-01,\n",
       "          2.26876572e-01,  7.07257241e-02],\n",
       "        [-6.50039017e-02, -6.51885331e-01,  3.90813589e-01,\n",
       "         -8.25519208e-04, -7.08841607e-02,  1.19599828e-03,\n",
       "          5.40622063e-02, -3.23972046e-01, -1.34919003e-01,\n",
       "          2.34758124e-01, -6.49979413e-01],\n",
       "        [-4.70864534e-01,  1.37614980e-01, -3.64388943e-01,\n",
       "          1.27016127e-01,  1.41215503e-01,  6.61290586e-01,\n",
       "         -8.52301642e-02,  1.11388743e-01, -9.63750109e-02,\n",
       "          2.11106941e-01, -1.10302873e-01]], dtype=float32),\n",
       " array([ 0.10134637, -0.16621691, -0.02240531,  0.12512985,  0.11992358,\n",
       "        -0.00639636, -0.00383747,  0.01666985,  0.10725863, -0.07338513,\n",
       "         0.06322166], dtype=float32),\n",
       " array([[-0.2770079 , -0.12760812,  0.40127403, -0.78377116,  0.6283109 ,\n",
       "          0.09165179, -0.30312458],\n",
       "        [ 0.09564751, -0.23821664,  0.11067656, -0.46670815, -0.6782134 ,\n",
       "         -0.19603539, -0.33805606],\n",
       "        [-0.39609623, -0.64350694,  0.13267049,  0.41915503, -0.48835045,\n",
       "          0.31133687, -0.2670047 ],\n",
       "        [-0.37838295,  0.24324162,  0.3789221 ,  0.48976117,  0.5782727 ,\n",
       "          0.2624603 ,  0.04607693],\n",
       "        [ 0.9527079 ,  0.9428592 ,  0.5510424 ,  0.43475288, -0.31158346,\n",
       "          0.02037165,  0.47860345],\n",
       "        [ 0.47463158,  0.55630106,  0.57657266,  0.5959075 , -0.24149129,\n",
       "         -0.51689625,  0.8932191 ],\n",
       "        [-0.29720613,  0.3288752 , -0.6061139 , -0.02546082, -0.1264247 ,\n",
       "          0.7431235 ,  0.34966052],\n",
       "        [ 0.01264427,  0.57629055, -0.14458789, -0.06318724, -0.0193064 ,\n",
       "         -0.21320751,  0.16981263],\n",
       "        [ 0.21424125,  0.37758082, -0.33639354,  0.12537636,  0.2990659 ,\n",
       "         -0.06077127,  0.42156425],\n",
       "        [-0.07863832, -0.546544  ,  0.38456023, -0.08477245,  0.48345774,\n",
       "         -0.09487902,  0.45296016],\n",
       "        [-0.0546231 ,  0.43536043, -0.04845875,  0.14652652,  0.12416813,\n",
       "          0.4920001 ,  0.13555437]], dtype=float32),\n",
       " array([ 0.13329384,  0.09699822, -0.00633201,  0.02427132,  0.07384547,\n",
       "         0.02001082,  0.00149916], dtype=float32),\n",
       " array([[-1.0359558 ],\n",
       "        [-1.2187555 ],\n",
       "        [-0.24935372],\n",
       "        [-0.676297  ],\n",
       "        [-0.89457977],\n",
       "        [ 0.50205904],\n",
       "        [-0.2580948 ]], dtype=float32),\n",
       " array([0.06256108], dtype=float32)]"
      ]
     },
     "execution_count": 58,
     "metadata": {},
     "output_type": "execute_result"
    }
   ],
   "source": [
    "classifier.get_weights()"
   ]
  },
  {
   "cell_type": "code",
   "execution_count": null,
   "id": "001d6b92",
   "metadata": {},
   "outputs": [],
   "source": []
  },
  {
   "cell_type": "code",
   "execution_count": null,
   "id": "f66d4aff",
   "metadata": {},
   "outputs": [],
   "source": []
  },
  {
   "cell_type": "code",
   "execution_count": null,
   "id": "55c15bbe",
   "metadata": {},
   "outputs": [],
   "source": []
  },
  {
   "cell_type": "code",
   "execution_count": null,
   "id": "8cb5a6f8",
   "metadata": {},
   "outputs": [],
   "source": []
  },
  {
   "cell_type": "code",
   "execution_count": null,
   "id": "c9a71f50",
   "metadata": {},
   "outputs": [],
   "source": []
  },
  {
   "cell_type": "code",
   "execution_count": null,
   "id": "fb58d7dd",
   "metadata": {},
   "outputs": [],
   "source": []
  },
  {
   "cell_type": "code",
   "execution_count": null,
   "id": "4096583a",
   "metadata": {},
   "outputs": [],
   "source": []
  },
  {
   "cell_type": "code",
   "execution_count": null,
   "id": "e4df275a",
   "metadata": {},
   "outputs": [],
   "source": []
  },
  {
   "cell_type": "code",
   "execution_count": null,
   "id": "207748bf",
   "metadata": {},
   "outputs": [],
   "source": []
  },
  {
   "cell_type": "code",
   "execution_count": null,
   "id": "8341a864",
   "metadata": {},
   "outputs": [],
   "source": []
  },
  {
   "cell_type": "code",
   "execution_count": null,
   "id": "b324897b",
   "metadata": {},
   "outputs": [],
   "source": []
  }
 ],
 "metadata": {
  "kernelspec": {
   "display_name": "Python 3 (ipykernel)",
   "language": "python",
   "name": "python3"
  },
  "language_info": {
   "codemirror_mode": {
    "name": "ipython",
    "version": 3
   },
   "file_extension": ".py",
   "mimetype": "text/x-python",
   "name": "python",
   "nbconvert_exporter": "python",
   "pygments_lexer": "ipython3",
   "version": "3.9.12"
  }
 },
 "nbformat": 4,
 "nbformat_minor": 5
}
