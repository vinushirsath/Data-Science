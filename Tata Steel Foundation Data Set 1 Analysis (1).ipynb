{
 "cells": [
  {
   "cell_type": "code",
   "execution_count": 4,
   "id": "491a8f20",
   "metadata": {},
   "outputs": [],
   "source": [
    "import pandas as pd\n",
    "import numpy as np \n",
    "import seaborn as sns\n",
    "\n",
    "\n",
    "import warnings\n",
    "warnings.filterwarnings('ignore')"
   ]
  },
  {
   "cell_type": "code",
   "execution_count": 2,
   "id": "6ca6705d",
   "metadata": {},
   "outputs": [],
   "source": [
    "import matplotlib.pyplot as plt"
   ]
  },
  {
   "cell_type": "code",
   "execution_count": 28,
   "id": "522e0802",
   "metadata": {},
   "outputs": [
    {
     "data": {
      "text/html": [
       "<div>\n",
       "<style scoped>\n",
       "    .dataframe tbody tr th:only-of-type {\n",
       "        vertical-align: middle;\n",
       "    }\n",
       "\n",
       "    .dataframe tbody tr th {\n",
       "        vertical-align: top;\n",
       "    }\n",
       "\n",
       "    .dataframe thead th {\n",
       "        text-align: right;\n",
       "    }\n",
       "</style>\n",
       "<table border=\"1\" class=\"dataframe\">\n",
       "  <thead>\n",
       "    <tr style=\"text-align: right;\">\n",
       "      <th></th>\n",
       "      <th>Date</th>\n",
       "      <th>Financial Year</th>\n",
       "      <th>Chain</th>\n",
       "      <th>Country</th>\n",
       "      <th>State</th>\n",
       "      <th>Manager</th>\n",
       "      <th>Category</th>\n",
       "      <th>Buyer</th>\n",
       "      <th>Sales in Rs</th>\n",
       "      <th>Unnamed: 9</th>\n",
       "    </tr>\n",
       "  </thead>\n",
       "  <tbody>\n",
       "    <tr>\n",
       "      <th>0</th>\n",
       "      <td>01-01-2016</td>\n",
       "      <td>2015/16</td>\n",
       "      <td>Fashions Direct</td>\n",
       "      <td>India</td>\n",
       "      <td>Odisha</td>\n",
       "      <td>Jeremy Garcia</td>\n",
       "      <td>Home</td>\n",
       "      <td>Richard Carr</td>\n",
       "      <td>479.02</td>\n",
       "      <td>NaN</td>\n",
       "    </tr>\n",
       "    <tr>\n",
       "      <th>1</th>\n",
       "      <td>01-01-2016</td>\n",
       "      <td>2015/16</td>\n",
       "      <td>Fashions Direct</td>\n",
       "      <td>India</td>\n",
       "      <td>Odisha</td>\n",
       "      <td>Jeremy Garcia</td>\n",
       "      <td>Juniors</td>\n",
       "      <td>Chester George</td>\n",
       "      <td>149.95</td>\n",
       "      <td>NaN</td>\n",
       "    </tr>\n",
       "    <tr>\n",
       "      <th>2</th>\n",
       "      <td>01-01-2016</td>\n",
       "      <td>2015/16</td>\n",
       "      <td>Fashions Direct</td>\n",
       "      <td>India</td>\n",
       "      <td>Odisha</td>\n",
       "      <td>Jeremy Garcia</td>\n",
       "      <td>Mens</td>\n",
       "      <td>Bruce Curran</td>\n",
       "      <td>14.00</td>\n",
       "      <td>NaN</td>\n",
       "    </tr>\n",
       "    <tr>\n",
       "      <th>3</th>\n",
       "      <td>01-01-2016</td>\n",
       "      <td>2015/16</td>\n",
       "      <td>Fashions Direct</td>\n",
       "      <td>India</td>\n",
       "      <td>Odisha</td>\n",
       "      <td>Jeremy Garcia</td>\n",
       "      <td>Juniors</td>\n",
       "      <td>Chester George</td>\n",
       "      <td>12.00</td>\n",
       "      <td>NaN</td>\n",
       "    </tr>\n",
       "    <tr>\n",
       "      <th>4</th>\n",
       "      <td>01-01-2016</td>\n",
       "      <td>2015/16</td>\n",
       "      <td>Fashions Direct</td>\n",
       "      <td>India</td>\n",
       "      <td>Odisha</td>\n",
       "      <td>Jeremy Garcia</td>\n",
       "      <td>Womens</td>\n",
       "      <td>Amy Buchanan</td>\n",
       "      <td>46.94</td>\n",
       "      <td>NaN</td>\n",
       "    </tr>\n",
       "  </tbody>\n",
       "</table>\n",
       "</div>"
      ],
      "text/plain": [
       "         Date Financial Year            Chain Country   State        Manager  \\\n",
       "0  01-01-2016        2015/16  Fashions Direct   India  Odisha  Jeremy Garcia   \n",
       "1  01-01-2016        2015/16  Fashions Direct   India  Odisha  Jeremy Garcia   \n",
       "2  01-01-2016        2015/16  Fashions Direct   India  Odisha  Jeremy Garcia   \n",
       "3  01-01-2016        2015/16  Fashions Direct   India  Odisha  Jeremy Garcia   \n",
       "4  01-01-2016        2015/16  Fashions Direct   India  Odisha  Jeremy Garcia   \n",
       "\n",
       "  Category           Buyer Sales in Rs  Unnamed: 9  \n",
       "0     Home    Richard Carr     479.02          NaN  \n",
       "1  Juniors  Chester George     149.95          NaN  \n",
       "2     Mens    Bruce Curran      14.00          NaN  \n",
       "3  Juniors  Chester George      12.00          NaN  \n",
       "4   Womens    Amy Buchanan      46.94          NaN  "
      ]
     },
     "execution_count": 28,
     "metadata": {},
     "output_type": "execute_result"
    }
   ],
   "source": [
    "#Importing dataset\n",
    "\n",
    "df= pd.read_csv('Data Set 1.csv')\n",
    "\n",
    "df.head()"
   ]
  },
  {
   "cell_type": "code",
   "execution_count": 29,
   "id": "88662c5d",
   "metadata": {},
   "outputs": [
    {
     "data": {
      "text/plain": [
       "(1048575, 10)"
      ]
     },
     "execution_count": 29,
     "metadata": {},
     "output_type": "execute_result"
    }
   ],
   "source": [
    "df.shape"
   ]
  },
  {
   "cell_type": "code",
   "execution_count": 30,
   "id": "e3c64f93",
   "metadata": {
    "scrolled": true
   },
   "outputs": [
    {
     "name": "stdout",
     "output_type": "stream",
     "text": [
      "<class 'pandas.core.frame.DataFrame'>\n",
      "RangeIndex: 1048575 entries, 0 to 1048574\n",
      "Data columns (total 10 columns):\n",
      " #   Column          Non-Null Count  Dtype  \n",
      "---  ------          --------------  -----  \n",
      " 0   Date            72425 non-null  object \n",
      " 1   Financial Year  72425 non-null  object \n",
      " 2   Chain           72425 non-null  object \n",
      " 3   Country         72425 non-null  object \n",
      " 4   State           72425 non-null  object \n",
      " 5   Manager         72425 non-null  object \n",
      " 6   Category        72425 non-null  object \n",
      " 7   Buyer           72425 non-null  object \n",
      " 8   Sales in Rs     72425 non-null  object \n",
      " 9   Unnamed: 9      0 non-null      float64\n",
      "dtypes: float64(1), object(9)\n",
      "memory usage: 80.0+ MB\n"
     ]
    }
   ],
   "source": [
    "df.info()"
   ]
  },
  {
   "cell_type": "code",
   "execution_count": null,
   "id": "86735aea",
   "metadata": {},
   "outputs": [],
   "source": [
    "#Dataset contains Date, Financial Year, Chain, Country, State, Manager, Category, Buyer, Sales in Rs & Unnamed column.\n",
    "#Unnamed : 9 having null values hence it is better to drop from dataset."
   ]
  },
  {
   "cell_type": "code",
   "execution_count": 31,
   "id": "62d6f534",
   "metadata": {},
   "outputs": [],
   "source": [
    "df.drop(['Unnamed: 9'], axis=1, inplace =True)"
   ]
  },
  {
   "cell_type": "code",
   "execution_count": 32,
   "id": "1929b198",
   "metadata": {},
   "outputs": [
    {
     "name": "stdout",
     "output_type": "stream",
     "text": [
      "<class 'pandas.core.frame.DataFrame'>\n",
      "RangeIndex: 1048575 entries, 0 to 1048574\n",
      "Data columns (total 9 columns):\n",
      " #   Column          Non-Null Count  Dtype \n",
      "---  ------          --------------  ----- \n",
      " 0   Date            72425 non-null  object\n",
      " 1   Financial Year  72425 non-null  object\n",
      " 2   Chain           72425 non-null  object\n",
      " 3   Country         72425 non-null  object\n",
      " 4   State           72425 non-null  object\n",
      " 5   Manager         72425 non-null  object\n",
      " 6   Category        72425 non-null  object\n",
      " 7   Buyer           72425 non-null  object\n",
      " 8   Sales in Rs     72425 non-null  object\n",
      "dtypes: object(9)\n",
      "memory usage: 72.0+ MB\n"
     ]
    }
   ],
   "source": [
    "df.info()"
   ]
  },
  {
   "cell_type": "code",
   "execution_count": 33,
   "id": "613999c2",
   "metadata": {},
   "outputs": [
    {
     "data": {
      "text/plain": [
       "Date              976150\n",
       "Financial Year    976150\n",
       "Chain             976150\n",
       "Country           976150\n",
       "State             976150\n",
       "Manager           976150\n",
       "Category          976150\n",
       "Buyer             976150\n",
       "Sales in Rs       976150\n",
       "dtype: int64"
      ]
     },
     "execution_count": 33,
     "metadata": {},
     "output_type": "execute_result"
    }
   ],
   "source": [
    "#Finding null values\n",
    "\n",
    "df.isna().sum()"
   ]
  },
  {
   "cell_type": "code",
   "execution_count": null,
   "id": "f4835965",
   "metadata": {},
   "outputs": [],
   "source": [
    "#Null values are same in all values hence needs to remove from dataset"
   ]
  },
  {
   "cell_type": "code",
   "execution_count": 34,
   "id": "90a9212f",
   "metadata": {},
   "outputs": [],
   "source": [
    "df=df.dropna()"
   ]
  },
  {
   "cell_type": "code",
   "execution_count": 35,
   "id": "aaefeb45",
   "metadata": {},
   "outputs": [
    {
     "data": {
      "text/plain": [
       "Date              0\n",
       "Financial Year    0\n",
       "Chain             0\n",
       "Country           0\n",
       "State             0\n",
       "Manager           0\n",
       "Category          0\n",
       "Buyer             0\n",
       "Sales in Rs       0\n",
       "dtype: int64"
      ]
     },
     "execution_count": 35,
     "metadata": {},
     "output_type": "execute_result"
    }
   ],
   "source": [
    "#After dropping no null values present in dataset.\n",
    "\n",
    "df.isna().sum()"
   ]
  },
  {
   "cell_type": "code",
   "execution_count": 36,
   "id": "5bf2a5fd",
   "metadata": {},
   "outputs": [
    {
     "name": "stdout",
     "output_type": "stream",
     "text": [
      "<class 'pandas.core.series.Series'>\n",
      "Int64Index: 72425 entries, 0 to 72424\n",
      "Series name: Sales in Rs\n",
      "Non-Null Count  Dtype \n",
      "--------------  ----- \n",
      "72425 non-null  object\n",
      "dtypes: object(1)\n",
      "memory usage: 1.1+ MB\n"
     ]
    }
   ],
   "source": [
    "#Finding data type of 'Sales in Rs' & Replacing the whitespaces & special characters from dataset to convert into float.\n",
    "df[\"Sales in Rs\"].info()"
   ]
  },
  {
   "cell_type": "code",
   "execution_count": 37,
   "id": "8dab33a6",
   "metadata": {},
   "outputs": [],
   "source": [
    "df[\"Sales in Rs\"]=df[\"Sales in Rs\"].str.replace(' -   ','')"
   ]
  },
  {
   "cell_type": "code",
   "execution_count": 38,
   "id": "ecd74479",
   "metadata": {},
   "outputs": [],
   "source": [
    "df[\"Sales in Rs\"]=df[\"Sales in Rs\"].str.replace(',','')"
   ]
  },
  {
   "cell_type": "code",
   "execution_count": 39,
   "id": "8ae3031f",
   "metadata": {},
   "outputs": [],
   "source": [
    "df[\"Sales in Rs\"]=df[\"Sales in Rs\"].str.replace(' ','')"
   ]
  },
  {
   "cell_type": "code",
   "execution_count": 40,
   "id": "efea513a",
   "metadata": {},
   "outputs": [],
   "source": [
    "#Filling the empty values with NAN\n",
    "\n",
    "df['Sales in Rs']=df['Sales in Rs'].replace(\"\",np.nan)"
   ]
  },
  {
   "cell_type": "code",
   "execution_count": 41,
   "id": "25bb9e5d",
   "metadata": {},
   "outputs": [
    {
     "data": {
      "text/plain": [
       "130"
      ]
     },
     "execution_count": 41,
     "metadata": {},
     "output_type": "execute_result"
    }
   ],
   "source": [
    "df[\"Sales in Rs\"].isna().sum()"
   ]
  },
  {
   "cell_type": "code",
   "execution_count": 42,
   "id": "3ac76db1",
   "metadata": {},
   "outputs": [],
   "source": [
    "#After filling null values it observed that 130 nos. are still null values in dataset. \n",
    "#As our dataset is big hence is is better to remove or drop the null data from dataset.\n",
    "#Dropping the null values is not solution we can fill it but if dataset is big then we can fill the null values.\n",
    "\n",
    "df[\"Sales in Rs\"]=df[\"Sales in Rs\"].dropna()"
   ]
  },
  {
   "cell_type": "code",
   "execution_count": 43,
   "id": "c7515cf2",
   "metadata": {},
   "outputs": [],
   "source": [
    "#Converting data type of 'Sales in Rs' from 'Object' to 'Float'\n",
    "\n",
    "df[\"Sales in Rs\"]=df[\"Sales in Rs\"].astype(float)"
   ]
  },
  {
   "cell_type": "code",
   "execution_count": 44,
   "id": "a96251cb",
   "metadata": {},
   "outputs": [],
   "source": [
    "#Replacing/Renaming the states names.\n",
    "\n",
    "df['State'].replace({'Orissa':'Odisha'}, inplace =True)\n",
    "\n",
    "df['State'].replace({'MP':'Madhya Pradesh'}, inplace =True)"
   ]
  },
  {
   "cell_type": "code",
   "execution_count": null,
   "id": "bf76e74d",
   "metadata": {},
   "outputs": [],
   "source": []
  },
  {
   "cell_type": "code",
   "execution_count": 45,
   "id": "d4b79465",
   "metadata": {},
   "outputs": [
    {
     "data": {
      "text/html": [
       "<div>\n",
       "<style scoped>\n",
       "    .dataframe tbody tr th:only-of-type {\n",
       "        vertical-align: middle;\n",
       "    }\n",
       "\n",
       "    .dataframe tbody tr th {\n",
       "        vertical-align: top;\n",
       "    }\n",
       "\n",
       "    .dataframe thead th {\n",
       "        text-align: right;\n",
       "    }\n",
       "</style>\n",
       "<table border=\"1\" class=\"dataframe\">\n",
       "  <thead>\n",
       "    <tr style=\"text-align: right;\">\n",
       "      <th></th>\n",
       "      <th>Sales in Rs</th>\n",
       "    </tr>\n",
       "  </thead>\n",
       "  <tbody>\n",
       "    <tr>\n",
       "      <th>count</th>\n",
       "      <td>72295.000000</td>\n",
       "    </tr>\n",
       "    <tr>\n",
       "      <th>mean</th>\n",
       "      <td>753.603799</td>\n",
       "    </tr>\n",
       "    <tr>\n",
       "      <th>std</th>\n",
       "      <td>1228.188124</td>\n",
       "    </tr>\n",
       "    <tr>\n",
       "      <th>min</th>\n",
       "      <td>-119.940000</td>\n",
       "    </tr>\n",
       "    <tr>\n",
       "      <th>25%</th>\n",
       "      <td>41.930000</td>\n",
       "    </tr>\n",
       "    <tr>\n",
       "      <th>50%</th>\n",
       "      <td>224.320000</td>\n",
       "    </tr>\n",
       "    <tr>\n",
       "      <th>75%</th>\n",
       "      <td>915.935000</td>\n",
       "    </tr>\n",
       "    <tr>\n",
       "      <th>max</th>\n",
       "      <td>18761.580000</td>\n",
       "    </tr>\n",
       "  </tbody>\n",
       "</table>\n",
       "</div>"
      ],
      "text/plain": [
       "        Sales in Rs\n",
       "count  72295.000000\n",
       "mean     753.603799\n",
       "std     1228.188124\n",
       "min     -119.940000\n",
       "25%       41.930000\n",
       "50%      224.320000\n",
       "75%      915.935000\n",
       "max    18761.580000"
      ]
     },
     "execution_count": 45,
     "metadata": {},
     "output_type": "execute_result"
    }
   ],
   "source": [
    "df.describe()"
   ]
  },
  {
   "cell_type": "markdown",
   "id": "b521ce59",
   "metadata": {},
   "source": [
    "# Show State-wise sales by year in Rs. lakhs"
   ]
  },
  {
   "cell_type": "code",
   "execution_count": 65,
   "id": "f1b0ed62",
   "metadata": {},
   "outputs": [
    {
     "data": {
      "text/plain": [
       "State           Financial Year\n",
       "Bihar           2015/16            3721793.79\n",
       "                2016/17            8850768.25\n",
       "                2017/18             622686.78\n",
       "Goa             2015/16            3309198.87\n",
       "                2016/17            7141150.25\n",
       "                2017/18             431281.61\n",
       "Jharkhand       2015/16             183238.25\n",
       "                2016/17             390547.59\n",
       "                2017/18              26806.69\n",
       "Madhya Pradesh  2015/16             613250.72\n",
       "                2016/17            1306436.10\n",
       "                2017/18              76400.71\n",
       "Nagaland        2015/16             352270.15\n",
       "                2016/17             778426.30\n",
       "                2017/18              46977.53\n",
       "Odisha          2015/16            5796474.39\n",
       "                2016/17           13232431.99\n",
       "                2017/18             866881.25\n",
       "Punjab          2015/16            1437458.69\n",
       "                2016/17            3924077.45\n",
       "                2017/18             308404.50\n",
       "Uttarakhand     2015/16             325920.43\n",
       "                2016/17             697015.01\n",
       "                2017/18              41889.37\n",
       "Name: Sales in Rs, dtype: float64"
      ]
     },
     "execution_count": 65,
     "metadata": {},
     "output_type": "execute_result"
    }
   ],
   "source": [
    "df.groupby(['State','Financial Year'])['Sales in Rs'].sum()"
   ]
  },
  {
   "cell_type": "markdown",
   "id": "90558db1",
   "metadata": {},
   "source": [
    "# Prepare a pictorial representation of the Q1 in PowerPoint (1 slide)"
   ]
  },
  {
   "cell_type": "code",
   "execution_count": 47,
   "id": "baf2bc5a",
   "metadata": {},
   "outputs": [
    {
     "data": {
      "image/png": "[encoded data removed]",
      "text/plain": [
       "<Figure size 1080x720 with 1 Axes>"
      ]
     },
     "metadata": {
      "needs_background": "light"
     },
     "output_type": "display_data"
    }
   ],
   "source": [
    "plt.figure(figsize=(15,10))\n",
    "\n",
    "sns.barplot(x='State', y='Sales in Rs', data=df, hue='Financial Year',ci=None)\n",
    "plt.legend(loc=\"upper right\",fontsize=\"10\")\n",
    "plt.show()"
   ]
  },
  {
   "cell_type": "code",
   "execution_count": null,
   "id": "3d0e20f8",
   "metadata": {},
   "outputs": [],
   "source": [
    "#Analysis:-\n",
    "\n",
    "# In the year of 2026/17 every state sales are higher as compared to other financial year.\n",
    "#Sales are higher is odisha followed by Bihar & Nagaland in the financial year 2016/17.\n",
    "#Followed by finanacial year 2015/16 sales are good.\n",
    "#In Financial year 2017/18 sales figures are not good."
   ]
  },
  {
   "cell_type": "markdown",
   "id": "553a9814",
   "metadata": {},
   "source": [
    "# 3.Please show the Manager's ranking as per sales (1 – 10)"
   ]
  },
  {
   "cell_type": "code",
   "execution_count": 48,
   "id": "ad621687",
   "metadata": {},
   "outputs": [
    {
     "data": {
      "text/plain": [
       "Manager\n",
       "John Gardner      5029314.86\n",
       "Jeremy Garcia     4618775.85\n",
       "Lillian Pruitt    4504438.82\n",
       "Rachael Long      4326676.91\n",
       "Jerry Fulton      4230480.95\n",
       "Terri Wright      3520068.93\n",
       "George Chester    3492580.14\n",
       "Brian Hubbard     3474647.43\n",
       "Miles Hammond     2904742.88\n",
       "Claire Bridges    2851270.49\n",
       "Name: Sales in Rs, dtype: float64"
      ]
     },
     "execution_count": 48,
     "metadata": {},
     "output_type": "execute_result"
    }
   ],
   "source": [
    "df1=df.groupby(['Manager'])['Sales in Rs'].sum().sort_values(ascending=False)\n",
    "df1.head(10)"
   ]
  },
  {
   "cell_type": "code",
   "execution_count": null,
   "id": "4b624db5",
   "metadata": {},
   "outputs": [],
   "source": [
    "#Above details shows top 10 managers sales from higher rank to lower rank."
   ]
  },
  {
   "cell_type": "markdown",
   "id": "fde4583d",
   "metadata": {},
   "source": [
    "# 4.Show the highest-to-lowest sales categories by state."
   ]
  },
  {
   "cell_type": "code",
   "execution_count": 62,
   "id": "45183026",
   "metadata": {},
   "outputs": [
    {
     "data": {
      "text/plain": [
       "State           Category \n",
       "Odisha          Mens         3700053.93\n",
       "                Shoes        3106748.80\n",
       "                Home         2823200.68\n",
       "Bihar           Mens         2575784.23\n",
       "Odisha          Juniors      2550584.54\n",
       "                                ...    \n",
       "Uttarakhand     Hosiery        24057.40\n",
       "Jharkhand       Groceries      17021.33\n",
       "                Hosiery        16501.90\n",
       "Madhya Pradesh  Groceries        692.04\n",
       "Uttarakhand     Groceries        464.15\n",
       "Name: Sales in Rs, Length: 80, dtype: float64"
      ]
     },
     "execution_count": 62,
     "metadata": {},
     "output_type": "execute_result"
    }
   ],
   "source": [
    "df.groupby(['State','Category'])['Sales in Rs'].sum().sort_values(ascending=False)\n"
   ]
  },
  {
   "cell_type": "code",
   "execution_count": 63,
   "id": "0ebea156",
   "metadata": {},
   "outputs": [
    {
     "data": {
      "image/png": "[encoded data removed]",
      "text/plain": [
       "<Figure size 1080x576 with 1 Axes>"
      ]
     },
     "metadata": {
      "needs_background": "light"
     },
     "output_type": "display_data"
    }
   ],
   "source": [
    "plt.figure(figsize=(15,8))\n",
    "\n",
    "sns.barplot(x='State', y='Sales in Rs', data=df, hue='Category',ci=None)\n",
    "plt.legend(loc=\"upper right\",fontsize=\"10\")\n",
    "plt.show()"
   ]
  },
  {
   "cell_type": "code",
   "execution_count": null,
   "id": "ad680807",
   "metadata": {},
   "outputs": [],
   "source": [
    "#Analysis:-\n",
    "\n",
    "#From above anaysis it is observed that sales of shoes is highest in odisha amoungst all states, followed by Bihar, Goa & Nagaland.\n",
    "#Also Home fashion category sale in highest in odisha, followed by nagaland & Bihar.\n",
    "#Mens fashion accessories are mostly sale in odisha followed by Bihar, Goa & Punjab.\n",
    "\n",
    "#Groceries sales are performing well in all states but in Madhya Pradesh, Uttarakhand sales are very less.Hence needs to focus on this states.\n",
    "#Madhyapradesh, Jharkhand & uttarakhand sales are not good hence need to focus on this region to increase the sales."
   ]
  },
  {
   "cell_type": "code",
   "execution_count": null,
   "id": "2632bfea",
   "metadata": {},
   "outputs": [],
   "source": []
  }
 ],
 "metadata": {
  "kernelspec": {
   "display_name": "Python 3 (ipykernel)",
   "language": "python",
   "name": "python3"
  },
  "language_info": {
   "codemirror_mode": {
    "name": "ipython",
    "version": 3
   },
   "file_extension": ".py",
   "mimetype": "text/x-python",
   "name": "python",
   "nbconvert_exporter": "python",
   "pygments_lexer": "ipython3",
   "version": "3.9.12"
  }
 },
 "nbformat": 4,
 "nbformat_minor": 5
}
