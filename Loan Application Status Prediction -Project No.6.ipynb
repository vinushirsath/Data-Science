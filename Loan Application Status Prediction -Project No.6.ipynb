{
 "cells": [
  {
   "cell_type": "markdown",
   "id": "bfa1f8e7",
   "metadata": {},
   "source": [
    "\n",
    "# Loan Application Status Prediction\n",
    "Problem Statement:\n",
    "This dataset includes details of applicants who have applied for loan. The dataset includes details like credit history, loan amount, their income, dependents etc. \n",
    "\n",
    "Independent Variables:\n",
    "\n",
    "- Loan_ID\n",
    "\n",
    "- Gender\n",
    "\n",
    "- Married\n",
    "\n",
    "- Dependents\n",
    "\n",
    "- Education\n",
    "\n",
    "- Self_Employed\n",
    "\n",
    "- ApplicantIncome\n",
    "\n",
    "- CoapplicantIncome\n",
    "\n",
    "- Loan_Amount\n",
    "\n",
    "- Loan_Amount_Term\n",
    "\n",
    "- Credit History\n",
    "\n",
    "- Property_Area\n",
    "\n",
    "Dependent Variable (Target Variable):\n",
    "\n",
    "- Loan_Status\n",
    "\n",
    "You have to build a model that can predict whether the loan of the applicant will be approved or not on the basis of the details provided in the dataset. \n",
    "\n",
    "Note: The link of the dataset is below. \n",
    "\n",
    "Downlaod Files:\n",
    "https://github.com/dsrscientist/DSData/blob/master/loan_prediction.csv\n"
   ]
  },
  {
   "cell_type": "code",
   "execution_count": 32,
   "id": "1a7ca820",
   "metadata": {},
   "outputs": [],
   "source": [
    "import pandas as pd\n",
    "import seaborn as sns\n",
    "import matplotlib.pyplot as plt\n",
    "import numpy as np\n",
    "from sklearn.preprocessing import StandardScaler\n",
    "from sklearn.linear_model import LogisticRegression\n",
    "from sklearn.model_selection import GridSearchCV\n",
    "from sklearn.neighbors import KNeighborsClassifier\n",
    "from sklearn.ensemble import RandomForestClassifier\n",
    "from sklearn.model_selection import train_test_split\n",
    "from sklearn.tree import DecisionTreeClassifier\n",
    "from statsmodels.stats.outliers_influence import variance_inflation_factor\n",
    "from sklearn.metrics import accuracy_score,confusion_matrix,roc_curve, roc_auc_score, classification_report\n",
    "\n",
    "\n",
    "import warnings\n",
    "warnings.filterwarnings(\"ignore\")"
   ]
  },
  {
   "cell_type": "code",
   "execution_count": 33,
   "id": "20d5dbcc",
   "metadata": {},
   "outputs": [
    {
     "data": {
      "text/html": [
       "<div>\n",
       "<style scoped>\n",
       "    .dataframe tbody tr th:only-of-type {\n",
       "        vertical-align: middle;\n",
       "    }\n",
       "\n",
       "    .dataframe tbody tr th {\n",
       "        vertical-align: top;\n",
       "    }\n",
       "\n",
       "    .dataframe thead th {\n",
       "        text-align: right;\n",
       "    }\n",
       "</style>\n",
       "<table border=\"1\" class=\"dataframe\">\n",
       "  <thead>\n",
       "    <tr style=\"text-align: right;\">\n",
       "      <th></th>\n",
       "      <th>Loan_ID</th>\n",
       "      <th>Gender</th>\n",
       "      <th>Married</th>\n",
       "      <th>Dependents</th>\n",
       "      <th>Education</th>\n",
       "      <th>Self_Employed</th>\n",
       "      <th>ApplicantIncome</th>\n",
       "      <th>CoapplicantIncome</th>\n",
       "      <th>LoanAmount</th>\n",
       "      <th>Loan_Amount_Term</th>\n",
       "      <th>Credit_History</th>\n",
       "      <th>Property_Area</th>\n",
       "      <th>Loan_Status</th>\n",
       "    </tr>\n",
       "  </thead>\n",
       "  <tbody>\n",
       "    <tr>\n",
       "      <th>0</th>\n",
       "      <td>LP001002</td>\n",
       "      <td>Male</td>\n",
       "      <td>No</td>\n",
       "      <td>0</td>\n",
       "      <td>Graduate</td>\n",
       "      <td>No</td>\n",
       "      <td>5849</td>\n",
       "      <td>0.0</td>\n",
       "      <td>NaN</td>\n",
       "      <td>360.0</td>\n",
       "      <td>1.0</td>\n",
       "      <td>Urban</td>\n",
       "      <td>Y</td>\n",
       "    </tr>\n",
       "    <tr>\n",
       "      <th>1</th>\n",
       "      <td>LP001003</td>\n",
       "      <td>Male</td>\n",
       "      <td>Yes</td>\n",
       "      <td>1</td>\n",
       "      <td>Graduate</td>\n",
       "      <td>No</td>\n",
       "      <td>4583</td>\n",
       "      <td>1508.0</td>\n",
       "      <td>128.0</td>\n",
       "      <td>360.0</td>\n",
       "      <td>1.0</td>\n",
       "      <td>Rural</td>\n",
       "      <td>N</td>\n",
       "    </tr>\n",
       "    <tr>\n",
       "      <th>2</th>\n",
       "      <td>LP001005</td>\n",
       "      <td>Male</td>\n",
       "      <td>Yes</td>\n",
       "      <td>0</td>\n",
       "      <td>Graduate</td>\n",
       "      <td>Yes</td>\n",
       "      <td>3000</td>\n",
       "      <td>0.0</td>\n",
       "      <td>66.0</td>\n",
       "      <td>360.0</td>\n",
       "      <td>1.0</td>\n",
       "      <td>Urban</td>\n",
       "      <td>Y</td>\n",
       "    </tr>\n",
       "    <tr>\n",
       "      <th>3</th>\n",
       "      <td>LP001006</td>\n",
       "      <td>Male</td>\n",
       "      <td>Yes</td>\n",
       "      <td>0</td>\n",
       "      <td>Not Graduate</td>\n",
       "      <td>No</td>\n",
       "      <td>2583</td>\n",
       "      <td>2358.0</td>\n",
       "      <td>120.0</td>\n",
       "      <td>360.0</td>\n",
       "      <td>1.0</td>\n",
       "      <td>Urban</td>\n",
       "      <td>Y</td>\n",
       "    </tr>\n",
       "    <tr>\n",
       "      <th>4</th>\n",
       "      <td>LP001008</td>\n",
       "      <td>Male</td>\n",
       "      <td>No</td>\n",
       "      <td>0</td>\n",
       "      <td>Graduate</td>\n",
       "      <td>No</td>\n",
       "      <td>6000</td>\n",
       "      <td>0.0</td>\n",
       "      <td>141.0</td>\n",
       "      <td>360.0</td>\n",
       "      <td>1.0</td>\n",
       "      <td>Urban</td>\n",
       "      <td>Y</td>\n",
       "    </tr>\n",
       "  </tbody>\n",
       "</table>\n",
       "</div>"
      ],
      "text/plain": [
       "    Loan_ID Gender Married Dependents     Education Self_Employed  \\\n",
       "0  LP001002   Male      No          0      Graduate            No   \n",
       "1  LP001003   Male     Yes          1      Graduate            No   \n",
       "2  LP001005   Male     Yes          0      Graduate           Yes   \n",
       "3  LP001006   Male     Yes          0  Not Graduate            No   \n",
       "4  LP001008   Male      No          0      Graduate            No   \n",
       "\n",
       "   ApplicantIncome  CoapplicantIncome  LoanAmount  Loan_Amount_Term  \\\n",
       "0             5849                0.0         NaN             360.0   \n",
       "1             4583             1508.0       128.0             360.0   \n",
       "2             3000                0.0        66.0             360.0   \n",
       "3             2583             2358.0       120.0             360.0   \n",
       "4             6000                0.0       141.0             360.0   \n",
       "\n",
       "   Credit_History Property_Area Loan_Status  \n",
       "0             1.0         Urban           Y  \n",
       "1             1.0         Rural           N  \n",
       "2             1.0         Urban           Y  \n",
       "3             1.0         Urban           Y  \n",
       "4             1.0         Urban           Y  "
      ]
     },
     "execution_count": 33,
     "metadata": {},
     "output_type": "execute_result"
    }
   ],
   "source": [
    "df=pd.read_csv(\"Desktop/loan_prediction.csv\")\n",
    "df.head()"
   ]
  },
  {
   "cell_type": "code",
   "execution_count": null,
   "id": "8496746d",
   "metadata": {},
   "outputs": [],
   "source": []
  },
  {
   "cell_type": "code",
   "execution_count": 34,
   "id": "4cf7e3bb",
   "metadata": {},
   "outputs": [
    {
     "data": {
      "text/plain": [
       "(614, 13)"
      ]
     },
     "execution_count": 34,
     "metadata": {},
     "output_type": "execute_result"
    }
   ],
   "source": [
    "#Finding the shape of data\n",
    "df.shape"
   ]
  },
  {
   "cell_type": "raw",
   "id": "a3ee27d8",
   "metadata": {},
   "source": [
    "-It has 614 nos. of rows & 13 nos. of columns"
   ]
  },
  {
   "cell_type": "code",
   "execution_count": 35,
   "id": "f23a695a",
   "metadata": {},
   "outputs": [
    {
     "data": {
      "text/plain": [
       "Loan_ID               0\n",
       "Gender               13\n",
       "Married               3\n",
       "Dependents           15\n",
       "Education             0\n",
       "Self_Employed        32\n",
       "ApplicantIncome       0\n",
       "CoapplicantIncome     0\n",
       "LoanAmount           22\n",
       "Loan_Amount_Term     14\n",
       "Credit_History       50\n",
       "Property_Area         0\n",
       "Loan_Status           0\n",
       "dtype: int64"
      ]
     },
     "execution_count": 35,
     "metadata": {},
     "output_type": "execute_result"
    }
   ],
   "source": [
    "#Finding the null values\n",
    "df.isna().sum()"
   ]
  },
  {
   "cell_type": "raw",
   "id": "698d904a",
   "metadata": {},
   "source": [
    "-From above it is observed that null values are present in Gender, Married, Dependents, Self employed, Loan Amount, Loan amount term, credit history\n",
    "-Null values are very lesser in nos. hence it is better to remove null values data from dataset"
   ]
  },
  {
   "cell_type": "code",
   "execution_count": 36,
   "id": "7bd2a5b2",
   "metadata": {},
   "outputs": [
    {
     "data": {
      "text/html": [
       "<div>\n",
       "<style scoped>\n",
       "    .dataframe tbody tr th:only-of-type {\n",
       "        vertical-align: middle;\n",
       "    }\n",
       "\n",
       "    .dataframe tbody tr th {\n",
       "        vertical-align: top;\n",
       "    }\n",
       "\n",
       "    .dataframe thead th {\n",
       "        text-align: right;\n",
       "    }\n",
       "</style>\n",
       "<table border=\"1\" class=\"dataframe\">\n",
       "  <thead>\n",
       "    <tr style=\"text-align: right;\">\n",
       "      <th></th>\n",
       "      <th>Loan_ID</th>\n",
       "      <th>Gender</th>\n",
       "      <th>Married</th>\n",
       "      <th>Dependents</th>\n",
       "      <th>Education</th>\n",
       "      <th>Self_Employed</th>\n",
       "      <th>ApplicantIncome</th>\n",
       "      <th>CoapplicantIncome</th>\n",
       "      <th>LoanAmount</th>\n",
       "      <th>Loan_Amount_Term</th>\n",
       "      <th>Credit_History</th>\n",
       "      <th>Property_Area</th>\n",
       "      <th>Loan_Status</th>\n",
       "    </tr>\n",
       "  </thead>\n",
       "  <tbody>\n",
       "    <tr>\n",
       "      <th>1</th>\n",
       "      <td>LP001003</td>\n",
       "      <td>Male</td>\n",
       "      <td>Yes</td>\n",
       "      <td>1</td>\n",
       "      <td>Graduate</td>\n",
       "      <td>No</td>\n",
       "      <td>4583</td>\n",
       "      <td>1508.0</td>\n",
       "      <td>128.0</td>\n",
       "      <td>360.0</td>\n",
       "      <td>1.0</td>\n",
       "      <td>Rural</td>\n",
       "      <td>N</td>\n",
       "    </tr>\n",
       "    <tr>\n",
       "      <th>2</th>\n",
       "      <td>LP001005</td>\n",
       "      <td>Male</td>\n",
       "      <td>Yes</td>\n",
       "      <td>0</td>\n",
       "      <td>Graduate</td>\n",
       "      <td>Yes</td>\n",
       "      <td>3000</td>\n",
       "      <td>0.0</td>\n",
       "      <td>66.0</td>\n",
       "      <td>360.0</td>\n",
       "      <td>1.0</td>\n",
       "      <td>Urban</td>\n",
       "      <td>Y</td>\n",
       "    </tr>\n",
       "    <tr>\n",
       "      <th>3</th>\n",
       "      <td>LP001006</td>\n",
       "      <td>Male</td>\n",
       "      <td>Yes</td>\n",
       "      <td>0</td>\n",
       "      <td>Not Graduate</td>\n",
       "      <td>No</td>\n",
       "      <td>2583</td>\n",
       "      <td>2358.0</td>\n",
       "      <td>120.0</td>\n",
       "      <td>360.0</td>\n",
       "      <td>1.0</td>\n",
       "      <td>Urban</td>\n",
       "      <td>Y</td>\n",
       "    </tr>\n",
       "    <tr>\n",
       "      <th>4</th>\n",
       "      <td>LP001008</td>\n",
       "      <td>Male</td>\n",
       "      <td>No</td>\n",
       "      <td>0</td>\n",
       "      <td>Graduate</td>\n",
       "      <td>No</td>\n",
       "      <td>6000</td>\n",
       "      <td>0.0</td>\n",
       "      <td>141.0</td>\n",
       "      <td>360.0</td>\n",
       "      <td>1.0</td>\n",
       "      <td>Urban</td>\n",
       "      <td>Y</td>\n",
       "    </tr>\n",
       "    <tr>\n",
       "      <th>5</th>\n",
       "      <td>LP001011</td>\n",
       "      <td>Male</td>\n",
       "      <td>Yes</td>\n",
       "      <td>2</td>\n",
       "      <td>Graduate</td>\n",
       "      <td>Yes</td>\n",
       "      <td>5417</td>\n",
       "      <td>4196.0</td>\n",
       "      <td>267.0</td>\n",
       "      <td>360.0</td>\n",
       "      <td>1.0</td>\n",
       "      <td>Urban</td>\n",
       "      <td>Y</td>\n",
       "    </tr>\n",
       "  </tbody>\n",
       "</table>\n",
       "</div>"
      ],
      "text/plain": [
       "    Loan_ID Gender Married Dependents     Education Self_Employed  \\\n",
       "1  LP001003   Male     Yes          1      Graduate            No   \n",
       "2  LP001005   Male     Yes          0      Graduate           Yes   \n",
       "3  LP001006   Male     Yes          0  Not Graduate            No   \n",
       "4  LP001008   Male      No          0      Graduate            No   \n",
       "5  LP001011   Male     Yes          2      Graduate           Yes   \n",
       "\n",
       "   ApplicantIncome  CoapplicantIncome  LoanAmount  Loan_Amount_Term  \\\n",
       "1             4583             1508.0       128.0             360.0   \n",
       "2             3000                0.0        66.0             360.0   \n",
       "3             2583             2358.0       120.0             360.0   \n",
       "4             6000                0.0       141.0             360.0   \n",
       "5             5417             4196.0       267.0             360.0   \n",
       "\n",
       "   Credit_History Property_Area Loan_Status  \n",
       "1             1.0         Rural           N  \n",
       "2             1.0         Urban           Y  \n",
       "3             1.0         Urban           Y  \n",
       "4             1.0         Urban           Y  \n",
       "5             1.0         Urban           Y  "
      ]
     },
     "execution_count": 36,
     "metadata": {},
     "output_type": "execute_result"
    }
   ],
   "source": [
    "df=df.dropna()\n",
    "df.head()"
   ]
  },
  {
   "cell_type": "code",
   "execution_count": 37,
   "id": "546e9924",
   "metadata": {},
   "outputs": [
    {
     "data": {
      "text/plain": [
       "Loan_ID              0\n",
       "Gender               0\n",
       "Married              0\n",
       "Dependents           0\n",
       "Education            0\n",
       "Self_Employed        0\n",
       "ApplicantIncome      0\n",
       "CoapplicantIncome    0\n",
       "LoanAmount           0\n",
       "Loan_Amount_Term     0\n",
       "Credit_History       0\n",
       "Property_Area        0\n",
       "Loan_Status          0\n",
       "dtype: int64"
      ]
     },
     "execution_count": 37,
     "metadata": {},
     "output_type": "execute_result"
    }
   ],
   "source": [
    "df.isna().sum()"
   ]
  },
  {
   "cell_type": "raw",
   "id": "2cc62375",
   "metadata": {},
   "source": [
    "-As the null values are very less in nos. hence we have removed all null values from Dataset"
   ]
  },
  {
   "cell_type": "code",
   "execution_count": 200,
   "id": "90cd7b33",
   "metadata": {},
   "outputs": [
    {
     "name": "stdout",
     "output_type": "stream",
     "text": [
      "Number of duplicate rows = 0\n"
     ]
    }
   ],
   "source": [
    "#Checking duplicate values\n",
    "\n",
    "dups = df.duplicated()\n",
    "print('Number of duplicate rows = %d' % (dups.sum()))"
   ]
  },
  {
   "cell_type": "markdown",
   "id": "3a20b4e0",
   "metadata": {},
   "source": [
    "No Duplicate values are present"
   ]
  },
  {
   "cell_type": "code",
   "execution_count": 38,
   "id": "2d88a562",
   "metadata": {},
   "outputs": [
    {
     "data": {
      "text/plain": [
       "(480, 13)"
      ]
     },
     "execution_count": 38,
     "metadata": {},
     "output_type": "execute_result"
    }
   ],
   "source": [
    "#Finding the shape after removal of dataset\n",
    "\n",
    "df.shape"
   ]
  },
  {
   "cell_type": "code",
   "execution_count": 39,
   "id": "902a7c27",
   "metadata": {},
   "outputs": [
    {
     "name": "stdout",
     "output_type": "stream",
     "text": [
      "<class 'pandas.core.frame.DataFrame'>\n",
      "Int64Index: 480 entries, 1 to 613\n",
      "Data columns (total 13 columns):\n",
      " #   Column             Non-Null Count  Dtype  \n",
      "---  ------             --------------  -----  \n",
      " 0   Loan_ID            480 non-null    object \n",
      " 1   Gender             480 non-null    object \n",
      " 2   Married            480 non-null    object \n",
      " 3   Dependents         480 non-null    object \n",
      " 4   Education          480 non-null    object \n",
      " 5   Self_Employed      480 non-null    object \n",
      " 6   ApplicantIncome    480 non-null    int64  \n",
      " 7   CoapplicantIncome  480 non-null    float64\n",
      " 8   LoanAmount         480 non-null    float64\n",
      " 9   Loan_Amount_Term   480 non-null    float64\n",
      " 10  Credit_History     480 non-null    float64\n",
      " 11  Property_Area      480 non-null    object \n",
      " 12  Loan_Status        480 non-null    object \n",
      "dtypes: float64(4), int64(1), object(8)\n",
      "memory usage: 52.5+ KB\n"
     ]
    }
   ],
   "source": [
    "#Finding information about dataset\n",
    "df.info()"
   ]
  },
  {
   "cell_type": "code",
   "execution_count": null,
   "id": "a0ca5f6a",
   "metadata": {},
   "outputs": [],
   "source": []
  },
  {
   "cell_type": "code",
   "execution_count": 40,
   "id": "a9ec5cdb",
   "metadata": {},
   "outputs": [
    {
     "data": {
      "text/html": [
       "<div>\n",
       "<style scoped>\n",
       "    .dataframe tbody tr th:only-of-type {\n",
       "        vertical-align: middle;\n",
       "    }\n",
       "\n",
       "    .dataframe tbody tr th {\n",
       "        vertical-align: top;\n",
       "    }\n",
       "\n",
       "    .dataframe thead th {\n",
       "        text-align: right;\n",
       "    }\n",
       "</style>\n",
       "<table border=\"1\" class=\"dataframe\">\n",
       "  <thead>\n",
       "    <tr style=\"text-align: right;\">\n",
       "      <th></th>\n",
       "      <th>ApplicantIncome</th>\n",
       "      <th>CoapplicantIncome</th>\n",
       "      <th>LoanAmount</th>\n",
       "      <th>Loan_Amount_Term</th>\n",
       "      <th>Credit_History</th>\n",
       "    </tr>\n",
       "  </thead>\n",
       "  <tbody>\n",
       "    <tr>\n",
       "      <th>count</th>\n",
       "      <td>480.000000</td>\n",
       "      <td>480.000000</td>\n",
       "      <td>480.000000</td>\n",
       "      <td>480.000000</td>\n",
       "      <td>480.000000</td>\n",
       "    </tr>\n",
       "    <tr>\n",
       "      <th>mean</th>\n",
       "      <td>5364.231250</td>\n",
       "      <td>1581.093583</td>\n",
       "      <td>144.735417</td>\n",
       "      <td>342.050000</td>\n",
       "      <td>0.854167</td>\n",
       "    </tr>\n",
       "    <tr>\n",
       "      <th>std</th>\n",
       "      <td>5668.251251</td>\n",
       "      <td>2617.692267</td>\n",
       "      <td>80.508164</td>\n",
       "      <td>65.212401</td>\n",
       "      <td>0.353307</td>\n",
       "    </tr>\n",
       "    <tr>\n",
       "      <th>min</th>\n",
       "      <td>150.000000</td>\n",
       "      <td>0.000000</td>\n",
       "      <td>9.000000</td>\n",
       "      <td>36.000000</td>\n",
       "      <td>0.000000</td>\n",
       "    </tr>\n",
       "    <tr>\n",
       "      <th>25%</th>\n",
       "      <td>2898.750000</td>\n",
       "      <td>0.000000</td>\n",
       "      <td>100.000000</td>\n",
       "      <td>360.000000</td>\n",
       "      <td>1.000000</td>\n",
       "    </tr>\n",
       "    <tr>\n",
       "      <th>50%</th>\n",
       "      <td>3859.000000</td>\n",
       "      <td>1084.500000</td>\n",
       "      <td>128.000000</td>\n",
       "      <td>360.000000</td>\n",
       "      <td>1.000000</td>\n",
       "    </tr>\n",
       "    <tr>\n",
       "      <th>75%</th>\n",
       "      <td>5852.500000</td>\n",
       "      <td>2253.250000</td>\n",
       "      <td>170.000000</td>\n",
       "      <td>360.000000</td>\n",
       "      <td>1.000000</td>\n",
       "    </tr>\n",
       "    <tr>\n",
       "      <th>max</th>\n",
       "      <td>81000.000000</td>\n",
       "      <td>33837.000000</td>\n",
       "      <td>600.000000</td>\n",
       "      <td>480.000000</td>\n",
       "      <td>1.000000</td>\n",
       "    </tr>\n",
       "  </tbody>\n",
       "</table>\n",
       "</div>"
      ],
      "text/plain": [
       "       ApplicantIncome  CoapplicantIncome  LoanAmount  Loan_Amount_Term  \\\n",
       "count       480.000000         480.000000  480.000000        480.000000   \n",
       "mean       5364.231250        1581.093583  144.735417        342.050000   \n",
       "std        5668.251251        2617.692267   80.508164         65.212401   \n",
       "min         150.000000           0.000000    9.000000         36.000000   \n",
       "25%        2898.750000           0.000000  100.000000        360.000000   \n",
       "50%        3859.000000        1084.500000  128.000000        360.000000   \n",
       "75%        5852.500000        2253.250000  170.000000        360.000000   \n",
       "max       81000.000000       33837.000000  600.000000        480.000000   \n",
       "\n",
       "       Credit_History  \n",
       "count      480.000000  \n",
       "mean         0.854167  \n",
       "std          0.353307  \n",
       "min          0.000000  \n",
       "25%          1.000000  \n",
       "50%          1.000000  \n",
       "75%          1.000000  \n",
       "max          1.000000  "
      ]
     },
     "execution_count": 40,
     "metadata": {},
     "output_type": "execute_result"
    }
   ],
   "source": [
    "df.describe()"
   ]
  },
  {
   "cell_type": "markdown",
   "id": "db149017",
   "metadata": {},
   "source": [
    "# EDA"
   ]
  },
  {
   "cell_type": "code",
   "execution_count": 41,
   "id": "07232dc1",
   "metadata": {},
   "outputs": [
    {
     "data": {
      "image/png": "[encoded data removed]",
      "text/plain": [
       "<Figure size 1440x1440 with 13 Axes>"
      ]
     },
     "metadata": {
      "needs_background": "light"
     },
     "output_type": "display_data"
    }
   ],
   "source": [
    "#Lets check data destribution, visualize the dataset\n",
    "\n",
    "plt.figure(figsize=(20,20))\n",
    "plotnumber=1\n",
    "\n",
    "for column in df:\n",
    "    if plotnumber<=15:\n",
    "        ax=plt.subplot(5,3, plotnumber)\n",
    "        sns.histplot(df[column])\n",
    "        plt.xlabel(column,fontsize=20)\n",
    "    plotnumber+=1\n",
    "    \n",
    "plt.tight_layout()"
   ]
  },
  {
   "cell_type": "raw",
   "id": "64d93991",
   "metadata": {},
   "source": [
    "-Looking on the dataset Male applicant are more in nos. as comapred to female applicant.\n",
    "-Married people applicants are more in nos.\n",
    "-Most of applicants does not having any dependent.Followed by some applicant having 1 & 2 dependents. Very less no. of applicants having 3+ dependents.\n",
    "-Most of applicants are Graduated.\n",
    "-Most of peoples are salaried persons & only some peoples are self employed.\n",
    "-Most of peoples income is between 5K to 7K. Applicant income is positively skewd. \n",
    "-Most of Copplicants are not having any income source & SOme coapplicant having income between 3K to 5K. Coapplicant data is positively skwed.\n",
    "-Most of applicant taking loan amount between 90K to 2L. Only few appicants are taking higher loan amount. Data is positively skewd.\n",
    "-Majority of peoples are taking long term loan.\n",
    "-Majority of peoples are having good credit history.\n",
    "-Peoples are preferred semiurbon property area, followed by urbon area & rural area.\n",
    "-Mojority of loan status is processed."
   ]
  },
  {
   "cell_type": "code",
   "execution_count": 42,
   "id": "34cdb669",
   "metadata": {},
   "outputs": [
    {
     "data": {
      "text/plain": [
       "<AxesSubplot:xlabel='Gender', ylabel='count'>"
      ]
     },
     "execution_count": 42,
     "metadata": {},
     "output_type": "execute_result"
    },
    {
     "data": {
      "image/png": "[encoded data removed]",
      "text/plain": [
       "<Figure size 432x288 with 1 Axes>"
      ]
     },
     "metadata": {
      "needs_background": "light"
     },
     "output_type": "display_data"
    }
   ],
   "source": [
    "#Plotting genderwise married applcants\n",
    "\n",
    "sns.countplot(df[\"Gender\"], hue=df[\"Married\"])"
   ]
  },
  {
   "cell_type": "raw",
   "id": "549a4652",
   "metadata": {},
   "source": [
    "-Married male peoples are more in nos. for property loan application.\n",
    "-Unmarried female are more in nos. as compared to married womens."
   ]
  },
  {
   "cell_type": "code",
   "execution_count": 43,
   "id": "9bc053e9",
   "metadata": {},
   "outputs": [
    {
     "data": {
      "text/plain": [
       "<AxesSubplot:xlabel='Married', ylabel='count'>"
      ]
     },
     "execution_count": 43,
     "metadata": {},
     "output_type": "execute_result"
    },
    {
     "data": {
      "image/png": "[encoded data removed]",
      "text/plain": [
       "<Figure size 432x288 with 1 Axes>"
      ]
     },
     "metadata": {
      "needs_background": "light"
     },
     "output_type": "display_data"
    }
   ],
   "source": [
    "#Plotting Married Vs. Dependents\n",
    "\n",
    "sns.countplot(df[\"Married\"], hue=df[\"Dependents\"])"
   ]
  },
  {
   "cell_type": "raw",
   "id": "c18406d3",
   "metadata": {},
   "source": [
    "-Majority of married peoples doesnt have any dependents as they have preplanned to take property before childrens.\n",
    "-Followed by applicants having 2 dependents & then after 1 dependents.\n",
    "-Majority of unmarried peoples are doest having any dependent."
   ]
  },
  {
   "cell_type": "code",
   "execution_count": 45,
   "id": "14801fa2",
   "metadata": {},
   "outputs": [
    {
     "data": {
      "text/plain": [
       "<AxesSubplot:xlabel='Education', ylabel='count'>"
      ]
     },
     "execution_count": 45,
     "metadata": {},
     "output_type": "execute_result"
    },
    {
     "data": {
      "image/png": "[encoded data removed]",
      "text/plain": [
       "<Figure size 432x288 with 1 Axes>"
      ]
     },
     "metadata": {
      "needs_background": "light"
     },
     "output_type": "display_data"
    }
   ],
   "source": [
    "#Plotting Education & Self_Employed\n",
    "sns.countplot(df[\"Education\"], hue=df[\"Self_Employed\"])"
   ]
  },
  {
   "cell_type": "raw",
   "id": "7fa21618",
   "metadata": {},
   "source": [
    "-It observed from dataset most of peoples whoes education level is Graduated or not graduated are working in private sector or not self employed."
   ]
  },
  {
   "cell_type": "code",
   "execution_count": 57,
   "id": "e1c87995",
   "metadata": {},
   "outputs": [
    {
     "data": {
      "image/png": "[encoded data removed]",
      "text/plain": [
       "<Figure size 432x288 with 1 Axes>"
      ]
     },
     "metadata": {
      "needs_background": "light"
     },
     "output_type": "display_data"
    }
   ],
   "source": [
    "#Finding relationship between ApplicantIncome core & Education\n",
    "\n",
    "x=df[\"ApplicantIncome\"]\n",
    "y=df[\"Education\"]\n",
    "\n",
    "sns.barplot(x,y)\n",
    "plt.xlabel(\"ApplicantIncome\")\n",
    "plt.ylabel(\"Education\")\n",
    "plt.show()"
   ]
  },
  {
   "cell_type": "raw",
   "id": "2a9ae818",
   "metadata": {},
   "source": [
    "-Graduated applicants income are more than non graduated peoples."
   ]
  },
  {
   "cell_type": "code",
   "execution_count": 65,
   "id": "535c0199",
   "metadata": {},
   "outputs": [
    {
     "data": {
      "image/png": "[encoded data removed]",
      "text/plain": [
       "<Figure size 432x288 with 1 Axes>"
      ]
     },
     "metadata": {
      "needs_background": "light"
     },
     "output_type": "display_data"
    }
   ],
   "source": [
    "#Finding relationship between ApplicantIncome core & Education\n",
    "\n",
    "x=df[\"ApplicantIncome\"]\n",
    "y=df[\"CoapplicantIncome\"]\n",
    "\n",
    "plt.scatter(x,y)\n",
    "plt.xlabel(\"ApplicantIncome\")\n",
    "plt.ylabel(\"CoApplicantIncome\")\n",
    "plt.show()"
   ]
  },
  {
   "cell_type": "raw",
   "id": "202adbd9",
   "metadata": {},
   "source": [
    "-Most of Co applicants are not having in income & those who are having income which is very less."
   ]
  },
  {
   "cell_type": "code",
   "execution_count": 75,
   "id": "81f224ce",
   "metadata": {},
   "outputs": [
    {
     "data": {
      "image/png": "[encoded data removed]",
      "text/plain": [
       "<Figure size 432x288 with 1 Axes>"
      ]
     },
     "metadata": {
      "needs_background": "light"
     },
     "output_type": "display_data"
    }
   ],
   "source": [
    "#Finding the income of Self Employed\n",
    "\n",
    "\n",
    "x=df[\"ApplicantIncome\"]\n",
    "y=df[\"Self_Employed\"]\n",
    "\n",
    "sns.barplot(x,y)\n",
    "plt.xlabel(\"ApplicantIncome\")\n",
    "plt.ylabel(\"Self_Employed\")\n",
    "plt.show()\n"
   ]
  },
  {
   "cell_type": "code",
   "execution_count": null,
   "id": "3f1a5a73",
   "metadata": {},
   "outputs": [],
   "source": [
    "-From Above it is observed that Self employed peoples income are more than salaried applicants."
   ]
  },
  {
   "cell_type": "code",
   "execution_count": 74,
   "id": "b32eb279",
   "metadata": {},
   "outputs": [
    {
     "data": {
      "image/png": "[encoded data removed]",
      "text/plain": [
       "<Figure size 441.25x360 with 1 Axes>"
      ]
     },
     "metadata": {
      "needs_background": "light"
     },
     "output_type": "display_data"
    }
   ],
   "source": [
    "#ApplicantIncome Vs LoanAmount\n",
    "#Finding relationship between ApplicantIncome core & Education\n",
    "\n",
    "y=df[\"ApplicantIncome\"]\n",
    "x=df[\"LoanAmount\"]\n",
    "\n",
    "sns.relplot(x,y, hue=df[\"Self_Employed\"])\n",
    "plt.ylabel(\"ApplicantIncome\")\n",
    "plt.xlabel(\"LoanAmount\")\n",
    "plt.show()"
   ]
  },
  {
   "cell_type": "raw",
   "id": "06bf8fd4",
   "metadata": {},
   "source": [
    "-Self employed applicant income are higher than salaried applicants.\n",
    "-The salaried peoples whose income is below 10K they are generally taking loan up to 3L.\n",
    "-Only few salaried applicants income is more than 30K \n",
    "-Non self employed peoples whoes income is more than 10K they are generally taking loan beyond 3L."
   ]
  },
  {
   "cell_type": "code",
   "execution_count": 87,
   "id": "8e8a817d",
   "metadata": {},
   "outputs": [
    {
     "data": {
      "image/png": "[encoded data removed]",
      "text/plain": [
       "<Figure size 438.5x360 with 1 Axes>"
      ]
     },
     "metadata": {
      "needs_background": "light"
     },
     "output_type": "display_data"
    }
   ],
   "source": [
    "#Loan_Amount_Term Vs LoanAmount\n",
    "\n",
    "sns.relplot(x=df[\"LoanAmount\"], y=df[\"Loan_Amount_Term\"], hue=df[\"Credit_History\"])\n",
    "plt.xlabel(\"Loan Amount\")\n",
    "plt.ylabel(\"Loan Amount Term\")\n",
    "plt.show()"
   ]
  },
  {
   "cell_type": "raw",
   "id": "d3354ea3",
   "metadata": {},
   "source": [
    "-Generally peoples are preferred for long term loan.\n",
    "-Most of applicants are having creadit history.\n",
    "-Some of applicants are taking long term loan more than 380 months for less loan amount."
   ]
  },
  {
   "cell_type": "code",
   "execution_count": 92,
   "id": "99b9073f",
   "metadata": {},
   "outputs": [
    {
     "data": {
      "image/png": "[encoded data removed]",
      "text/plain": [
       "<Figure size 441.25x360 with 1 Axes>"
      ]
     },
     "metadata": {
      "needs_background": "light"
     },
     "output_type": "display_data"
    }
   ],
   "source": [
    "#Applicantincome Vs Long term loan\n",
    "\n",
    "x=df[\"ApplicantIncome\"]\n",
    "y=df[\"Loan_Amount_Term\"]\n",
    "\n",
    "sns.relplot(x,y, hue=df[\"Self_Employed\"])\n",
    "plt.xlabel(\"ApplicantIncome\")\n",
    "plt.ylabel(\"Long_Term_Loan\")\n",
    "plt.show()"
   ]
  },
  {
   "cell_type": "raw",
   "id": "37f7b7d4",
   "metadata": {},
   "source": [
    "-Generally the peoples whoes income is less they are taking long term loan."
   ]
  },
  {
   "cell_type": "code",
   "execution_count": 95,
   "id": "bc4ba6a4",
   "metadata": {},
   "outputs": [
    {
     "data": {
      "image/png": "[encoded data removed]",
      "text/plain": [
       "<Figure size 432x288 with 1 Axes>"
      ]
     },
     "metadata": {
      "needs_background": "light"
     },
     "output_type": "display_data"
    }
   ],
   "source": [
    "#Applicant Income Vs Propery_Area\n",
    "\n",
    "x=df[\"ApplicantIncome\"]\n",
    "y=df[\"Property_Area\"]\n",
    "\n",
    "plt.scatter(x,y)\n",
    "plt.xlabel(\"ApplicantIncome\")\n",
    "plt.ylabel(\"Property_Area\")\n",
    "plt.show()"
   ]
  },
  {
   "cell_type": "raw",
   "id": "3fd61182",
   "metadata": {},
   "source": [
    "-Generally peoples are preferring equally."
   ]
  },
  {
   "cell_type": "code",
   "execution_count": 99,
   "id": "30bc59c6",
   "metadata": {},
   "outputs": [
    {
     "data": {
      "image/png": "[encoded data removed]",
      "text/plain": [
       "<Figure size 360x360 with 1 Axes>"
      ]
     },
     "metadata": {
      "needs_background": "light"
     },
     "output_type": "display_data"
    }
   ],
   "source": [
    "#Loan_Amount Vs Propery_Area\n",
    "\n",
    "x=df[\"LoanAmount\"]\n",
    "y=df[\"Property_Area\"]\n",
    "\n",
    "sns.relplot(x,y)\n",
    "plt.xlabel(\"Loan Amount\")\n",
    "plt.ylabel(\"Property_Area\")\n",
    "plt.show()"
   ]
  },
  {
   "cell_type": "raw",
   "id": "eedc21bd",
   "metadata": {},
   "source": [
    "-Generally peoples are applying upto 3L loan amount in all three region proprty.\n",
    "-In Semiurbon & Rural area some peoples are taking loan amount more than 3L."
   ]
  },
  {
   "cell_type": "code",
   "execution_count": 100,
   "id": "f50da3d1",
   "metadata": {},
   "outputs": [
    {
     "data": {
      "text/plain": [
       "<AxesSubplot:xlabel='Credit_History', ylabel='count'>"
      ]
     },
     "execution_count": 100,
     "metadata": {},
     "output_type": "execute_result"
    },
    {
     "data": {
      "image/png": "[encoded data removed]",
      "text/plain": [
       "<Figure size 432x288 with 1 Axes>"
      ]
     },
     "metadata": {
      "needs_background": "light"
     },
     "output_type": "display_data"
    }
   ],
   "source": [
    "#Credit_History Vs Loan_Status\n",
    "sns.countplot(df[\"Credit_History\"], hue=df[\"Loan_Status\"])"
   ]
  },
  {
   "cell_type": "raw",
   "id": "df774f4e",
   "metadata": {},
   "source": [
    "-Applicants whoes credit history is available mainly getting loan but some of applicant not getting loan.\n",
    "-If credit history is not available they are not getting loan."
   ]
  },
  {
   "cell_type": "code",
   "execution_count": 108,
   "id": "9941efc8",
   "metadata": {},
   "outputs": [
    {
     "data": {
      "text/plain": [
       "<seaborn.axisgrid.FacetGrid at 0x1ba62444f10>"
      ]
     },
     "execution_count": 108,
     "metadata": {},
     "output_type": "execute_result"
    },
    {
     "data": {
      "image/png": "[encoded data removed]",
      "text/plain": [
       "<Figure size 438.5x360 with 1 Axes>"
      ]
     },
     "metadata": {
      "needs_background": "light"
     },
     "output_type": "display_data"
    }
   ],
   "source": [
    "#Finding why some peoples whoes credit history is available but not getting loan \n",
    "sns.relplot(x=df[\"ApplicantIncome\"], y=df[\"Loan_Status\"], hue=df[\"Credit_History\"])"
   ]
  },
  {
   "cell_type": "code",
   "execution_count": 109,
   "id": "0bc5e3b3",
   "metadata": {},
   "outputs": [
    {
     "data": {
      "text/plain": [
       "<seaborn.axisgrid.FacetGrid at 0x1ba62425670>"
      ]
     },
     "execution_count": 109,
     "metadata": {},
     "output_type": "execute_result"
    },
    {
     "data": {
      "image/png": "[encoded data removed]",
      "text/plain": [
       "<Figure size 438.5x360 with 1 Axes>"
      ]
     },
     "metadata": {
      "needs_background": "light"
     },
     "output_type": "display_data"
    }
   ],
   "source": [
    "sns.relplot(x=df[\"Property_Area\"], y=df[\"Loan_Status\"], hue=df[\"Credit_History\"])"
   ]
  },
  {
   "cell_type": "code",
   "execution_count": 110,
   "id": "f41db778",
   "metadata": {},
   "outputs": [
    {
     "data": {
      "text/plain": [
       "<seaborn.axisgrid.FacetGrid at 0x1ba624495e0>"
      ]
     },
     "execution_count": 110,
     "metadata": {},
     "output_type": "execute_result"
    },
    {
     "data": {
      "image/png": "[encoded data removed]",
      "text/plain": [
       "<Figure size 438.5x360 with 1 Axes>"
      ]
     },
     "metadata": {
      "needs_background": "light"
     },
     "output_type": "display_data"
    }
   ],
   "source": [
    "sns.relplot(x=df[\"Self_Employed\"], y=df[\"Loan_Status\"], hue=df[\"Credit_History\"])"
   ]
  },
  {
   "cell_type": "code",
   "execution_count": 111,
   "id": "afcfdc72",
   "metadata": {},
   "outputs": [
    {
     "data": {
      "text/plain": [
       "<seaborn.axisgrid.FacetGrid at 0x1ba63dc0f10>"
      ]
     },
     "execution_count": 111,
     "metadata": {},
     "output_type": "execute_result"
    },
    {
     "data": {
      "image/png": "[encoded data removed]",
      "text/plain": [
       "<Figure size 438.5x360 with 1 Axes>"
      ]
     },
     "metadata": {
      "needs_background": "light"
     },
     "output_type": "display_data"
    }
   ],
   "source": [
    "sns.relplot(x=df[\"Education\"], y=df[\"Loan_Status\"], hue=df[\"Credit_History\"])"
   ]
  },
  {
   "cell_type": "code",
   "execution_count": 112,
   "id": "61e32839",
   "metadata": {},
   "outputs": [
    {
     "data": {
      "text/plain": [
       "<seaborn.axisgrid.FacetGrid at 0x1ba5f46ef40>"
      ]
     },
     "execution_count": 112,
     "metadata": {},
     "output_type": "execute_result"
    },
    {
     "data": {
      "image/png": "[encoded data removed]",
      "text/plain": [
       "<Figure size 438.5x360 with 1 Axes>"
      ]
     },
     "metadata": {
      "needs_background": "light"
     },
     "output_type": "display_data"
    }
   ],
   "source": [
    "sns.relplot(x=df[\"LoanAmount\"], y=df[\"Loan_Status\"], hue=df[\"Credit_History\"])"
   ]
  },
  {
   "cell_type": "code",
   "execution_count": 113,
   "id": "5aa51cdd",
   "metadata": {},
   "outputs": [
    {
     "data": {
      "text/plain": [
       "<seaborn.axisgrid.FacetGrid at 0x1ba63d88a90>"
      ]
     },
     "execution_count": 113,
     "metadata": {},
     "output_type": "execute_result"
    },
    {
     "data": {
      "image/png": "[encoded data removed]",
      "text/plain": [
       "<Figure size 428.625x360 with 1 Axes>"
      ]
     },
     "metadata": {
      "needs_background": "light"
     },
     "output_type": "display_data"
    }
   ],
   "source": [
    "sns.relplot(x=df[\"ApplicantIncome\"], y=df[\"Education\"], hue=df[\"Loan_Status\"])"
   ]
  },
  {
   "cell_type": "code",
   "execution_count": 117,
   "id": "32c1af84",
   "metadata": {},
   "outputs": [
    {
     "data": {
      "text/plain": [
       "<seaborn.axisgrid.FacetGrid at 0x1ba64053160>"
      ]
     },
     "execution_count": 117,
     "metadata": {},
     "output_type": "execute_result"
    },
    {
     "data": {
      "image/png": "[encoded data removed]",
      "text/plain": [
       "<Figure size 428.625x360 with 1 Axes>"
      ]
     },
     "metadata": {
      "needs_background": "light"
     },
     "output_type": "display_data"
    }
   ],
   "source": [
    "sns.relplot(y=df[\"ApplicantIncome\"], x=df[\"LoanAmount\"], hue=df[\"Loan_Status\"])"
   ]
  },
  {
   "cell_type": "raw",
   "id": "43a2a8ac",
   "metadata": {},
   "source": [
    "_From all above observations it is observed that most peoples are getting loan but some of peoples are not getting loan."
   ]
  },
  {
   "cell_type": "code",
   "execution_count": 118,
   "id": "0993e9cc",
   "metadata": {},
   "outputs": [
    {
     "data": {
      "image/png": "[encoded data removed]",
      "text/plain": [
       "<Figure size 432x288 with 1 Axes>"
      ]
     },
     "metadata": {
      "needs_background": "light"
     },
     "output_type": "display_data"
    },
    {
     "data": {
      "image/png": "[encoded data removed]",
      "text/plain": [
       "<Figure size 432x288 with 1 Axes>"
      ]
     },
     "metadata": {
      "needs_background": "light"
     },
     "output_type": "display_data"
    },
    {
     "data": {
      "image/png": "[encoded data removed]",
      "text/plain": [
       "<Figure size 432x288 with 1 Axes>"
      ]
     },
     "metadata": {
      "needs_background": "light"
     },
     "output_type": "display_data"
    }
   ],
   "source": [
    "cols=['ApplicantIncome','CoapplicantIncome','LoanAmount'];\n",
    "\n",
    "for i in cols:\n",
    "    sns.boxplot(df[i])\n",
    "    plt.title('With Outliers',fontsize=16)\n",
    "    plt.show()"
   ]
  },
  {
   "cell_type": "markdown",
   "id": "6a325af4",
   "metadata": {},
   "source": [
    "Note:- If we removed the outliers then huge data will lost during outlier removal. Hence i decided to not to remove outlier & go ahead for model training along with outliers."
   ]
  },
  {
   "cell_type": "code",
   "execution_count": 119,
   "id": "db9c6365",
   "metadata": {},
   "outputs": [],
   "source": [
    "from sklearn.preprocessing import LabelEncoder\n",
    "lab_enc= LabelEncoder()"
   ]
  },
  {
   "cell_type": "code",
   "execution_count": 120,
   "id": "0b788a5a",
   "metadata": {},
   "outputs": [
    {
     "data": {
      "text/html": [
       "<div>\n",
       "<style scoped>\n",
       "    .dataframe tbody tr th:only-of-type {\n",
       "        vertical-align: middle;\n",
       "    }\n",
       "\n",
       "    .dataframe tbody tr th {\n",
       "        vertical-align: top;\n",
       "    }\n",
       "\n",
       "    .dataframe thead th {\n",
       "        text-align: right;\n",
       "    }\n",
       "</style>\n",
       "<table border=\"1\" class=\"dataframe\">\n",
       "  <thead>\n",
       "    <tr style=\"text-align: right;\">\n",
       "      <th></th>\n",
       "      <th>Loan_ID</th>\n",
       "      <th>Gender</th>\n",
       "      <th>Married</th>\n",
       "      <th>Dependents</th>\n",
       "      <th>Education</th>\n",
       "      <th>Self_Employed</th>\n",
       "      <th>ApplicantIncome</th>\n",
       "      <th>CoapplicantIncome</th>\n",
       "      <th>LoanAmount</th>\n",
       "      <th>Loan_Amount_Term</th>\n",
       "      <th>Credit_History</th>\n",
       "      <th>Property_Area</th>\n",
       "      <th>Loan_Status</th>\n",
       "    </tr>\n",
       "  </thead>\n",
       "  <tbody>\n",
       "    <tr>\n",
       "      <th>1</th>\n",
       "      <td>0</td>\n",
       "      <td>1</td>\n",
       "      <td>1</td>\n",
       "      <td>1</td>\n",
       "      <td>0</td>\n",
       "      <td>0</td>\n",
       "      <td>4583</td>\n",
       "      <td>1508.0</td>\n",
       "      <td>128.0</td>\n",
       "      <td>360.0</td>\n",
       "      <td>1.0</td>\n",
       "      <td>0</td>\n",
       "      <td>0</td>\n",
       "    </tr>\n",
       "    <tr>\n",
       "      <th>2</th>\n",
       "      <td>1</td>\n",
       "      <td>1</td>\n",
       "      <td>1</td>\n",
       "      <td>0</td>\n",
       "      <td>0</td>\n",
       "      <td>1</td>\n",
       "      <td>3000</td>\n",
       "      <td>0.0</td>\n",
       "      <td>66.0</td>\n",
       "      <td>360.0</td>\n",
       "      <td>1.0</td>\n",
       "      <td>2</td>\n",
       "      <td>1</td>\n",
       "    </tr>\n",
       "    <tr>\n",
       "      <th>3</th>\n",
       "      <td>2</td>\n",
       "      <td>1</td>\n",
       "      <td>1</td>\n",
       "      <td>0</td>\n",
       "      <td>1</td>\n",
       "      <td>0</td>\n",
       "      <td>2583</td>\n",
       "      <td>2358.0</td>\n",
       "      <td>120.0</td>\n",
       "      <td>360.0</td>\n",
       "      <td>1.0</td>\n",
       "      <td>2</td>\n",
       "      <td>1</td>\n",
       "    </tr>\n",
       "    <tr>\n",
       "      <th>4</th>\n",
       "      <td>3</td>\n",
       "      <td>1</td>\n",
       "      <td>0</td>\n",
       "      <td>0</td>\n",
       "      <td>0</td>\n",
       "      <td>0</td>\n",
       "      <td>6000</td>\n",
       "      <td>0.0</td>\n",
       "      <td>141.0</td>\n",
       "      <td>360.0</td>\n",
       "      <td>1.0</td>\n",
       "      <td>2</td>\n",
       "      <td>1</td>\n",
       "    </tr>\n",
       "    <tr>\n",
       "      <th>5</th>\n",
       "      <td>4</td>\n",
       "      <td>1</td>\n",
       "      <td>1</td>\n",
       "      <td>2</td>\n",
       "      <td>0</td>\n",
       "      <td>1</td>\n",
       "      <td>5417</td>\n",
       "      <td>4196.0</td>\n",
       "      <td>267.0</td>\n",
       "      <td>360.0</td>\n",
       "      <td>1.0</td>\n",
       "      <td>2</td>\n",
       "      <td>1</td>\n",
       "    </tr>\n",
       "  </tbody>\n",
       "</table>\n",
       "</div>"
      ],
      "text/plain": [
       "   Loan_ID  Gender  Married  Dependents  Education  Self_Employed  \\\n",
       "1        0       1        1           1          0              0   \n",
       "2        1       1        1           0          0              1   \n",
       "3        2       1        1           0          1              0   \n",
       "4        3       1        0           0          0              0   \n",
       "5        4       1        1           2          0              1   \n",
       "\n",
       "   ApplicantIncome  CoapplicantIncome  LoanAmount  Loan_Amount_Term  \\\n",
       "1             4583             1508.0       128.0             360.0   \n",
       "2             3000                0.0        66.0             360.0   \n",
       "3             2583             2358.0       120.0             360.0   \n",
       "4             6000                0.0       141.0             360.0   \n",
       "5             5417             4196.0       267.0             360.0   \n",
       "\n",
       "   Credit_History  Property_Area  Loan_Status  \n",
       "1             1.0              0            0  \n",
       "2             1.0              2            1  \n",
       "3             1.0              2            1  \n",
       "4             1.0              2            1  \n",
       "5             1.0              2            1  "
      ]
     },
     "execution_count": 120,
     "metadata": {},
     "output_type": "execute_result"
    }
   ],
   "source": [
    "cols=[\"Loan_ID\",\"Gender\",\"Married\",\"Dependents\",\"Education\",\"Self_Employed\",\"Property_Area\",\"Loan_Status\"]\n",
    "\n",
    "df[cols]=df[cols].apply(LabelEncoder().fit_transform)\n",
    "\n",
    "df.head()"
   ]
  },
  {
   "cell_type": "code",
   "execution_count": 121,
   "id": "18572b10",
   "metadata": {},
   "outputs": [],
   "source": [
    "#We have successfully encoded the data"
   ]
  },
  {
   "cell_type": "code",
   "execution_count": 122,
   "id": "c783a78a",
   "metadata": {},
   "outputs": [
    {
     "data": {
      "text/plain": [
       "<AxesSubplot:>"
      ]
     },
     "execution_count": 122,
     "metadata": {},
     "output_type": "execute_result"
    },
    {
     "data": {
      "image/png": "[encoded data removed]",
      "text/plain": [
       "<Figure size 2160x2160 with 2 Axes>"
      ]
     },
     "metadata": {
      "needs_background": "light"
     },
     "output_type": "display_data"
    }
   ],
   "source": [
    "\n",
    "#Finding the correlationship between dataset using heatmap\n",
    "plt.figure(figsize=(30,30))\n",
    "sns.heatmap(df.corr(), annot=True)"
   ]
  },
  {
   "cell_type": "raw",
   "id": "14f993f3",
   "metadata": {},
   "source": [
    "-Property area & Loan status having highest colinearity :53%"
   ]
  },
  {
   "cell_type": "code",
   "execution_count": null,
   "id": "57320f5f",
   "metadata": {},
   "outputs": [],
   "source": []
  },
  {
   "cell_type": "markdown",
   "id": "f36615c2",
   "metadata": {},
   "source": [
    "# Scaling using Standard scalar"
   ]
  },
  {
   "cell_type": "code",
   "execution_count": 123,
   "id": "43b1e965",
   "metadata": {},
   "outputs": [],
   "source": [
    "x=df.drop(\"Loan_Status\", axis=1)\n",
    "y=df[\"Loan_Status\"]"
   ]
  },
  {
   "cell_type": "code",
   "execution_count": 124,
   "id": "c3c61271",
   "metadata": {},
   "outputs": [],
   "source": [
    "#Scaling of dataset\n",
    "scalar=StandardScaler()\n",
    "x_scaled=scalar.fit_transform(x)"
   ]
  },
  {
   "cell_type": "code",
   "execution_count": 125,
   "id": "d60dd232",
   "metadata": {},
   "outputs": [
    {
     "data": {
      "text/html": [
       "<div>\n",
       "<style scoped>\n",
       "    .dataframe tbody tr th:only-of-type {\n",
       "        vertical-align: middle;\n",
       "    }\n",
       "\n",
       "    .dataframe tbody tr th {\n",
       "        vertical-align: top;\n",
       "    }\n",
       "\n",
       "    .dataframe thead th {\n",
       "        text-align: right;\n",
       "    }\n",
       "</style>\n",
       "<table border=\"1\" class=\"dataframe\">\n",
       "  <thead>\n",
       "    <tr style=\"text-align: right;\">\n",
       "      <th></th>\n",
       "      <th>vif</th>\n",
       "      <th>features</th>\n",
       "    </tr>\n",
       "  </thead>\n",
       "  <tbody>\n",
       "    <tr>\n",
       "      <th>0</th>\n",
       "      <td>1.051696</td>\n",
       "      <td>Loan_ID</td>\n",
       "    </tr>\n",
       "    <tr>\n",
       "      <th>1</th>\n",
       "      <td>1.183324</td>\n",
       "      <td>Gender</td>\n",
       "    </tr>\n",
       "    <tr>\n",
       "      <th>2</th>\n",
       "      <td>1.327723</td>\n",
       "      <td>Married</td>\n",
       "    </tr>\n",
       "    <tr>\n",
       "      <th>3</th>\n",
       "      <td>1.228452</td>\n",
       "      <td>Dependents</td>\n",
       "    </tr>\n",
       "    <tr>\n",
       "      <th>4</th>\n",
       "      <td>1.067856</td>\n",
       "      <td>Education</td>\n",
       "    </tr>\n",
       "    <tr>\n",
       "      <th>5</th>\n",
       "      <td>1.037208</td>\n",
       "      <td>Self_Employed</td>\n",
       "    </tr>\n",
       "    <tr>\n",
       "      <th>6</th>\n",
       "      <td>1.455341</td>\n",
       "      <td>ApplicantIncome</td>\n",
       "    </tr>\n",
       "    <tr>\n",
       "      <th>7</th>\n",
       "      <td>1.135738</td>\n",
       "      <td>CoapplicantIncome</td>\n",
       "    </tr>\n",
       "    <tr>\n",
       "      <th>8</th>\n",
       "      <td>1.543303</td>\n",
       "      <td>LoanAmount</td>\n",
       "    </tr>\n",
       "    <tr>\n",
       "      <th>9</th>\n",
       "      <td>1.040467</td>\n",
       "      <td>Loan_Amount_Term</td>\n",
       "    </tr>\n",
       "    <tr>\n",
       "      <th>10</th>\n",
       "      <td>1.012578</td>\n",
       "      <td>Credit_History</td>\n",
       "    </tr>\n",
       "    <tr>\n",
       "      <th>11</th>\n",
       "      <td>1.066532</td>\n",
       "      <td>Property_Area</td>\n",
       "    </tr>\n",
       "  </tbody>\n",
       "</table>\n",
       "</div>"
      ],
      "text/plain": [
       "         vif           features\n",
       "0   1.051696            Loan_ID\n",
       "1   1.183324             Gender\n",
       "2   1.327723            Married\n",
       "3   1.228452         Dependents\n",
       "4   1.067856          Education\n",
       "5   1.037208      Self_Employed\n",
       "6   1.455341    ApplicantIncome\n",
       "7   1.135738  CoapplicantIncome\n",
       "8   1.543303         LoanAmount\n",
       "9   1.040467   Loan_Amount_Term\n",
       "10  1.012578     Credit_History\n",
       "11  1.066532      Property_Area"
      ]
     },
     "execution_count": 125,
     "metadata": {},
     "output_type": "execute_result"
    }
   ],
   "source": [
    "#Finding Variance inflation factor to check multicolinearity\n",
    "\n",
    "vif=pd.DataFrame()\n",
    "vif[\"vif\"]=[variance_inflation_factor(x_scaled, i) for i in range(x_scaled.shape[1])]\n",
    "vif[\"features\"]=x.columns\n",
    "\n",
    "vif\n"
   ]
  },
  {
   "cell_type": "raw",
   "id": "db23cd32",
   "metadata": {},
   "source": [
    "-VIF is less than 5 hence no multicolinearity observed between features. \n",
    "-So we can go ahead for fitting the model. before that we can split data in train test split"
   ]
  },
  {
   "cell_type": "code",
   "execution_count": 126,
   "id": "8c0e9e01",
   "metadata": {},
   "outputs": [
    {
     "data": {
      "text/plain": [
       "(480, 12)"
      ]
     },
     "execution_count": 126,
     "metadata": {},
     "output_type": "execute_result"
    }
   ],
   "source": [
    "#Finding the shape of X\n",
    "x_scaled.shape"
   ]
  },
  {
   "cell_type": "markdown",
   "id": "4f0c9424",
   "metadata": {},
   "source": [
    "# Train Test Split"
   ]
  },
  {
   "cell_type": "code",
   "execution_count": 127,
   "id": "257e93ba",
   "metadata": {},
   "outputs": [],
   "source": [
    "x_train, x_test, y_train, y_test= train_test_split(x_scaled,y, test_size=0.25, random_state=1)"
   ]
  },
  {
   "cell_type": "code",
   "execution_count": 128,
   "id": "a17ba388",
   "metadata": {},
   "outputs": [],
   "source": [
    "# Write a function & call to check accuracy score of different model\n",
    "\n",
    "def metric_score (clf, x_train, x_test, y_train, y_test, train=True):\n",
    "    if train:\n",
    "        y_pred=clf.predict(x_train)\n",
    "        \n",
    "        print(\"\\n =============Train Result===============\")\n",
    "        print(f\"Accuracy score:{accuracy_score(y_train, y_pred)*100:.2f}%\")\n",
    "        \n",
    "    elif train==False:\n",
    "        pred=clf.predict(x_test)\n",
    "        \n",
    "        print(\"\\n =============Test Result================\")\n",
    "        print(f\"Accuracy score:{accuracy_score(y_test, pred)*100:.2f}%\")\n",
    "        \n",
    "        print(\"\\n \\n classification report \\n\", classification_report(y_test, pred, digits=2))\n",
    "        "
   ]
  },
  {
   "cell_type": "markdown",
   "id": "660b0881",
   "metadata": {},
   "source": [
    "# Model Initialisatiion using Decision Tree classifier"
   ]
  },
  {
   "cell_type": "code",
   "execution_count": 129,
   "id": "ed19b48c",
   "metadata": {},
   "outputs": [
    {
     "data": {
      "text/plain": [
       "DecisionTreeClassifier()"
      ]
     },
     "execution_count": 129,
     "metadata": {},
     "output_type": "execute_result"
    }
   ],
   "source": [
    "#Model initialization\n",
    "# Trying for Decision tree Classifier\n",
    "\n",
    "clf=DecisionTreeClassifier()\n",
    "clf.fit(x_train, y_train)"
   ]
  },
  {
   "cell_type": "code",
   "execution_count": 130,
   "id": "abadacb9",
   "metadata": {},
   "outputs": [
    {
     "name": "stdout",
     "output_type": "stream",
     "text": [
      "\n",
      " =============Train Result===============\n",
      "Accuracy score:100.00%\n",
      "\n",
      " =============Test Result================\n",
      "Accuracy score:63.33%\n",
      "\n",
      " \n",
      " classification report \n",
      "               precision    recall  f1-score   support\n",
      "\n",
      "           0       0.49      0.44      0.46        43\n",
      "           1       0.70      0.74      0.72        77\n",
      "\n",
      "    accuracy                           0.63       120\n",
      "   macro avg       0.60      0.59      0.59       120\n",
      "weighted avg       0.63      0.63      0.63       120\n",
      "\n"
     ]
    }
   ],
   "source": [
    "# Call the function & pass the data set into it.\n",
    "\n",
    "metric_score(clf, x_train, x_test, y_train, y_test, train=True)  # This is for trainig score\n",
    "metric_score(clf, x_train, x_test, y_train, y_test, train=False)  #This is for testing score"
   ]
  },
  {
   "cell_type": "raw",
   "id": "208626b4",
   "metadata": {},
   "source": [
    "-Got training accuracy score-100%, testing accuracy score:-63%, accuracy score:63%, precision score:60%, recall:59%, f1 score:59%.\n",
    "-Testing score 100% beacuse decision treee sometimes overf. It is ruled based algorithm.\n",
    "-We got very good testing score but we are going to tune the parameters to increase the accuracy score.\n",
    "                    "
   ]
  },
  {
   "cell_type": "code",
   "execution_count": 131,
   "id": "c3f1139f",
   "metadata": {},
   "outputs": [],
   "source": [
    "#Tunning four important parameters & passing different values for both parameters\n",
    "grid_param={\n",
    "    \"criterion\":[\"gini\",\"entropy\"],\n",
    "    \"max_depth\":range(10,15),\n",
    "    \"min_samples_leaf\":range(2,6),\n",
    "    \"min_samples_split\":range(3,8),\n",
    "    \"max_leaf_nodes\":range(5,10)\n",
    "}"
   ]
  },
  {
   "cell_type": "code",
   "execution_count": 132,
   "id": "25f46c61",
   "metadata": {},
   "outputs": [],
   "source": [
    "grid_search=GridSearchCV(estimator=clf,\n",
    "                        param_grid=grid_param,\n",
    "                        cv=5,\n",
    "                        n_jobs=-1)"
   ]
  },
  {
   "cell_type": "code",
   "execution_count": 133,
   "id": "73226b54",
   "metadata": {},
   "outputs": [
    {
     "data": {
      "text/plain": [
       "GridSearchCV(cv=5, estimator=DecisionTreeClassifier(), n_jobs=-1,\n",
       "             param_grid={'criterion': ['gini', 'entropy'],\n",
       "                         'max_depth': range(10, 15),\n",
       "                         'max_leaf_nodes': range(5, 10),\n",
       "                         'min_samples_leaf': range(2, 6),\n",
       "                         'min_samples_split': range(3, 8)})"
      ]
     },
     "execution_count": 133,
     "metadata": {},
     "output_type": "execute_result"
    }
   ],
   "source": [
    "grid_search.fit(x_train, y_train)\n"
   ]
  },
  {
   "cell_type": "code",
   "execution_count": 134,
   "id": "ed7c08ae",
   "metadata": {},
   "outputs": [
    {
     "name": "stdout",
     "output_type": "stream",
     "text": [
      "{'criterion': 'gini', 'max_depth': 10, 'max_leaf_nodes': 7, 'min_samples_leaf': 5, 'min_samples_split': 4}\n"
     ]
    }
   ],
   "source": [
    "#Finding the best parameters\n",
    "best_parameters=grid_search.best_params_\n",
    "\n",
    "print(best_parameters)\n"
   ]
  },
  {
   "cell_type": "code",
   "execution_count": 136,
   "id": "1191c417",
   "metadata": {},
   "outputs": [
    {
     "data": {
      "text/plain": [
       "DecisionTreeClassifier(max_depth=10, max_leaf_nodes=7, min_samples_leaf=5,\n",
       "                       min_samples_split=4)"
      ]
     },
     "execution_count": 136,
     "metadata": {},
     "output_type": "execute_result"
    }
   ],
   "source": [
    "#Initiating new parameters in decision tree classifier & train\n",
    "\n",
    "clf=DecisionTreeClassifier(criterion= \"gini\", max_depth= 10,min_samples_split=4, max_leaf_nodes= 7, min_samples_leaf=5 )\n",
    "\n",
    "#training of model\n",
    "\n",
    "clf.fit(x_train, y_train)"
   ]
  },
  {
   "cell_type": "code",
   "execution_count": 137,
   "id": "3389b408",
   "metadata": {},
   "outputs": [
    {
     "name": "stdout",
     "output_type": "stream",
     "text": [
      "\n",
      " =============Train Result===============\n",
      "Accuracy score:86.11%\n",
      "\n",
      " =============Test Result================\n",
      "Accuracy score:69.17%\n",
      "\n",
      " \n",
      " classification report \n",
      "               precision    recall  f1-score   support\n",
      "\n",
      "           0       0.62      0.37      0.46        43\n",
      "           1       0.71      0.87      0.78        77\n",
      "\n",
      "    accuracy                           0.69       120\n",
      "   macro avg       0.66      0.62      0.62       120\n",
      "weighted avg       0.68      0.69      0.67       120\n",
      "\n"
     ]
    }
   ],
   "source": [
    "#Now call the function & pass the data set & train the model\n",
    "\n",
    "metric_score(clf, x_train, x_test, y_train, y_test, train=True)  # This is for trainig score\n",
    "metric_score(clf, x_train, x_test, y_train, y_test, train=False)  #This is for testing score\n"
   ]
  },
  {
   "cell_type": "raw",
   "id": "05921736",
   "metadata": {},
   "source": [
    "-We have successfully increased the testing accuracy score upto 69%, Precision: 66%, recall: 62%, f1 score: 62%"
   ]
  },
  {
   "cell_type": "code",
   "execution_count": 138,
   "id": "42cc36ee",
   "metadata": {},
   "outputs": [
    {
     "data": {
      "text/plain": [
       "array([1, 1, 1, 1, 1, 1, 1, 1, 1, 0, 1, 1, 1, 1, 1, 1, 1, 1, 1, 1, 0, 1,\n",
       "       0, 0, 1, 1, 1, 0, 0, 1, 1, 1, 1, 1, 1, 1, 1, 1, 1, 1, 1, 1, 1, 1,\n",
       "       1, 1, 0, 0, 0, 0, 1, 1, 1, 1, 1, 0, 1, 1, 1, 1, 1, 1, 1, 1, 1, 1,\n",
       "       0, 1, 1, 1, 0, 1, 1, 1, 1, 1, 1, 1, 1, 1, 1, 1, 0, 1, 1, 0, 1, 0,\n",
       "       1, 1, 1, 1, 1, 1, 0, 0, 1, 1, 0, 1, 0, 1, 1, 0, 1, 0, 1, 1, 1, 1,\n",
       "       1, 0, 0, 0, 1, 0, 1, 1, 1, 1])"
      ]
     },
     "execution_count": 138,
     "metadata": {},
     "output_type": "execute_result"
    }
   ],
   "source": [
    "#Predicting y_pred\n",
    "\n",
    "y_pred=clf.predict(x_test)\n",
    "y_pred"
   ]
  },
  {
   "cell_type": "code",
   "execution_count": 139,
   "id": "bc6f5a57",
   "metadata": {},
   "outputs": [
    {
     "data": {
      "text/plain": [
       "array([[16, 27],\n",
       "       [10, 67]], dtype=int64)"
      ]
     },
     "execution_count": 139,
     "metadata": {},
     "output_type": "execute_result"
    }
   ],
   "source": [
    "#Plotting confusion matrix.\n",
    "\n",
    "conf_matrix=confusion_matrix(y_test, y_pred)\n",
    "conf_matrix"
   ]
  },
  {
   "cell_type": "code",
   "execution_count": 140,
   "id": "708f7c4e",
   "metadata": {},
   "outputs": [],
   "source": [
    "#Finding  False positive rate, True positive rate, threshold, AUC, ROC curve.\n",
    "\n",
    "fpr, tpr, thresholds=roc_curve(y_test, y_pred)"
   ]
  },
  {
   "cell_type": "code",
   "execution_count": 141,
   "id": "7c57bc67",
   "metadata": {},
   "outputs": [
    {
     "name": "stdout",
     "output_type": "stream",
     "text": [
      "False Positive rate [0.         0.62790698 1.        ]\n",
      "True Positive Rate [0.         0.87012987 1.        ]\n",
      "Threshold [2 1 0]\n"
     ]
    }
   ],
   "source": [
    "print(\"False Positive rate\", fpr)\n",
    "print(\"True Positive Rate\", tpr)\n",
    "print(\"Threshold\", thresholds)"
   ]
  },
  {
   "cell_type": "code",
   "execution_count": 142,
   "id": "5ee3833e",
   "metadata": {},
   "outputs": [
    {
     "data": {
      "image/png": "[encoded data removed]",
      "text/plain": [
       "<Figure size 432x288 with 1 Axes>"
      ]
     },
     "metadata": {
      "needs_background": "light"
     },
     "output_type": "display_data"
    }
   ],
   "source": [
    "#Plotting ROC curve\n",
    "\n",
    "plt.plot(fpr, tpr, color=\"orange\", label=\"ROC\")\n",
    "plt.plot([0,1],[0,1], color=\"Darkblue\", linestyle=\"--\")\n",
    "plt.xlabel(\"False posiitive rate\")\n",
    "plt.ylabel(\"True positive rate\")\n",
    "plt.title(\"Receiver operating charactoristics ROC curve\")\n",
    "plt.legend()\n",
    "plt.show()"
   ]
  },
  {
   "cell_type": "code",
   "execution_count": 143,
   "id": "92d032a9",
   "metadata": {},
   "outputs": [
    {
     "name": "stdout",
     "output_type": "stream",
     "text": [
      "0.621111446692842\n"
     ]
    }
   ],
   "source": [
    "#Finding AUC score\n",
    "auc_score=roc_auc_score(y_test, y_pred)\n",
    "print(auc_score)"
   ]
  },
  {
   "cell_type": "code",
   "execution_count": null,
   "id": "c8c4a8f5",
   "metadata": {},
   "outputs": [],
   "source": []
  },
  {
   "cell_type": "code",
   "execution_count": null,
   "id": "d0635dd4",
   "metadata": {},
   "outputs": [],
   "source": []
  },
  {
   "cell_type": "markdown",
   "id": "314a78bc",
   "metadata": {},
   "source": [
    "# Using Knn Classifier"
   ]
  },
  {
   "cell_type": "code",
   "execution_count": 144,
   "id": "977403ce",
   "metadata": {},
   "outputs": [],
   "source": [
    "\n",
    "from sklearn.model_selection import KFold, cross_val_score"
   ]
  },
  {
   "cell_type": "code",
   "execution_count": 145,
   "id": "eb7b29d0",
   "metadata": {},
   "outputs": [],
   "source": [
    "#Building model to test unexposed data\n",
    "\n",
    "x_train, x_test, y_train, y_test=train_test_split(x_scaled, y, test_size=0.25, random_state=1)"
   ]
  },
  {
   "cell_type": "code",
   "execution_count": 146,
   "id": "78b78c9c",
   "metadata": {},
   "outputs": [
    {
     "data": {
      "text/plain": [
       "KNeighborsClassifier()"
      ]
     },
     "execution_count": 146,
     "metadata": {},
     "output_type": "execute_result"
    }
   ],
   "source": [
    "knn=KNeighborsClassifier()\n",
    "\n",
    "knn.fit(x_train, y_train)"
   ]
  },
  {
   "cell_type": "code",
   "execution_count": 147,
   "id": "3602845f",
   "metadata": {},
   "outputs": [
    {
     "name": "stdout",
     "output_type": "stream",
     "text": [
      "\n",
      " =============Train Result===============\n",
      "Accuracy score:86.11%\n",
      "\n",
      " =============Test Result================\n",
      "Accuracy score:75.83%\n",
      "\n",
      " \n",
      " classification report \n",
      "               precision    recall  f1-score   support\n",
      "\n",
      "           0       0.85      0.40      0.54        43\n",
      "           1       0.74      0.96      0.84        77\n",
      "\n",
      "    accuracy                           0.76       120\n",
      "   macro avg       0.79      0.68      0.69       120\n",
      "weighted avg       0.78      0.76      0.73       120\n",
      "\n"
     ]
    }
   ],
   "source": [
    "metric_score(knn, x_train, x_test, y_train, y_test, train=True)\n",
    "\n",
    "metric_score(knn, x_train, x_test, y_train, y_test, train=False)"
   ]
  },
  {
   "cell_type": "code",
   "execution_count": 188,
   "id": "15029290",
   "metadata": {},
   "outputs": [],
   "source": [
    "#Got accuracy :76%, Precision:79%,recall: 68%, F1 score: 69%"
   ]
  },
  {
   "cell_type": "code",
   "execution_count": 189,
   "id": "b8ddbe30",
   "metadata": {},
   "outputs": [
    {
     "data": {
      "text/plain": [
       "array([0.79166667, 0.73958333, 0.77083333, 0.83333333, 0.80208333])"
      ]
     },
     "execution_count": 189,
     "metadata": {},
     "output_type": "execute_result"
    }
   ],
   "source": [
    "#Cross Validation\n",
    "\n",
    "cross_val_score(knn, x_scaled, y, cv=5)\n"
   ]
  },
  {
   "cell_type": "code",
   "execution_count": 190,
   "id": "1cb0ecf1",
   "metadata": {},
   "outputs": [
    {
     "data": {
      "text/plain": [
       "0.7875000000000001"
      ]
     },
     "execution_count": 190,
     "metadata": {},
     "output_type": "execute_result"
    }
   ],
   "source": [
    "#Finding mean CV score\n",
    "cross_val_score(KNeighborsClassifier(), x_scaled, y, cv=5).mean()"
   ]
  },
  {
   "cell_type": "code",
   "execution_count": 150,
   "id": "21b9f756",
   "metadata": {},
   "outputs": [],
   "source": [
    "from sklearn.model_selection import GridSearchCV"
   ]
  },
  {
   "cell_type": "code",
   "execution_count": 151,
   "id": "e429ee00",
   "metadata": {},
   "outputs": [],
   "source": [
    "param_grid={\"algorithm\":[\"kd_tree\",\"brute\"],\n",
    "           \"leaf_size\":[3,5,6,7,8],\n",
    "           \"n_neighbors\": [3,5,7,9,11,13]}"
   ]
  },
  {
   "cell_type": "code",
   "execution_count": 152,
   "id": "a7be45f4",
   "metadata": {},
   "outputs": [],
   "source": [
    "gridsearch= GridSearchCV(estimator=knn, param_grid=param_grid)"
   ]
  },
  {
   "cell_type": "code",
   "execution_count": 153,
   "id": "fdef0881",
   "metadata": {},
   "outputs": [
    {
     "data": {
      "text/plain": [
       "GridSearchCV(estimator=KNeighborsClassifier(),\n",
       "             param_grid={'algorithm': ['kd_tree', 'brute'],\n",
       "                         'leaf_size': [3, 5, 6, 7, 8],\n",
       "                         'n_neighbors': [3, 5, 7, 9, 11, 13]})"
      ]
     },
     "execution_count": 153,
     "metadata": {},
     "output_type": "execute_result"
    }
   ],
   "source": [
    "gridsearch.fit(x_train, y_train)"
   ]
  },
  {
   "cell_type": "code",
   "execution_count": 154,
   "id": "8c5e9a8f",
   "metadata": {},
   "outputs": [
    {
     "data": {
      "text/plain": [
       "{'algorithm': 'kd_tree', 'leaf_size': 3, 'n_neighbors': 13}"
      ]
     },
     "execution_count": 154,
     "metadata": {},
     "output_type": "execute_result"
    }
   ],
   "source": [
    "#Finding the best parameters\n",
    "\n",
    "gridsearch.best_params_"
   ]
  },
  {
   "cell_type": "code",
   "execution_count": 161,
   "id": "1be01749",
   "metadata": {},
   "outputs": [
    {
     "data": {
      "text/plain": [
       "KNeighborsClassifier(algorithm='kd_tree', leaf_size=3)"
      ]
     },
     "execution_count": 161,
     "metadata": {},
     "output_type": "execute_result"
    }
   ],
   "source": [
    "#We will use best parameters in our knn & check accuracy is increasing\n",
    "knn=KNeighborsClassifier(algorithm=\"kd_tree\",leaf_size=3, n_neighbors=5)\n",
    "knn.fit(x_train, y_train)"
   ]
  },
  {
   "cell_type": "code",
   "execution_count": 162,
   "id": "30d21b29",
   "metadata": {},
   "outputs": [
    {
     "name": "stdout",
     "output_type": "stream",
     "text": [
      "\n",
      " =============Train Result===============\n",
      "Accuracy score:86.11%\n",
      "\n",
      " =============Test Result================\n",
      "Accuracy score:75.83%\n",
      "\n",
      " \n",
      " classification report \n",
      "               precision    recall  f1-score   support\n",
      "\n",
      "           0       0.85      0.40      0.54        43\n",
      "           1       0.74      0.96      0.84        77\n",
      "\n",
      "    accuracy                           0.76       120\n",
      "   macro avg       0.79      0.68      0.69       120\n",
      "weighted avg       0.78      0.76      0.73       120\n",
      "\n"
     ]
    }
   ],
   "source": [
    "# Call the function & pass the dataset to check train test score\n",
    "metric_score(knn, x_train, x_test, y_train, y_test, train=True)\n",
    "\n",
    "metric_score(knn, x_train, x_test, y_train, y_test, train=False)"
   ]
  },
  {
   "cell_type": "raw",
   "id": "da9ab2ce",
   "metadata": {},
   "source": [
    "-From above CV it is observed that CV score & accuracy score is exactely equal : 75%. Which is very good for model fitting."
   ]
  },
  {
   "cell_type": "code",
   "execution_count": 163,
   "id": "59dc13cd",
   "metadata": {},
   "outputs": [],
   "source": [
    "#Lets plot confusion matrix\n",
    "y_pred=knn.predict(x_test)\n"
   ]
  },
  {
   "cell_type": "code",
   "execution_count": 164,
   "id": "16820a43",
   "metadata": {},
   "outputs": [
    {
     "data": {
      "text/plain": [
       "array([[17, 26],\n",
       "       [ 3, 74]], dtype=int64)"
      ]
     },
     "execution_count": 164,
     "metadata": {},
     "output_type": "execute_result"
    }
   ],
   "source": [
    "conf=confusion_matrix(y_test,y_pred)\n",
    "conf"
   ]
  },
  {
   "cell_type": "code",
   "execution_count": 165,
   "id": "6e8afbb4",
   "metadata": {},
   "outputs": [],
   "source": [
    "fpr, tpr, thresholds=roc_curve(y_test, y_pred)"
   ]
  },
  {
   "cell_type": "code",
   "execution_count": 166,
   "id": "b9e35405",
   "metadata": {},
   "outputs": [
    {
     "name": "stdout",
     "output_type": "stream",
     "text": [
      "False Positive rate [0.         0.60465116 1.        ]\n",
      "True Positive Rate [0.         0.96103896 1.        ]\n",
      "Threshold [2 1 0]\n"
     ]
    }
   ],
   "source": [
    "print(\"False Positive rate\", fpr)\n",
    "print(\"True Positive Rate\", tpr)\n",
    "print(\"Threshold\", thresholds)"
   ]
  },
  {
   "cell_type": "code",
   "execution_count": 167,
   "id": "b78385f6",
   "metadata": {},
   "outputs": [
    {
     "data": {
      "image/png": "[encoded data removed]",
      "text/plain": [
       "<Figure size 432x288 with 1 Axes>"
      ]
     },
     "metadata": {
      "needs_background": "light"
     },
     "output_type": "display_data"
    }
   ],
   "source": [
    "plt.plot(fpr, tpr, color=\"orange\", label=\"ROC\")\n",
    "plt.plot([0,1],[0,1], color=\"Darkblue\", linestyle=\"--\")\n",
    "plt.xlabel(\"False posiitive rate\")\n",
    "plt.ylabel(\"True positive rate\")\n",
    "plt.title(\"Receiver operating charactoristics ROC curve\")\n",
    "plt.legend()\n",
    "plt.show()"
   ]
  },
  {
   "cell_type": "code",
   "execution_count": 168,
   "id": "7669a271",
   "metadata": {},
   "outputs": [
    {
     "name": "stdout",
     "output_type": "stream",
     "text": [
      "0.6781938991241316\n"
     ]
    }
   ],
   "source": [
    "auc_score=roc_auc_score(y_test, y_pred)\n",
    "print(auc_score)"
   ]
  },
  {
   "cell_type": "raw",
   "id": "77b4f455",
   "metadata": {},
   "source": [
    "-AUC Score Knn model: 67%"
   ]
  },
  {
   "cell_type": "code",
   "execution_count": null,
   "id": "32c42340",
   "metadata": {},
   "outputs": [],
   "source": []
  },
  {
   "cell_type": "markdown",
   "id": "3004298b",
   "metadata": {},
   "source": [
    "# Random Forest"
   ]
  },
  {
   "cell_type": "code",
   "execution_count": 169,
   "id": "60967110",
   "metadata": {},
   "outputs": [
    {
     "data": {
      "text/plain": [
       "RandomForestClassifier()"
      ]
     },
     "execution_count": 169,
     "metadata": {},
     "output_type": "execute_result"
    }
   ],
   "source": [
    "random_clf= RandomForestClassifier()\n",
    "\n",
    "random_clf.fit(x_train, y_train)\n"
   ]
  },
  {
   "cell_type": "code",
   "execution_count": 170,
   "id": "9bf41188",
   "metadata": {},
   "outputs": [
    {
     "name": "stdout",
     "output_type": "stream",
     "text": [
      "\n",
      " =============Train Result===============\n",
      "Accuracy score:100.00%\n",
      "\n",
      " =============Test Result================\n",
      "Accuracy score:68.33%\n",
      "\n",
      " \n",
      " classification report \n",
      "               precision    recall  f1-score   support\n",
      "\n",
      "           0       0.60      0.35      0.44        43\n",
      "           1       0.71      0.87      0.78        77\n",
      "\n",
      "    accuracy                           0.68       120\n",
      "   macro avg       0.65      0.61      0.61       120\n",
      "weighted avg       0.67      0.68      0.66       120\n",
      "\n"
     ]
    }
   ],
   "source": [
    "metric_score(random_clf, x_train, x_test, y_train, y_test, train=True)\n",
    "\n",
    "metric_score(random_clf, x_train, x_test, y_train, y_test, train=False)\n"
   ]
  },
  {
   "cell_type": "raw",
   "id": "c95c71ba",
   "metadata": {},
   "source": [
    "-We have successfully increased the testing accuracy score upto 68%, Precision: 65%, recall: 61%, f1 score: 61%"
   ]
  },
  {
   "cell_type": "markdown",
   "id": "d5a0b032",
   "metadata": {},
   "source": [
    "# Parameter Tunning"
   ]
  },
  {
   "cell_type": "code",
   "execution_count": 171,
   "id": "b2b9b6ff",
   "metadata": {},
   "outputs": [
    {
     "name": "stdout",
     "output_type": "stream",
     "text": [
      "best_params=> {'criterion': 'entropy', 'max_depth': 10, 'min_samples_leaf': 6, 'min_samples_split': 11, 'n_estimators': 13}\n"
     ]
    }
   ],
   "source": [
    "param={\"n_estimators\":[13,15],\n",
    "       \"criterion\":[\"entropy\",\"gini\"],\n",
    "       \"max_depth\":[10,15],\n",
    "       \"min_samples_split\":[10,11],\n",
    "       \"min_samples_leaf\":[5,6]\n",
    "       \n",
    "      }\n",
    "\n",
    "grd=GridSearchCV(random_clf, param_grid= param)\n",
    "\n",
    "grd.fit(x_train,y_train)\n",
    "\n",
    "print(\"best_params=>\", grd.best_params_)"
   ]
  },
  {
   "cell_type": "code",
   "execution_count": 172,
   "id": "01943bac",
   "metadata": {},
   "outputs": [
    {
     "data": {
      "text/plain": [
       "RandomForestClassifier(criterion='entropy', max_depth=10, min_samples_leaf=6,\n",
       "                       min_samples_split=11, n_estimators=13)"
      ]
     },
     "execution_count": 172,
     "metadata": {},
     "output_type": "execute_result"
    }
   ],
   "source": [
    "random_clf=RandomForestClassifier(criterion= 'entropy', max_depth=10, min_samples_leaf=6, min_samples_split=11, n_estimators= 13)\n",
    "\n",
    "\n",
    "random_clf.fit(x_train, y_train)\n"
   ]
  },
  {
   "cell_type": "code",
   "execution_count": 173,
   "id": "76becfac",
   "metadata": {},
   "outputs": [
    {
     "name": "stdout",
     "output_type": "stream",
     "text": [
      "\n",
      " =============Train Result===============\n",
      "Accuracy score:85.00%\n",
      "\n",
      " =============Test Result================\n",
      "Accuracy score:72.50%\n",
      "\n",
      " \n",
      " classification report \n",
      "               precision    recall  f1-score   support\n",
      "\n",
      "           0       0.75      0.35      0.48        43\n",
      "           1       0.72      0.94      0.81        77\n",
      "\n",
      "    accuracy                           0.73       120\n",
      "   macro avg       0.73      0.64      0.64       120\n",
      "weighted avg       0.73      0.72      0.69       120\n",
      "\n"
     ]
    }
   ],
   "source": [
    "metric_score(random_clf, x_train, x_test, y_train, y_test, train=True)\n",
    "\n",
    "metric_score(random_clf, x_train, x_test, y_train, y_test, train=False)"
   ]
  },
  {
   "cell_type": "raw",
   "id": "cb00f68c",
   "metadata": {},
   "source": [
    "-After Parameter tunning accuracy increased upto 72%, Precision: 73%, recall:- 64%, f1 score: 64%"
   ]
  },
  {
   "cell_type": "code",
   "execution_count": 174,
   "id": "4e165238",
   "metadata": {},
   "outputs": [],
   "source": [
    "#Lets plot confusion matrix\n",
    "y_pred=random_clf.predict(x_test)"
   ]
  },
  {
   "cell_type": "code",
   "execution_count": 175,
   "id": "545845f6",
   "metadata": {},
   "outputs": [
    {
     "data": {
      "text/plain": [
       "array([[15, 28],\n",
       "       [ 5, 72]], dtype=int64)"
      ]
     },
     "execution_count": 175,
     "metadata": {},
     "output_type": "execute_result"
    }
   ],
   "source": [
    "conf=confusion_matrix(y_test,y_pred)\n",
    "conf"
   ]
  },
  {
   "cell_type": "code",
   "execution_count": 196,
   "id": "cc5e495e",
   "metadata": {},
   "outputs": [],
   "source": [
    "fpr, tpr, thresholds=roc_curve(y_test, y_pred)"
   ]
  },
  {
   "cell_type": "code",
   "execution_count": 197,
   "id": "dfe58a88",
   "metadata": {},
   "outputs": [
    {
     "name": "stdout",
     "output_type": "stream",
     "text": [
      "False Positive rate [0.         0.65116279 1.        ]\n",
      "True Positive Rate [0.         0.96103896 1.        ]\n",
      "Threshold [2 1 0]\n"
     ]
    }
   ],
   "source": [
    "print(\"False Positive rate\", fpr)\n",
    "print(\"True Positive Rate\", tpr)\n",
    "print(\"Threshold\", thresholds)"
   ]
  },
  {
   "cell_type": "code",
   "execution_count": 198,
   "id": "957294ec",
   "metadata": {},
   "outputs": [
    {
     "data": {
      "image/png": "[encoded data removed]",
      "text/plain": [
       "<Figure size 432x288 with 1 Axes>"
      ]
     },
     "metadata": {
      "needs_background": "light"
     },
     "output_type": "display_data"
    }
   ],
   "source": [
    "plt.plot(fpr, tpr, color=\"orange\", label=\"ROC\")\n",
    "plt.plot([0,1],[0,1], color=\"Darkblue\", linestyle=\"--\")\n",
    "plt.xlabel(\"False posiitive rate\")\n",
    "plt.ylabel(\"True positive rate\")\n",
    "plt.title(\"Receiver operating charactoristics ROC curve\")\n",
    "plt.legend()\n",
    "plt.show()"
   ]
  },
  {
   "cell_type": "code",
   "execution_count": 199,
   "id": "ee8402f1",
   "metadata": {},
   "outputs": [
    {
     "name": "stdout",
     "output_type": "stream",
     "text": [
      "0.6549380851706432\n"
     ]
    }
   ],
   "source": [
    "auc_score=roc_auc_score(y_test, y_pred)\n",
    "print(auc_score)"
   ]
  },
  {
   "cell_type": "raw",
   "id": "76e7f414",
   "metadata": {},
   "source": [
    "-AUC Score random forest:- 65%"
   ]
  },
  {
   "cell_type": "code",
   "execution_count": null,
   "id": "69aba3ba",
   "metadata": {},
   "outputs": [],
   "source": []
  },
  {
   "cell_type": "markdown",
   "id": "021bdcc4",
   "metadata": {},
   "source": [
    "# Logistic Regression"
   ]
  },
  {
   "cell_type": "code",
   "execution_count": 176,
   "id": "c669257b",
   "metadata": {},
   "outputs": [
    {
     "data": {
      "text/plain": [
       "LogisticRegression()"
      ]
     },
     "execution_count": 176,
     "metadata": {},
     "output_type": "execute_result"
    }
   ],
   "source": [
    "#Model Training\n",
    "\n",
    "log_reg= LogisticRegression()\n",
    "log_reg.fit(x_train, y_train)"
   ]
  },
  {
   "cell_type": "code",
   "execution_count": 177,
   "id": "7a13c7c8",
   "metadata": {},
   "outputs": [
    {
     "data": {
      "text/plain": [
       "array([1, 1, 1, 1, 1, 1, 1, 1, 1, 1, 1, 1, 1, 1, 1, 1, 1, 1, 1, 1, 0, 1,\n",
       "       0, 0, 1, 1, 1, 0, 1, 1, 1, 0, 1, 1, 1, 1, 1, 1, 1, 1, 1, 1, 1, 1,\n",
       "       1, 1, 0, 1, 1, 1, 1, 1, 1, 1, 1, 0, 1, 1, 1, 1, 1, 1, 1, 1, 1, 1,\n",
       "       1, 1, 1, 1, 0, 1, 1, 1, 1, 1, 1, 1, 1, 1, 1, 1, 0, 1, 1, 0, 1, 1,\n",
       "       1, 1, 1, 1, 1, 1, 1, 0, 1, 1, 1, 1, 0, 1, 1, 0, 1, 0, 1, 1, 1, 1,\n",
       "       1, 0, 0, 0, 1, 0, 1, 1, 1, 1])"
      ]
     },
     "execution_count": 177,
     "metadata": {},
     "output_type": "execute_result"
    }
   ],
   "source": [
    "y_pred=log_reg.predict(x_test)\n",
    "y_pred"
   ]
  },
  {
   "cell_type": "code",
   "execution_count": 178,
   "id": "85a4867a",
   "metadata": {},
   "outputs": [
    {
     "data": {
      "text/plain": [
       "0.7416666666666667"
      ]
     },
     "execution_count": 178,
     "metadata": {},
     "output_type": "execute_result"
    }
   ],
   "source": [
    "#Finding the accuracy score\n",
    "\n",
    "accuracy=accuracy_score(y_test, y_pred)\n",
    "accuracy"
   ]
  },
  {
   "cell_type": "code",
   "execution_count": 179,
   "id": "8cc9d476",
   "metadata": {},
   "outputs": [
    {
     "data": {
      "text/plain": [
       "array([[15, 28],\n",
       "       [ 3, 74]], dtype=int64)"
      ]
     },
     "execution_count": 179,
     "metadata": {},
     "output_type": "execute_result"
    }
   ],
   "source": [
    "conf_matrix=confusion_matrix(y_test, y_pred)\n",
    "conf_matrix"
   ]
  },
  {
   "cell_type": "code",
   "execution_count": 180,
   "id": "d5558aaa",
   "metadata": {},
   "outputs": [
    {
     "name": "stdout",
     "output_type": "stream",
     "text": [
      "\n",
      " =============Train Result===============\n",
      "Accuracy score:82.78%\n",
      "\n",
      " =============Test Result================\n",
      "Accuracy score:74.17%\n",
      "\n",
      " \n",
      " classification report \n",
      "               precision    recall  f1-score   support\n",
      "\n",
      "           0       0.83      0.35      0.49        43\n",
      "           1       0.73      0.96      0.83        77\n",
      "\n",
      "    accuracy                           0.74       120\n",
      "   macro avg       0.78      0.65      0.66       120\n",
      "weighted avg       0.76      0.74      0.71       120\n",
      "\n"
     ]
    }
   ],
   "source": [
    "metric_score(log_reg, x_train, x_test, y_train, y_test, train=True)\n",
    "\n",
    "metric_score(log_reg, x_train, x_test, y_train, y_test, train=False)"
   ]
  },
  {
   "cell_type": "code",
   "execution_count": null,
   "id": "e8d8f453",
   "metadata": {},
   "outputs": [],
   "source": []
  },
  {
   "cell_type": "code",
   "execution_count": 181,
   "id": "80c43810",
   "metadata": {},
   "outputs": [],
   "source": [
    "fpr, tpr, thresholds=roc_curve(y_test, y_pred)"
   ]
  },
  {
   "cell_type": "code",
   "execution_count": 182,
   "id": "2f6918bb",
   "metadata": {},
   "outputs": [
    {
     "name": "stdout",
     "output_type": "stream",
     "text": [
      "False Positive rate [0.         0.65116279 1.        ]\n",
      "True Positive Rate [0.         0.96103896 1.        ]\n",
      "Threshold [2 1 0]\n"
     ]
    }
   ],
   "source": [
    "print(\"False Positive rate\", fpr)\n",
    "print(\"True Positive Rate\", tpr)\n",
    "print(\"Threshold\", thresholds)"
   ]
  },
  {
   "cell_type": "code",
   "execution_count": 183,
   "id": "91e1779b",
   "metadata": {},
   "outputs": [
    {
     "data": {
      "image/png": "[encoded data removed]",
      "text/plain": [
       "<Figure size 432x288 with 1 Axes>"
      ]
     },
     "metadata": {
      "needs_background": "light"
     },
     "output_type": "display_data"
    }
   ],
   "source": [
    "plt.plot(fpr, tpr, color=\"orange\", label=\"ROC\")\n",
    "plt.plot([0,1],[0,1], color=\"Darkblue\", linestyle=\"--\")\n",
    "plt.xlabel(\"False posiitive rate\")\n",
    "plt.ylabel(\"True positive rate\")\n",
    "plt.title(\"Receiver operating charactoristics ROC curve\")\n",
    "plt.legend()\n",
    "plt.show()\n"
   ]
  },
  {
   "cell_type": "code",
   "execution_count": 184,
   "id": "28d9c4bf",
   "metadata": {},
   "outputs": [
    {
     "name": "stdout",
     "output_type": "stream",
     "text": [
      "0.6549380851706432\n"
     ]
    }
   ],
   "source": [
    "auc_score=roc_auc_score(y_test, y_pred)\n",
    "print(auc_score)"
   ]
  },
  {
   "cell_type": "raw",
   "id": "37c6d3dd",
   "metadata": {},
   "source": [
    "# Logistic Regression AUC score: 65%"
   ]
  },
  {
   "cell_type": "code",
   "execution_count": 185,
   "id": "a13bb7fc",
   "metadata": {},
   "outputs": [],
   "source": [
    "#Saving the model in local file system \n",
    "import pickle\n",
    "\n",
    "pickle.dump(random_clf, open(\"rn\", \"wb\"))"
   ]
  },
  {
   "cell_type": "code",
   "execution_count": 186,
   "id": "b11e3b6f",
   "metadata": {},
   "outputs": [
    {
     "name": "stdout",
     "output_type": "stream",
     "text": [
      "72.5\n"
     ]
    }
   ],
   "source": [
    "loaded_model=pickle.load(open(\"rn\", \"rb\"))\n",
    "result=loaded_model.score(x_test, y_test)\n",
    "print(result*100)"
   ]
  },
  {
   "cell_type": "code",
   "execution_count": 187,
   "id": "2cc41284",
   "metadata": {},
   "outputs": [
    {
     "data": {
      "text/html": [
       "<div>\n",
       "<style scoped>\n",
       "    .dataframe tbody tr th:only-of-type {\n",
       "        vertical-align: middle;\n",
       "    }\n",
       "\n",
       "    .dataframe tbody tr th {\n",
       "        vertical-align: top;\n",
       "    }\n",
       "\n",
       "    .dataframe thead th {\n",
       "        text-align: right;\n",
       "    }\n",
       "</style>\n",
       "<table border=\"1\" class=\"dataframe\">\n",
       "  <thead>\n",
       "    <tr style=\"text-align: right;\">\n",
       "      <th></th>\n",
       "      <th>0</th>\n",
       "      <th>1</th>\n",
       "      <th>2</th>\n",
       "      <th>3</th>\n",
       "      <th>4</th>\n",
       "      <th>5</th>\n",
       "      <th>6</th>\n",
       "      <th>7</th>\n",
       "      <th>8</th>\n",
       "      <th>9</th>\n",
       "      <th>...</th>\n",
       "      <th>110</th>\n",
       "      <th>111</th>\n",
       "      <th>112</th>\n",
       "      <th>113</th>\n",
       "      <th>114</th>\n",
       "      <th>115</th>\n",
       "      <th>116</th>\n",
       "      <th>117</th>\n",
       "      <th>118</th>\n",
       "      <th>119</th>\n",
       "    </tr>\n",
       "  </thead>\n",
       "  <tbody>\n",
       "    <tr>\n",
       "      <th>Predicted</th>\n",
       "      <td>1</td>\n",
       "      <td>1</td>\n",
       "      <td>1</td>\n",
       "      <td>1</td>\n",
       "      <td>1</td>\n",
       "      <td>1</td>\n",
       "      <td>1</td>\n",
       "      <td>1</td>\n",
       "      <td>1</td>\n",
       "      <td>1</td>\n",
       "      <td>...</td>\n",
       "      <td>1</td>\n",
       "      <td>0</td>\n",
       "      <td>0</td>\n",
       "      <td>0</td>\n",
       "      <td>1</td>\n",
       "      <td>0</td>\n",
       "      <td>1</td>\n",
       "      <td>1</td>\n",
       "      <td>1</td>\n",
       "      <td>1</td>\n",
       "    </tr>\n",
       "    <tr>\n",
       "      <th>Original</th>\n",
       "      <td>0</td>\n",
       "      <td>0</td>\n",
       "      <td>1</td>\n",
       "      <td>0</td>\n",
       "      <td>1</td>\n",
       "      <td>1</td>\n",
       "      <td>1</td>\n",
       "      <td>1</td>\n",
       "      <td>0</td>\n",
       "      <td>1</td>\n",
       "      <td>...</td>\n",
       "      <td>0</td>\n",
       "      <td>0</td>\n",
       "      <td>0</td>\n",
       "      <td>0</td>\n",
       "      <td>1</td>\n",
       "      <td>1</td>\n",
       "      <td>1</td>\n",
       "      <td>1</td>\n",
       "      <td>1</td>\n",
       "      <td>1</td>\n",
       "    </tr>\n",
       "  </tbody>\n",
       "</table>\n",
       "<p>2 rows × 120 columns</p>\n",
       "</div>"
      ],
      "text/plain": [
       "           0    1    2    3    4    5    6    7    8    9    ...  110  111  \\\n",
       "Predicted    1    1    1    1    1    1    1    1    1    1  ...    1    0   \n",
       "Original     0    0    1    0    1    1    1    1    0    1  ...    0    0   \n",
       "\n",
       "           112  113  114  115  116  117  118  119  \n",
       "Predicted    0    0    1    0    1    1    1    1  \n",
       "Original     0    0    1    1    1    1    1    1  \n",
       "\n",
       "[2 rows x 120 columns]"
      ]
     },
     "execution_count": 187,
     "metadata": {},
     "output_type": "execute_result"
    }
   ],
   "source": [
    "conclusion=pd.DataFrame([loaded_model.predict(x_test)[:],y_test[:]],index=[\"Predicted\", \"Original\"])\n",
    "conclusion"
   ]
  },
  {
   "cell_type": "markdown",
   "id": "484b18a0",
   "metadata": {},
   "source": [
    "# Finalising the model & Prediction"
   ]
  },
  {
   "cell_type": "code",
   "execution_count": 192,
   "id": "557d08ac",
   "metadata": {},
   "outputs": [],
   "source": [
    "#Saving the model in local file system -Knn\n",
    "import pickle\n",
    "\n",
    "pickle.dump(knn, open(\"kn\", \"wb\"))"
   ]
  },
  {
   "cell_type": "code",
   "execution_count": 193,
   "id": "fd23de93",
   "metadata": {},
   "outputs": [
    {
     "name": "stdout",
     "output_type": "stream",
     "text": [
      "75.83333333333333\n"
     ]
    }
   ],
   "source": [
    "loaded_model=pickle.load(open(\"kn\", \"rb\"))\n",
    "result=loaded_model.score(x_test, y_test)\n",
    "print(result*100)"
   ]
  },
  {
   "cell_type": "code",
   "execution_count": 194,
   "id": "eec6157f",
   "metadata": {},
   "outputs": [
    {
     "data": {
      "text/html": [
       "<div>\n",
       "<style scoped>\n",
       "    .dataframe tbody tr th:only-of-type {\n",
       "        vertical-align: middle;\n",
       "    }\n",
       "\n",
       "    .dataframe tbody tr th {\n",
       "        vertical-align: top;\n",
       "    }\n",
       "\n",
       "    .dataframe thead th {\n",
       "        text-align: right;\n",
       "    }\n",
       "</style>\n",
       "<table border=\"1\" class=\"dataframe\">\n",
       "  <thead>\n",
       "    <tr style=\"text-align: right;\">\n",
       "      <th></th>\n",
       "      <th>0</th>\n",
       "      <th>1</th>\n",
       "      <th>2</th>\n",
       "      <th>3</th>\n",
       "      <th>4</th>\n",
       "      <th>5</th>\n",
       "      <th>6</th>\n",
       "      <th>7</th>\n",
       "      <th>8</th>\n",
       "      <th>9</th>\n",
       "      <th>...</th>\n",
       "      <th>110</th>\n",
       "      <th>111</th>\n",
       "      <th>112</th>\n",
       "      <th>113</th>\n",
       "      <th>114</th>\n",
       "      <th>115</th>\n",
       "      <th>116</th>\n",
       "      <th>117</th>\n",
       "      <th>118</th>\n",
       "      <th>119</th>\n",
       "    </tr>\n",
       "  </thead>\n",
       "  <tbody>\n",
       "    <tr>\n",
       "      <th>Predicted</th>\n",
       "      <td>1</td>\n",
       "      <td>1</td>\n",
       "      <td>1</td>\n",
       "      <td>1</td>\n",
       "      <td>1</td>\n",
       "      <td>1</td>\n",
       "      <td>1</td>\n",
       "      <td>1</td>\n",
       "      <td>1</td>\n",
       "      <td>1</td>\n",
       "      <td>...</td>\n",
       "      <td>1</td>\n",
       "      <td>0</td>\n",
       "      <td>0</td>\n",
       "      <td>0</td>\n",
       "      <td>1</td>\n",
       "      <td>0</td>\n",
       "      <td>1</td>\n",
       "      <td>1</td>\n",
       "      <td>0</td>\n",
       "      <td>1</td>\n",
       "    </tr>\n",
       "    <tr>\n",
       "      <th>Original</th>\n",
       "      <td>0</td>\n",
       "      <td>0</td>\n",
       "      <td>1</td>\n",
       "      <td>0</td>\n",
       "      <td>1</td>\n",
       "      <td>1</td>\n",
       "      <td>1</td>\n",
       "      <td>1</td>\n",
       "      <td>0</td>\n",
       "      <td>1</td>\n",
       "      <td>...</td>\n",
       "      <td>0</td>\n",
       "      <td>0</td>\n",
       "      <td>0</td>\n",
       "      <td>0</td>\n",
       "      <td>1</td>\n",
       "      <td>1</td>\n",
       "      <td>1</td>\n",
       "      <td>1</td>\n",
       "      <td>1</td>\n",
       "      <td>1</td>\n",
       "    </tr>\n",
       "  </tbody>\n",
       "</table>\n",
       "<p>2 rows × 120 columns</p>\n",
       "</div>"
      ],
      "text/plain": [
       "           0    1    2    3    4    5    6    7    8    9    ...  110  111  \\\n",
       "Predicted    1    1    1    1    1    1    1    1    1    1  ...    1    0   \n",
       "Original     0    0    1    0    1    1    1    1    0    1  ...    0    0   \n",
       "\n",
       "           112  113  114  115  116  117  118  119  \n",
       "Predicted    0    0    1    0    1    1    0    1  \n",
       "Original     0    0    1    1    1    1    1    1  \n",
       "\n",
       "[2 rows x 120 columns]"
      ]
     },
     "execution_count": 194,
     "metadata": {},
     "output_type": "execute_result"
    }
   ],
   "source": [
    "conclusion=pd.DataFrame([loaded_model.predict(x_test)[:],y_test[:]],index=[\"Predicted\", \"Original\"])\n",
    "conclusion"
   ]
  },
  {
   "cell_type": "raw",
   "id": "f1c645b3",
   "metadata": {},
   "source": [
    "-From that we have successfully able to predict loan status.\n",
    "We can use both the model as the score of both model is good."
   ]
  },
  {
   "cell_type": "markdown",
   "id": "dccbc825",
   "metadata": {},
   "source": [
    "# Observations"
   ]
  },
  {
   "cell_type": "raw",
   "id": "eb2a5365",
   "metadata": {},
   "source": [
    "-Looking on the dataset Male applicant are more in nos. as comapred to female applicant.\n",
    "-Married people applicants are more in nos.\n",
    "-Most of applicants does not having any dependent.Followed by some applicant having 1 & 2 dependents. Very less no. of applicants having 3+ dependents.\n",
    "-Most of applicants are Graduated.\n",
    "-Most of peoples are salaried persons & only some peoples are self employed.\n",
    "-Most of peoples income is between 5K to 7K. Applicant income is positively skewd. \n",
    "-Most of Copplicants are not having any income source & SOme coapplicant having income between 3K to 5K. Coapplicant data is positively skwed.\n",
    "-Most of applicant taking loan amount between 90K to 2L. Only few appicants are taking higher loan amount. Data is positively skewd.\n",
    "-Majority of peoples are taking long term loan.\n",
    "-Majority of peoples are having good credit history.\n",
    "-Peoples are preferred semiurbon property area, followed by urbon area & rural area.\n",
    "-Mojority of loan status is processed.\n",
    "-Married male peoples are more in nos. for property loan application.\n",
    "-Unmarried female are more in nos. as compared to married womens.\n",
    "-Majority of married peoples doesnt have any dependents as they have preplanned to take property before childrens.\n",
    "-Followed by applicants having 2 dependents & then after 1 dependents.\n",
    "-Majority of unmarried peoples are doest having any dependent.\n",
    "-It observed from dataset most of peoples whoes education level is Graduated or not graduated are working in private sector or not self employed.\n",
    "-Graduated applicants income are more than non graduated peoples.\n",
    "-Most of Co applicants are not having in income & those who are having income which is very less.\n",
    "-From Above it is observed that Self employed peoples income are more than salaried applicants.\n",
    "-Self employed applicant income are higher than salaried applicants.\n",
    "-The salaried peoples whose income is below 10K they are generally taking loan up to 3L.\n",
    "-Only few salaried applicants income is more than 30K \n",
    "-Non self employed peoples whoes income is more than 10K they are generally taking loan beyond 3L.\n",
    "-Generally peoples are preferred for long term loan.\n",
    "-Most of applicants are having creadit history.\n",
    "-Some of applicants are taking long term loan more than 380 months for less loan amount.\n",
    "-Applicants whoes credit history is available mainly getting loan but some of applicant not getting loan.\n",
    "-If credit history is not available they are not getting loan.\n",
    "-From all above observations it is observed that most peoples are getting loan but some of peoples are not getting loan."
   ]
  },
  {
   "cell_type": "code",
   "execution_count": null,
   "id": "83890e8a",
   "metadata": {},
   "outputs": [],
   "source": []
  }
 ],
 "metadata": {
  "kernelspec": {
   "display_name": "Python 3 (ipykernel)",
   "language": "python",
   "name": "python3"
  },
  "language_info": {
   "codemirror_mode": {
    "name": "ipython",
    "version": 3
   },
   "file_extension": ".py",
   "mimetype": "text/x-python",
   "name": "python",
   "nbconvert_exporter": "python",
   "pygments_lexer": "ipython3",
   "version": "3.9.12"
  }
 },
 "nbformat": 4,
 "nbformat_minor": 5
}
